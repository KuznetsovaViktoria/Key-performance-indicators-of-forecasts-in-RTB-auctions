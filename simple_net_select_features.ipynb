{
 "cells": [
  {
   "cell_type": "code",
   "execution_count": 1,
   "metadata": {
    "_cell_guid": "b1076dfc-b9ad-4769-8c92-a6c4dae69d19",
    "_uuid": "8f2839f25d086af736a60e9eeb907d3b93b6e0e5",
    "execution": {
     "iopub.execute_input": "2025-04-27T11:15:44.354626Z",
     "iopub.status.busy": "2025-04-27T11:15:44.353729Z",
     "iopub.status.idle": "2025-04-27T11:15:46.309233Z",
     "shell.execute_reply": "2025-04-27T11:15:46.307991Z",
     "shell.execute_reply.started": "2025-04-27T11:15:44.354552Z"
    },
    "tags": []
   },
   "outputs": [],
   "source": [
    "import pandas as pd\n",
    "from sklearn.metrics import roc_auc_score, roc_curve\n",
    "import matplotlib.pyplot as plt\n",
    "import numpy as np\n",
    "import torch\n",
    "import torch.nn as nn\n",
    "import torch.optim as optim\n",
    "from sklearn.preprocessing import OrdinalEncoder, StandardScaler"
   ]
  },
  {
   "cell_type": "code",
   "execution_count": 20,
   "metadata": {
    "execution": {
     "iopub.execute_input": "2025-04-27T11:20:28.526098Z",
     "iopub.status.busy": "2025-04-27T11:20:28.525226Z",
     "iopub.status.idle": "2025-04-27T11:21:35.321676Z",
     "shell.execute_reply": "2025-04-27T11:21:35.320368Z",
     "shell.execute_reply.started": "2025-04-27T11:20:28.526044Z"
    },
    "tags": []
   },
   "outputs": [
    {
     "name": "stderr",
     "output_type": "stream",
     "text": [
      "/tmp/ipykernel_15397/3222708738.py:1: DtypeWarning: Columns (15,16,17) have mixed types. Specify dtype option on import or set low_memory=False.\n",
      "  train_df = pd.read_csv('parsed_final_data_season_3.csv.zip', compression='zip')\n"
     ]
    }
   ],
   "source": [
    "train_df = pd.read_csv('parsed_final_data_season_3.csv.zip', compression='zip')\n",
    "test_df = pd.read_csv('final_test_data_season_3.csv.zip', compression='zip')"
   ]
  },
  {
   "cell_type": "code",
   "execution_count": 21,
   "metadata": {
    "execution": {
     "iopub.execute_input": "2025-04-27T11:21:35.325304Z",
     "iopub.status.busy": "2025-04-27T11:21:35.323878Z",
     "iopub.status.idle": "2025-04-27T11:21:38.482539Z",
     "shell.execute_reply": "2025-04-27T11:21:38.481285Z",
     "shell.execute_reply.started": "2025-04-27T11:21:35.325257Z"
    },
    "tags": []
   },
   "outputs": [],
   "source": [
    "train_df = train_df.drop('Unnamed: 0', axis=1)\n",
    "test_df = test_df.drop('Unnamed: 0', axis=1)"
   ]
  },
  {
   "cell_type": "code",
   "execution_count": 4,
   "metadata": {
    "execution": {
     "iopub.execute_input": "2025-04-27T11:16:57.967185Z",
     "iopub.status.busy": "2025-04-27T11:16:57.965882Z",
     "iopub.status.idle": "2025-04-27T11:16:57.982863Z",
     "shell.execute_reply": "2025-04-27T11:16:57.981576Z",
     "shell.execute_reply.started": "2025-04-27T11:16:57.967150Z"
    },
    "tags": []
   },
   "outputs": [],
   "source": [
    "# train_df = train_df.fillna(value=False)"
   ]
  },
  {
   "cell_type": "code",
   "execution_count": 5,
   "metadata": {
    "execution": {
     "iopub.execute_input": "2025-04-27T11:16:57.985983Z",
     "iopub.status.busy": "2025-04-27T11:16:57.984115Z",
     "iopub.status.idle": "2025-04-27T11:16:58.044108Z",
     "shell.execute_reply": "2025-04-27T11:16:58.042779Z",
     "shell.execute_reply.started": "2025-04-27T11:16:57.985925Z"
    },
    "tags": []
   },
   "outputs": [
    {
     "data": {
      "text/html": [
       "<div>\n",
       "<style scoped>\n",
       "    .dataframe tbody tr th:only-of-type {\n",
       "        vertical-align: middle;\n",
       "    }\n",
       "\n",
       "    .dataframe tbody tr th {\n",
       "        vertical-align: top;\n",
       "    }\n",
       "\n",
       "    .dataframe thead th {\n",
       "        text-align: right;\n",
       "    }\n",
       "</style>\n",
       "<table border=\"1\" class=\"dataframe\">\n",
       "  <thead>\n",
       "    <tr style=\"text-align: right;\">\n",
       "      <th></th>\n",
       "      <th>bid_id</th>\n",
       "      <th>region_id</th>\n",
       "      <th>city_id</th>\n",
       "      <th>ad_slot_visibility</th>\n",
       "      <th>ad_slot_format</th>\n",
       "      <th>creative_id</th>\n",
       "      <th>advertiser_id</th>\n",
       "      <th>part_of_day</th>\n",
       "      <th>weekday</th>\n",
       "      <th>weekend</th>\n",
       "      <th>os</th>\n",
       "      <th>browser</th>\n",
       "      <th>ad_slot_screen_share</th>\n",
       "      <th>is_mobile_device</th>\n",
       "      <th>is_male</th>\n",
       "      <th>is_long_term_interest</th>\n",
       "      <th>is_in_market</th>\n",
       "      <th>is_info_cat</th>\n",
       "      <th>is_products_cat</th>\n",
       "      <th>is_service_cat</th>\n",
       "      <th>is_entertainment_cat</th>\n",
       "      <th>is_girly_cat</th>\n",
       "      <th>click</th>\n",
       "    </tr>\n",
       "  </thead>\n",
       "  <tbody>\n",
       "    <tr>\n",
       "      <th>0</th>\n",
       "      <td>9aa9b28f32adfc833634f28bb9703e83</td>\n",
       "      <td>216</td>\n",
       "      <td>219</td>\n",
       "      <td>Na</td>\n",
       "      <td>Fixed</td>\n",
       "      <td>7321</td>\n",
       "      <td>2259</td>\n",
       "      <td>2</td>\n",
       "      <td>3</td>\n",
       "      <td>2</td>\n",
       "      <td>windows</td>\n",
       "      <td>chrome</td>\n",
       "      <td>0.06</td>\n",
       "      <td>False</td>\n",
       "      <td>NaN</td>\n",
       "      <td>NaN</td>\n",
       "      <td>NaN</td>\n",
       "      <td>False</td>\n",
       "      <td>False</td>\n",
       "      <td>False</td>\n",
       "      <td>False</td>\n",
       "      <td>False</td>\n",
       "      <td>False</td>\n",
       "    </tr>\n",
       "    <tr>\n",
       "      <th>1</th>\n",
       "      <td>1ede4e457f5031ec1640dbe1259a4616</td>\n",
       "      <td>216</td>\n",
       "      <td>217</td>\n",
       "      <td>FirstView</td>\n",
       "      <td>Fixed</td>\n",
       "      <td>7321</td>\n",
       "      <td>2259</td>\n",
       "      <td>2</td>\n",
       "      <td>3</td>\n",
       "      <td>2</td>\n",
       "      <td>windows</td>\n",
       "      <td>ie</td>\n",
       "      <td>0.06</td>\n",
       "      <td>False</td>\n",
       "      <td>NaN</td>\n",
       "      <td>NaN</td>\n",
       "      <td>NaN</td>\n",
       "      <td>False</td>\n",
       "      <td>False</td>\n",
       "      <td>False</td>\n",
       "      <td>False</td>\n",
       "      <td>False</td>\n",
       "      <td>False</td>\n",
       "    </tr>\n",
       "    <tr>\n",
       "      <th>2</th>\n",
       "      <td>fca79371fc0f67ac6264f558bc664fd6</td>\n",
       "      <td>216</td>\n",
       "      <td>217</td>\n",
       "      <td>Na</td>\n",
       "      <td>Fixed</td>\n",
       "      <td>7323</td>\n",
       "      <td>2259</td>\n",
       "      <td>2</td>\n",
       "      <td>3</td>\n",
       "      <td>2</td>\n",
       "      <td>windows</td>\n",
       "      <td>chrome</td>\n",
       "      <td>0.07</td>\n",
       "      <td>False</td>\n",
       "      <td>NaN</td>\n",
       "      <td>NaN</td>\n",
       "      <td>NaN</td>\n",
       "      <td>False</td>\n",
       "      <td>False</td>\n",
       "      <td>False</td>\n",
       "      <td>False</td>\n",
       "      <td>False</td>\n",
       "      <td>False</td>\n",
       "    </tr>\n",
       "    <tr>\n",
       "      <th>3</th>\n",
       "      <td>7717c608f688ea3b087e292c91604ea5</td>\n",
       "      <td>183</td>\n",
       "      <td>184</td>\n",
       "      <td>Na</td>\n",
       "      <td>Fixed</td>\n",
       "      <td>10722</td>\n",
       "      <td>2821</td>\n",
       "      <td>2</td>\n",
       "      <td>3</td>\n",
       "      <td>2</td>\n",
       "      <td>windows</td>\n",
       "      <td>ie</td>\n",
       "      <td>0.07</td>\n",
       "      <td>False</td>\n",
       "      <td>NaN</td>\n",
       "      <td>NaN</td>\n",
       "      <td>NaN</td>\n",
       "      <td>False</td>\n",
       "      <td>False</td>\n",
       "      <td>False</td>\n",
       "      <td>False</td>\n",
       "      <td>False</td>\n",
       "      <td>False</td>\n",
       "    </tr>\n",
       "    <tr>\n",
       "      <th>4</th>\n",
       "      <td>35528d946791bc45b75ded2a2dbdabfe</td>\n",
       "      <td>3</td>\n",
       "      <td>3</td>\n",
       "      <td>FirstView</td>\n",
       "      <td>Fixed</td>\n",
       "      <td>10722</td>\n",
       "      <td>2821</td>\n",
       "      <td>2</td>\n",
       "      <td>3</td>\n",
       "      <td>2</td>\n",
       "      <td>windows</td>\n",
       "      <td>ie</td>\n",
       "      <td>0.07</td>\n",
       "      <td>False</td>\n",
       "      <td>NaN</td>\n",
       "      <td>NaN</td>\n",
       "      <td>NaN</td>\n",
       "      <td>False</td>\n",
       "      <td>False</td>\n",
       "      <td>False</td>\n",
       "      <td>False</td>\n",
       "      <td>False</td>\n",
       "      <td>False</td>\n",
       "    </tr>\n",
       "  </tbody>\n",
       "</table>\n",
       "</div>"
      ],
      "text/plain": [
       "                             bid_id  region_id  ...  is_girly_cat  click\n",
       "0  9aa9b28f32adfc833634f28bb9703e83        216  ...         False  False\n",
       "1  1ede4e457f5031ec1640dbe1259a4616        216  ...         False  False\n",
       "2  fca79371fc0f67ac6264f558bc664fd6        216  ...         False  False\n",
       "3  7717c608f688ea3b087e292c91604ea5        183  ...         False  False\n",
       "4  35528d946791bc45b75ded2a2dbdabfe          3  ...         False  False\n",
       "\n",
       "[5 rows x 23 columns]"
      ]
     },
     "execution_count": 5,
     "metadata": {},
     "output_type": "execute_result"
    }
   ],
   "source": [
    "train_df.head()"
   ]
  },
  {
   "cell_type": "code",
   "execution_count": 6,
   "metadata": {
    "execution": {
     "iopub.execute_input": "2025-04-27T11:16:58.046800Z",
     "iopub.status.busy": "2025-04-27T11:16:58.045415Z",
     "iopub.status.idle": "2025-04-27T11:16:58.143637Z",
     "shell.execute_reply": "2025-04-27T11:16:58.142403Z",
     "shell.execute_reply.started": "2025-04-27T11:16:58.046712Z"
    },
    "tags": []
   },
   "outputs": [
    {
     "data": {
      "text/plain": [
       "Index(['bid_id', 'region_id', 'city_id', 'ad_slot_visibility',\n",
       "       'ad_slot_format', 'creative_id', 'advertiser_id', 'part_of_day',\n",
       "       'weekday', 'weekend', 'os', 'browser', 'ad_slot_screen_share',\n",
       "       'is_mobile_device', 'is_male', 'is_long_term_interest', 'is_in_market',\n",
       "       'is_info_cat', 'is_products_cat', 'is_service_cat',\n",
       "       'is_entertainment_cat', 'is_girly_cat', 'click'],\n",
       "      dtype='object')"
      ]
     },
     "execution_count": 6,
     "metadata": {},
     "output_type": "execute_result"
    }
   ],
   "source": [
    "train_df.columns"
   ]
  },
  {
   "cell_type": "code",
   "execution_count": 7,
   "metadata": {
    "execution": {
     "iopub.execute_input": "2025-04-27T11:16:58.145914Z",
     "iopub.status.busy": "2025-04-27T11:16:58.144986Z",
     "iopub.status.idle": "2025-04-27T11:16:58.162774Z",
     "shell.execute_reply": "2025-04-27T11:16:58.161693Z",
     "shell.execute_reply.started": "2025-04-27T11:16:58.145860Z"
    },
    "tags": []
   },
   "outputs": [],
   "source": [
    "target_column = 'click'\n",
    "categorical_features = [\n",
    "    'city_id', 'ad_slot_visibility', 'ad_slot_format',\n",
    "    'creative_id', 'advertiser_id', 'part_of_day', 'weekday',\n",
    "    'os', 'browser', 'is_in_market', 'is_male', 'is_mobile_device'\n",
    "]\n",
    "feature_columns = categorical_features + [\"ad_slot_screen_share\"]"
   ]
  },
  {
   "cell_type": "code",
   "execution_count": 8,
   "metadata": {
    "execution": {
     "iopub.execute_input": "2025-04-27T11:16:58.165738Z",
     "iopub.status.busy": "2025-04-27T11:16:58.163932Z",
     "iopub.status.idle": "2025-04-27T11:16:58.184095Z",
     "shell.execute_reply": "2025-04-27T11:16:58.183095Z",
     "shell.execute_reply.started": "2025-04-27T11:16:58.165680Z"
    },
    "tags": []
   },
   "outputs": [],
   "source": [
    "def prepare_data_ord(df, feature_columns, categorical_features, ord_encoder=None, scaler=None, fit=True):\n",
    "    X_cat = df[categorical_features].astype(str)\n",
    "    X_num = df[[f for f in feature_columns if f not in categorical_features]]\n",
    "    if fit:\n",
    "        ord_encoder = OrdinalEncoder(handle_unknown='use_encoded_value', unknown_value=-1)\n",
    "        scaler = StandardScaler()\n",
    "        X_cat_enc = ord_encoder.fit_transform(X_cat)\n",
    "        X_num_enc = scaler.fit_transform(X_num)\n",
    "    else:\n",
    "        X_cat_enc = ord_encoder.transform(X_cat)\n",
    "        X_num_enc = scaler.transform(X_num)\n",
    "    X = np.hstack([X_cat_enc, X_num_enc])\n",
    "    return X, ord_encoder, scaler"
   ]
  },
  {
   "cell_type": "code",
   "execution_count": 22,
   "metadata": {
    "execution": {
     "iopub.execute_input": "2025-04-27T11:21:38.485259Z",
     "iopub.status.busy": "2025-04-27T11:21:38.484044Z",
     "iopub.status.idle": "2025-04-27T11:22:20.844904Z",
     "shell.execute_reply": "2025-04-27T11:22:20.843763Z",
     "shell.execute_reply.started": "2025-04-27T11:21:38.485202Z"
    },
    "tags": []
   },
   "outputs": [],
   "source": [
    "from sklearn.model_selection import train_test_split\n",
    "train_df, val_df = train_test_split(train_df, test_size=0.2, random_state=42, stratify=train_df[target_column])\n",
    "# val_df, _ = train_test_split(val_df, test_size=0.7, random_state=42, stratify=val_df[target_column])"
   ]
  },
  {
   "cell_type": "code",
   "execution_count": 23,
   "metadata": {
    "execution": {
     "iopub.execute_input": "2025-04-27T11:22:20.848318Z",
     "iopub.status.busy": "2025-04-27T11:22:20.847181Z",
     "iopub.status.idle": "2025-04-27T11:24:46.565454Z",
     "shell.execute_reply": "2025-04-27T11:24:46.564213Z",
     "shell.execute_reply.started": "2025-04-27T11:22:20.848279Z"
    },
    "tags": []
   },
   "outputs": [
    {
     "name": "stderr",
     "output_type": "stream",
     "text": [
      "IOStream.flush timed out\n"
     ]
    }
   ],
   "source": [
    "X_train, ord_encoder, scaler = prepare_data_ord(train_df, feature_columns, categorical_features, fit=True)\n",
    "X_val, _, _ = prepare_data_ord(val_df, feature_columns, categorical_features, ord_encoder=ord_encoder, scaler=scaler, fit=False)\n",
    "X_test, _, _ = prepare_data_ord(test_df, feature_columns, categorical_features, ord_encoder=ord_encoder, scaler=scaler, fit=False)\n",
    "y_train = train_df[target_column].values\n",
    "y_val = val_df[target_column].values\n",
    "y_test = test_df[target_column].values"
   ]
  },
  {
   "cell_type": "code",
   "execution_count": 11,
   "metadata": {
    "execution": {
     "iopub.execute_input": "2025-04-27T11:19:30.901241Z",
     "iopub.status.busy": "2025-04-27T11:19:30.900576Z",
     "iopub.status.idle": "2025-04-27T11:19:31.003866Z",
     "shell.execute_reply": "2025-04-27T11:19:31.002586Z",
     "shell.execute_reply.started": "2025-04-27T11:19:30.901201Z"
    },
    "tags": []
   },
   "outputs": [
    {
     "name": "stdout",
     "output_type": "stream",
     "text": [
      "Device: cuda\n"
     ]
    }
   ],
   "source": [
    "device = torch.device('cuda' if torch.cuda.is_available() else 'cpu')\n",
    "print(f'Device: {device}')"
   ]
  },
  {
   "cell_type": "code",
   "execution_count": 24,
   "metadata": {
    "execution": {
     "iopub.execute_input": "2025-04-27T11:24:46.569090Z",
     "iopub.status.busy": "2025-04-27T11:24:46.567862Z",
     "iopub.status.idle": "2025-04-27T11:24:47.054214Z",
     "shell.execute_reply": "2025-04-27T11:24:47.052960Z",
     "shell.execute_reply.started": "2025-04-27T11:24:46.569036Z"
    },
    "tags": []
   },
   "outputs": [],
   "source": [
    "X_train_t = torch.tensor(X_train, dtype=torch.float32).to(device)\n",
    "y_train_t = torch.tensor(y_train, dtype=torch.float32).unsqueeze(1).to(device)\n",
    "X_val_t = torch.tensor(X_val, dtype=torch.float32).to(device)\n",
    "y_val_t = torch.tensor(y_val, dtype=torch.float32).unsqueeze(1).to(device)\n",
    "X_test_t = torch.tensor(X_test, dtype=torch.float32).to(device)\n",
    "y_test_t = torch.tensor(y_test, dtype=torch.float32).unsqueeze(1).to(device)"
   ]
  },
  {
   "cell_type": "code",
   "execution_count": 25,
   "metadata": {
    "execution": {
     "iopub.execute_input": "2025-04-27T11:24:47.056906Z",
     "iopub.status.busy": "2025-04-27T11:24:47.055423Z",
     "iopub.status.idle": "2025-04-27T11:24:47.078794Z",
     "shell.execute_reply": "2025-04-27T11:24:47.077690Z",
     "shell.execute_reply.started": "2025-04-27T11:24:47.056849Z"
    },
    "tags": []
   },
   "outputs": [],
   "source": [
    "n_pos = (y_train_t == 1).sum()\n",
    "n_neg = (y_train_t == 0).sum()\n",
    "pos_weight = torch.tensor([n_neg / n_pos], dtype=torch.float32).to(device)"
   ]
  },
  {
   "cell_type": "markdown",
   "metadata": {
    "tags": []
   },
   "source": [
    "# SimpleNet"
   ]
  },
  {
   "cell_type": "code",
   "execution_count": 39,
   "metadata": {
    "execution": {
     "iopub.execute_input": "2025-04-27T11:33:19.743597Z",
     "iopub.status.busy": "2025-04-27T11:33:19.742141Z",
     "iopub.status.idle": "2025-04-27T11:33:19.764936Z",
     "shell.execute_reply": "2025-04-27T11:33:19.763849Z",
     "shell.execute_reply.started": "2025-04-27T11:33:19.743525Z"
    },
    "tags": []
   },
   "outputs": [],
   "source": [
    "class SimpleNet(nn.Module):\n",
    "    def __init__(self, input_dim):\n",
    "        super().__init__()\n",
    "        self.layers = nn.Sequential(\n",
    "            nn.Linear(input_dim, 128),\n",
    "            nn.ReLU(),\n",
    "            nn.Linear(128, 1)\n",
    "        )\n",
    "    def forward(self, x):\n",
    "        return self.layers(x)\n",
    "\n",
    "simple_net = SimpleNet(X_train_t.shape[1]).to(device)\n",
    "opt = optim.Adam(simple_net.parameters(), lr=0.001)\n",
    "loss_fn = nn.BCEWithLogitsLoss(pos_weight=pos_weight)"
   ]
  },
  {
   "cell_type": "code",
   "execution_count": 40,
   "metadata": {
    "execution": {
     "iopub.execute_input": "2025-04-27T11:33:21.622046Z",
     "iopub.status.busy": "2025-04-27T11:33:21.620584Z",
     "iopub.status.idle": "2025-04-27T11:33:43.897238Z",
     "shell.execute_reply": "2025-04-27T11:33:43.896049Z",
     "shell.execute_reply.started": "2025-04-27T11:33:21.622011Z"
    },
    "tags": []
   },
   "outputs": [
    {
     "name": "stdout",
     "output_type": "stream",
     "text": [
      "Epoch  1: ROC AUC = 0.5797\n",
      "Epoch  6: ROC AUC = 0.6035\n",
      "Epoch 11: ROC AUC = 0.6468\n",
      "Epoch 16: ROC AUC = 0.6781\n",
      "Epoch 21: ROC AUC = 0.7607\n",
      "Epoch 26: ROC AUC = 0.7762\n",
      "Epoch 31: ROC AUC = 0.7967\n",
      "Epoch 36: ROC AUC = 0.8169\n",
      "Epoch 41: ROC AUC = 0.8257\n",
      "Epoch 46: ROC AUC = 0.8383\n"
     ]
    }
   ],
   "source": [
    "for epoch in range(50):\n",
    "    simple_net.train()\n",
    "    opt.zero_grad()\n",
    "    out = simple_net(X_train_t)\n",
    "    loss = loss_fn(out, y_train_t)\n",
    "    loss.backward()\n",
    "    opt.step()\n",
    "    if epoch % 5 != 0:\n",
    "        continue\n",
    "    with torch.no_grad():\n",
    "        simple_net.eval()\n",
    "        y_pred = torch.sigmoid(simple_net(X_val_t)).cpu().numpy()\n",
    "        roc_auc = roc_auc_score(y_val, y_pred)\n",
    "    print(f'Epoch {epoch+1:2d}: ROC AUC = {roc_auc:.4f}')"
   ]
  },
  {
   "cell_type": "code",
   "execution_count": 41,
   "metadata": {
    "execution": {
     "iopub.execute_input": "2025-04-27T11:33:51.412879Z",
     "iopub.status.busy": "2025-04-27T11:33:51.411862Z",
     "iopub.status.idle": "2025-04-27T11:33:51.933225Z",
     "shell.execute_reply": "2025-04-27T11:33:51.932115Z",
     "shell.execute_reply.started": "2025-04-27T11:33:51.412844Z"
    },
    "tags": []
   },
   "outputs": [
    {
     "name": "stdout",
     "output_type": "stream",
     "text": [
      "\n",
      "ROC AUC на тесте: 0.7165\n"
     ]
    }
   ],
   "source": [
    "simple_net.eval()\n",
    "with torch.no_grad():\n",
    "    y_pred_prob = simple_net(X_test_t).cpu().squeeze().numpy()\n",
    "\n",
    "roc_auc = roc_auc_score(y_test, y_pred_prob)\n",
    "print(f\"\\nROC AUC на тесте: {roc_auc:.4f}\")"
   ]
  },
  {
   "cell_type": "code",
   "execution_count": 42,
   "metadata": {
    "execution": {
     "iopub.execute_input": "2025-04-27T11:33:56.347762Z",
     "iopub.status.busy": "2025-04-27T11:33:56.346401Z",
     "iopub.status.idle": "2025-04-27T11:33:57.142805Z",
     "shell.execute_reply": "2025-04-27T11:33:57.141477Z",
     "shell.execute_reply.started": "2025-04-27T11:33:56.347722Z"
    },
    "tags": []
   },
   "outputs": [
    {
     "data": {
      "image/png": "[encoded data removed]",
      "text/plain": [
       "<Figure size 800x600 with 1 Axes>"
      ]
     },
     "metadata": {},
     "output_type": "display_data"
    }
   ],
   "source": [
    "fpr, tpr, thresholds = roc_curve(y_test, y_pred_prob)\n",
    "plt.figure(figsize=(8,6))\n",
    "plt.plot(fpr, tpr, label=f\"ROC AUC = {roc_auc:.4f}\")\n",
    "plt.plot([0,1], [0,1], 'k--')\n",
    "plt.xlabel('FPR')\n",
    "plt.ylabel('TPR')\n",
    "plt.title('ROC-curve (test)')\n",
    "plt.legend()\n",
    "plt.grid()\n",
    "plt.show()"
   ]
  },
  {
   "cell_type": "code",
   "execution_count": 43,
   "metadata": {
    "execution": {
     "iopub.execute_input": "2025-04-27T11:34:02.002576Z",
     "iopub.status.busy": "2025-04-27T11:34:02.001256Z",
     "iopub.status.idle": "2025-04-27T11:34:02.081472Z",
     "shell.execute_reply": "2025-04-27T11:34:02.080222Z",
     "shell.execute_reply.started": "2025-04-27T11:34:02.002522Z"
    },
    "tags": []
   },
   "outputs": [],
   "source": [
    "def permutation_importance(model, X, y, feature_names, device='cpu', n_repeats=2):\n",
    "    baseline = roc_auc_score(y, torch.sigmoid(model(torch.tensor(X, dtype=torch.float32).to(device))).cpu().detach().numpy().squeeze())\n",
    "    importances = []\n",
    "    for i, fname in enumerate(feature_names):\n",
    "        scores = []\n",
    "        for _ in range(n_repeats):\n",
    "            X_perm = X.copy()\n",
    "            idx = np.random.permutation(X.shape[0])\n",
    "            X_perm[:, i] = X_perm[idx, i]\n",
    "            X_perm_t = torch.tensor(X_perm, dtype=torch.float32).to(device)\n",
    "            pred = torch.sigmoid(model(X_perm_t)).cpu().detach().numpy().squeeze()\n",
    "            score = roc_auc_score(y, pred)\n",
    "            scores.append(baseline - score)\n",
    "        importances.append(np.mean(scores))\n",
    "    return pd.Series(importances, index=feature_names).sort_values(ascending=False)"
   ]
  },
  {
   "cell_type": "code",
   "execution_count": 44,
   "metadata": {
    "execution": {
     "iopub.execute_input": "2025-04-27T11:34:02.711195Z",
     "iopub.status.busy": "2025-04-27T11:34:02.709614Z",
     "iopub.status.idle": "2025-04-27T11:34:21.742812Z",
     "shell.execute_reply": "2025-04-27T11:34:21.741584Z",
     "shell.execute_reply.started": "2025-04-27T11:34:02.711154Z"
    },
    "tags": []
   },
   "outputs": [
    {
     "name": "stdout",
     "output_type": "stream",
     "text": [
      "Значимость признаков (по permutation importance на тесте):\n",
      "browser                 0.122776\n",
      "creative_id             0.014285\n",
      "advertiser_id           0.008393\n",
      "ad_slot_visibility      0.003232\n",
      "is_male                 0.002534\n",
      "city_id                 0.001978\n",
      "is_mobile_device        0.001345\n",
      "part_of_day             0.000802\n",
      "os                      0.000433\n",
      "ad_slot_format          0.000000\n",
      "is_in_market           -0.000506\n",
      "weekday                -0.000544\n",
      "ad_slot_screen_share   -0.002342\n",
      "dtype: float64\n"
     ]
    }
   ],
   "source": [
    "feature_list = list(categorical_features) + [f for f in feature_columns if f not in categorical_features]\n",
    "\n",
    "importances = permutation_importance(simple_net, X_test, y_test, feature_list, device=device)\n",
    "print(\"Значимость признаков (по permutation importance на тесте):\")\n",
    "print(importances)"
   ]
  },
  {
   "cell_type": "code",
   "execution_count": null,
   "metadata": {},
   "outputs": [],
   "source": []
  }
 ],
 "metadata": {
  "kaggle": {
   "accelerator": "nvidiaTeslaT4",
   "dataSources": [
    {
     "datasetId": 7118912,
     "sourceId": 11371631,
     "sourceType": "datasetVersion"
    }
   ],
   "dockerImageVersionId": 31011,
   "isGpuEnabled": true,
   "isInternetEnabled": true,
   "language": "python",
   "sourceType": "notebook"
  },
  "kernelspec": {
   "display_name": "DataSphere Kernel",
   "language": "python",
   "name": "python3"
  },
  "language_info": {
   "codemirror_mode": {
    "name": "ipython",
    "version": 3
   },
   "file_extension": ".py",
   "mimetype": "text/x-python",
   "name": "python",
   "nbconvert_exporter": "python",
   "pygments_lexer": "ipython3",
   "version": "3.10.12"
  }
 },
 "nbformat": 4,
 "nbformat_minor": 4
}
