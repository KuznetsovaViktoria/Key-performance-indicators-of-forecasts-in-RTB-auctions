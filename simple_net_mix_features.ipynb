{
 "cells": [
  {
   "cell_type": "code",
   "execution_count": 1,
   "metadata": {
    "_cell_guid": "b1076dfc-b9ad-4769-8c92-a6c4dae69d19",
    "_uuid": "8f2839f25d086af736a60e9eeb907d3b93b6e0e5",
    "execution": {
     "iopub.execute_input": "2025-04-27T12:51:05.783724Z",
     "iopub.status.busy": "2025-04-27T12:51:05.782590Z",
     "iopub.status.idle": "2025-04-27T12:51:14.030791Z",
     "shell.execute_reply": "2025-04-27T12:51:14.029585Z",
     "shell.execute_reply.started": "2025-04-27T12:51:05.783688Z"
    },
    "tags": []
   },
   "outputs": [],
   "source": [
    "import pandas as pd\n",
    "from sklearn.metrics import roc_auc_score, roc_curve\n",
    "import matplotlib.pyplot as plt\n",
    "import numpy as np\n",
    "import torch\n",
    "import torch.nn as nn\n",
    "import torch.optim as optim\n",
    "from sklearn.preprocessing import OrdinalEncoder, StandardScaler"
   ]
  },
  {
   "cell_type": "code",
   "execution_count": 2,
   "metadata": {
    "execution": {
     "iopub.execute_input": "2025-04-27T12:51:14.034402Z",
     "iopub.status.busy": "2025-04-27T12:51:14.033039Z",
     "iopub.status.idle": "2025-04-27T12:52:23.998504Z",
     "shell.execute_reply": "2025-04-27T12:52:23.997286Z",
     "shell.execute_reply.started": "2025-04-27T12:51:14.034348Z"
    },
    "tags": []
   },
   "outputs": [
    {
     "name": "stderr",
     "output_type": "stream",
     "text": [
      "/tmp/ipykernel_8386/3222708738.py:1: DtypeWarning: Columns (15,16,17) have mixed types. Specify dtype option on import or set low_memory=False.\n",
      "  train_df = pd.read_csv('parsed_final_data_season_3.csv.zip', compression='zip')\n"
     ]
    }
   ],
   "source": [
    "train_df = pd.read_csv('parsed_final_data_season_3.csv.zip', compression='zip')\n",
    "test_df = pd.read_csv('final_test_data_season_3.csv.zip', compression='zip')"
   ]
  },
  {
   "cell_type": "code",
   "execution_count": 3,
   "metadata": {
    "execution": {
     "iopub.execute_input": "2025-04-27T12:52:24.001780Z",
     "iopub.status.busy": "2025-04-27T12:52:23.999982Z",
     "iopub.status.idle": "2025-04-27T12:52:27.308560Z",
     "shell.execute_reply": "2025-04-27T12:52:27.307254Z",
     "shell.execute_reply.started": "2025-04-27T12:52:24.001720Z"
    },
    "tags": []
   },
   "outputs": [],
   "source": [
    "train_df = train_df.drop('Unnamed: 0', axis=1)\n",
    "test_df = test_df.drop('Unnamed: 0', axis=1)"
   ]
  },
  {
   "cell_type": "code",
   "execution_count": 4,
   "metadata": {
    "execution": {
     "iopub.execute_input": "2025-04-27T12:52:27.312368Z",
     "iopub.status.busy": "2025-04-27T12:52:27.311148Z",
     "iopub.status.idle": "2025-04-27T12:52:27.381888Z",
     "shell.execute_reply": "2025-04-27T12:52:27.380804Z",
     "shell.execute_reply.started": "2025-04-27T12:52:27.312312Z"
    },
    "tags": []
   },
   "outputs": [
    {
     "data": {
      "text/html": [
       "<div>\n",
       "<style scoped>\n",
       "    .dataframe tbody tr th:only-of-type {\n",
       "        vertical-align: middle;\n",
       "    }\n",
       "\n",
       "    .dataframe tbody tr th {\n",
       "        vertical-align: top;\n",
       "    }\n",
       "\n",
       "    .dataframe thead th {\n",
       "        text-align: right;\n",
       "    }\n",
       "</style>\n",
       "<table border=\"1\" class=\"dataframe\">\n",
       "  <thead>\n",
       "    <tr style=\"text-align: right;\">\n",
       "      <th></th>\n",
       "      <th>bid_id</th>\n",
       "      <th>region_id</th>\n",
       "      <th>city_id</th>\n",
       "      <th>ad_slot_visibility</th>\n",
       "      <th>ad_slot_format</th>\n",
       "      <th>creative_id</th>\n",
       "      <th>advertiser_id</th>\n",
       "      <th>part_of_day</th>\n",
       "      <th>weekday</th>\n",
       "      <th>weekend</th>\n",
       "      <th>os</th>\n",
       "      <th>browser</th>\n",
       "      <th>ad_slot_screen_share</th>\n",
       "      <th>is_mobile_device</th>\n",
       "      <th>is_male</th>\n",
       "      <th>is_long_term_interest</th>\n",
       "      <th>is_in_market</th>\n",
       "      <th>is_info_cat</th>\n",
       "      <th>is_products_cat</th>\n",
       "      <th>is_service_cat</th>\n",
       "      <th>is_entertainment_cat</th>\n",
       "      <th>is_girly_cat</th>\n",
       "      <th>click</th>\n",
       "    </tr>\n",
       "  </thead>\n",
       "  <tbody>\n",
       "    <tr>\n",
       "      <th>0</th>\n",
       "      <td>9aa9b28f32adfc833634f28bb9703e83</td>\n",
       "      <td>216</td>\n",
       "      <td>219</td>\n",
       "      <td>Na</td>\n",
       "      <td>Fixed</td>\n",
       "      <td>7321</td>\n",
       "      <td>2259</td>\n",
       "      <td>2</td>\n",
       "      <td>3</td>\n",
       "      <td>2</td>\n",
       "      <td>windows</td>\n",
       "      <td>chrome</td>\n",
       "      <td>0.06</td>\n",
       "      <td>False</td>\n",
       "      <td>NaN</td>\n",
       "      <td>NaN</td>\n",
       "      <td>NaN</td>\n",
       "      <td>False</td>\n",
       "      <td>False</td>\n",
       "      <td>False</td>\n",
       "      <td>False</td>\n",
       "      <td>False</td>\n",
       "      <td>False</td>\n",
       "    </tr>\n",
       "    <tr>\n",
       "      <th>1</th>\n",
       "      <td>1ede4e457f5031ec1640dbe1259a4616</td>\n",
       "      <td>216</td>\n",
       "      <td>217</td>\n",
       "      <td>FirstView</td>\n",
       "      <td>Fixed</td>\n",
       "      <td>7321</td>\n",
       "      <td>2259</td>\n",
       "      <td>2</td>\n",
       "      <td>3</td>\n",
       "      <td>2</td>\n",
       "      <td>windows</td>\n",
       "      <td>ie</td>\n",
       "      <td>0.06</td>\n",
       "      <td>False</td>\n",
       "      <td>NaN</td>\n",
       "      <td>NaN</td>\n",
       "      <td>NaN</td>\n",
       "      <td>False</td>\n",
       "      <td>False</td>\n",
       "      <td>False</td>\n",
       "      <td>False</td>\n",
       "      <td>False</td>\n",
       "      <td>False</td>\n",
       "    </tr>\n",
       "    <tr>\n",
       "      <th>2</th>\n",
       "      <td>fca79371fc0f67ac6264f558bc664fd6</td>\n",
       "      <td>216</td>\n",
       "      <td>217</td>\n",
       "      <td>Na</td>\n",
       "      <td>Fixed</td>\n",
       "      <td>7323</td>\n",
       "      <td>2259</td>\n",
       "      <td>2</td>\n",
       "      <td>3</td>\n",
       "      <td>2</td>\n",
       "      <td>windows</td>\n",
       "      <td>chrome</td>\n",
       "      <td>0.07</td>\n",
       "      <td>False</td>\n",
       "      <td>NaN</td>\n",
       "      <td>NaN</td>\n",
       "      <td>NaN</td>\n",
       "      <td>False</td>\n",
       "      <td>False</td>\n",
       "      <td>False</td>\n",
       "      <td>False</td>\n",
       "      <td>False</td>\n",
       "      <td>False</td>\n",
       "    </tr>\n",
       "    <tr>\n",
       "      <th>3</th>\n",
       "      <td>7717c608f688ea3b087e292c91604ea5</td>\n",
       "      <td>183</td>\n",
       "      <td>184</td>\n",
       "      <td>Na</td>\n",
       "      <td>Fixed</td>\n",
       "      <td>10722</td>\n",
       "      <td>2821</td>\n",
       "      <td>2</td>\n",
       "      <td>3</td>\n",
       "      <td>2</td>\n",
       "      <td>windows</td>\n",
       "      <td>ie</td>\n",
       "      <td>0.07</td>\n",
       "      <td>False</td>\n",
       "      <td>NaN</td>\n",
       "      <td>NaN</td>\n",
       "      <td>NaN</td>\n",
       "      <td>False</td>\n",
       "      <td>False</td>\n",
       "      <td>False</td>\n",
       "      <td>False</td>\n",
       "      <td>False</td>\n",
       "      <td>False</td>\n",
       "    </tr>\n",
       "    <tr>\n",
       "      <th>4</th>\n",
       "      <td>35528d946791bc45b75ded2a2dbdabfe</td>\n",
       "      <td>3</td>\n",
       "      <td>3</td>\n",
       "      <td>FirstView</td>\n",
       "      <td>Fixed</td>\n",
       "      <td>10722</td>\n",
       "      <td>2821</td>\n",
       "      <td>2</td>\n",
       "      <td>3</td>\n",
       "      <td>2</td>\n",
       "      <td>windows</td>\n",
       "      <td>ie</td>\n",
       "      <td>0.07</td>\n",
       "      <td>False</td>\n",
       "      <td>NaN</td>\n",
       "      <td>NaN</td>\n",
       "      <td>NaN</td>\n",
       "      <td>False</td>\n",
       "      <td>False</td>\n",
       "      <td>False</td>\n",
       "      <td>False</td>\n",
       "      <td>False</td>\n",
       "      <td>False</td>\n",
       "    </tr>\n",
       "  </tbody>\n",
       "</table>\n",
       "</div>"
      ],
      "text/plain": [
       "                             bid_id  region_id  ...  is_girly_cat  click\n",
       "0  9aa9b28f32adfc833634f28bb9703e83        216  ...         False  False\n",
       "1  1ede4e457f5031ec1640dbe1259a4616        216  ...         False  False\n",
       "2  fca79371fc0f67ac6264f558bc664fd6        216  ...         False  False\n",
       "3  7717c608f688ea3b087e292c91604ea5        183  ...         False  False\n",
       "4  35528d946791bc45b75ded2a2dbdabfe          3  ...         False  False\n",
       "\n",
       "[5 rows x 23 columns]"
      ]
     },
     "execution_count": 4,
     "metadata": {},
     "output_type": "execute_result"
    }
   ],
   "source": [
    "train_df.head()"
   ]
  },
  {
   "cell_type": "code",
   "execution_count": 5,
   "metadata": {
    "execution": {
     "iopub.execute_input": "2025-04-27T12:52:27.383989Z",
     "iopub.status.busy": "2025-04-27T12:52:27.383004Z",
     "iopub.status.idle": "2025-04-27T12:52:27.402101Z",
     "shell.execute_reply": "2025-04-27T12:52:27.400884Z",
     "shell.execute_reply.started": "2025-04-27T12:52:27.383940Z"
    },
    "tags": []
   },
   "outputs": [
    {
     "data": {
      "text/plain": [
       "Index(['bid_id', 'region_id', 'city_id', 'ad_slot_visibility',\n",
       "       'ad_slot_format', 'creative_id', 'advertiser_id', 'part_of_day',\n",
       "       'weekday', 'weekend', 'os', 'browser', 'ad_slot_screen_share',\n",
       "       'is_mobile_device', 'is_male', 'is_long_term_interest', 'is_in_market',\n",
       "       'is_info_cat', 'is_products_cat', 'is_service_cat',\n",
       "       'is_entertainment_cat', 'is_girly_cat', 'click'],\n",
       "      dtype='object')"
      ]
     },
     "execution_count": 5,
     "metadata": {},
     "output_type": "execute_result"
    }
   ],
   "source": [
    "train_df.columns"
   ]
  },
  {
   "cell_type": "code",
   "execution_count": 6,
   "metadata": {
    "execution": {
     "iopub.execute_input": "2025-04-27T12:52:27.405006Z",
     "iopub.status.busy": "2025-04-27T12:52:27.403346Z",
     "iopub.status.idle": "2025-04-27T12:52:27.417902Z",
     "shell.execute_reply": "2025-04-27T12:52:27.416879Z",
     "shell.execute_reply.started": "2025-04-27T12:52:27.404950Z"
    }
   },
   "outputs": [],
   "source": [
    "pairs_for_union = [('weekend', 'weekday'), ('city_id', 'weekday'), ('browser','is_male'),\n",
    "                  ('city_id', 'ad_slot_format'), \n",
    "                  ('weekend', 'browser'), ('region_id', 'is_in_market')]"
   ]
  },
  {
   "cell_type": "code",
   "execution_count": 7,
   "metadata": {
    "execution": {
     "iopub.execute_input": "2025-04-27T12:52:27.420418Z",
     "iopub.status.busy": "2025-04-27T12:52:27.418938Z",
     "iopub.status.idle": "2025-04-27T12:54:15.828206Z",
     "shell.execute_reply": "2025-04-27T12:54:15.826902Z",
     "shell.execute_reply.started": "2025-04-27T12:52:27.420308Z"
    }
   },
   "outputs": [],
   "source": [
    "new_feat_names = []\n",
    "for f1, f2 in pairs_for_union:\n",
    "    new_name = f\"{f1}__{f2}\"\n",
    "    new_feat_names.append(new_name)\n",
    "    for df in [train_df, test_df]:\n",
    "        df[new_name] = df[f1].astype(str) + \"_\" + df[f2].astype(str)"
   ]
  },
  {
   "cell_type": "code",
   "execution_count": 8,
   "metadata": {
    "execution": {
     "iopub.execute_input": "2025-04-27T12:54:15.831520Z",
     "iopub.status.busy": "2025-04-27T12:54:15.829520Z",
     "iopub.status.idle": "2025-04-27T12:54:15.856701Z",
     "shell.execute_reply": "2025-04-27T12:54:15.855616Z",
     "shell.execute_reply.started": "2025-04-27T12:54:15.831448Z"
    },
    "tags": []
   },
   "outputs": [],
   "source": [
    "target_column = 'click'\n",
    "categorical_features = [\n",
    "    'city_id', 'ad_slot_visibility', 'ad_slot_format',\n",
    "    'creative_id', 'advertiser_id', 'part_of_day', 'weekday',\n",
    "    'os', 'browser', 'is_in_market', 'is_male', 'is_mobile_device'\n",
    "] + new_feat_names\n",
    "feature_columns = categorical_features + [\"ad_slot_screen_share\"]"
   ]
  },
  {
   "cell_type": "code",
   "execution_count": 9,
   "metadata": {
    "execution": {
     "iopub.execute_input": "2025-04-27T12:54:15.859706Z",
     "iopub.status.busy": "2025-04-27T12:54:15.858074Z",
     "iopub.status.idle": "2025-04-27T12:54:15.876047Z",
     "shell.execute_reply": "2025-04-27T12:54:15.874921Z",
     "shell.execute_reply.started": "2025-04-27T12:54:15.859653Z"
    },
    "tags": []
   },
   "outputs": [],
   "source": [
    "def prepare_data_ord(df, feature_columns, categorical_features, ord_encoder=None, scaler=None, fit=True):\n",
    "    X_cat = df[categorical_features].astype(str)\n",
    "    X_num = df[[f for f in feature_columns if f not in categorical_features]]\n",
    "    if fit:\n",
    "        ord_encoder = OrdinalEncoder(handle_unknown='use_encoded_value', unknown_value=-1)\n",
    "        scaler = StandardScaler()\n",
    "        X_cat_enc = ord_encoder.fit_transform(X_cat)\n",
    "        X_num_enc = scaler.fit_transform(X_num)\n",
    "    else:\n",
    "        X_cat_enc = ord_encoder.transform(X_cat)\n",
    "        X_num_enc = scaler.transform(X_num)\n",
    "    X = np.hstack([X_cat_enc, X_num_enc])\n",
    "    return X, ord_encoder, scaler"
   ]
  },
  {
   "cell_type": "code",
   "execution_count": 10,
   "metadata": {
    "execution": {
     "iopub.execute_input": "2025-04-27T12:54:15.881243Z",
     "iopub.status.busy": "2025-04-27T12:54:15.880507Z",
     "iopub.status.idle": "2025-04-27T12:55:45.588553Z",
     "shell.execute_reply": "2025-04-27T12:55:45.587397Z",
     "shell.execute_reply.started": "2025-04-27T12:54:15.881192Z"
    },
    "tags": []
   },
   "outputs": [
    {
     "name": "stderr",
     "output_type": "stream",
     "text": [
      "IOStream.flush timed out\n",
      "IOStream.flush timed out\n",
      "IOStream.flush timed out\n"
     ]
    }
   ],
   "source": [
    "from sklearn.model_selection import train_test_split\n",
    "train_df, val_df = train_test_split(train_df, test_size=0.2, random_state=42, stratify=train_df[target_column])"
   ]
  },
  {
   "cell_type": "code",
   "execution_count": 11,
   "metadata": {
    "execution": {
     "iopub.execute_input": "2025-04-27T12:55:45.590403Z",
     "iopub.status.busy": "2025-04-27T12:55:45.589710Z",
     "iopub.status.idle": "2025-04-27T13:00:32.502356Z",
     "shell.execute_reply": "2025-04-27T13:00:32.501073Z",
     "shell.execute_reply.started": "2025-04-27T12:55:45.590353Z"
    },
    "tags": []
   },
   "outputs": [
    {
     "name": "stderr",
     "output_type": "stream",
     "text": [
      "IOStream.flush timed out\n"
     ]
    }
   ],
   "source": [
    "X_train, ord_encoder, scaler = prepare_data_ord(train_df, feature_columns, categorical_features, fit=True)\n",
    "X_val, _, _ = prepare_data_ord(val_df, feature_columns, categorical_features, ord_encoder=ord_encoder, scaler=scaler, fit=False)\n",
    "X_test, _, _ = prepare_data_ord(test_df, feature_columns, categorical_features, ord_encoder=ord_encoder, scaler=scaler, fit=False)\n",
    "y_train = train_df[target_column].values\n",
    "y_val = val_df[target_column].values\n",
    "y_test = test_df[target_column].values"
   ]
  },
  {
   "cell_type": "code",
   "execution_count": 12,
   "metadata": {
    "execution": {
     "iopub.execute_input": "2025-04-27T13:00:32.504132Z",
     "iopub.status.busy": "2025-04-27T13:00:32.503519Z",
     "iopub.status.idle": "2025-04-27T13:00:32.649639Z",
     "shell.execute_reply": "2025-04-27T13:00:32.648268Z",
     "shell.execute_reply.started": "2025-04-27T13:00:32.504090Z"
    },
    "tags": []
   },
   "outputs": [
    {
     "name": "stdout",
     "output_type": "stream",
     "text": [
      "Device: cuda\n"
     ]
    }
   ],
   "source": [
    "device = torch.device('cuda' if torch.cuda.is_available() else 'cpu')\n",
    "print(f'Device: {device}')"
   ]
  },
  {
   "cell_type": "code",
   "execution_count": 13,
   "metadata": {
    "execution": {
     "iopub.execute_input": "2025-04-27T13:00:32.652502Z",
     "iopub.status.busy": "2025-04-27T13:00:32.651043Z",
     "iopub.status.idle": "2025-04-27T13:00:34.040384Z",
     "shell.execute_reply": "2025-04-27T13:00:34.039161Z",
     "shell.execute_reply.started": "2025-04-27T13:00:32.652443Z"
    },
    "tags": []
   },
   "outputs": [],
   "source": [
    "X_train_t = torch.tensor(X_train, dtype=torch.float32).to(device)\n",
    "y_train_t = torch.tensor(y_train, dtype=torch.float32).unsqueeze(1).to(device)\n",
    "X_val_t = torch.tensor(X_val, dtype=torch.float32).to(device)\n",
    "y_val_t = torch.tensor(y_val, dtype=torch.float32).unsqueeze(1).to(device)\n",
    "X_test_t = torch.tensor(X_test, dtype=torch.float32).to(device)\n",
    "y_test_t = torch.tensor(y_test, dtype=torch.float32).unsqueeze(1).to(device)"
   ]
  },
  {
   "cell_type": "code",
   "execution_count": 14,
   "metadata": {
    "execution": {
     "iopub.execute_input": "2025-04-27T13:00:34.043614Z",
     "iopub.status.busy": "2025-04-27T13:00:34.041822Z",
     "iopub.status.idle": "2025-04-27T13:00:34.252504Z",
     "shell.execute_reply": "2025-04-27T13:00:34.251269Z",
     "shell.execute_reply.started": "2025-04-27T13:00:34.043536Z"
    },
    "tags": []
   },
   "outputs": [],
   "source": [
    "n_pos = (y_train_t == 1).sum()\n",
    "n_neg = (y_train_t == 0).sum()\n",
    "pos_weight = torch.tensor([n_neg / n_pos], dtype=torch.float32).to(device)"
   ]
  },
  {
   "cell_type": "markdown",
   "metadata": {
    "tags": []
   },
   "source": [
    "# SimpleNet"
   ]
  },
  {
   "cell_type": "code",
   "execution_count": 39,
   "metadata": {
    "execution": {
     "iopub.execute_input": "2025-04-27T13:08:41.800957Z",
     "iopub.status.busy": "2025-04-27T13:08:41.799124Z",
     "iopub.status.idle": "2025-04-27T13:08:41.820062Z",
     "shell.execute_reply": "2025-04-27T13:08:41.818949Z",
     "shell.execute_reply.started": "2025-04-27T13:08:41.800890Z"
    },
    "tags": []
   },
   "outputs": [],
   "source": [
    "class SimpleNet(nn.Module):\n",
    "    def __init__(self, input_dim):\n",
    "        super().__init__()\n",
    "        self.layers = nn.Sequential(\n",
    "            nn.Linear(input_dim, 128),\n",
    "            nn.ReLU(),\n",
    "            nn.Linear(128, 1)\n",
    "        )\n",
    "    def forward(self, x):\n",
    "        return self.layers(x)\n",
    "\n",
    "simple_net = SimpleNet(X_train_t.shape[1]).to(device)\n",
    "opt = optim.Adam(simple_net.parameters(), lr=0.01)\n",
    "loss_fn = nn.BCEWithLogitsLoss(pos_weight=pos_weight)"
   ]
  },
  {
   "cell_type": "code",
   "execution_count": 40,
   "metadata": {
    "execution": {
     "iopub.execute_input": "2025-04-27T13:08:42.288248Z",
     "iopub.status.busy": "2025-04-27T13:08:42.287069Z",
     "iopub.status.idle": "2025-04-27T13:09:47.668823Z",
     "shell.execute_reply": "2025-04-27T13:09:47.667633Z",
     "shell.execute_reply.started": "2025-04-27T13:08:42.288208Z"
    },
    "tags": []
   },
   "outputs": [
    {
     "name": "stdout",
     "output_type": "stream",
     "text": [
      "Epoch  1: ROC AUC = 0.5098\n",
      "Epoch  6: ROC AUC = 0.5015\n",
      "Epoch 11: ROC AUC = 0.5668\n",
      "Epoch 16: ROC AUC = 0.6209\n",
      "Epoch 21: ROC AUC = 0.6126\n",
      "Epoch 26: ROC AUC = 0.6378\n",
      "Epoch 31: ROC AUC = 0.7201\n",
      "Epoch 36: ROC AUC = 0.6403\n",
      "Epoch 41: ROC AUC = 0.6589\n",
      "Epoch 46: ROC AUC = 0.7291\n",
      "Epoch 51: ROC AUC = 0.6677\n",
      "Epoch 56: ROC AUC = 0.7137\n",
      "Epoch 61: ROC AUC = 0.7966\n",
      "Epoch 66: ROC AUC = 0.7221\n",
      "Epoch 71: ROC AUC = 0.7941\n",
      "Epoch 76: ROC AUC = 0.8140\n",
      "Epoch 81: ROC AUC = 0.8419\n",
      "Epoch 86: ROC AUC = 0.8456\n",
      "Epoch 91: ROC AUC = 0.8474\n",
      "Epoch 96: ROC AUC = 0.8455\n",
      "Epoch 101: ROC AUC = 0.8466\n",
      "Epoch 106: ROC AUC = 0.8470\n",
      "Epoch 111: ROC AUC = 0.8471\n",
      "Epoch 116: ROC AUC = 0.8565\n",
      "Epoch 121: ROC AUC = 0.7249\n",
      "Epoch 126: ROC AUC = 0.8489\n",
      "Epoch 131: ROC AUC = 0.7696\n",
      "Epoch 136: ROC AUC = 0.7552\n",
      "Epoch 141: ROC AUC = 0.8423\n",
      "Epoch 146: ROC AUC = 0.8313\n"
     ]
    }
   ],
   "source": [
    "for epoch in range(150):\n",
    "    simple_net.train()\n",
    "    opt.zero_grad()\n",
    "    out = simple_net(X_train_t)\n",
    "    loss = loss_fn(out, y_train_t)\n",
    "    loss.backward()\n",
    "    opt.step()\n",
    "    if epoch % 5 != 0:\n",
    "        continue\n",
    "    with torch.no_grad():\n",
    "        simple_net.eval()\n",
    "        y_pred = torch.sigmoid(simple_net(X_val_t)).cpu().numpy()\n",
    "        roc_auc = roc_auc_score(y_val, y_pred)\n",
    "    print(f'Epoch {epoch+1:2d}: ROC AUC = {roc_auc:.4f}')"
   ]
  },
  {
   "cell_type": "code",
   "execution_count": 41,
   "metadata": {
    "execution": {
     "iopub.execute_input": "2025-04-27T13:09:47.672065Z",
     "iopub.status.busy": "2025-04-27T13:09:47.670869Z",
     "iopub.status.idle": "2025-04-27T13:09:48.766905Z",
     "shell.execute_reply": "2025-04-27T13:09:48.765753Z",
     "shell.execute_reply.started": "2025-04-27T13:09:47.672031Z"
    },
    "tags": []
   },
   "outputs": [
    {
     "name": "stdout",
     "output_type": "stream",
     "text": [
      "\n",
      "ROC AUC на тесте: 0.7028\n"
     ]
    }
   ],
   "source": [
    "simple_net.eval()\n",
    "with torch.no_grad():\n",
    "    y_pred_prob = simple_net(X_test_t).cpu().squeeze().numpy()\n",
    "\n",
    "roc_auc = roc_auc_score(y_test, y_pred_prob)\n",
    "print(f\"\\nROC AUC на тесте: {roc_auc:.4f}\")"
   ]
  },
  {
   "cell_type": "code",
   "execution_count": 42,
   "metadata": {
    "execution": {
     "iopub.execute_input": "2025-04-27T13:09:48.769159Z",
     "iopub.status.busy": "2025-04-27T13:09:48.768206Z",
     "iopub.status.idle": "2025-04-27T13:09:49.558610Z",
     "shell.execute_reply": "2025-04-27T13:09:49.557544Z",
     "shell.execute_reply.started": "2025-04-27T13:09:48.769102Z"
    },
    "tags": []
   },
   "outputs": [
    {
     "data": {
      "image/png": "[encoded data removed]",
      "text/plain": [
       "<Figure size 800x600 with 1 Axes>"
      ]
     },
     "metadata": {},
     "output_type": "display_data"
    }
   ],
   "source": [
    "fpr, tpr, thresholds = roc_curve(y_test, y_pred_prob)\n",
    "plt.figure(figsize=(8,6))\n",
    "plt.plot(fpr, tpr, label=f\"ROC AUC = {roc_auc:.4f}\")\n",
    "plt.plot([0,1], [0,1], 'k--')\n",
    "plt.xlabel('FPR')\n",
    "plt.ylabel('TPR')\n",
    "plt.title('ROC-curve (test)')\n",
    "plt.legend()\n",
    "plt.grid()\n",
    "plt.show()"
   ]
  },
  {
   "cell_type": "code",
   "execution_count": 43,
   "metadata": {
    "execution": {
     "iopub.execute_input": "2025-04-27T13:09:49.562017Z",
     "iopub.status.busy": "2025-04-27T13:09:49.561005Z",
     "iopub.status.idle": "2025-04-27T13:09:49.581706Z",
     "shell.execute_reply": "2025-04-27T13:09:49.580665Z",
     "shell.execute_reply.started": "2025-04-27T13:09:49.561981Z"
    },
    "tags": []
   },
   "outputs": [],
   "source": [
    "def permutation_importance(model, X, y, feature_names, device='cpu', n_repeats=2):\n",
    "    baseline = roc_auc_score(y, torch.sigmoid(model(torch.tensor(X, dtype=torch.float32).to(device))).cpu().detach().numpy().squeeze())\n",
    "    importances = []\n",
    "    for i, fname in enumerate(feature_names):\n",
    "        scores = []\n",
    "        for _ in range(n_repeats):\n",
    "            X_perm = X.copy()\n",
    "            idx = np.random.permutation(X.shape[0])\n",
    "            X_perm[:, i] = X_perm[idx, i]\n",
    "            X_perm_t = torch.tensor(X_perm, dtype=torch.float32).to(device)\n",
    "            pred = torch.sigmoid(model(X_perm_t)).cpu().detach().numpy().squeeze()\n",
    "            score = roc_auc_score(y, pred)\n",
    "            scores.append(baseline - score)\n",
    "        importances.append(np.mean(scores))\n",
    "    return pd.Series(importances, index=feature_names).sort_values(ascending=False)"
   ]
  },
  {
   "cell_type": "code",
   "execution_count": 44,
   "metadata": {
    "execution": {
     "iopub.execute_input": "2025-04-27T13:09:49.583935Z",
     "iopub.status.busy": "2025-04-27T13:09:49.582818Z",
     "iopub.status.idle": "2025-04-27T13:10:18.482976Z",
     "shell.execute_reply": "2025-04-27T13:10:18.481714Z",
     "shell.execute_reply.started": "2025-04-27T13:09:49.583882Z"
    },
    "tags": []
   },
   "outputs": [
    {
     "name": "stdout",
     "output_type": "stream",
     "text": [
      "Значимость признаков (по permutation importance на тесте):\n",
      "city_id__ad_slot_format    0.198153\n",
      "city_id__weekday           0.176105\n",
      "browser__is_male           0.027746\n",
      "browser                    0.009710\n",
      "city_id                    0.006579\n",
      "is_male                    0.005350\n",
      "ad_slot_visibility         0.004988\n",
      "advertiser_id              0.004195\n",
      "creative_id                0.001846\n",
      "is_mobile_device           0.001457\n",
      "is_in_market               0.001016\n",
      "weekend__browser           0.000976\n",
      "part_of_day                0.000739\n",
      "os                         0.000330\n",
      "ad_slot_format             0.000000\n",
      "region_id__is_in_market   -0.000642\n",
      "weekend__weekday          -0.000958\n",
      "ad_slot_screen_share      -0.001048\n",
      "weekday                   -0.006203\n",
      "dtype: float64\n"
     ]
    }
   ],
   "source": [
    "feature_list = list(categorical_features) + [f for f in feature_columns if f not in categorical_features]\n",
    "\n",
    "importances = permutation_importance(simple_net, X_test, y_test, feature_list, device=device)\n",
    "print(\"Значимость признаков (по permutation importance на тесте):\")\n",
    "print(importances)"
   ]
  },
  {
   "cell_type": "code",
   "execution_count": 45,
   "metadata": {
    "execution": {
     "iopub.execute_input": "2025-04-27T13:10:18.485991Z",
     "iopub.status.busy": "2025-04-27T13:10:18.484140Z",
     "iopub.status.idle": "2025-04-27T13:10:18.949744Z",
     "shell.execute_reply": "2025-04-27T13:10:18.948496Z",
     "shell.execute_reply.started": "2025-04-27T13:10:18.485925Z"
    },
    "tags": []
   },
   "outputs": [
    {
     "data": {
      "image/png": "[encoded data removed]",
      "text/plain": [
       "<Figure size 1200x600 with 1 Axes>"
      ]
     },
     "metadata": {},
     "output_type": "display_data"
    }
   ],
   "source": [
    "importances = importances.sort_values(ascending=False)\n",
    "plt.figure(figsize=(12, 6))\n",
    "plt.barh(importances.index[::-1], importances.values[::-1])\n",
    "plt.xlabel(\"Значимость\")\n",
    "plt.title(\"Значимость признаков (по permutation importance на тесте)\")\n",
    "plt.tight_layout()\n",
    "plt.show()"
   ]
  },
  {
   "cell_type": "code",
   "execution_count": null,
   "metadata": {},
   "outputs": [],
   "source": []
  }
 ],
 "metadata": {
  "kaggle": {
   "accelerator": "nvidiaTeslaT4",
   "dataSources": [
    {
     "datasetId": 7118912,
     "sourceId": 11371631,
     "sourceType": "datasetVersion"
    }
   ],
   "dockerImageVersionId": 31011,
   "isGpuEnabled": true,
   "isInternetEnabled": true,
   "language": "python",
   "sourceType": "notebook"
  },
  "kernelspec": {
   "display_name": "DataSphere Kernel",
   "language": "python",
   "name": "python3"
  },
  "language_info": {
   "codemirror_mode": {
    "name": "ipython",
    "version": 3
   },
   "file_extension": ".py",
   "mimetype": "text/x-python",
   "name": "python",
   "nbconvert_exporter": "python",
   "pygments_lexer": "ipython3",
   "version": "3.10.12"
  }
 },
 "nbformat": 4,
 "nbformat_minor": 4
}
