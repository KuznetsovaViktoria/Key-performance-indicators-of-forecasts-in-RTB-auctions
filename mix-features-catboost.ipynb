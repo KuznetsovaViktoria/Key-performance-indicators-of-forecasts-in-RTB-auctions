{
 "cells": [
  {
   "cell_type": "code",
   "execution_count": 1,
   "metadata": {
    "_cell_guid": "b1076dfc-b9ad-4769-8c92-a6c4dae69d19",
    "_uuid": "8f2839f25d086af736a60e9eeb907d3b93b6e0e5",
    "execution": {
     "iopub.execute_input": "2025-04-23T21:00:04.916117Z",
     "iopub.status.busy": "2025-04-23T21:00:04.915409Z",
     "iopub.status.idle": "2025-04-23T21:00:04.937676Z",
     "shell.execute_reply": "2025-04-23T21:00:04.936904Z",
     "shell.execute_reply.started": "2025-04-23T21:00:04.916084Z"
    },
    "tags": []
   },
   "outputs": [],
   "source": [
    "import pandas as pd\n",
    "from catboost import CatBoostClassifier, Pool\n",
    "from sklearn.metrics import roc_auc_score, roc_curve\n",
    "import matplotlib.pyplot as plt"
   ]
  },
  {
   "cell_type": "code",
   "execution_count": 2,
   "metadata": {
    "execution": {
     "iopub.execute_input": "2025-04-23T21:00:04.939582Z",
     "iopub.status.busy": "2025-04-23T21:00:04.939Z",
     "iopub.status.idle": "2025-04-23T21:00:58.798336Z",
     "shell.execute_reply": "2025-04-23T21:00:58.797634Z",
     "shell.execute_reply.started": "2025-04-23T21:00:04.939548Z"
    }
   },
   "outputs": [
    {
     "name": "stderr",
     "output_type": "stream",
     "text": [
      "/tmp/ipykernel_13588/3222708738.py:1: DtypeWarning: Columns (15,16,17) have mixed types. Specify dtype option on import or set low_memory=False.\n",
      "  train_df = pd.read_csv('parsed_final_data_season_3.csv.zip', compression='zip')\n"
     ]
    }
   ],
   "source": [
    "train_df = pd.read_csv('parsed_final_data_season_3.csv.zip', compression='zip')\n",
    "test_df = pd.read_csv('final_test_data_season_3.csv.zip', compression='zip')"
   ]
  },
  {
   "cell_type": "code",
   "execution_count": 3,
   "metadata": {
    "execution": {
     "iopub.execute_input": "2025-04-23T21:00:58.799923Z",
     "iopub.status.busy": "2025-04-23T21:00:58.799534Z",
     "iopub.status.idle": "2025-04-23T21:01:01.241711Z",
     "shell.execute_reply": "2025-04-23T21:01:01.240982Z",
     "shell.execute_reply.started": "2025-04-23T21:00:58.799894Z"
    }
   },
   "outputs": [],
   "source": [
    "train_df = train_df.drop('Unnamed: 0', axis=1)\n",
    "test_df = test_df.drop('Unnamed: 0', axis=1)"
   ]
  },
  {
   "cell_type": "code",
   "execution_count": 4,
   "metadata": {
    "execution": {
     "iopub.execute_input": "2025-04-23T21:01:01.243577Z",
     "iopub.status.busy": "2025-04-23T21:01:01.242699Z",
     "iopub.status.idle": "2025-04-23T21:01:01.258328Z",
     "shell.execute_reply": "2025-04-23T21:01:01.257615Z",
     "shell.execute_reply.started": "2025-04-23T21:01:01.243542Z"
    }
   },
   "outputs": [],
   "source": [
    "target_column = 'click'\n",
    "feature_columns = train_df.columns.difference([target_column, 'bid_id'])\n",
    "categorical_features = ['region_id', 'city_id', 'ad_slot_visibility',\n",
    "       'ad_slot_format', 'creative_id', 'advertiser_id', 'part_of_day',\n",
    "       'weekday', 'weekend', 'os', 'browser',\n",
    "       'is_mobile_device', 'is_male', 'is_long_term_interest', 'is_in_market',\n",
    "       'is_info_cat', 'is_products_cat', 'is_service_cat',\n",
    "       'is_entertainment_cat', 'is_girly_cat']"
   ]
  },
  {
   "cell_type": "code",
   "execution_count": 5,
   "metadata": {
    "execution": {
     "iopub.execute_input": "2025-04-23T21:01:01.260822Z",
     "iopub.status.busy": "2025-04-23T21:01:01.260174Z",
     "iopub.status.idle": "2025-04-23T21:01:22.391267Z",
     "shell.execute_reply": "2025-04-23T21:01:22.390600Z",
     "shell.execute_reply.started": "2025-04-23T21:01:01.260788Z"
    }
   },
   "outputs": [],
   "source": [
    "train_df = train_df.fillna(value=False)"
   ]
  },
  {
   "cell_type": "code",
   "execution_count": 6,
   "metadata": {
    "execution": {
     "iopub.execute_input": "2025-04-23T21:01:22.392755Z",
     "iopub.status.busy": "2025-04-23T21:01:22.392031Z",
     "iopub.status.idle": "2025-04-23T21:01:22.494130Z",
     "shell.execute_reply": "2025-04-23T21:01:22.493436Z",
     "shell.execute_reply.started": "2025-04-23T21:01:22.392727Z"
    }
   },
   "outputs": [],
   "source": [
    "class_counts = train_df[target_column].value_counts()\n",
    "class_0_count = class_counts.get(0, 1)\n",
    "class_1_count = class_counts.get(1, 1)\n",
    "total_count = class_0_count + class_1_count\n",
    "class_weights = [total_count / class_0_count, total_count / class_1_count]"
   ]
  },
  {
   "cell_type": "code",
   "execution_count": 7,
   "metadata": {
    "execution": {
     "iopub.execute_input": "2025-04-23T21:01:22.495721Z",
     "iopub.status.busy": "2025-04-23T21:01:22.495042Z",
     "iopub.status.idle": "2025-04-23T21:01:43.149901Z",
     "shell.execute_reply": "2025-04-23T21:01:43.149092Z",
     "shell.execute_reply.started": "2025-04-23T21:01:22.495697Z"
    },
    "tags": []
   },
   "outputs": [],
   "source": [
    "from sklearn.model_selection import train_test_split\n",
    "train_df, val_df = train_test_split(train_df, test_size=0.5, random_state=42, stratify=train_df[target_column])\n",
    "val_df, _ = train_test_split(val_df, test_size=0.9, random_state=42, stratify=val_df[target_column])"
   ]
  },
  {
   "cell_type": "code",
   "execution_count": 8,
   "metadata": {
    "execution": {
     "iopub.execute_input": "2025-04-23T21:01:43.151662Z",
     "iopub.status.busy": "2025-04-23T21:01:43.150857Z",
     "iopub.status.idle": "2025-04-23T21:01:43.160257Z",
     "shell.execute_reply": "2025-04-23T21:01:43.159618Z",
     "shell.execute_reply.started": "2025-04-23T21:01:43.151636Z"
    },
    "tags": []
   },
   "outputs": [],
   "source": [
    "from copy import deepcopy\n",
    "import random\n",
    "import itertools"
   ]
  },
  {
   "cell_type": "code",
   "execution_count": null,
   "metadata": {
    "execution": {
     "iopub.execute_input": "2025-04-23T21:01:43.161853Z",
     "iopub.status.busy": "2025-04-23T21:01:43.161152Z"
    },
    "tags": []
   },
   "outputs": [
    {
     "name": "stdout",
     "output_type": "stream",
     "text": [
      "Run 1/8, ROC AUC: 0.6415, Added features: ['city_id__ad_slot_format', 'city_id__weekday', 'city_id__part_of_day', 'ad_slot_format__is_in_market'], feature_importances: [ 0.          8.1607835   3.24881787  6.92152143 14.0504878   2.90434152\n",
      " 27.66738779  5.09073554 14.00756755  7.23690224  0.18878014  5.57299287\n",
      "  2.72624631  0.          0.          2.22343542]\n",
      "Run 2/8, ROC AUC: 0.6446, Added features: ['weekday__os', 'ad_slot_visibility__weekend', 'creative_id__weekend', 'ad_slot_format__creative_id'], feature_importances: [ 1.48572452  2.22262395  3.80313492  3.15702049 14.1683859   3.17084935\n",
      " 24.08335537  2.47336265  8.23497403  6.66718266  1.63216639  5.73432589\n",
      "  9.02872052  8.39952888  1.47689526  4.26174922]\n"
     ]
    },
    {
     "name": "stderr",
     "output_type": "stream",
     "text": [
      "IOStream.flush timed out\n"
     ]
    },
    {
     "name": "stdout",
     "output_type": "stream",
     "text": [
      "Run 3/8, ROC AUC: 0.6499, Added features: ['advertiser_id__os', 'os__browser', 'city_id__weekday', 'part_of_day__weekday'], feature_importances: [ 2.29147476  8.56915258  3.94081621  7.94490698 10.89911512  1.04621502\n",
      " 23.56435168  2.95299143  9.34056695  9.27463561  1.57211849  5.05838949\n",
      "  4.13051091  0.26213438  0.          9.15262038]\n",
      "Run 4/8, ROC AUC: 0.6450, Added features: ['creative_id__os', 'ad_slot_visibility__creative_id', 'weekday__weekend', 'city_id__browser'], feature_importances: [ 1.54989402  6.86927241  3.84355801  4.5870013  13.8271054   2.7177935\n",
      " 16.65266665  4.77781702 12.42311015  8.38089386  1.58664861  5.86255652\n",
      "  1.19016189  4.50253259 11.22898807  0.        ]\n"
     ]
    },
    {
     "ename": "\u001b[0;31mKernelOutOfMemory\u001b[0m",
     "evalue": "Kernel ran out of memory and has been restarted. If the restart fails, restart the kernel from the Kernel menu.\nIf the error persists, try choosing a different configuration or optimizing your code.",
     "output_type": "error",
     "traceback": []
    }
   ],
   "source": [
    "N_RUNS = 8\n",
    "N_PAIR_FEATURES = 4\n",
    "\n",
    "categorical_features = [\n",
    "    'city_id', 'ad_slot_visibility', 'ad_slot_format',\n",
    "    'creative_id', 'advertiser_id', 'part_of_day', 'weekday', 'weekend',\n",
    "    'os', 'browser', 'is_in_market'\n",
    "]\n",
    "feature_columns = categorical_features + [\"ad_slot_screen_share\"]\n",
    "for i in train_df.columns.difference([target_column] + feature_columns):\n",
    "    train_df = train_df.drop(i, axis=1)\n",
    "    test_df = test_df.drop(i, axis=1)\n",
    "    val_df = val_df.drop(i, axis=1)\n",
    "for run_idx in range(N_RUNS):\n",
    "    base_cat_feats = deepcopy(categorical_features)\n",
    "    \n",
    "    possible_pairs = list(itertools.combinations(base_cat_feats, 2))\n",
    "    if len(possible_pairs) > 0:\n",
    "        pairs_for_union = random.sample(possible_pairs, min(N_PAIR_FEATURES, len(possible_pairs)))\n",
    "    else:\n",
    "        pairs_for_union = []\n",
    "    \n",
    "    new_feat_names = []\n",
    "    \n",
    "    for f1, f2 in pairs_for_union:\n",
    "        new_name = f\"{f1}__{f2}\"\n",
    "        new_feat_names.append(new_name)\n",
    "        for df in [train_df, val_df, test_df]:\n",
    "            df[new_name] = df[f1].astype(str) + \"_\" + df[f2].astype(str)\n",
    "    \n",
    "    all_feats = feature_columns + new_feat_names\n",
    "    all_cat_feats = [f for f in all_feats if (f in categorical_features or f in new_feat_names)]\n",
    "    \n",
    "    train_pool = Pool(data=train_df[all_feats], label=train_df[target_column], cat_features=[all_feats.index(f) for f in all_cat_feats])\n",
    "    val_pool = Pool(data=val_df[all_feats], label=val_df[target_column], cat_features=[all_feats.index(f) for f in all_cat_feats])\n",
    "    test_pool = Pool(data=test_df[all_feats], label=test_df[target_column], cat_features=[all_feats.index(f) for f in all_cat_feats])\n",
    "    \n",
    "    model = CatBoostClassifier(\n",
    "        iterations=100, learning_rate=0.01, depth=4, loss_function='Logloss', task_type='GPU',\n",
    "        class_weights=class_weights, eval_metric='Logloss', verbose=0, l2_leaf_reg=3\n",
    "    )\n",
    "    model.fit(train_pool, eval_set=val_pool, early_stopping_rounds=10, verbose=0)\n",
    "    preds = model.predict_proba(test_pool)[:, 1]\n",
    "    roc_auc = roc_auc_score(test_df[target_column], preds)\n",
    "    feature_importances = model.get_feature_importance(train_pool)\n",
    "\n",
    "    with open(\"mix_features_catboost_results.txt\", \"a\") as myfile:\n",
    "        myfile.write(f\"\\n Run {run_idx+1}/{N_RUNS}, ROC AUC: {roc_auc:.4f}, all features: {all_feats}, feature_importances: {feature_importances}\\n\")\n",
    "    print(f\"Run {run_idx+1}/{N_RUNS}, ROC AUC: {roc_auc:.4f}, Added features: {new_feat_names}, feature_importances: {feature_importances}\")\n",
    "    for df in [train_df, val_df, test_df]:\n",
    "        for i in new_feat_names:\n",
    "            df = df.drop(i, axis=1)\n"
   ]
  },
  {
   "cell_type": "code",
   "execution_count": null,
   "metadata": {},
   "outputs": [],
   "source": []
  }
 ],
 "metadata": {
  "kaggle": {
   "accelerator": "nvidiaTeslaT4",
   "dataSources": [
    {
     "datasetId": 7118912,
     "sourceId": 11371631,
     "sourceType": "datasetVersion"
    }
   ],
   "dockerImageVersionId": 31011,
   "isGpuEnabled": true,
   "isInternetEnabled": true,
   "language": "python",
   "sourceType": "notebook"
  },
  "kernelspec": {
   "display_name": "DataSphere Kernel",
   "language": "python",
   "name": "python3"
  },
  "language_info": {
   "codemirror_mode": {
    "name": "ipython",
    "version": 3
   },
   "file_extension": ".py",
   "mimetype": "text/x-python",
   "name": "python",
   "nbconvert_exporter": "python",
   "pygments_lexer": "ipython3",
   "version": "3.10.12"
  }
 },
 "nbformat": 4,
 "nbformat_minor": 4
}
