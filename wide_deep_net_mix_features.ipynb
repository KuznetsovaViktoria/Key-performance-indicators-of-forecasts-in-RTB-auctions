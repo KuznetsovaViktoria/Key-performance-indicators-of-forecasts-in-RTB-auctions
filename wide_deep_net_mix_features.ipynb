{
 "cells": [
  {
   "cell_type": "code",
   "execution_count": 1,
   "metadata": {
    "_cell_guid": "b1076dfc-b9ad-4769-8c92-a6c4dae69d19",
    "_uuid": "8f2839f25d086af736a60e9eeb907d3b93b6e0e5",
    "execution": {
     "iopub.execute_input": "2025-04-27T13:25:58.007202Z",
     "iopub.status.busy": "2025-04-27T13:25:58.006693Z",
     "iopub.status.idle": "2025-04-27T13:26:07.858314Z",
     "shell.execute_reply": "2025-04-27T13:26:07.857224Z",
     "shell.execute_reply.started": "2025-04-27T13:25:58.007181Z"
    },
    "tags": []
   },
   "outputs": [],
   "source": [
    "import pandas as pd\n",
    "from sklearn.metrics import roc_auc_score, roc_curve\n",
    "import matplotlib.pyplot as plt\n",
    "import numpy as np\n",
    "import torch\n",
    "import torch.nn as nn\n",
    "import torch.optim as optim\n",
    "from sklearn.preprocessing import OrdinalEncoder, StandardScaler"
   ]
  },
  {
   "cell_type": "code",
   "execution_count": 2,
   "metadata": {
    "execution": {
     "iopub.execute_input": "2025-04-27T13:26:07.860103Z",
     "iopub.status.busy": "2025-04-27T13:26:07.859586Z",
     "iopub.status.idle": "2025-04-27T13:26:55.403601Z",
     "shell.execute_reply": "2025-04-27T13:26:55.402468Z",
     "shell.execute_reply.started": "2025-04-27T13:26:07.860080Z"
    },
    "tags": []
   },
   "outputs": [
    {
     "name": "stderr",
     "output_type": "stream",
     "text": [
      "/tmp/ipykernel_7268/3222708738.py:1: DtypeWarning: Columns (15,16,17) have mixed types. Specify dtype option on import or set low_memory=False.\n",
      "  train_df = pd.read_csv('parsed_final_data_season_3.csv.zip', compression='zip')\n"
     ]
    }
   ],
   "source": [
    "train_df = pd.read_csv('parsed_final_data_season_3.csv.zip', compression='zip')\n",
    "test_df = pd.read_csv('final_test_data_season_3.csv.zip', compression='zip')"
   ]
  },
  {
   "cell_type": "code",
   "execution_count": 3,
   "metadata": {
    "execution": {
     "iopub.execute_input": "2025-04-27T13:26:55.405216Z",
     "iopub.status.busy": "2025-04-27T13:26:55.404739Z",
     "iopub.status.idle": "2025-04-27T13:26:57.352888Z",
     "shell.execute_reply": "2025-04-27T13:26:57.351833Z",
     "shell.execute_reply.started": "2025-04-27T13:26:55.405181Z"
    },
    "tags": []
   },
   "outputs": [],
   "source": [
    "train_df = train_df.drop('Unnamed: 0', axis=1)\n",
    "test_df = test_df.drop('Unnamed: 0', axis=1)"
   ]
  },
  {
   "cell_type": "code",
   "execution_count": 4,
   "metadata": {
    "execution": {
     "iopub.execute_input": "2025-04-27T13:26:57.355675Z",
     "iopub.status.busy": "2025-04-27T13:26:57.354909Z",
     "iopub.status.idle": "2025-04-27T13:26:57.368975Z",
     "shell.execute_reply": "2025-04-27T13:26:57.368083Z",
     "shell.execute_reply.started": "2025-04-27T13:26:57.355652Z"
    },
    "tags": []
   },
   "outputs": [],
   "source": [
    "# train_df = train_df.fillna(value=False)"
   ]
  },
  {
   "cell_type": "code",
   "execution_count": 5,
   "metadata": {
    "execution": {
     "iopub.execute_input": "2025-04-27T13:26:57.370250Z",
     "iopub.status.busy": "2025-04-27T13:26:57.369790Z",
     "iopub.status.idle": "2025-04-27T13:26:57.423185Z",
     "shell.execute_reply": "2025-04-27T13:26:57.422014Z",
     "shell.execute_reply.started": "2025-04-27T13:26:57.370225Z"
    },
    "tags": []
   },
   "outputs": [
    {
     "data": {
      "text/html": [
       "<div>\n",
       "<style scoped>\n",
       "    .dataframe tbody tr th:only-of-type {\n",
       "        vertical-align: middle;\n",
       "    }\n",
       "\n",
       "    .dataframe tbody tr th {\n",
       "        vertical-align: top;\n",
       "    }\n",
       "\n",
       "    .dataframe thead th {\n",
       "        text-align: right;\n",
       "    }\n",
       "</style>\n",
       "<table border=\"1\" class=\"dataframe\">\n",
       "  <thead>\n",
       "    <tr style=\"text-align: right;\">\n",
       "      <th></th>\n",
       "      <th>bid_id</th>\n",
       "      <th>region_id</th>\n",
       "      <th>city_id</th>\n",
       "      <th>ad_slot_visibility</th>\n",
       "      <th>ad_slot_format</th>\n",
       "      <th>creative_id</th>\n",
       "      <th>advertiser_id</th>\n",
       "      <th>part_of_day</th>\n",
       "      <th>weekday</th>\n",
       "      <th>weekend</th>\n",
       "      <th>os</th>\n",
       "      <th>browser</th>\n",
       "      <th>ad_slot_screen_share</th>\n",
       "      <th>is_mobile_device</th>\n",
       "      <th>is_male</th>\n",
       "      <th>is_long_term_interest</th>\n",
       "      <th>is_in_market</th>\n",
       "      <th>is_info_cat</th>\n",
       "      <th>is_products_cat</th>\n",
       "      <th>is_service_cat</th>\n",
       "      <th>is_entertainment_cat</th>\n",
       "      <th>is_girly_cat</th>\n",
       "      <th>click</th>\n",
       "    </tr>\n",
       "  </thead>\n",
       "  <tbody>\n",
       "    <tr>\n",
       "      <th>0</th>\n",
       "      <td>9aa9b28f32adfc833634f28bb9703e83</td>\n",
       "      <td>216</td>\n",
       "      <td>219</td>\n",
       "      <td>Na</td>\n",
       "      <td>Fixed</td>\n",
       "      <td>7321</td>\n",
       "      <td>2259</td>\n",
       "      <td>2</td>\n",
       "      <td>3</td>\n",
       "      <td>2</td>\n",
       "      <td>windows</td>\n",
       "      <td>chrome</td>\n",
       "      <td>0.06</td>\n",
       "      <td>False</td>\n",
       "      <td>NaN</td>\n",
       "      <td>NaN</td>\n",
       "      <td>NaN</td>\n",
       "      <td>False</td>\n",
       "      <td>False</td>\n",
       "      <td>False</td>\n",
       "      <td>False</td>\n",
       "      <td>False</td>\n",
       "      <td>False</td>\n",
       "    </tr>\n",
       "    <tr>\n",
       "      <th>1</th>\n",
       "      <td>1ede4e457f5031ec1640dbe1259a4616</td>\n",
       "      <td>216</td>\n",
       "      <td>217</td>\n",
       "      <td>FirstView</td>\n",
       "      <td>Fixed</td>\n",
       "      <td>7321</td>\n",
       "      <td>2259</td>\n",
       "      <td>2</td>\n",
       "      <td>3</td>\n",
       "      <td>2</td>\n",
       "      <td>windows</td>\n",
       "      <td>ie</td>\n",
       "      <td>0.06</td>\n",
       "      <td>False</td>\n",
       "      <td>NaN</td>\n",
       "      <td>NaN</td>\n",
       "      <td>NaN</td>\n",
       "      <td>False</td>\n",
       "      <td>False</td>\n",
       "      <td>False</td>\n",
       "      <td>False</td>\n",
       "      <td>False</td>\n",
       "      <td>False</td>\n",
       "    </tr>\n",
       "    <tr>\n",
       "      <th>2</th>\n",
       "      <td>fca79371fc0f67ac6264f558bc664fd6</td>\n",
       "      <td>216</td>\n",
       "      <td>217</td>\n",
       "      <td>Na</td>\n",
       "      <td>Fixed</td>\n",
       "      <td>7323</td>\n",
       "      <td>2259</td>\n",
       "      <td>2</td>\n",
       "      <td>3</td>\n",
       "      <td>2</td>\n",
       "      <td>windows</td>\n",
       "      <td>chrome</td>\n",
       "      <td>0.07</td>\n",
       "      <td>False</td>\n",
       "      <td>NaN</td>\n",
       "      <td>NaN</td>\n",
       "      <td>NaN</td>\n",
       "      <td>False</td>\n",
       "      <td>False</td>\n",
       "      <td>False</td>\n",
       "      <td>False</td>\n",
       "      <td>False</td>\n",
       "      <td>False</td>\n",
       "    </tr>\n",
       "    <tr>\n",
       "      <th>3</th>\n",
       "      <td>7717c608f688ea3b087e292c91604ea5</td>\n",
       "      <td>183</td>\n",
       "      <td>184</td>\n",
       "      <td>Na</td>\n",
       "      <td>Fixed</td>\n",
       "      <td>10722</td>\n",
       "      <td>2821</td>\n",
       "      <td>2</td>\n",
       "      <td>3</td>\n",
       "      <td>2</td>\n",
       "      <td>windows</td>\n",
       "      <td>ie</td>\n",
       "      <td>0.07</td>\n",
       "      <td>False</td>\n",
       "      <td>NaN</td>\n",
       "      <td>NaN</td>\n",
       "      <td>NaN</td>\n",
       "      <td>False</td>\n",
       "      <td>False</td>\n",
       "      <td>False</td>\n",
       "      <td>False</td>\n",
       "      <td>False</td>\n",
       "      <td>False</td>\n",
       "    </tr>\n",
       "    <tr>\n",
       "      <th>4</th>\n",
       "      <td>35528d946791bc45b75ded2a2dbdabfe</td>\n",
       "      <td>3</td>\n",
       "      <td>3</td>\n",
       "      <td>FirstView</td>\n",
       "      <td>Fixed</td>\n",
       "      <td>10722</td>\n",
       "      <td>2821</td>\n",
       "      <td>2</td>\n",
       "      <td>3</td>\n",
       "      <td>2</td>\n",
       "      <td>windows</td>\n",
       "      <td>ie</td>\n",
       "      <td>0.07</td>\n",
       "      <td>False</td>\n",
       "      <td>NaN</td>\n",
       "      <td>NaN</td>\n",
       "      <td>NaN</td>\n",
       "      <td>False</td>\n",
       "      <td>False</td>\n",
       "      <td>False</td>\n",
       "      <td>False</td>\n",
       "      <td>False</td>\n",
       "      <td>False</td>\n",
       "    </tr>\n",
       "  </tbody>\n",
       "</table>\n",
       "</div>"
      ],
      "text/plain": [
       "                             bid_id  region_id  ...  is_girly_cat  click\n",
       "0  9aa9b28f32adfc833634f28bb9703e83        216  ...         False  False\n",
       "1  1ede4e457f5031ec1640dbe1259a4616        216  ...         False  False\n",
       "2  fca79371fc0f67ac6264f558bc664fd6        216  ...         False  False\n",
       "3  7717c608f688ea3b087e292c91604ea5        183  ...         False  False\n",
       "4  35528d946791bc45b75ded2a2dbdabfe          3  ...         False  False\n",
       "\n",
       "[5 rows x 23 columns]"
      ]
     },
     "execution_count": 5,
     "metadata": {},
     "output_type": "execute_result"
    }
   ],
   "source": [
    "train_df.head()"
   ]
  },
  {
   "cell_type": "code",
   "execution_count": 6,
   "metadata": {
    "execution": {
     "iopub.execute_input": "2025-04-27T13:26:57.424852Z",
     "iopub.status.busy": "2025-04-27T13:26:57.424442Z",
     "iopub.status.idle": "2025-04-27T13:26:57.440944Z",
     "shell.execute_reply": "2025-04-27T13:26:57.439774Z",
     "shell.execute_reply.started": "2025-04-27T13:26:57.424825Z"
    },
    "tags": []
   },
   "outputs": [
    {
     "data": {
      "text/plain": [
       "Index(['bid_id', 'region_id', 'city_id', 'ad_slot_visibility',\n",
       "       'ad_slot_format', 'creative_id', 'advertiser_id', 'part_of_day',\n",
       "       'weekday', 'weekend', 'os', 'browser', 'ad_slot_screen_share',\n",
       "       'is_mobile_device', 'is_male', 'is_long_term_interest', 'is_in_market',\n",
       "       'is_info_cat', 'is_products_cat', 'is_service_cat',\n",
       "       'is_entertainment_cat', 'is_girly_cat', 'click'],\n",
       "      dtype='object')"
      ]
     },
     "execution_count": 6,
     "metadata": {},
     "output_type": "execute_result"
    }
   ],
   "source": [
    "train_df.columns"
   ]
  },
  {
   "cell_type": "code",
   "execution_count": 7,
   "metadata": {
    "execution": {
     "iopub.execute_input": "2025-04-27T13:26:57.442673Z",
     "iopub.status.busy": "2025-04-27T13:26:57.442223Z",
     "iopub.status.idle": "2025-04-27T13:26:57.454890Z",
     "shell.execute_reply": "2025-04-27T13:26:57.453595Z",
     "shell.execute_reply.started": "2025-04-27T13:26:57.442649Z"
    }
   },
   "outputs": [],
   "source": [
    "pairs_for_union = [('weekend', 'weekday'), ('city_id', 'weekday'), ('browser','is_male'),\n",
    "                  ('city_id', 'ad_slot_format'), \n",
    "                  ('weekend', 'browser'), ('region_id', 'is_in_market')]"
   ]
  },
  {
   "cell_type": "code",
   "execution_count": 8,
   "metadata": {
    "execution": {
     "iopub.execute_input": "2025-04-27T13:26:57.457412Z",
     "iopub.status.busy": "2025-04-27T13:26:57.456248Z",
     "iopub.status.idle": "2025-04-27T13:28:08.737599Z",
     "shell.execute_reply": "2025-04-27T13:28:08.736711Z",
     "shell.execute_reply.started": "2025-04-27T13:26:57.457380Z"
    },
    "tags": []
   },
   "outputs": [],
   "source": [
    "new_feat_names = []\n",
    "for f1, f2 in pairs_for_union:\n",
    "    new_name = f\"{f1}__{f2}\"\n",
    "    new_feat_names.append(new_name)\n",
    "    for df in [train_df, test_df]:\n",
    "        df[new_name] = df[f1].astype(str) + \"_\" + df[f2].astype(str)"
   ]
  },
  {
   "cell_type": "code",
   "execution_count": 9,
   "metadata": {
    "execution": {
     "iopub.execute_input": "2025-04-27T13:28:08.739769Z",
     "iopub.status.busy": "2025-04-27T13:28:08.739322Z",
     "iopub.status.idle": "2025-04-27T13:28:08.782804Z",
     "shell.execute_reply": "2025-04-27T13:28:08.781972Z",
     "shell.execute_reply.started": "2025-04-27T13:28:08.739746Z"
    },
    "tags": []
   },
   "outputs": [],
   "source": [
    "target_column = 'click'\n",
    "categorical_features = [\n",
    "    'city_id', 'ad_slot_visibility', 'ad_slot_format',\n",
    "    'creative_id', 'advertiser_id', 'part_of_day', 'weekday',\n",
    "    'os', 'browser', 'is_in_market', 'is_male', 'is_mobile_device'\n",
    "] + new_feat_names\n",
    "feature_columns = categorical_features + [\"ad_slot_screen_share\"]"
   ]
  },
  {
   "cell_type": "code",
   "execution_count": 10,
   "metadata": {
    "execution": {
     "iopub.execute_input": "2025-04-27T13:28:08.785540Z",
     "iopub.status.busy": "2025-04-27T13:28:08.785185Z",
     "iopub.status.idle": "2025-04-27T13:28:08.803968Z",
     "shell.execute_reply": "2025-04-27T13:28:08.803125Z",
     "shell.execute_reply.started": "2025-04-27T13:28:08.785520Z"
    },
    "tags": []
   },
   "outputs": [],
   "source": [
    "def prepare_data_ord(df, feature_columns, categorical_features, ord_encoder=None, scaler=None, fit=True):\n",
    "    X_cat = df[categorical_features].astype(str)\n",
    "    X_num = df[[f for f in feature_columns if f not in categorical_features]]\n",
    "    if fit:\n",
    "        ord_encoder = OrdinalEncoder(handle_unknown='use_encoded_value', unknown_value=-1)\n",
    "        scaler = StandardScaler()\n",
    "        X_cat_enc = ord_encoder.fit_transform(X_cat)\n",
    "        X_num_enc = scaler.fit_transform(X_num)\n",
    "    else:\n",
    "        X_cat_enc = ord_encoder.transform(X_cat)\n",
    "        X_num_enc = scaler.transform(X_num)\n",
    "    X = np.hstack([X_cat_enc, X_num_enc])\n",
    "    return X, ord_encoder, scaler"
   ]
  },
  {
   "cell_type": "code",
   "execution_count": 11,
   "metadata": {
    "execution": {
     "iopub.execute_input": "2025-04-27T13:28:08.805133Z",
     "iopub.status.busy": "2025-04-27T13:28:08.804804Z",
     "iopub.status.idle": "2025-04-27T13:28:45.765651Z",
     "shell.execute_reply": "2025-04-27T13:28:45.764690Z",
     "shell.execute_reply.started": "2025-04-27T13:28:08.805112Z"
    },
    "tags": []
   },
   "outputs": [],
   "source": [
    "from sklearn.model_selection import train_test_split\n",
    "train_df, val_df = train_test_split(train_df, test_size=0.2, random_state=42, stratify=train_df[target_column])"
   ]
  },
  {
   "cell_type": "code",
   "execution_count": 12,
   "metadata": {
    "execution": {
     "iopub.execute_input": "2025-04-27T13:28:45.767110Z",
     "iopub.status.busy": "2025-04-27T13:28:45.766697Z",
     "iopub.status.idle": "2025-04-27T13:32:06.921526Z",
     "shell.execute_reply": "2025-04-27T13:32:06.920308Z",
     "shell.execute_reply.started": "2025-04-27T13:28:45.767088Z"
    },
    "tags": []
   },
   "outputs": [],
   "source": [
    "X_train, ord_encoder, scaler = prepare_data_ord(train_df, feature_columns, categorical_features, fit=True)\n",
    "X_val, _, _ = prepare_data_ord(val_df, feature_columns, categorical_features, ord_encoder=ord_encoder, scaler=scaler, fit=False)\n",
    "X_test, _, _ = prepare_data_ord(test_df, feature_columns, categorical_features, ord_encoder=ord_encoder, scaler=scaler, fit=False)\n",
    "y_train = train_df[target_column].values\n",
    "y_val = val_df[target_column].values\n",
    "y_test = test_df[target_column].values"
   ]
  },
  {
   "cell_type": "code",
   "execution_count": 13,
   "metadata": {
    "execution": {
     "iopub.execute_input": "2025-04-27T13:32:06.922854Z",
     "iopub.status.busy": "2025-04-27T13:32:06.922496Z",
     "iopub.status.idle": "2025-04-27T13:32:07.078819Z",
     "shell.execute_reply": "2025-04-27T13:32:07.077866Z",
     "shell.execute_reply.started": "2025-04-27T13:32:06.922833Z"
    },
    "tags": []
   },
   "outputs": [
    {
     "name": "stdout",
     "output_type": "stream",
     "text": [
      "Device: cuda\n"
     ]
    }
   ],
   "source": [
    "device = torch.device('cuda' if torch.cuda.is_available() else 'cpu')\n",
    "print(f'Device: {device}')"
   ]
  },
  {
   "cell_type": "code",
   "execution_count": 14,
   "metadata": {
    "execution": {
     "iopub.execute_input": "2025-04-27T13:32:07.080916Z",
     "iopub.status.busy": "2025-04-27T13:32:07.080322Z",
     "iopub.status.idle": "2025-04-27T13:32:07.788049Z",
     "shell.execute_reply": "2025-04-27T13:32:07.787094Z",
     "shell.execute_reply.started": "2025-04-27T13:32:07.080886Z"
    },
    "tags": []
   },
   "outputs": [],
   "source": [
    "X_train_t = torch.tensor(X_train, dtype=torch.float32).to(device)\n",
    "y_train_t = torch.tensor(y_train, dtype=torch.float32).unsqueeze(1).to(device)\n",
    "X_val_t = torch.tensor(X_val, dtype=torch.float32).to(device)\n",
    "y_val_t = torch.tensor(y_val, dtype=torch.float32).unsqueeze(1).to(device)\n",
    "X_test_t = torch.tensor(X_test, dtype=torch.float32).to(device)\n",
    "y_test_t = torch.tensor(y_test, dtype=torch.float32).unsqueeze(1).to(device)"
   ]
  },
  {
   "cell_type": "code",
   "execution_count": 15,
   "metadata": {
    "execution": {
     "iopub.execute_input": "2025-04-27T13:32:07.789326Z",
     "iopub.status.busy": "2025-04-27T13:32:07.788995Z",
     "iopub.status.idle": "2025-04-27T13:32:07.944822Z",
     "shell.execute_reply": "2025-04-27T13:32:07.943887Z",
     "shell.execute_reply.started": "2025-04-27T13:32:07.789305Z"
    },
    "tags": []
   },
   "outputs": [],
   "source": [
    "n_pos = (y_train_t == 1).sum()\n",
    "n_neg = (y_train_t == 0).sum()\n",
    "pos_weight = torch.tensor([n_neg / n_pos], dtype=torch.float32).to(device)"
   ]
  },
  {
   "cell_type": "markdown",
   "metadata": {
    "tags": []
   },
   "source": [
    "#  WIDE&DEEP-INSPIRED NET"
   ]
  },
  {
   "cell_type": "code",
   "execution_count": 37,
   "metadata": {
    "execution": {
     "iopub.execute_input": "2025-04-27T13:47:11.857368Z",
     "iopub.status.busy": "2025-04-27T13:47:11.856949Z",
     "iopub.status.idle": "2025-04-27T13:47:11.880854Z",
     "shell.execute_reply": "2025-04-27T13:47:11.880063Z",
     "shell.execute_reply.started": "2025-04-27T13:47:11.857347Z"
    },
    "tags": []
   },
   "outputs": [],
   "source": [
    "class WideAndDeepNet(nn.Module):\n",
    "    def __init__(self, input_dim):\n",
    "        super().__init__()\n",
    "        self.deep = nn.Sequential(\n",
    "            nn.Linear(input_dim, 256),\n",
    "            nn.ReLU(),\n",
    "            nn.Linear(256, 64),\n",
    "            nn.ReLU(),\n",
    "        )\n",
    "        self.wide = nn.Identity()\n",
    "        self.output = nn.Linear(64 + input_dim, 1)\n",
    "    def forward(self, x):\n",
    "        deep_out = self.deep(x)\n",
    "        wide_out = self.wide(x)\n",
    "        x_cat = torch.cat([deep_out, wide_out], axis=1)\n",
    "        return self.output(x_cat)\n",
    "\n",
    "widenet = WideAndDeepNet(X_train.shape[1]).to(device)\n",
    "optimizer3 = optim.Adam(widenet.parameters(), lr=0.001)\n",
    "criterion3 = nn.BCEWithLogitsLoss(pos_weight=pos_weight)"
   ]
  },
  {
   "cell_type": "code",
   "execution_count": 38,
   "metadata": {
    "execution": {
     "iopub.execute_input": "2025-04-27T13:47:12.004460Z",
     "iopub.status.busy": "2025-04-27T13:47:12.004117Z",
     "iopub.status.idle": "2025-04-27T13:47:41.146536Z",
     "shell.execute_reply": "2025-04-27T13:47:41.145592Z",
     "shell.execute_reply.started": "2025-04-27T13:47:12.004440Z"
    },
    "tags": []
   },
   "outputs": [
    {
     "name": "stdout",
     "output_type": "stream",
     "text": [
      "Epoch  1, ROC AUC: 0.4738\n",
      "Epoch 11, ROC AUC: 0.4779\n",
      "Epoch 21, ROC AUC: 0.4797\n",
      "Epoch 31, ROC AUC: 0.5124\n",
      "Epoch 41, ROC AUC: 0.5110\n",
      "Epoch 51, ROC AUC: 0.5500\n",
      "Epoch 61, ROC AUC: 0.5796\n",
      "Epoch 71, ROC AUC: 0.6259\n",
      "Epoch 81, ROC AUC: 0.6810\n",
      "Epoch 91, ROC AUC: 0.7137\n"
     ]
    }
   ],
   "source": [
    "for epoch in range(100):\n",
    "    widenet.train()\n",
    "    optimizer3.zero_grad()\n",
    "    output = widenet(X_train_t)\n",
    "    loss = criterion3(output, y_train_t)\n",
    "    loss.backward()\n",
    "    optimizer3.step()\n",
    "    if epoch % 10 != 0:\n",
    "        continue\n",
    "    with torch.no_grad():\n",
    "        preds = torch.sigmoid(widenet(X_test_t)).cpu().numpy()\n",
    "        roc_auc = roc_auc_score(y_test, preds)\n",
    "    print(f\"Epoch {epoch+1:2d}, ROC AUC: {roc_auc:.4f}\")"
   ]
  },
  {
   "cell_type": "code",
   "execution_count": 39,
   "metadata": {
    "execution": {
     "iopub.execute_input": "2025-04-27T13:47:41.148331Z",
     "iopub.status.busy": "2025-04-27T13:47:41.147907Z",
     "iopub.status.idle": "2025-04-27T13:47:42.790357Z",
     "shell.execute_reply": "2025-04-27T13:47:42.789363Z",
     "shell.execute_reply.started": "2025-04-27T13:47:41.148310Z"
    },
    "tags": []
   },
   "outputs": [
    {
     "name": "stdout",
     "output_type": "stream",
     "text": [
      "ROC AUC: 0.7137615393645063\n"
     ]
    }
   ],
   "source": [
    "widenet.eval()\n",
    "with torch.no_grad():\n",
    "    y_pred_wide = torch.sigmoid(widenet(X_test_t)).cpu().numpy()\n",
    "roc_auc = roc_auc_score(y_test, y_pred_wide)\n",
    "print('ROC AUC:', roc_auc)"
   ]
  },
  {
   "cell_type": "code",
   "execution_count": 40,
   "metadata": {
    "execution": {
     "iopub.execute_input": "2025-04-27T13:47:42.791892Z",
     "iopub.status.busy": "2025-04-27T13:47:42.791433Z",
     "iopub.status.idle": "2025-04-27T13:47:43.334305Z",
     "shell.execute_reply": "2025-04-27T13:47:43.333403Z",
     "shell.execute_reply.started": "2025-04-27T13:47:42.791862Z"
    },
    "tags": []
   },
   "outputs": [
    {
     "data": {
      "image/png": "[encoded data removed]",
      "text/plain": [
       "<Figure size 800x600 with 1 Axes>"
      ]
     },
     "metadata": {},
     "output_type": "display_data"
    }
   ],
   "source": [
    "fpr, tpr, thresholds = roc_curve(y_test, y_pred_wide)\n",
    "plt.figure(figsize=(8,6))\n",
    "plt.plot(fpr, tpr, label=f\"ROC AUC = {roc_auc:.4f}\")\n",
    "plt.plot([0,1], [0,1], 'k--')\n",
    "plt.xlabel('FPR')\n",
    "plt.ylabel('TPR')\n",
    "plt.title('ROC-curve (test)')\n",
    "plt.legend()\n",
    "plt.grid()\n",
    "plt.show()"
   ]
  },
  {
   "cell_type": "code",
   "execution_count": 41,
   "metadata": {
    "execution": {
     "iopub.execute_input": "2025-04-27T13:47:43.336213Z",
     "iopub.status.busy": "2025-04-27T13:47:43.335868Z",
     "iopub.status.idle": "2025-04-27T13:47:43.355482Z",
     "shell.execute_reply": "2025-04-27T13:47:43.354686Z",
     "shell.execute_reply.started": "2025-04-27T13:47:43.336193Z"
    },
    "tags": []
   },
   "outputs": [],
   "source": [
    "def permutation_importance(model, X, y, feature_names, device='cpu', n_repeats=2):\n",
    "    baseline = roc_auc_score(y, torch.sigmoid(model(torch.tensor(X, dtype=torch.float32).to(device))).cpu().detach().numpy().squeeze())\n",
    "    importances = []\n",
    "    for i, fname in enumerate(feature_names):\n",
    "        scores = []\n",
    "        for _ in range(n_repeats):\n",
    "            X_perm = X.copy()\n",
    "            idx = np.random.permutation(X.shape[0])\n",
    "            X_perm[:, i] = X_perm[idx, i]\n",
    "            X_perm_t = torch.tensor(X_perm, dtype=torch.float32).to(device)\n",
    "            pred = torch.sigmoid(model(X_perm_t)).cpu().detach().numpy().squeeze()\n",
    "            score = roc_auc_score(y, pred)\n",
    "            scores.append(baseline - score)\n",
    "        importances.append(np.mean(scores))\n",
    "    return pd.Series(importances, index=feature_names).sort_values(ascending=False)"
   ]
  },
  {
   "cell_type": "code",
   "execution_count": 42,
   "metadata": {
    "execution": {
     "iopub.execute_input": "2025-04-27T13:47:43.356657Z",
     "iopub.status.busy": "2025-04-27T13:47:43.356306Z",
     "iopub.status.idle": "2025-04-27T13:48:03.215796Z",
     "shell.execute_reply": "2025-04-27T13:48:03.214864Z",
     "shell.execute_reply.started": "2025-04-27T13:47:43.356638Z"
    },
    "tags": []
   },
   "outputs": [
    {
     "name": "stdout",
     "output_type": "stream",
     "text": [
      "Значимость признаков (по permutation importance на тесте):\n",
      "city_id__ad_slot_format    0.216607\n",
      "city_id__weekday           0.194850\n",
      "city_id                    0.099354\n",
      "region_id__is_in_market    0.065860\n",
      "browser                    0.020680\n",
      "ad_slot_visibility         0.010501\n",
      "advertiser_id              0.006941\n",
      "os                         0.006930\n",
      "weekday                    0.004941\n",
      "weekend__browser           0.004630\n",
      "creative_id                0.003698\n",
      "is_mobile_device           0.001830\n",
      "part_of_day                0.001816\n",
      "is_male                    0.001754\n",
      "ad_slot_format             0.000000\n",
      "ad_slot_screen_share      -0.000171\n",
      "is_in_market              -0.000433\n",
      "browser__is_male          -0.001254\n",
      "weekend__weekday          -0.001320\n",
      "dtype: float64\n"
     ]
    }
   ],
   "source": [
    "feature_list = list(categorical_features) + [f for f in feature_columns if f not in categorical_features]\n",
    "\n",
    "importances = permutation_importance(widenet, X_test, y_test, feature_list, device=device)\n",
    "print(\"Значимость признаков (по permutation importance на тесте):\")\n",
    "print(importances)"
   ]
  },
  {
   "cell_type": "code",
   "execution_count": 43,
   "metadata": {
    "execution": {
     "iopub.execute_input": "2025-04-27T13:48:03.216989Z",
     "iopub.status.busy": "2025-04-27T13:48:03.216657Z",
     "iopub.status.idle": "2025-04-27T13:48:03.448073Z",
     "shell.execute_reply": "2025-04-27T13:48:03.447241Z",
     "shell.execute_reply.started": "2025-04-27T13:48:03.216969Z"
    },
    "tags": []
   },
   "outputs": [
    {
     "data": {
      "image/png": "[encoded data removed]",
      "text/plain": [
       "<Figure size 1200x600 with 1 Axes>"
      ]
     },
     "metadata": {},
     "output_type": "display_data"
    }
   ],
   "source": [
    "importances = importances.sort_values(ascending=False)\n",
    "plt.figure(figsize=(12, 6))\n",
    "plt.barh(importances.index[::-1], importances.values[::-1])\n",
    "plt.xlabel(\"Значимость\")\n",
    "plt.title(\"Значимость признаков (по permutation importance на тесте)\")\n",
    "plt.tight_layout()\n",
    "plt.show()"
   ]
  },
  {
   "cell_type": "code",
   "execution_count": null,
   "metadata": {},
   "outputs": [],
   "source": []
  }
 ],
 "metadata": {
  "kaggle": {
   "accelerator": "nvidiaTeslaT4",
   "dataSources": [
    {
     "datasetId": 7118912,
     "sourceId": 11371631,
     "sourceType": "datasetVersion"
    }
   ],
   "dockerImageVersionId": 31011,
   "isGpuEnabled": true,
   "isInternetEnabled": true,
   "language": "python",
   "sourceType": "notebook"
  },
  "kernelspec": {
   "display_name": "DataSphere Kernel",
   "language": "python",
   "name": "python3"
  },
  "language_info": {
   "codemirror_mode": {
    "name": "ipython",
    "version": 3
   },
   "file_extension": ".py",
   "mimetype": "text/x-python",
   "name": "python",
   "nbconvert_exporter": "python",
   "pygments_lexer": "ipython3",
   "version": "3.10.12"
  }
 },
 "nbformat": 4,
 "nbformat_minor": 4
}
