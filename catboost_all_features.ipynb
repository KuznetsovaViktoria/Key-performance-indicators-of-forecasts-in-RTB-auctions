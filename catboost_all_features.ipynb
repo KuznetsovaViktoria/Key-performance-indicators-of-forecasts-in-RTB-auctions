{
 "cells": [
  {
   "cell_type": "code",
   "execution_count": null,
   "id": "5c5bd8f9-5aa4-4a44-86e7-de798b10beaf",
   "metadata": {
    "execution": {
     "iopub.status.busy": "2025-04-26T21:32:53.218589220Z",
     "iopub.status.idle": "2025-04-26T21:32:53.230790548Z",
     "shell.execute_reply": "2025-04-26T21:32:53.218564077Z"
    },
    "tags": []
   },
   "outputs": [
    {
     "ename": "Unknown instance spec",
     "evalue": "Please select VM configuration",
     "output_type": "error",
     "traceback": []
    }
   ],
   "source": [
    "import pandas as pd\n",
    "from catboost import CatBoostClassifier, Pool\n",
    "from sklearn.metrics import roc_auc_score, roc_curve\n",
    "import matplotlib.pyplot as plt\n"
   ]
  },
  {
   "cell_type": "code",
   "execution_count": 2,
   "id": "a795bda4-0182-45b0-8ce3-e8ccf6ff6b6d",
   "metadata": {
    "execution": {
     "iopub.execute_input": "2025-04-11T12:46:14.868295Z",
     "iopub.status.busy": "2025-04-11T12:46:14.867497Z",
     "iopub.status.idle": "2025-04-11T12:47:03.398696Z",
     "shell.execute_reply": "2025-04-11T12:47:03.398016Z",
     "shell.execute_reply.started": "2025-04-11T12:46:14.868259Z"
    },
    "tags": []
   },
   "outputs": [
    {
     "name": "stderr",
     "output_type": "stream",
     "text": [
      "/tmp/ipykernel_8631/3222708738.py:1: DtypeWarning: Columns (15,16,17) have mixed types. Specify dtype option on import or set low_memory=False.\n",
      "  train_df = pd.read_csv('parsed_final_data_season_3.csv.zip', compression='zip')\n"
     ]
    }
   ],
   "source": [
    "train_df = pd.read_csv('parsed_final_data_season_3.csv.zip', compression='zip')\n",
    "test_df = pd.read_csv('final_test_data_season_3.csv.zip', compression='zip')"
   ]
  },
  {
   "cell_type": "code",
   "execution_count": 3,
   "id": "e6697cf5-aa6e-4880-baf6-209ddabee2d9",
   "metadata": {
    "execution": {
     "iopub.execute_input": "2025-04-11T12:47:03.401110Z",
     "iopub.status.busy": "2025-04-11T12:47:03.400091Z",
     "iopub.status.idle": "2025-04-11T12:47:03.462022Z",
     "shell.execute_reply": "2025-04-11T12:47:03.461276Z",
     "shell.execute_reply.started": "2025-04-11T12:47:03.401084Z"
    }
   },
   "outputs": [
    {
     "data": {
      "text/html": [
       "<div>\n",
       "<style scoped>\n",
       "    .dataframe tbody tr th:only-of-type {\n",
       "        vertical-align: middle;\n",
       "    }\n",
       "\n",
       "    .dataframe tbody tr th {\n",
       "        vertical-align: top;\n",
       "    }\n",
       "\n",
       "    .dataframe thead th {\n",
       "        text-align: right;\n",
       "    }\n",
       "</style>\n",
       "<table border=\"1\" class=\"dataframe\">\n",
       "  <thead>\n",
       "    <tr style=\"text-align: right;\">\n",
       "      <th></th>\n",
       "      <th>Unnamed: 0</th>\n",
       "      <th>bid_id</th>\n",
       "      <th>region_id</th>\n",
       "      <th>city_id</th>\n",
       "      <th>ad_slot_visibility</th>\n",
       "      <th>ad_slot_format</th>\n",
       "      <th>creative_id</th>\n",
       "      <th>advertiser_id</th>\n",
       "      <th>part_of_day</th>\n",
       "      <th>weekday</th>\n",
       "      <th>weekend</th>\n",
       "      <th>os</th>\n",
       "      <th>browser</th>\n",
       "      <th>ad_slot_screen_share</th>\n",
       "      <th>is_mobile_device</th>\n",
       "      <th>is_male</th>\n",
       "      <th>is_long_term_interest</th>\n",
       "      <th>is_in_market</th>\n",
       "      <th>is_info_cat</th>\n",
       "      <th>is_products_cat</th>\n",
       "      <th>is_service_cat</th>\n",
       "      <th>is_entertainment_cat</th>\n",
       "      <th>is_girly_cat</th>\n",
       "      <th>click</th>\n",
       "    </tr>\n",
       "  </thead>\n",
       "  <tbody>\n",
       "    <tr>\n",
       "      <th>0</th>\n",
       "      <td>0</td>\n",
       "      <td>9aa9b28f32adfc833634f28bb9703e83</td>\n",
       "      <td>216</td>\n",
       "      <td>219</td>\n",
       "      <td>Na</td>\n",
       "      <td>Fixed</td>\n",
       "      <td>7321</td>\n",
       "      <td>2259</td>\n",
       "      <td>2</td>\n",
       "      <td>3</td>\n",
       "      <td>2</td>\n",
       "      <td>windows</td>\n",
       "      <td>chrome</td>\n",
       "      <td>0.06</td>\n",
       "      <td>False</td>\n",
       "      <td>NaN</td>\n",
       "      <td>NaN</td>\n",
       "      <td>NaN</td>\n",
       "      <td>False</td>\n",
       "      <td>False</td>\n",
       "      <td>False</td>\n",
       "      <td>False</td>\n",
       "      <td>False</td>\n",
       "      <td>False</td>\n",
       "    </tr>\n",
       "    <tr>\n",
       "      <th>1</th>\n",
       "      <td>1</td>\n",
       "      <td>1ede4e457f5031ec1640dbe1259a4616</td>\n",
       "      <td>216</td>\n",
       "      <td>217</td>\n",
       "      <td>FirstView</td>\n",
       "      <td>Fixed</td>\n",
       "      <td>7321</td>\n",
       "      <td>2259</td>\n",
       "      <td>2</td>\n",
       "      <td>3</td>\n",
       "      <td>2</td>\n",
       "      <td>windows</td>\n",
       "      <td>ie</td>\n",
       "      <td>0.06</td>\n",
       "      <td>False</td>\n",
       "      <td>NaN</td>\n",
       "      <td>NaN</td>\n",
       "      <td>NaN</td>\n",
       "      <td>False</td>\n",
       "      <td>False</td>\n",
       "      <td>False</td>\n",
       "      <td>False</td>\n",
       "      <td>False</td>\n",
       "      <td>False</td>\n",
       "    </tr>\n",
       "    <tr>\n",
       "      <th>2</th>\n",
       "      <td>2</td>\n",
       "      <td>fca79371fc0f67ac6264f558bc664fd6</td>\n",
       "      <td>216</td>\n",
       "      <td>217</td>\n",
       "      <td>Na</td>\n",
       "      <td>Fixed</td>\n",
       "      <td>7323</td>\n",
       "      <td>2259</td>\n",
       "      <td>2</td>\n",
       "      <td>3</td>\n",
       "      <td>2</td>\n",
       "      <td>windows</td>\n",
       "      <td>chrome</td>\n",
       "      <td>0.07</td>\n",
       "      <td>False</td>\n",
       "      <td>NaN</td>\n",
       "      <td>NaN</td>\n",
       "      <td>NaN</td>\n",
       "      <td>False</td>\n",
       "      <td>False</td>\n",
       "      <td>False</td>\n",
       "      <td>False</td>\n",
       "      <td>False</td>\n",
       "      <td>False</td>\n",
       "    </tr>\n",
       "    <tr>\n",
       "      <th>3</th>\n",
       "      <td>3</td>\n",
       "      <td>7717c608f688ea3b087e292c91604ea5</td>\n",
       "      <td>183</td>\n",
       "      <td>184</td>\n",
       "      <td>Na</td>\n",
       "      <td>Fixed</td>\n",
       "      <td>10722</td>\n",
       "      <td>2821</td>\n",
       "      <td>2</td>\n",
       "      <td>3</td>\n",
       "      <td>2</td>\n",
       "      <td>windows</td>\n",
       "      <td>ie</td>\n",
       "      <td>0.07</td>\n",
       "      <td>False</td>\n",
       "      <td>NaN</td>\n",
       "      <td>NaN</td>\n",
       "      <td>NaN</td>\n",
       "      <td>False</td>\n",
       "      <td>False</td>\n",
       "      <td>False</td>\n",
       "      <td>False</td>\n",
       "      <td>False</td>\n",
       "      <td>False</td>\n",
       "    </tr>\n",
       "    <tr>\n",
       "      <th>4</th>\n",
       "      <td>4</td>\n",
       "      <td>35528d946791bc45b75ded2a2dbdabfe</td>\n",
       "      <td>3</td>\n",
       "      <td>3</td>\n",
       "      <td>FirstView</td>\n",
       "      <td>Fixed</td>\n",
       "      <td>10722</td>\n",
       "      <td>2821</td>\n",
       "      <td>2</td>\n",
       "      <td>3</td>\n",
       "      <td>2</td>\n",
       "      <td>windows</td>\n",
       "      <td>ie</td>\n",
       "      <td>0.07</td>\n",
       "      <td>False</td>\n",
       "      <td>NaN</td>\n",
       "      <td>NaN</td>\n",
       "      <td>NaN</td>\n",
       "      <td>False</td>\n",
       "      <td>False</td>\n",
       "      <td>False</td>\n",
       "      <td>False</td>\n",
       "      <td>False</td>\n",
       "      <td>False</td>\n",
       "    </tr>\n",
       "  </tbody>\n",
       "</table>\n",
       "</div>"
      ],
      "text/plain": [
       "   Unnamed: 0                            bid_id  ...  is_girly_cat  click\n",
       "0           0  9aa9b28f32adfc833634f28bb9703e83  ...         False  False\n",
       "1           1  1ede4e457f5031ec1640dbe1259a4616  ...         False  False\n",
       "2           2  fca79371fc0f67ac6264f558bc664fd6  ...         False  False\n",
       "3           3  7717c608f688ea3b087e292c91604ea5  ...         False  False\n",
       "4           4  35528d946791bc45b75ded2a2dbdabfe  ...         False  False\n",
       "\n",
       "[5 rows x 24 columns]"
      ]
     },
     "execution_count": 3,
     "metadata": {},
     "output_type": "execute_result"
    }
   ],
   "source": [
    "train_df.head()"
   ]
  },
  {
   "cell_type": "code",
   "execution_count": 4,
   "id": "18190426-287d-4875-88a0-f0683cbe5f23",
   "metadata": {
    "execution": {
     "iopub.execute_input": "2025-04-11T12:47:03.463834Z",
     "iopub.status.busy": "2025-04-11T12:47:03.462855Z",
     "iopub.status.idle": "2025-04-11T12:47:03.493230Z",
     "shell.execute_reply": "2025-04-11T12:47:03.492561Z",
     "shell.execute_reply.started": "2025-04-11T12:47:03.463801Z"
    },
    "tags": []
   },
   "outputs": [
    {
     "data": {
      "text/plain": [
       "Index(['Unnamed: 0', 'bid_id', 'region_id', 'city_id', 'ad_slot_visibility',\n",
       "       'ad_slot_format', 'creative_id', 'advertiser_id', 'part_of_day',\n",
       "       'weekday', 'weekend', 'os', 'browser', 'ad_slot_screen_share',\n",
       "       'is_mobile_device', 'is_male', 'is_long_term_interest', 'is_in_market',\n",
       "       'is_info_cat', 'is_products_cat', 'is_service_cat',\n",
       "       'is_entertainment_cat', 'is_girly_cat', 'click'],\n",
       "      dtype='object')"
      ]
     },
     "execution_count": 4,
     "metadata": {},
     "output_type": "execute_result"
    }
   ],
   "source": [
    "train_df.columns"
   ]
  },
  {
   "cell_type": "code",
   "execution_count": 5,
   "id": "b02e89f0-304e-4627-9298-b25e62ce9e50",
   "metadata": {
    "execution": {
     "iopub.execute_input": "2025-04-11T12:47:03.495500Z",
     "iopub.status.busy": "2025-04-11T12:47:03.494824Z",
     "iopub.status.idle": "2025-04-11T12:47:03.608696Z",
     "shell.execute_reply": "2025-04-11T12:47:03.607952Z",
     "shell.execute_reply.started": "2025-04-11T12:47:03.495476Z"
    },
    "tags": []
   },
   "outputs": [
    {
     "data": {
      "text/plain": [
       "array([False,  True])"
      ]
     },
     "execution_count": 5,
     "metadata": {},
     "output_type": "execute_result"
    }
   ],
   "source": [
    "pd.unique(train_df['click'])"
   ]
  },
  {
   "cell_type": "code",
   "execution_count": 6,
   "id": "c4defebb-d4c9-4cac-8c2a-54c155ae1762",
   "metadata": {
    "execution": {
     "iopub.execute_input": "2025-04-11T12:47:03.610328Z",
     "iopub.status.busy": "2025-04-11T12:47:03.609528Z",
     "iopub.status.idle": "2025-04-11T12:47:04.229782Z",
     "shell.execute_reply": "2025-04-11T12:47:04.229107Z",
     "shell.execute_reply.started": "2025-04-11T12:47:03.610300Z"
    },
    "tags": []
   },
   "outputs": [
    {
     "data": {
      "text/plain": [
       "array([nan, False, True], dtype=object)"
      ]
     },
     "execution_count": 6,
     "metadata": {},
     "output_type": "execute_result"
    }
   ],
   "source": [
    "pd.unique(train_df['is_male'])"
   ]
  },
  {
   "cell_type": "code",
   "execution_count": 7,
   "id": "c1e32516-e3f7-4fe2-b356-06d474abd11b",
   "metadata": {
    "execution": {
     "iopub.execute_input": "2025-04-11T12:47:04.231734Z",
     "iopub.status.busy": "2025-04-11T12:47:04.230712Z",
     "iopub.status.idle": "2025-04-11T12:47:04.247376Z",
     "shell.execute_reply": "2025-04-11T12:47:04.246536Z",
     "shell.execute_reply.started": "2025-04-11T12:47:04.231695Z"
    }
   },
   "outputs": [
    {
     "data": {
      "text/plain": [
       "Index(['Unnamed: 0', 'bid_id', 'region_id', 'city_id', 'ad_slot_visibility',\n",
       "       'ad_slot_format', 'creative_id', 'advertiser_id', 'click',\n",
       "       'part_of_day', 'weekday', 'weekend', 'os', 'browser',\n",
       "       'ad_slot_screen_share', 'is_mobile_device', 'is_male',\n",
       "       'is_long_term_interest', 'is_in_market', 'is_info_cat',\n",
       "       'is_products_cat', 'is_service_cat', 'is_entertainment_cat',\n",
       "       'is_girly_cat'],\n",
       "      dtype='object')"
      ]
     },
     "execution_count": 7,
     "metadata": {},
     "output_type": "execute_result"
    }
   ],
   "source": [
    "test_df.columns"
   ]
  },
  {
   "cell_type": "code",
   "execution_count": 8,
   "id": "6caa7edf-de2d-4d43-983e-c4caf50c082f",
   "metadata": {
    "execution": {
     "iopub.execute_input": "2025-04-11T12:47:04.249426Z",
     "iopub.status.busy": "2025-04-11T12:47:04.248389Z",
     "iopub.status.idle": "2025-04-11T12:47:04.283522Z",
     "shell.execute_reply": "2025-04-11T12:47:04.282794Z",
     "shell.execute_reply.started": "2025-04-11T12:47:04.249390Z"
    }
   },
   "outputs": [
    {
     "data": {
      "text/plain": [
       "array([False,  True])"
      ]
     },
     "execution_count": 8,
     "metadata": {},
     "output_type": "execute_result"
    }
   ],
   "source": [
    "pd.unique(test_df['click'])"
   ]
  },
  {
   "cell_type": "code",
   "execution_count": 9,
   "id": "168d3c23-c4b4-451a-88dd-71a8eb3faa97",
   "metadata": {
    "execution": {
     "iopub.execute_input": "2025-04-11T12:47:04.285150Z",
     "iopub.status.busy": "2025-04-11T12:47:04.284384Z",
     "iopub.status.idle": "2025-04-11T12:47:06.198997Z",
     "shell.execute_reply": "2025-04-11T12:47:06.198346Z",
     "shell.execute_reply.started": "2025-04-11T12:47:04.285113Z"
    }
   },
   "outputs": [],
   "source": [
    "train_df = train_df.drop('Unnamed: 0', axis=1)\n",
    "test_df = test_df.drop('Unnamed: 0', axis=1)"
   ]
  },
  {
   "cell_type": "code",
   "execution_count": 19,
   "id": "7f71e99a-585d-4c4e-87d0-11a048318f3d",
   "metadata": {
    "execution": {
     "iopub.execute_input": "2025-04-11T12:49:18.995285Z",
     "iopub.status.busy": "2025-04-11T12:49:18.994408Z",
     "iopub.status.idle": "2025-04-11T12:49:19.028815Z",
     "shell.execute_reply": "2025-04-11T12:49:19.028129Z",
     "shell.execute_reply.started": "2025-04-11T12:49:18.995249Z"
    },
    "tags": []
   },
   "outputs": [],
   "source": [
    "target_column = 'click'\n",
    "feature_columns = train_df.columns.difference([target_column, 'bid_id'])\n",
    "categorical_features = ['region_id', 'city_id', 'ad_slot_visibility',\n",
    "       'ad_slot_format', 'creative_id', 'advertiser_id', 'part_of_day',\n",
    "       'weekday', 'weekend', 'os', 'browser',\n",
    "       'is_mobile_device', 'is_male', 'is_long_term_interest', 'is_in_market',\n",
    "       'is_info_cat', 'is_products_cat', 'is_service_cat',\n",
    "       'is_entertainment_cat', 'is_girly_cat']"
   ]
  },
  {
   "cell_type": "code",
   "execution_count": 11,
   "id": "a2590655-6d7b-44e2-adf1-f81fcbe67909",
   "metadata": {
    "execution": {
     "iopub.execute_input": "2025-04-11T12:47:06.234158Z",
     "iopub.status.busy": "2025-04-11T12:47:06.233466Z",
     "iopub.status.idle": "2025-04-11T12:47:21.701561Z",
     "shell.execute_reply": "2025-04-11T12:47:21.700862Z",
     "shell.execute_reply.started": "2025-04-11T12:47:06.234124Z"
    },
    "tags": []
   },
   "outputs": [
    {
     "data": {
      "text/plain": [
       "bid_id                         0\n",
       "region_id                      0\n",
       "city_id                        0\n",
       "ad_slot_visibility             0\n",
       "ad_slot_format                 0\n",
       "creative_id                    0\n",
       "advertiser_id                  0\n",
       "part_of_day                    0\n",
       "weekday                        0\n",
       "weekend                        0\n",
       "os                             0\n",
       "browser                        0\n",
       "ad_slot_screen_share           0\n",
       "is_mobile_device               0\n",
       "is_male                  8325108\n",
       "is_long_term_interest    8325108\n",
       "is_in_market             8325108\n",
       "is_info_cat                    0\n",
       "is_products_cat                0\n",
       "is_service_cat                 0\n",
       "is_entertainment_cat           0\n",
       "is_girly_cat                   0\n",
       "click                          0\n",
       "dtype: int64"
      ]
     },
     "execution_count": 11,
     "metadata": {},
     "output_type": "execute_result"
    }
   ],
   "source": [
    "train_df.isna().sum()"
   ]
  },
  {
   "cell_type": "code",
   "execution_count": 12,
   "id": "494f9fee-d0af-4180-8c34-79fae335c526",
   "metadata": {
    "execution": {
     "iopub.execute_input": "2025-04-11T12:47:21.703200Z",
     "iopub.status.busy": "2025-04-11T12:47:21.702413Z",
     "iopub.status.idle": "2025-04-11T12:47:21.725619Z",
     "shell.execute_reply": "2025-04-11T12:47:21.724955Z",
     "shell.execute_reply.started": "2025-04-11T12:47:21.703162Z"
    }
   },
   "outputs": [
    {
     "data": {
      "text/plain": [
       "21341595"
      ]
     },
     "execution_count": 12,
     "metadata": {},
     "output_type": "execute_result"
    }
   ],
   "source": [
    "len(train_df)"
   ]
  },
  {
   "cell_type": "code",
   "execution_count": 13,
   "id": "d09d3f3a-645c-49bc-b647-87d5f0be1b8a",
   "metadata": {
    "execution": {
     "iopub.execute_input": "2025-04-11T12:47:21.727588Z",
     "iopub.status.busy": "2025-04-11T12:47:21.726619Z",
     "iopub.status.idle": "2025-04-11T12:47:40.593448Z",
     "shell.execute_reply": "2025-04-11T12:47:40.592761Z",
     "shell.execute_reply.started": "2025-04-11T12:47:21.727552Z"
    },
    "tags": []
   },
   "outputs": [],
   "source": [
    "train_df = train_df.fillna(value=False)"
   ]
  },
  {
   "cell_type": "code",
   "execution_count": 14,
   "id": "a36b6d1b-3a55-4907-ba04-e2cac7422db7",
   "metadata": {
    "execution": {
     "iopub.execute_input": "2025-04-11T12:47:40.595055Z",
     "iopub.status.busy": "2025-04-11T12:47:40.594275Z",
     "iopub.status.idle": "2025-04-11T12:47:50.370295Z",
     "shell.execute_reply": "2025-04-11T12:47:50.369682Z",
     "shell.execute_reply.started": "2025-04-11T12:47:40.595014Z"
    }
   },
   "outputs": [
    {
     "data": {
      "text/plain": [
       "bid_id                   0\n",
       "region_id                0\n",
       "city_id                  0\n",
       "ad_slot_visibility       0\n",
       "ad_slot_format           0\n",
       "creative_id              0\n",
       "advertiser_id            0\n",
       "part_of_day              0\n",
       "weekday                  0\n",
       "weekend                  0\n",
       "os                       0\n",
       "browser                  0\n",
       "ad_slot_screen_share     0\n",
       "is_mobile_device         0\n",
       "is_male                  0\n",
       "is_long_term_interest    0\n",
       "is_in_market             0\n",
       "is_info_cat              0\n",
       "is_products_cat          0\n",
       "is_service_cat           0\n",
       "is_entertainment_cat     0\n",
       "is_girly_cat             0\n",
       "click                    0\n",
       "dtype: int64"
      ]
     },
     "execution_count": 14,
     "metadata": {},
     "output_type": "execute_result"
    }
   ],
   "source": [
    "train_df.isna().sum()"
   ]
  },
  {
   "cell_type": "code",
   "execution_count": 15,
   "id": "62a3b6a6-d8f6-43b0-8019-3e2bab3cf7e2",
   "metadata": {
    "execution": {
     "iopub.execute_input": "2025-04-11T12:47:50.372193Z",
     "iopub.status.busy": "2025-04-11T12:47:50.371154Z",
     "iopub.status.idle": "2025-04-11T12:47:51.098697Z",
     "shell.execute_reply": "2025-04-11T12:47:51.098034Z",
     "shell.execute_reply.started": "2025-04-11T12:47:50.372163Z"
    },
    "tags": []
   },
   "outputs": [
    {
     "data": {
      "text/plain": [
       "bid_id                   0\n",
       "region_id                0\n",
       "city_id                  0\n",
       "ad_slot_visibility       0\n",
       "ad_slot_format           0\n",
       "creative_id              0\n",
       "advertiser_id            0\n",
       "click                    0\n",
       "part_of_day              0\n",
       "weekday                  0\n",
       "weekend                  0\n",
       "os                       0\n",
       "browser                  0\n",
       "ad_slot_screen_share     0\n",
       "is_mobile_device         0\n",
       "is_male                  0\n",
       "is_long_term_interest    0\n",
       "is_in_market             0\n",
       "is_info_cat              0\n",
       "is_products_cat          0\n",
       "is_service_cat           0\n",
       "is_entertainment_cat     0\n",
       "is_girly_cat             0\n",
       "dtype: int64"
      ]
     },
     "execution_count": 15,
     "metadata": {},
     "output_type": "execute_result"
    }
   ],
   "source": [
    "test_df.isna().sum()"
   ]
  },
  {
   "cell_type": "code",
   "execution_count": 16,
   "id": "16e0f190-d0c6-47c2-a1b8-e8b2d7365fed",
   "metadata": {
    "execution": {
     "iopub.execute_input": "2025-04-11T12:47:51.100153Z",
     "iopub.status.busy": "2025-04-11T12:47:51.099533Z",
     "iopub.status.idle": "2025-04-11T12:47:51.112021Z",
     "shell.execute_reply": "2025-04-11T12:47:51.111461Z",
     "shell.execute_reply.started": "2025-04-11T12:47:51.100130Z"
    }
   },
   "outputs": [
    {
     "data": {
      "text/plain": [
       "bid_id                    object\n",
       "region_id                  int64\n",
       "city_id                    int64\n",
       "ad_slot_visibility        object\n",
       "ad_slot_format            object\n",
       "creative_id                int64\n",
       "advertiser_id              int64\n",
       "part_of_day                int64\n",
       "weekday                    int64\n",
       "weekend                    int64\n",
       "os                        object\n",
       "browser                   object\n",
       "ad_slot_screen_share     float64\n",
       "is_mobile_device            bool\n",
       "is_male                     bool\n",
       "is_long_term_interest       bool\n",
       "is_in_market                bool\n",
       "is_info_cat                 bool\n",
       "is_products_cat             bool\n",
       "is_service_cat              bool\n",
       "is_entertainment_cat        bool\n",
       "is_girly_cat                bool\n",
       "click                       bool\n",
       "dtype: object"
      ]
     },
     "execution_count": 16,
     "metadata": {},
     "output_type": "execute_result"
    }
   ],
   "source": [
    "train_df.dtypes"
   ]
  },
  {
   "cell_type": "code",
   "execution_count": 17,
   "id": "a7075efc-4444-47c4-9df3-5dc9026b6ff7",
   "metadata": {
    "execution": {
     "iopub.execute_input": "2025-04-11T12:47:51.113286Z",
     "iopub.status.busy": "2025-04-11T12:47:51.112878Z",
     "iopub.status.idle": "2025-04-11T12:48:05.004099Z",
     "shell.execute_reply": "2025-04-11T12:48:05.003377Z",
     "shell.execute_reply.started": "2025-04-11T12:47:51.113256Z"
    },
    "tags": []
   },
   "outputs": [],
   "source": [
    "from sklearn.model_selection import train_test_split\n",
    "train_df, val_df = train_test_split(train_df, test_size=0.2, random_state=42, stratify=train_df[target_column])\n"
   ]
  },
  {
   "cell_type": "code",
   "execution_count": 20,
   "id": "5c4cdc00-f242-4e0e-806d-fd4564883958",
   "metadata": {
    "execution": {
     "iopub.execute_input": "2025-04-11T12:49:21.995456Z",
     "iopub.status.busy": "2025-04-11T12:49:21.994546Z",
     "iopub.status.idle": "2025-04-11T12:54:31.511264Z",
     "shell.execute_reply": "2025-04-11T12:54:31.510523Z",
     "shell.execute_reply.started": "2025-04-11T12:49:21.995426Z"
    },
    "tags": []
   },
   "outputs": [],
   "source": [
    "train_pool = Pool(data=train_df[feature_columns],\n",
    "                  label=train_df[target_column],\n",
    "                  cat_features=categorical_features)"
   ]
  },
  {
   "cell_type": "code",
   "execution_count": 21,
   "id": "5958c2ee-8980-4495-b505-8fde53290f30",
   "metadata": {
    "execution": {
     "iopub.execute_input": "2025-04-11T12:54:31.513209Z",
     "iopub.status.busy": "2025-04-11T12:54:31.512469Z",
     "iopub.status.idle": "2025-04-11T12:55:00.051233Z",
     "shell.execute_reply": "2025-04-11T12:55:00.050528Z",
     "shell.execute_reply.started": "2025-04-11T12:54:31.513178Z"
    },
    "tags": []
   },
   "outputs": [],
   "source": [
    "test_pool = Pool(data=test_df[feature_columns],\n",
    "                 label=test_df[target_column],\n",
    "                 cat_features=categorical_features)"
   ]
  },
  {
   "cell_type": "code",
   "execution_count": 23,
   "id": "569ef693-5cff-4fc5-b276-fcd687cbf1b1",
   "metadata": {
    "execution": {
     "iopub.execute_input": "2025-04-11T12:55:13.408754Z",
     "iopub.status.busy": "2025-04-11T12:55:13.407904Z",
     "iopub.status.idle": "2025-04-11T12:56:30.371846Z",
     "shell.execute_reply": "2025-04-11T12:56:30.371194Z",
     "shell.execute_reply.started": "2025-04-11T12:55:13.408726Z"
    },
    "tags": []
   },
   "outputs": [],
   "source": [
    "val_pool = Pool(data=val_df[feature_columns],\n",
    "                 label=val_df[target_column],\n",
    "                 cat_features=categorical_features)"
   ]
  },
  {
   "cell_type": "code",
   "execution_count": 24,
   "id": "10a6e444-ec6b-42c1-87f6-3c26718077f3",
   "metadata": {
    "execution": {
     "iopub.execute_input": "2025-04-11T12:56:30.373851Z",
     "iopub.status.busy": "2025-04-11T12:56:30.373211Z",
     "iopub.status.idle": "2025-04-11T12:56:30.490943Z",
     "shell.execute_reply": "2025-04-11T12:56:30.490133Z",
     "shell.execute_reply.started": "2025-04-11T12:56:30.373828Z"
    },
    "tags": []
   },
   "outputs": [
    {
     "data": {
      "text/plain": [
       "False    17063938\n",
       "True         9338\n",
       "Name: click, dtype: int64"
      ]
     },
     "execution_count": 24,
     "metadata": {},
     "output_type": "execute_result"
    }
   ],
   "source": [
    "class_counts = train_df[target_column].value_counts()\n",
    "class_counts"
   ]
  },
  {
   "cell_type": "code",
   "execution_count": 25,
   "id": "ab2d5236-8e62-42ed-9594-9e3b6f56657a",
   "metadata": {
    "execution": {
     "iopub.execute_input": "2025-04-11T12:56:30.492372Z",
     "iopub.status.busy": "2025-04-11T12:56:30.491765Z",
     "iopub.status.idle": "2025-04-11T12:56:30.510720Z",
     "shell.execute_reply": "2025-04-11T12:56:30.510130Z",
     "shell.execute_reply.started": "2025-04-11T12:56:30.492340Z"
    },
    "tags": []
   },
   "outputs": [
    {
     "data": {
      "text/plain": [
       "17063938"
      ]
     },
     "execution_count": 25,
     "metadata": {},
     "output_type": "execute_result"
    }
   ],
   "source": [
    "class_0_count = class_counts.get(0, 1)\n",
    "class_1_count = class_counts.get(1, 1)\n",
    "class_0_count"
   ]
  },
  {
   "cell_type": "code",
   "execution_count": 26,
   "id": "8f193f8c-536f-44b2-b7ca-9a065b325070",
   "metadata": {
    "execution": {
     "iopub.execute_input": "2025-04-11T12:56:30.512942Z",
     "iopub.status.busy": "2025-04-11T12:56:30.512525Z",
     "iopub.status.idle": "2025-04-11T12:56:30.531391Z",
     "shell.execute_reply": "2025-04-11T12:56:30.530840Z",
     "shell.execute_reply.started": "2025-04-11T12:56:30.512920Z"
    },
    "tags": []
   },
   "outputs": [],
   "source": [
    "total_count = class_0_count + class_1_count\n",
    "class_weights = [total_count / class_0_count, total_count / class_1_count]\n",
    "\n",
    "model = CatBoostClassifier(iterations=300, \n",
    "                           learning_rate=0.01, \n",
    "                           depth=4, \n",
    "                           task_type='GPU',\n",
    "                           loss_function='Logloss',\n",
    "                           class_weights=class_weights,\n",
    "                           eval_metric='AUC',\n",
    "                           verbose=100,\n",
    "                           l2_leaf_reg=3)"
   ]
  },
  {
   "cell_type": "code",
   "execution_count": 27,
   "id": "c6e72f92-38ef-41b1-9bfe-f52346261b74",
   "metadata": {
    "execution": {
     "iopub.execute_input": "2025-04-11T12:56:30.532840Z",
     "iopub.status.busy": "2025-04-11T12:56:30.532080Z",
     "iopub.status.idle": "2025-04-11T13:05:09.155300Z",
     "shell.execute_reply": "2025-04-11T13:05:09.154516Z",
     "shell.execute_reply.started": "2025-04-11T12:56:30.532810Z"
    },
    "tags": []
   },
   "outputs": [
    {
     "name": "stderr",
     "output_type": "stream",
     "text": [
      "Default metric period is 5 because AUC is/are not implemented for GPU\n"
     ]
    },
    {
     "name": "stdout",
     "output_type": "stream",
     "text": [
      "0:\ttest: 0.8069348\tbest: 0.8069348 (0)\ttotal: 1.98s\tremaining: 9m 52s\n",
      "1:\ttotal: 3.4s\tremaining: 8m 26s\n",
      "2:\ttotal: 4.82s\tremaining: 7m 56s\n",
      "3:\ttotal: 6.23s\tremaining: 7m 41s\n",
      "4:\ttotal: 7.64s\tremaining: 7m 30s\n",
      "5:\ttest: 0.8323829\tbest: 0.8329069 (4)\ttotal: 9.06s\tremaining: 7m 23s\n",
      "6:\ttotal: 10.4s\tremaining: 7m 16s\n",
      "7:\ttotal: 11.8s\tremaining: 7m 12s\n",
      "8:\ttotal: 13.1s\tremaining: 7m 3s\n",
      "9:\ttotal: 14.5s\tremaining: 6m 59s\n",
      "10:\ttest: 0.8367909\tbest: 0.8367909 (10)\ttotal: 15.9s\tremaining: 6m 58s\n",
      "11:\ttotal: 17.3s\tremaining: 6m 56s\n",
      "12:\ttotal: 18.9s\tremaining: 6m 56s\n",
      "13:\ttotal: 20.3s\tremaining: 6m 53s\n",
      "14:\ttotal: 21.7s\tremaining: 6m 52s\n",
      "15:\ttest: 0.8392694\tbest: 0.8392694 (15)\ttotal: 23.2s\tremaining: 6m 51s\n",
      "16:\ttotal: 24.6s\tremaining: 6m 49s\n",
      "17:\ttotal: 26s\tremaining: 6m 47s\n",
      "18:\ttotal: 27.4s\tremaining: 6m 45s\n",
      "19:\ttotal: 28.8s\tremaining: 6m 42s\n",
      "20:\ttest: 0.8427497\tbest: 0.8430165 (17)\ttotal: 30.2s\tremaining: 6m 41s\n",
      "21:\ttotal: 31.4s\tremaining: 6m 37s\n",
      "22:\ttotal: 32.8s\tremaining: 6m 35s\n",
      "23:\ttotal: 34.1s\tremaining: 6m 31s\n",
      "24:\ttotal: 35.5s\tremaining: 6m 30s\n",
      "25:\ttest: 0.8428625\tbest: 0.8430165 (17)\ttotal: 36.9s\tremaining: 6m 28s\n",
      "26:\ttotal: 38.3s\tremaining: 6m 27s\n",
      "27:\ttotal: 39.7s\tremaining: 6m 26s\n",
      "28:\ttotal: 41.2s\tremaining: 6m 25s\n",
      "29:\ttotal: 42.7s\tremaining: 6m 24s\n",
      "30:\ttest: 0.8435852\tbest: 0.8435852 (30)\ttotal: 44.1s\tremaining: 6m 22s\n",
      "31:\ttotal: 45.4s\tremaining: 6m 19s\n",
      "32:\ttotal: 46.8s\tremaining: 6m 18s\n",
      "33:\ttotal: 48.3s\tremaining: 6m 17s\n",
      "34:\ttotal: 49.6s\tremaining: 6m 15s\n",
      "35:\ttest: 0.8460438\tbest: 0.8461496 (34)\ttotal: 50.9s\tremaining: 6m 13s\n",
      "36:\ttotal: 52.2s\tremaining: 6m 11s\n",
      "37:\ttotal: 53.5s\tremaining: 6m 9s\n",
      "38:\ttotal: 54.8s\tremaining: 6m 6s\n",
      "39:\ttotal: 56.3s\tremaining: 6m 5s\n",
      "40:\ttest: 0.8471130\tbest: 0.8471130 (40)\ttotal: 57.7s\tremaining: 6m 4s\n",
      "41:\ttotal: 59.4s\tremaining: 6m 5s\n",
      "42:\ttotal: 1m\tremaining: 6m 1s\n",
      "43:\ttotal: 1m 1s\tremaining: 5m 59s\n",
      "44:\ttotal: 1m 3s\tremaining: 5m 59s\n",
      "45:\ttest: 0.8486370\tbest: 0.8486611 (44)\ttotal: 1m 4s\tremaining: 5m 58s\n",
      "46:\ttotal: 1m 6s\tremaining: 5m 56s\n",
      "47:\ttotal: 1m 7s\tremaining: 5m 54s\n",
      "48:\ttotal: 1m 9s\tremaining: 5m 53s\n",
      "49:\ttotal: 1m 10s\tremaining: 5m 52s\n",
      "50:\ttest: 0.8490255\tbest: 0.8490892 (49)\ttotal: 1m 11s\tremaining: 5m 50s\n",
      "51:\ttotal: 1m 13s\tremaining: 5m 49s\n",
      "52:\ttotal: 1m 14s\tremaining: 5m 48s\n",
      "53:\ttotal: 1m 16s\tremaining: 5m 47s\n",
      "54:\ttotal: 1m 17s\tremaining: 5m 45s\n",
      "55:\ttest: 0.8496468\tbest: 0.8497537 (54)\ttotal: 1m 19s\tremaining: 5m 45s\n",
      "56:\ttotal: 1m 20s\tremaining: 5m 44s\n",
      "57:\ttotal: 1m 22s\tremaining: 5m 43s\n",
      "58:\ttotal: 1m 23s\tremaining: 5m 42s\n",
      "59:\ttotal: 1m 25s\tremaining: 5m 41s\n",
      "60:\ttest: 0.8499304\tbest: 0.8500464 (59)\ttotal: 1m 26s\tremaining: 5m 40s\n",
      "61:\ttotal: 1m 28s\tremaining: 5m 39s\n",
      "62:\ttotal: 1m 29s\tremaining: 5m 38s\n",
      "63:\ttotal: 1m 31s\tremaining: 5m 37s\n",
      "64:\ttotal: 1m 33s\tremaining: 5m 36s\n",
      "65:\ttest: 0.8512160\tbest: 0.8512160 (65)\ttotal: 1m 34s\tremaining: 5m 36s\n",
      "66:\ttotal: 1m 36s\tremaining: 5m 35s\n",
      "67:\ttotal: 1m 38s\tremaining: 5m 34s\n",
      "68:\ttotal: 1m 39s\tremaining: 5m 33s\n",
      "69:\ttotal: 1m 41s\tremaining: 5m 32s\n",
      "70:\ttest: 0.8512675\tbest: 0.8512675 (70)\ttotal: 1m 42s\tremaining: 5m 31s\n",
      "71:\ttotal: 1m 44s\tremaining: 5m 31s\n",
      "72:\ttotal: 1m 46s\tremaining: 5m 29s\n",
      "73:\ttotal: 1m 47s\tremaining: 5m 28s\n",
      "74:\ttotal: 1m 49s\tremaining: 5m 27s\n",
      "75:\ttest: 0.8521374\tbest: 0.8521374 (75)\ttotal: 1m 50s\tremaining: 5m 27s\n",
      "76:\ttotal: 1m 52s\tremaining: 5m 26s\n",
      "77:\ttotal: 1m 53s\tremaining: 5m 24s\n",
      "78:\ttotal: 1m 55s\tremaining: 5m 23s\n",
      "79:\ttotal: 1m 57s\tremaining: 5m 22s\n",
      "80:\ttest: 0.8527069\tbest: 0.8527069 (80)\ttotal: 1m 58s\tremaining: 5m 21s\n",
      "81:\ttotal: 2m\tremaining: 5m 20s\n",
      "82:\ttotal: 2m 2s\tremaining: 5m 19s\n",
      "83:\ttotal: 2m 3s\tremaining: 5m 18s\n",
      "84:\ttotal: 2m 5s\tremaining: 5m 16s\n",
      "85:\ttest: 0.8545477\tbest: 0.8545477 (85)\ttotal: 2m 7s\tremaining: 5m 16s\n",
      "86:\ttotal: 2m 8s\tremaining: 5m 15s\n",
      "87:\ttotal: 2m 9s\tremaining: 5m 13s\n",
      "88:\ttotal: 2m 11s\tremaining: 5m 11s\n",
      "89:\ttotal: 2m 13s\tremaining: 5m 10s\n",
      "90:\ttest: 0.8550789\tbest: 0.8550789 (90)\ttotal: 2m 14s\tremaining: 5m 9s\n",
      "91:\ttotal: 2m 16s\tremaining: 5m 7s\n",
      "92:\ttotal: 2m 17s\tremaining: 5m 6s\n",
      "93:\ttotal: 2m 19s\tremaining: 5m 5s\n",
      "94:\ttotal: 2m 21s\tremaining: 5m 4s\n",
      "95:\ttest: 0.8560886\tbest: 0.8560886 (95)\ttotal: 2m 22s\tremaining: 5m 3s\n",
      "96:\ttotal: 2m 24s\tremaining: 5m 2s\n",
      "97:\ttotal: 2m 25s\tremaining: 4m 59s\n",
      "98:\ttotal: 2m 26s\tremaining: 4m 58s\n",
      "99:\ttotal: 2m 28s\tremaining: 4m 57s\n",
      "100:\ttest: 0.8579427\tbest: 0.8579427 (100)\ttotal: 2m 30s\tremaining: 4m 56s\n",
      "101:\ttotal: 2m 32s\tremaining: 4m 55s\n",
      "102:\ttotal: 2m 33s\tremaining: 4m 53s\n",
      "103:\ttotal: 2m 35s\tremaining: 4m 52s\n",
      "104:\ttotal: 2m 36s\tremaining: 4m 51s\n",
      "105:\ttest: 0.8588538\tbest: 0.8588538 (105)\ttotal: 2m 38s\tremaining: 4m 49s\n",
      "106:\ttotal: 2m 40s\tremaining: 4m 48s\n",
      "107:\ttotal: 2m 41s\tremaining: 4m 47s\n",
      "108:\ttotal: 2m 42s\tremaining: 4m 45s\n",
      "109:\ttotal: 2m 44s\tremaining: 4m 43s\n",
      "110:\ttest: 0.8594921\tbest: 0.8594921 (110)\ttotal: 2m 46s\tremaining: 4m 42s\n",
      "111:\ttotal: 2m 47s\tremaining: 4m 40s\n",
      "112:\ttotal: 2m 48s\tremaining: 4m 39s\n",
      "113:\ttotal: 2m 50s\tremaining: 4m 38s\n",
      "114:\ttotal: 2m 52s\tremaining: 4m 37s\n",
      "115:\ttest: 0.8609031\tbest: 0.8609031 (115)\ttotal: 2m 53s\tremaining: 4m 35s\n",
      "116:\ttotal: 2m 55s\tremaining: 4m 34s\n",
      "117:\ttotal: 2m 57s\tremaining: 4m 33s\n",
      "118:\ttotal: 2m 59s\tremaining: 4m 32s\n",
      "119:\ttotal: 3m 1s\tremaining: 4m 32s\n",
      "120:\ttest: 0.8621306\tbest: 0.8621306 (120)\ttotal: 3m 3s\tremaining: 4m 30s\n",
      "121:\ttotal: 3m 3s\tremaining: 4m 28s\n",
      "122:\ttotal: 3m 5s\tremaining: 4m 27s\n",
      "123:\ttotal: 3m 7s\tremaining: 4m 26s\n",
      "124:\ttotal: 3m 8s\tremaining: 4m 24s\n",
      "125:\ttest: 0.8628253\tbest: 0.8628253 (125)\ttotal: 3m 10s\tremaining: 4m 23s\n",
      "126:\ttotal: 3m 11s\tremaining: 4m 21s\n",
      "127:\ttotal: 3m 13s\tremaining: 4m 20s\n",
      "128:\ttotal: 3m 15s\tremaining: 4m 19s\n",
      "129:\ttotal: 3m 17s\tremaining: 4m 18s\n",
      "130:\ttest: 0.8638030\tbest: 0.8638030 (130)\ttotal: 3m 19s\tremaining: 4m 17s\n",
      "131:\ttotal: 3m 20s\tremaining: 4m 15s\n",
      "132:\ttotal: 3m 22s\tremaining: 4m 14s\n",
      "133:\ttotal: 3m 24s\tremaining: 4m 13s\n",
      "134:\ttotal: 3m 26s\tremaining: 4m 11s\n",
      "135:\ttest: 0.8645302\tbest: 0.8645302 (135)\ttotal: 3m 27s\tremaining: 4m 10s\n",
      "136:\ttotal: 3m 28s\tremaining: 4m 8s\n",
      "137:\ttotal: 3m 30s\tremaining: 4m 6s\n",
      "138:\ttotal: 3m 31s\tremaining: 4m 5s\n",
      "139:\ttotal: 3m 33s\tremaining: 4m 3s\n",
      "140:\ttest: 0.8651308\tbest: 0.8651308 (140)\ttotal: 3m 34s\tremaining: 4m 2s\n",
      "141:\ttotal: 3m 36s\tremaining: 4m 1s\n",
      "142:\ttotal: 3m 38s\tremaining: 4m\n",
      "143:\ttotal: 3m 40s\tremaining: 3m 59s\n",
      "144:\ttotal: 3m 42s\tremaining: 3m 57s\n",
      "145:\ttest: 0.8669498\tbest: 0.8669498 (145)\ttotal: 3m 43s\tremaining: 3m 55s\n",
      "146:\ttotal: 3m 45s\tremaining: 3m 54s\n",
      "147:\ttotal: 3m 47s\tremaining: 3m 53s\n",
      "148:\ttotal: 3m 49s\tremaining: 3m 52s\n",
      "149:\ttotal: 3m 51s\tremaining: 3m 51s\n",
      "150:\ttest: 0.8674994\tbest: 0.8674994 (150)\ttotal: 3m 53s\tremaining: 3m 50s\n",
      "151:\ttotal: 3m 54s\tremaining: 3m 48s\n",
      "152:\ttotal: 3m 56s\tremaining: 3m 47s\n",
      "153:\ttotal: 3m 58s\tremaining: 3m 46s\n",
      "154:\ttotal: 3m 59s\tremaining: 3m 44s\n",
      "155:\ttest: 0.8680901\tbest: 0.8680901 (155)\ttotal: 4m 1s\tremaining: 3m 43s\n",
      "156:\ttotal: 4m 3s\tremaining: 3m 41s\n",
      "157:\ttotal: 4m 4s\tremaining: 3m 40s\n",
      "158:\ttotal: 4m 6s\tremaining: 3m 38s\n",
      "159:\ttotal: 4m 7s\tremaining: 3m 36s\n",
      "160:\ttest: 0.8683496\tbest: 0.8683496 (160)\ttotal: 4m 9s\tremaining: 3m 35s\n",
      "161:\ttotal: 4m 10s\tremaining: 3m 33s\n",
      "162:\ttotal: 4m 12s\tremaining: 3m 31s\n",
      "163:\ttotal: 4m 13s\tremaining: 3m 29s\n",
      "164:\ttotal: 4m 15s\tremaining: 3m 28s\n",
      "165:\ttest: 0.8687105\tbest: 0.8687105 (165)\ttotal: 4m 16s\tremaining: 3m 26s\n",
      "166:\ttotal: 4m 17s\tremaining: 3m 25s\n",
      "167:\ttotal: 4m 19s\tremaining: 3m 23s\n",
      "168:\ttotal: 4m 21s\tremaining: 3m 22s\n",
      "169:\ttotal: 4m 22s\tremaining: 3m 20s\n",
      "170:\ttest: 0.8690647\tbest: 0.8690647 (170)\ttotal: 4m 24s\tremaining: 3m 19s\n",
      "171:\ttotal: 4m 26s\tremaining: 3m 18s\n",
      "172:\ttotal: 4m 27s\tremaining: 3m 16s\n",
      "173:\ttotal: 4m 29s\tremaining: 3m 15s\n",
      "174:\ttotal: 4m 31s\tremaining: 3m 13s\n",
      "175:\ttest: 0.8696247\tbest: 0.8696247 (175)\ttotal: 4m 33s\tremaining: 3m 12s\n",
      "176:\ttotal: 4m 35s\tremaining: 3m 11s\n",
      "177:\ttotal: 4m 37s\tremaining: 3m 9s\n",
      "178:\ttotal: 4m 38s\tremaining: 3m 8s\n",
      "179:\ttotal: 4m 39s\tremaining: 3m 6s\n",
      "180:\ttest: 0.8709350\tbest: 0.8709350 (180)\ttotal: 4m 41s\tremaining: 3m 5s\n",
      "181:\ttotal: 4m 43s\tremaining: 3m 3s\n",
      "182:\ttotal: 4m 44s\tremaining: 3m 2s\n",
      "183:\ttotal: 4m 46s\tremaining: 3m\n",
      "184:\ttotal: 4m 48s\tremaining: 2m 59s\n",
      "185:\ttest: 0.8713082\tbest: 0.8713082 (185)\ttotal: 4m 49s\tremaining: 2m 57s\n",
      "186:\ttotal: 4m 51s\tremaining: 2m 56s\n",
      "187:\ttotal: 4m 53s\tremaining: 2m 54s\n",
      "188:\ttotal: 4m 54s\tremaining: 2m 53s\n",
      "189:\ttotal: 4m 56s\tremaining: 2m 51s\n",
      "190:\ttest: 0.8718606\tbest: 0.8718606 (190)\ttotal: 4m 58s\tremaining: 2m 50s\n",
      "191:\ttotal: 4m 59s\tremaining: 2m 48s\n",
      "192:\ttotal: 5m 1s\tremaining: 2m 47s\n",
      "193:\ttotal: 5m 3s\tremaining: 2m 45s\n",
      "194:\ttotal: 5m 5s\tremaining: 2m 44s\n",
      "195:\ttest: 0.8727300\tbest: 0.8727300 (195)\ttotal: 5m 6s\tremaining: 2m 42s\n",
      "196:\ttotal: 5m 8s\tremaining: 2m 41s\n",
      "197:\ttotal: 5m 10s\tremaining: 2m 39s\n",
      "198:\ttotal: 5m 12s\tremaining: 2m 38s\n",
      "199:\ttotal: 5m 13s\tremaining: 2m 36s\n",
      "200:\ttest: 0.8731179\tbest: 0.8731179 (200)\ttotal: 5m 15s\tremaining: 2m 35s\n",
      "201:\ttotal: 5m 16s\tremaining: 2m 33s\n",
      "202:\ttotal: 5m 18s\tremaining: 2m 32s\n",
      "203:\ttotal: 5m 19s\tremaining: 2m 30s\n",
      "204:\ttotal: 5m 21s\tremaining: 2m 29s\n",
      "205:\ttest: 0.8732436\tbest: 0.8732436 (205)\ttotal: 5m 23s\tremaining: 2m 27s\n",
      "206:\ttotal: 5m 24s\tremaining: 2m 25s\n",
      "207:\ttotal: 5m 26s\tremaining: 2m 24s\n",
      "208:\ttotal: 5m 28s\tremaining: 2m 22s\n",
      "209:\ttotal: 5m 30s\tremaining: 2m 21s\n",
      "210:\ttest: 0.8742732\tbest: 0.8742732 (210)\ttotal: 5m 31s\tremaining: 2m 19s\n",
      "211:\ttotal: 5m 33s\tremaining: 2m 18s\n",
      "212:\ttotal: 5m 34s\tremaining: 2m 16s\n",
      "213:\ttotal: 5m 35s\tremaining: 2m 14s\n",
      "214:\ttotal: 5m 37s\tremaining: 2m 13s\n",
      "215:\ttest: 0.8748661\tbest: 0.8748661 (215)\ttotal: 5m 38s\tremaining: 2m 11s\n",
      "216:\ttotal: 5m 40s\tremaining: 2m 10s\n",
      "217:\ttotal: 5m 42s\tremaining: 2m 8s\n",
      "218:\ttotal: 5m 44s\tremaining: 2m 7s\n",
      "219:\ttotal: 5m 45s\tremaining: 2m 5s\n",
      "220:\ttest: 0.8765598\tbest: 0.8765598 (220)\ttotal: 5m 47s\tremaining: 2m 4s\n",
      "221:\ttotal: 5m 49s\tremaining: 2m 2s\n",
      "222:\ttotal: 5m 51s\tremaining: 2m 1s\n",
      "223:\ttotal: 5m 52s\tremaining: 1m 59s\n",
      "224:\ttotal: 5m 53s\tremaining: 1m 57s\n",
      "225:\ttest: 0.8776327\tbest: 0.8776327 (225)\ttotal: 5m 55s\tremaining: 1m 56s\n",
      "226:\ttotal: 5m 56s\tremaining: 1m 54s\n",
      "227:\ttotal: 5m 58s\tremaining: 1m 53s\n",
      "228:\ttotal: 6m\tremaining: 1m 51s\n",
      "229:\ttotal: 6m 1s\tremaining: 1m 50s\n",
      "230:\ttest: 0.8779171\tbest: 0.8779231 (229)\ttotal: 6m 3s\tremaining: 1m 48s\n",
      "231:\ttotal: 6m 5s\tremaining: 1m 46s\n",
      "232:\ttotal: 6m 6s\tremaining: 1m 45s\n",
      "233:\ttotal: 6m 8s\tremaining: 1m 43s\n",
      "234:\ttotal: 6m 9s\tremaining: 1m 42s\n",
      "235:\ttest: 0.8782329\tbest: 0.8782329 (235)\ttotal: 6m 11s\tremaining: 1m 40s\n",
      "236:\ttotal: 6m 12s\tremaining: 1m 39s\n",
      "237:\ttotal: 6m 13s\tremaining: 1m 37s\n",
      "238:\ttotal: 6m 15s\tremaining: 1m 35s\n",
      "239:\ttotal: 6m 17s\tremaining: 1m 34s\n",
      "240:\ttest: 0.8790236\tbest: 0.8790236 (240)\ttotal: 6m 19s\tremaining: 1m 32s\n",
      "241:\ttotal: 6m 21s\tremaining: 1m 31s\n",
      "242:\ttotal: 6m 23s\tremaining: 1m 29s\n",
      "243:\ttotal: 6m 24s\tremaining: 1m 28s\n",
      "244:\ttotal: 6m 26s\tremaining: 1m 26s\n",
      "245:\ttest: 0.8797733\tbest: 0.8797733 (245)\ttotal: 6m 27s\tremaining: 1m 25s\n",
      "246:\ttotal: 6m 28s\tremaining: 1m 23s\n",
      "247:\ttotal: 6m 30s\tremaining: 1m 21s\n",
      "248:\ttotal: 6m 31s\tremaining: 1m 20s\n",
      "249:\ttotal: 6m 33s\tremaining: 1m 18s\n",
      "250:\ttest: 0.8801578\tbest: 0.8801578 (250)\ttotal: 6m 34s\tremaining: 1m 17s\n",
      "251:\ttotal: 6m 36s\tremaining: 1m 15s\n",
      "252:\ttotal: 6m 38s\tremaining: 1m 13s\n",
      "253:\ttotal: 6m 39s\tremaining: 1m 12s\n",
      "254:\ttotal: 6m 41s\tremaining: 1m 10s\n",
      "255:\ttest: 0.8805938\tbest: 0.8805938 (255)\ttotal: 6m 42s\tremaining: 1m 9s\n",
      "256:\ttotal: 6m 44s\tremaining: 1m 7s\n",
      "257:\ttotal: 6m 46s\tremaining: 1m 6s\n",
      "258:\ttotal: 6m 47s\tremaining: 1m 4s\n",
      "259:\ttotal: 6m 49s\tremaining: 1m 2s\n",
      "260:\ttest: 0.8817848\tbest: 0.8817848 (260)\ttotal: 6m 50s\tremaining: 1m 1s\n",
      "261:\ttotal: 6m 52s\tremaining: 59.8s\n",
      "262:\ttotal: 6m 54s\tremaining: 58.3s\n",
      "263:\ttotal: 6m 55s\tremaining: 56.7s\n",
      "264:\ttotal: 6m 56s\tremaining: 55.1s\n",
      "265:\ttest: 0.8823435\tbest: 0.8823614 (262)\ttotal: 6m 58s\tremaining: 53.5s\n",
      "266:\ttotal: 7m\tremaining: 51.9s\n",
      "267:\ttotal: 7m 2s\tremaining: 50.4s\n",
      "268:\ttotal: 7m 3s\tremaining: 48.8s\n",
      "269:\ttotal: 7m 5s\tremaining: 47.3s\n",
      "270:\ttest: 0.8831762\tbest: 0.8831762 (270)\ttotal: 7m 6s\tremaining: 45.6s\n",
      "271:\ttotal: 7m 7s\tremaining: 44s\n",
      "272:\ttotal: 7m 9s\tremaining: 42.4s\n",
      "273:\ttotal: 7m 10s\tremaining: 40.9s\n",
      "274:\ttotal: 7m 12s\tremaining: 39.3s\n",
      "275:\ttest: 0.8835584\tbest: 0.8835584 (275)\ttotal: 7m 13s\tremaining: 37.7s\n",
      "276:\ttotal: 7m 15s\tremaining: 36.1s\n",
      "277:\ttotal: 7m 17s\tremaining: 34.6s\n",
      "278:\ttotal: 7m 18s\tremaining: 33s\n",
      "279:\ttotal: 7m 19s\tremaining: 31.4s\n",
      "280:\ttest: 0.8844329\tbest: 0.8844329 (280)\ttotal: 7m 21s\tremaining: 29.9s\n",
      "281:\ttotal: 7m 23s\tremaining: 28.3s\n",
      "282:\ttotal: 7m 24s\tremaining: 26.7s\n",
      "283:\ttotal: 7m 26s\tremaining: 25.1s\n",
      "284:\ttotal: 7m 28s\tremaining: 23.6s\n",
      "285:\ttest: 0.8848931\tbest: 0.8848931 (285)\ttotal: 7m 29s\tremaining: 22s\n",
      "286:\ttotal: 7m 31s\tremaining: 20.4s\n",
      "287:\ttotal: 7m 32s\tremaining: 18.9s\n",
      "288:\ttotal: 7m 34s\tremaining: 17.3s\n",
      "289:\ttotal: 7m 35s\tremaining: 15.7s\n",
      "290:\ttest: 0.8854505\tbest: 0.8854505 (290)\ttotal: 7m 37s\tremaining: 14.2s\n",
      "291:\ttotal: 7m 39s\tremaining: 12.6s\n",
      "292:\ttotal: 7m 40s\tremaining: 11s\n",
      "293:\ttotal: 7m 42s\tremaining: 9.43s\n",
      "294:\ttotal: 7m 43s\tremaining: 7.86s\n",
      "295:\ttest: 0.8863103\tbest: 0.8863103 (295)\ttotal: 7m 45s\tremaining: 6.29s\n",
      "296:\ttotal: 7m 47s\tremaining: 4.72s\n",
      "297:\ttotal: 7m 48s\tremaining: 3.14s\n",
      "298:\ttotal: 7m 50s\tremaining: 1.57s\n",
      "299:\ttest: 0.8863722\tbest: 0.8863722 (299)\ttotal: 7m 51s\tremaining: 0us\n",
      "bestTest = 0.8863722384\n",
      "bestIteration = 299\n"
     ]
    },
    {
     "data": {
      "text/plain": [
       "<catboost.core.CatBoostClassifier at 0x7fba0b881600>"
      ]
     },
     "execution_count": 27,
     "metadata": {},
     "output_type": "execute_result"
    }
   ],
   "source": [
    "model.fit(train_pool, eval_set=val_pool, early_stopping_rounds=100, verbose=True)"
   ]
  },
  {
   "cell_type": "code",
   "execution_count": 28,
   "id": "546def5d-401d-4e92-8ebc-4b8d981830da",
   "metadata": {
    "execution": {
     "iopub.execute_input": "2025-04-11T13:05:09.157094Z",
     "iopub.status.busy": "2025-04-11T13:05:09.156315Z",
     "iopub.status.idle": "2025-04-11T13:05:10.001352Z",
     "shell.execute_reply": "2025-04-11T13:05:10.000640Z",
     "shell.execute_reply.started": "2025-04-11T13:05:09.157058Z"
    },
    "tags": []
   },
   "outputs": [],
   "source": [
    "predictions = model.predict_proba(test_pool)[:, 1]"
   ]
  },
  {
   "cell_type": "code",
   "execution_count": 29,
   "id": "8e1022c0-05b9-4d4b-b46d-c6786629a3fb",
   "metadata": {
    "execution": {
     "iopub.execute_input": "2025-04-11T13:05:10.003195Z",
     "iopub.status.busy": "2025-04-11T13:05:10.002266Z",
     "iopub.status.idle": "2025-04-11T13:05:10.391696Z",
     "shell.execute_reply": "2025-04-11T13:05:10.390953Z",
     "shell.execute_reply.started": "2025-04-11T13:05:10.003160Z"
    },
    "tags": []
   },
   "outputs": [
    {
     "name": "stdout",
     "output_type": "stream",
     "text": [
      "ROC AUC Score: 0.6297\n"
     ]
    }
   ],
   "source": [
    "roc_auc = roc_auc_score(test_df[target_column], predictions)\n",
    "print(f\"ROC AUC Score: {roc_auc:.4f}\")"
   ]
  },
  {
   "cell_type": "code",
   "execution_count": 30,
   "id": "0ce8019f-348e-4157-8ea1-190d5b76f0bd",
   "metadata": {
    "execution": {
     "iopub.execute_input": "2025-04-11T13:05:10.393766Z",
     "iopub.status.busy": "2025-04-11T13:05:10.392655Z",
     "iopub.status.idle": "2025-04-11T13:05:10.724991Z",
     "shell.execute_reply": "2025-04-11T13:05:10.724255Z",
     "shell.execute_reply.started": "2025-04-11T13:05:10.393720Z"
    },
    "tags": []
   },
   "outputs": [
    {
     "data": {
      "image/png": "[encoded data removed]",
      "text/plain": [
       "<Figure size 1000x600 with 1 Axes>"
      ]
     },
     "metadata": {},
     "output_type": "display_data"
    }
   ],
   "source": [
    "eval_results = model.get_evals_result()\n",
    "validation_loss = eval_results['validation']['Logloss']\n",
    "\n",
    "plt.figure(figsize=(10, 6))\n",
    "plt.plot(range(0, len(validation_loss)), validation_loss, label='Validation Loss')\n",
    "plt.xlabel('Iteration')\n",
    "plt.ylabel('Logloss')\n",
    "plt.title('Validation Logloss over Iterations')\n",
    "plt.legend()\n",
    "plt.grid()\n",
    "plt.show()"
   ]
  },
  {
   "cell_type": "code",
   "execution_count": 31,
   "id": "5def26e4-51cf-4eb4-8649-b25641580058",
   "metadata": {
    "execution": {
     "iopub.execute_input": "2025-04-11T13:05:10.735156Z",
     "iopub.status.busy": "2025-04-11T13:05:10.734783Z",
     "iopub.status.idle": "2025-04-11T13:05:11.114430Z",
     "shell.execute_reply": "2025-04-11T13:05:11.113520Z",
     "shell.execute_reply.started": "2025-04-11T13:05:10.735133Z"
    },
    "tags": []
   },
   "outputs": [
    {
     "data": {
      "image/png": "[encoded data removed]",
      "text/plain": [
       "<Figure size 800x600 with 1 Axes>"
      ]
     },
     "metadata": {},
     "output_type": "display_data"
    }
   ],
   "source": [
    "fpr, tpr, thresholds = roc_curve(test_df[target_column], predictions)\n",
    "\n",
    "plt.figure(figsize=(8, 6))\n",
    "plt.plot(fpr, tpr, label=f'ROC AUC = {roc_auc:.4f}')\n",
    "plt.plot([0, 1], [0, 1], 'k--')\n",
    "plt.xlabel('False Positive Rate')\n",
    "plt.ylabel('True Positive Rate')\n",
    "plt.title('Receiver Operating Characteristic (ROC) Curve')\n",
    "plt.legend(loc='lower right')\n",
    "plt.grid()\n",
    "plt.show()"
   ]
  },
  {
   "cell_type": "code",
   "execution_count": 32,
   "id": "c976174a-9b8f-43e7-bbd0-ebc6ad86073a",
   "metadata": {
    "execution": {
     "iopub.execute_input": "2025-04-11T13:05:11.116356Z",
     "iopub.status.busy": "2025-04-11T13:05:11.115253Z",
     "iopub.status.idle": "2025-04-11T13:06:20.894166Z",
     "shell.execute_reply": "2025-04-11T13:06:20.893506Z",
     "shell.execute_reply.started": "2025-04-11T13:05:11.116317Z"
    },
    "tags": []
   },
   "outputs": [
    {
     "data": {
      "image/png": "[encoded data removed]",
      "text/plain": [
       "<Figure size 1200x600 with 1 Axes>"
      ]
     },
     "metadata": {},
     "output_type": "display_data"
    }
   ],
   "source": [
    "feature_importances = model.get_feature_importance(train_pool)\n",
    "feature_importances_df = pd.DataFrame({'Feature': feature_columns, 'Importance': feature_importances})\n",
    "\n",
    "feature_importances_df.sort_values(by='Importance', ascending=False, inplace=True)\n",
    "\n",
    "plt.figure(figsize=(12, 6))\n",
    "plt.barh(feature_importances_df['Feature'], feature_importances_df['Importance'])\n",
    "plt.xlabel('Importance')\n",
    "plt.title('Feature Importance Weighted model')\n",
    "plt.gca().invert_yaxis()\n",
    "plt.show()"
   ]
  },
  {
   "cell_type": "code",
   "execution_count": 33,
   "id": "e302d625-3820-426f-8c02-badc15f7c6f3",
   "metadata": {
    "execution": {
     "iopub.execute_input": "2025-04-11T13:06:20.895530Z",
     "iopub.status.busy": "2025-04-11T13:06:20.894976Z",
     "iopub.status.idle": "2025-04-11T13:06:23.086647Z",
     "shell.execute_reply": "2025-04-11T13:06:23.085972Z",
     "shell.execute_reply.started": "2025-04-11T13:06:20.895498Z"
    },
    "tags": []
   },
   "outputs": [],
   "source": [
    "model.save_model('catboost_model_weighted_all_features_season_3.cbm')"
   ]
  },
  {
   "cell_type": "code",
   "execution_count": 34,
   "id": "2c5482b6-b5b3-41a0-ab33-70aed43342c2",
   "metadata": {
    "execution": {
     "iopub.execute_input": "2025-04-11T13:06:44.958507Z",
     "iopub.status.busy": "2025-04-11T13:06:44.957542Z",
     "iopub.status.idle": "2025-04-11T13:06:50.955805Z",
     "shell.execute_reply": "2025-04-11T13:06:50.955055Z",
     "shell.execute_reply.started": "2025-04-11T13:06:44.958476Z"
    },
    "tags": []
   },
   "outputs": [
    {
     "data": {
      "image/png": "[encoded data removed]",
      "text/plain": [
       "<Figure size 1200x600 with 1 Axes>"
      ]
     },
     "metadata": {},
     "output_type": "display_data"
    }
   ],
   "source": [
    "feature_importances = model.get_feature_importance(test_pool)\n",
    "feature_importances_df = pd.DataFrame({'Feature': feature_columns, 'Importance': feature_importances})\n",
    "\n",
    "feature_importances_df.sort_values(by='Importance', ascending=False, inplace=True)\n",
    "\n",
    "plt.figure(figsize=(12, 6))\n",
    "plt.barh(feature_importances_df['Feature'], feature_importances_df['Importance'])\n",
    "plt.xlabel('Importance')\n",
    "plt.title('Feature Importance on test Weighted model')\n",
    "plt.gca().invert_yaxis()\n",
    "plt.show()"
   ]
  },
  {
   "cell_type": "code",
   "execution_count": 35,
   "id": "4a1a006a-864b-4f92-ae8f-8034619c57e4",
   "metadata": {
    "execution": {
     "iopub.execute_input": "2025-04-11T13:07:25.543216Z",
     "iopub.status.busy": "2025-04-11T13:07:25.542370Z",
     "iopub.status.idle": "2025-04-11T13:07:25.570579Z",
     "shell.execute_reply": "2025-04-11T13:07:25.569970Z",
     "shell.execute_reply.started": "2025-04-11T13:07:25.543176Z"
    }
   },
   "outputs": [],
   "source": [
    "from sklearn.model_selection import GridSearchCV"
   ]
  },
  {
   "cell_type": "code",
   "execution_count": 38,
   "id": "a556479a-2cc4-4f58-9341-5347848d04a1",
   "metadata": {
    "execution": {
     "iopub.execute_input": "2025-04-11T13:34:06.421587Z",
     "iopub.status.busy": "2025-04-11T13:34:06.420791Z",
     "iopub.status.idle": "2025-04-11T13:34:06.436105Z",
     "shell.execute_reply": "2025-04-11T13:34:06.435508Z",
     "shell.execute_reply.started": "2025-04-11T13:34:06.421560Z"
    },
    "tags": []
   },
   "outputs": [],
   "source": [
    "param_grid = {\n",
    "    'depth': [3, 4, 5],\n",
    "    'learning_rate': [0.01, 0.05],\n",
    "    'iterations': [300, 500],\n",
    "    'l2_leaf_reg': [2, 3, 4]\n",
    "}\n",
    "cat_model = CatBoostClassifier(\n",
    "    task_type='GPU',\n",
    "    loss_function='Logloss',\n",
    "    eval_metric='AUC',\n",
    "    early_stopping_rounds=100,\n",
    "    class_weights=class_weights,\n",
    "    cat_features=categorical_features,\n",
    "    verbose=50\n",
    ")"
   ]
  },
  {
   "cell_type": "code",
   "execution_count": 39,
   "id": "d028c0ad-6ec3-4485-bbb0-4d2f4bfd591a",
   "metadata": {
    "execution": {
     "iopub.execute_input": "2025-04-11T13:34:07.707369Z",
     "iopub.status.busy": "2025-04-11T13:34:07.706498Z",
     "iopub.status.idle": "2025-04-11T14:08:44.022157Z",
     "shell.execute_reply": "2025-04-11T14:08:44.020058Z",
     "shell.execute_reply.started": "2025-04-11T13:34:07.707340Z"
    },
    "tags": []
   },
   "outputs": [
    {
     "name": "stderr",
     "output_type": "stream",
     "text": [
      "IOStream.flush timed out\n",
      "IOStream.flush timed out\n",
      "Default metric period is 5 because AUC is/are not implemented for GPU\n"
     ]
    },
    {
     "name": "stdout",
     "output_type": "stream",
     "text": [
      "0:\ttotal: 580ms\tremaining: 2m 53s\n",
      "50:\ttotal: 28.9s\tremaining: 2m 21s\n",
      "100:\ttotal: 57.6s\tremaining: 1m 53s\n",
      "150:\ttotal: 1m 26s\tremaining: 1m 25s\n",
      "200:\ttotal: 1m 56s\tremaining: 57.2s\n",
      "250:\ttotal: 2m 26s\tremaining: 28.5s\n",
      "299:\ttotal: 2m 54s\tremaining: 0us\n"
     ]
    },
    {
     "name": "stderr",
     "output_type": "stream",
     "text": [
      "IOStream.flush timed out\n",
      "IOStream.flush timed out\n",
      "Default metric period is 5 because AUC is/are not implemented for GPU\n"
     ]
    },
    {
     "name": "stdout",
     "output_type": "stream",
     "text": [
      "0:\ttotal: 502ms\tremaining: 2m 30s\n",
      "50:\ttotal: 27.2s\tremaining: 2m 13s\n",
      "100:\ttotal: 55s\tremaining: 1m 48s\n",
      "150:\ttotal: 1m 25s\tremaining: 1m 23s\n",
      "200:\ttotal: 1m 56s\tremaining: 57.1s\n",
      "250:\ttotal: 2m 24s\tremaining: 28.3s\n",
      "299:\ttotal: 2m 53s\tremaining: 0us\n"
     ]
    },
    {
     "name": "stderr",
     "output_type": "stream",
     "text": [
      "IOStream.flush timed out\n",
      "IOStream.flush timed out\n",
      "IOStream.flush timed out\n",
      "IOStream.flush timed out\n",
      "IOStream.flush timed out\n",
      "Default metric period is 5 because AUC is/are not implemented for GPU\n"
     ]
    },
    {
     "name": "stdout",
     "output_type": "stream",
     "text": [
      "0:\ttotal: 501ms\tremaining: 2m 29s\n",
      "50:\ttotal: 27.4s\tremaining: 2m 13s\n",
      "100:\ttotal: 55s\tremaining: 1m 48s\n",
      "150:\ttotal: 1m 23s\tremaining: 1m 22s\n",
      "200:\ttotal: 1m 54s\tremaining: 56.4s\n",
      "250:\ttotal: 2m 23s\tremaining: 28.1s\n",
      "299:\ttotal: 2m 51s\tremaining: 0us\n"
     ]
    },
    {
     "name": "stderr",
     "output_type": "stream",
     "text": [
      "IOStream.flush timed out\n",
      "IOStream.flush timed out\n",
      "IOStream.flush timed out\n",
      "IOStream.flush timed out\n",
      "Default metric period is 5 because AUC is/are not implemented for GPU\n"
     ]
    },
    {
     "name": "stdout",
     "output_type": "stream",
     "text": [
      "0:\ttotal: 581ms\tremaining: 2m 53s\n",
      "50:\ttotal: 29.8s\tremaining: 2m 25s\n",
      "100:\ttotal: 58.8s\tremaining: 1m 55s\n",
      "150:\ttotal: 1m 26s\tremaining: 1m 25s\n",
      "200:\ttotal: 1m 55s\tremaining: 57s\n",
      "250:\ttotal: 2m 24s\tremaining: 28.2s\n",
      "299:\ttotal: 2m 51s\tremaining: 0us\n"
     ]
    },
    {
     "name": "stderr",
     "output_type": "stream",
     "text": [
      "IOStream.flush timed out\n",
      "IOStream.flush timed out\n",
      "IOStream.flush timed out\n",
      "IOStream.flush timed out\n"
     ]
    },
    {
     "ename": "KeyboardInterrupt",
     "evalue": "",
     "output_type": "error",
     "traceback": [
      "\u001b[0;31m---------------------------------------------------------------------------\u001b[0m",
      "\u001b[0;31mKeyboardInterrupt\u001b[0m                         Traceback (most recent call last)",
      "\u001b[0;32m/tmp/ipykernel_8631/3242953241.py\u001b[0m in \u001b[0;36m<cell line: 2>\u001b[0;34m()\u001b[0m\n\u001b[1;32m      1\u001b[0m \u001b[0mgrid_search\u001b[0m \u001b[0;34m=\u001b[0m \u001b[0mGridSearchCV\u001b[0m\u001b[0;34m(\u001b[0m\u001b[0mestimator\u001b[0m\u001b[0;34m=\u001b[0m\u001b[0mcat_model\u001b[0m\u001b[0;34m,\u001b[0m \u001b[0mparam_grid\u001b[0m\u001b[0;34m=\u001b[0m\u001b[0mparam_grid\u001b[0m\u001b[0;34m,\u001b[0m \u001b[0mscoring\u001b[0m\u001b[0;34m=\u001b[0m\u001b[0;34m'roc_auc'\u001b[0m\u001b[0;34m,\u001b[0m \u001b[0mcv\u001b[0m\u001b[0;34m=\u001b[0m\u001b[0;36m3\u001b[0m\u001b[0;34m)\u001b[0m\u001b[0;34m\u001b[0m\u001b[0;34m\u001b[0m\u001b[0m\n\u001b[0;32m----> 2\u001b[0;31m \u001b[0mgrid_search\u001b[0m\u001b[0;34m.\u001b[0m\u001b[0mfit\u001b[0m\u001b[0;34m(\u001b[0m\u001b[0mX\u001b[0m\u001b[0;34m=\u001b[0m\u001b[0mtrain_df\u001b[0m\u001b[0;34m[\u001b[0m\u001b[0mfeature_columns\u001b[0m\u001b[0;34m]\u001b[0m\u001b[0;34m,\u001b[0m \u001b[0my\u001b[0m\u001b[0;34m=\u001b[0m\u001b[0mtrain_df\u001b[0m\u001b[0;34m[\u001b[0m\u001b[0mtarget_column\u001b[0m\u001b[0;34m]\u001b[0m\u001b[0;34m)\u001b[0m\u001b[0;34m\u001b[0m\u001b[0;34m\u001b[0m\u001b[0m\n\u001b[0m\u001b[1;32m      3\u001b[0m \u001b[0;34m\u001b[0m\u001b[0m\n\u001b[1;32m      4\u001b[0m \u001b[0mprint\u001b[0m\u001b[0;34m(\u001b[0m\u001b[0;34mf\"Best Parameters: {grid_search.best_params_}\"\u001b[0m\u001b[0;34m)\u001b[0m\u001b[0;34m\u001b[0m\u001b[0;34m\u001b[0m\u001b[0m\n\u001b[1;32m      5\u001b[0m \u001b[0mprint\u001b[0m\u001b[0;34m(\u001b[0m\u001b[0;34mf\"Best ROC AUC Score: {grid_search.best_score_}\"\u001b[0m\u001b[0;34m)\u001b[0m\u001b[0;34m\u001b[0m\u001b[0;34m\u001b[0m\u001b[0m\n",
      "\u001b[0;32m/usr/local/lib/python3.10/dist-packages/sklearn/model_selection/_search.py\u001b[0m in \u001b[0;36mfit\u001b[0;34m(self, X, y, groups, **fit_params)\u001b[0m\n\u001b[1;32m    872\u001b[0m                 \u001b[0;32mreturn\u001b[0m \u001b[0mresults\u001b[0m\u001b[0;34m\u001b[0m\u001b[0;34m\u001b[0m\u001b[0m\n\u001b[1;32m    873\u001b[0m \u001b[0;34m\u001b[0m\u001b[0m\n\u001b[0;32m--> 874\u001b[0;31m             \u001b[0mself\u001b[0m\u001b[0;34m.\u001b[0m\u001b[0m_run_search\u001b[0m\u001b[0;34m(\u001b[0m\u001b[0mevaluate_candidates\u001b[0m\u001b[0;34m)\u001b[0m\u001b[0;34m\u001b[0m\u001b[0;34m\u001b[0m\u001b[0m\n\u001b[0m\u001b[1;32m    875\u001b[0m \u001b[0;34m\u001b[0m\u001b[0m\n\u001b[1;32m    876\u001b[0m             \u001b[0;31m# multimetric is determined here because in the case of a callable\u001b[0m\u001b[0;34m\u001b[0m\u001b[0;34m\u001b[0m\u001b[0m\n",
      "\u001b[0;32m/usr/local/lib/python3.10/dist-packages/sklearn/model_selection/_search.py\u001b[0m in \u001b[0;36m_run_search\u001b[0;34m(self, evaluate_candidates)\u001b[0m\n\u001b[1;32m   1386\u001b[0m     \u001b[0;32mdef\u001b[0m \u001b[0m_run_search\u001b[0m\u001b[0;34m(\u001b[0m\u001b[0mself\u001b[0m\u001b[0;34m,\u001b[0m \u001b[0mevaluate_candidates\u001b[0m\u001b[0;34m)\u001b[0m\u001b[0;34m:\u001b[0m\u001b[0;34m\u001b[0m\u001b[0;34m\u001b[0m\u001b[0m\n\u001b[1;32m   1387\u001b[0m         \u001b[0;34m\"\"\"Search all candidates in param_grid\"\"\"\u001b[0m\u001b[0;34m\u001b[0m\u001b[0;34m\u001b[0m\u001b[0m\n\u001b[0;32m-> 1388\u001b[0;31m         \u001b[0mevaluate_candidates\u001b[0m\u001b[0;34m(\u001b[0m\u001b[0mParameterGrid\u001b[0m\u001b[0;34m(\u001b[0m\u001b[0mself\u001b[0m\u001b[0;34m.\u001b[0m\u001b[0mparam_grid\u001b[0m\u001b[0;34m)\u001b[0m\u001b[0;34m)\u001b[0m\u001b[0;34m\u001b[0m\u001b[0;34m\u001b[0m\u001b[0m\n\u001b[0m\u001b[1;32m   1389\u001b[0m \u001b[0;34m\u001b[0m\u001b[0m\n\u001b[1;32m   1390\u001b[0m \u001b[0;34m\u001b[0m\u001b[0m\n",
      "\u001b[0;32m/usr/local/lib/python3.10/dist-packages/sklearn/model_selection/_search.py\u001b[0m in \u001b[0;36mevaluate_candidates\u001b[0;34m(candidate_params, cv, more_results)\u001b[0m\n\u001b[1;32m    819\u001b[0m                     )\n\u001b[1;32m    820\u001b[0m \u001b[0;34m\u001b[0m\u001b[0m\n\u001b[0;32m--> 821\u001b[0;31m                 out = parallel(\n\u001b[0m\u001b[1;32m    822\u001b[0m                     delayed(_fit_and_score)(\n\u001b[1;32m    823\u001b[0m                         \u001b[0mclone\u001b[0m\u001b[0;34m(\u001b[0m\u001b[0mbase_estimator\u001b[0m\u001b[0;34m)\u001b[0m\u001b[0;34m,\u001b[0m\u001b[0;34m\u001b[0m\u001b[0;34m\u001b[0m\u001b[0m\n",
      "\u001b[0;32m/usr/local/lib/python3.10/dist-packages/sklearn/utils/parallel.py\u001b[0m in \u001b[0;36m__call__\u001b[0;34m(self, iterable)\u001b[0m\n\u001b[1;32m     61\u001b[0m             \u001b[0;32mfor\u001b[0m \u001b[0mdelayed_func\u001b[0m\u001b[0;34m,\u001b[0m \u001b[0margs\u001b[0m\u001b[0;34m,\u001b[0m \u001b[0mkwargs\u001b[0m \u001b[0;32min\u001b[0m \u001b[0miterable\u001b[0m\u001b[0;34m\u001b[0m\u001b[0;34m\u001b[0m\u001b[0m\n\u001b[1;32m     62\u001b[0m         )\n\u001b[0;32m---> 63\u001b[0;31m         \u001b[0;32mreturn\u001b[0m \u001b[0msuper\u001b[0m\u001b[0;34m(\u001b[0m\u001b[0;34m)\u001b[0m\u001b[0;34m.\u001b[0m\u001b[0m__call__\u001b[0m\u001b[0;34m(\u001b[0m\u001b[0miterable_with_config\u001b[0m\u001b[0;34m)\u001b[0m\u001b[0;34m\u001b[0m\u001b[0;34m\u001b[0m\u001b[0m\n\u001b[0m\u001b[1;32m     64\u001b[0m \u001b[0;34m\u001b[0m\u001b[0m\n\u001b[1;32m     65\u001b[0m \u001b[0;34m\u001b[0m\u001b[0m\n",
      "\u001b[0;32m/usr/local/lib/python3.10/dist-packages/joblib/parallel.py\u001b[0m in \u001b[0;36m__call__\u001b[0;34m(self, iterable)\u001b[0m\n\u001b[1;32m   1853\u001b[0m             \u001b[0moutput\u001b[0m \u001b[0;34m=\u001b[0m \u001b[0mself\u001b[0m\u001b[0;34m.\u001b[0m\u001b[0m_get_sequential_output\u001b[0m\u001b[0;34m(\u001b[0m\u001b[0miterable\u001b[0m\u001b[0;34m)\u001b[0m\u001b[0;34m\u001b[0m\u001b[0;34m\u001b[0m\u001b[0m\n\u001b[1;32m   1854\u001b[0m             \u001b[0mnext\u001b[0m\u001b[0;34m(\u001b[0m\u001b[0moutput\u001b[0m\u001b[0;34m)\u001b[0m\u001b[0;34m\u001b[0m\u001b[0;34m\u001b[0m\u001b[0m\n\u001b[0;32m-> 1855\u001b[0;31m             \u001b[0;32mreturn\u001b[0m \u001b[0moutput\u001b[0m \u001b[0;32mif\u001b[0m \u001b[0mself\u001b[0m\u001b[0;34m.\u001b[0m\u001b[0mreturn_generator\u001b[0m \u001b[0;32melse\u001b[0m \u001b[0mlist\u001b[0m\u001b[0;34m(\u001b[0m\u001b[0moutput\u001b[0m\u001b[0;34m)\u001b[0m\u001b[0;34m\u001b[0m\u001b[0;34m\u001b[0m\u001b[0m\n\u001b[0m\u001b[1;32m   1856\u001b[0m \u001b[0;34m\u001b[0m\u001b[0m\n\u001b[1;32m   1857\u001b[0m         \u001b[0;31m# Let's create an ID that uniquely identifies the current call. If the\u001b[0m\u001b[0;34m\u001b[0m\u001b[0;34m\u001b[0m\u001b[0m\n",
      "\u001b[0;32m/usr/local/lib/python3.10/dist-packages/joblib/parallel.py\u001b[0m in \u001b[0;36m_get_sequential_output\u001b[0;34m(self, iterable)\u001b[0m\n\u001b[1;32m   1782\u001b[0m                 \u001b[0mself\u001b[0m\u001b[0;34m.\u001b[0m\u001b[0mn_dispatched_batches\u001b[0m \u001b[0;34m+=\u001b[0m \u001b[0;36m1\u001b[0m\u001b[0;34m\u001b[0m\u001b[0;34m\u001b[0m\u001b[0m\n\u001b[1;32m   1783\u001b[0m                 \u001b[0mself\u001b[0m\u001b[0;34m.\u001b[0m\u001b[0mn_dispatched_tasks\u001b[0m \u001b[0;34m+=\u001b[0m \u001b[0;36m1\u001b[0m\u001b[0;34m\u001b[0m\u001b[0;34m\u001b[0m\u001b[0m\n\u001b[0;32m-> 1784\u001b[0;31m                 \u001b[0mres\u001b[0m \u001b[0;34m=\u001b[0m \u001b[0mfunc\u001b[0m\u001b[0;34m(\u001b[0m\u001b[0;34m*\u001b[0m\u001b[0margs\u001b[0m\u001b[0;34m,\u001b[0m \u001b[0;34m**\u001b[0m\u001b[0mkwargs\u001b[0m\u001b[0;34m)\u001b[0m\u001b[0;34m\u001b[0m\u001b[0;34m\u001b[0m\u001b[0m\n\u001b[0m\u001b[1;32m   1785\u001b[0m                 \u001b[0mself\u001b[0m\u001b[0;34m.\u001b[0m\u001b[0mn_completed_tasks\u001b[0m \u001b[0;34m+=\u001b[0m \u001b[0;36m1\u001b[0m\u001b[0;34m\u001b[0m\u001b[0;34m\u001b[0m\u001b[0m\n\u001b[1;32m   1786\u001b[0m                 \u001b[0mself\u001b[0m\u001b[0;34m.\u001b[0m\u001b[0mprint_progress\u001b[0m\u001b[0;34m(\u001b[0m\u001b[0;34m)\u001b[0m\u001b[0;34m\u001b[0m\u001b[0;34m\u001b[0m\u001b[0m\n",
      "\u001b[0;32m/usr/local/lib/python3.10/dist-packages/sklearn/utils/parallel.py\u001b[0m in \u001b[0;36m__call__\u001b[0;34m(self, *args, **kwargs)\u001b[0m\n\u001b[1;32m    121\u001b[0m             \u001b[0mconfig\u001b[0m \u001b[0;34m=\u001b[0m \u001b[0;34m{\u001b[0m\u001b[0;34m}\u001b[0m\u001b[0;34m\u001b[0m\u001b[0;34m\u001b[0m\u001b[0m\n\u001b[1;32m    122\u001b[0m         \u001b[0;32mwith\u001b[0m \u001b[0mconfig_context\u001b[0m\u001b[0;34m(\u001b[0m\u001b[0;34m**\u001b[0m\u001b[0mconfig\u001b[0m\u001b[0;34m)\u001b[0m\u001b[0;34m:\u001b[0m\u001b[0;34m\u001b[0m\u001b[0;34m\u001b[0m\u001b[0m\n\u001b[0;32m--> 123\u001b[0;31m             \u001b[0;32mreturn\u001b[0m \u001b[0mself\u001b[0m\u001b[0;34m.\u001b[0m\u001b[0mfunction\u001b[0m\u001b[0;34m(\u001b[0m\u001b[0;34m*\u001b[0m\u001b[0margs\u001b[0m\u001b[0;34m,\u001b[0m \u001b[0;34m**\u001b[0m\u001b[0mkwargs\u001b[0m\u001b[0;34m)\u001b[0m\u001b[0;34m\u001b[0m\u001b[0;34m\u001b[0m\u001b[0m\n\u001b[0m",
      "\u001b[0;32m/usr/local/lib/python3.10/dist-packages/sklearn/model_selection/_validation.py\u001b[0m in \u001b[0;36m_fit_and_score\u001b[0;34m(estimator, X, y, scorer, train, test, verbose, parameters, fit_params, return_train_score, return_parameters, return_n_test_samples, return_times, return_estimator, split_progress, candidate_progress, error_score)\u001b[0m\n\u001b[1;32m    684\u001b[0m             \u001b[0mestimator\u001b[0m\u001b[0;34m.\u001b[0m\u001b[0mfit\u001b[0m\u001b[0;34m(\u001b[0m\u001b[0mX_train\u001b[0m\u001b[0;34m,\u001b[0m \u001b[0;34m**\u001b[0m\u001b[0mfit_params\u001b[0m\u001b[0;34m)\u001b[0m\u001b[0;34m\u001b[0m\u001b[0;34m\u001b[0m\u001b[0m\n\u001b[1;32m    685\u001b[0m         \u001b[0;32melse\u001b[0m\u001b[0;34m:\u001b[0m\u001b[0;34m\u001b[0m\u001b[0;34m\u001b[0m\u001b[0m\n\u001b[0;32m--> 686\u001b[0;31m             \u001b[0mestimator\u001b[0m\u001b[0;34m.\u001b[0m\u001b[0mfit\u001b[0m\u001b[0;34m(\u001b[0m\u001b[0mX_train\u001b[0m\u001b[0;34m,\u001b[0m \u001b[0my_train\u001b[0m\u001b[0;34m,\u001b[0m \u001b[0;34m**\u001b[0m\u001b[0mfit_params\u001b[0m\u001b[0;34m)\u001b[0m\u001b[0;34m\u001b[0m\u001b[0;34m\u001b[0m\u001b[0m\n\u001b[0m\u001b[1;32m    687\u001b[0m \u001b[0;34m\u001b[0m\u001b[0m\n\u001b[1;32m    688\u001b[0m     \u001b[0;32mexcept\u001b[0m \u001b[0mException\u001b[0m\u001b[0;34m:\u001b[0m\u001b[0;34m\u001b[0m\u001b[0;34m\u001b[0m\u001b[0m\n",
      "\u001b[0;32m~/.local/lib/python3.10/site-packages/catboost/core.py\u001b[0m in \u001b[0;36mfit\u001b[0;34m(self, X, y, cat_features, text_features, embedding_features, graph, sample_weight, baseline, use_best_model, eval_set, verbose, logging_level, plot, plot_file, column_description, verbose_eval, metric_period, silent, early_stopping_rounds, save_snapshot, snapshot_file, snapshot_interval, init_model, callbacks, log_cout, log_cerr)\u001b[0m\n\u001b[1;32m   5243\u001b[0m             \u001b[0mCatBoostClassifier\u001b[0m\u001b[0;34m.\u001b[0m\u001b[0m_check_is_compatible_loss\u001b[0m\u001b[0;34m(\u001b[0m\u001b[0mparams\u001b[0m\u001b[0;34m[\u001b[0m\u001b[0;34m'loss_function'\u001b[0m\u001b[0;34m]\u001b[0m\u001b[0;34m)\u001b[0m\u001b[0;34m\u001b[0m\u001b[0;34m\u001b[0m\u001b[0m\n\u001b[1;32m   5244\u001b[0m \u001b[0;34m\u001b[0m\u001b[0m\n\u001b[0;32m-> 5245\u001b[0;31m         self._fit(X, y, cat_features, text_features, embedding_features, None, graph, sample_weight, None, None, None, None, baseline, use_best_model,\n\u001b[0m\u001b[1;32m   5246\u001b[0m                   \u001b[0meval_set\u001b[0m\u001b[0;34m,\u001b[0m \u001b[0mverbose\u001b[0m\u001b[0;34m,\u001b[0m \u001b[0mlogging_level\u001b[0m\u001b[0;34m,\u001b[0m \u001b[0mplot\u001b[0m\u001b[0;34m,\u001b[0m \u001b[0mplot_file\u001b[0m\u001b[0;34m,\u001b[0m \u001b[0mcolumn_description\u001b[0m\u001b[0;34m,\u001b[0m \u001b[0mverbose_eval\u001b[0m\u001b[0;34m,\u001b[0m \u001b[0mmetric_period\u001b[0m\u001b[0;34m,\u001b[0m\u001b[0;34m\u001b[0m\u001b[0;34m\u001b[0m\u001b[0m\n\u001b[1;32m   5247\u001b[0m                   silent, early_stopping_rounds, save_snapshot, snapshot_file, snapshot_interval, init_model, callbacks, log_cout, log_cerr)\n",
      "\u001b[0;32m~/.local/lib/python3.10/site-packages/catboost/core.py\u001b[0m in \u001b[0;36m_fit\u001b[0;34m(self, X, y, cat_features, text_features, embedding_features, pairs, graph, sample_weight, group_id, group_weight, subgroup_id, pairs_weight, baseline, use_best_model, eval_set, verbose, logging_level, plot, plot_file, column_description, verbose_eval, metric_period, silent, early_stopping_rounds, save_snapshot, snapshot_file, snapshot_interval, init_model, callbacks, log_cout, log_cerr)\u001b[0m\n\u001b[1;32m   2393\u001b[0m                 \u001b[0;32mraise\u001b[0m \u001b[0mCatBoostError\u001b[0m\u001b[0;34m(\u001b[0m\u001b[0;34m\"y may be None only when X is an instance of catboost.Pool or string\"\u001b[0m\u001b[0;34m)\u001b[0m\u001b[0;34m\u001b[0m\u001b[0;34m\u001b[0m\u001b[0m\n\u001b[1;32m   2394\u001b[0m \u001b[0;34m\u001b[0m\u001b[0m\n\u001b[0;32m-> 2395\u001b[0;31m             train_params = self._prepare_train_params(\n\u001b[0m\u001b[1;32m   2396\u001b[0m                 \u001b[0mX\u001b[0m\u001b[0;34m=\u001b[0m\u001b[0mX\u001b[0m\u001b[0;34m,\u001b[0m \u001b[0my\u001b[0m\u001b[0;34m=\u001b[0m\u001b[0my\u001b[0m\u001b[0;34m,\u001b[0m \u001b[0mcat_features\u001b[0m\u001b[0;34m=\u001b[0m\u001b[0mcat_features\u001b[0m\u001b[0;34m,\u001b[0m \u001b[0mtext_features\u001b[0m\u001b[0;34m=\u001b[0m\u001b[0mtext_features\u001b[0m\u001b[0;34m,\u001b[0m \u001b[0membedding_features\u001b[0m\u001b[0;34m=\u001b[0m\u001b[0membedding_features\u001b[0m\u001b[0;34m,\u001b[0m\u001b[0;34m\u001b[0m\u001b[0;34m\u001b[0m\u001b[0m\n\u001b[1;32m   2397\u001b[0m                 \u001b[0mpairs\u001b[0m\u001b[0;34m=\u001b[0m\u001b[0mpairs\u001b[0m\u001b[0;34m,\u001b[0m \u001b[0mgraph\u001b[0m\u001b[0;34m=\u001b[0m\u001b[0mgraph\u001b[0m\u001b[0;34m,\u001b[0m \u001b[0msample_weight\u001b[0m\u001b[0;34m=\u001b[0m\u001b[0msample_weight\u001b[0m\u001b[0;34m,\u001b[0m \u001b[0mgroup_id\u001b[0m\u001b[0;34m=\u001b[0m\u001b[0mgroup_id\u001b[0m\u001b[0;34m,\u001b[0m \u001b[0mgroup_weight\u001b[0m\u001b[0;34m=\u001b[0m\u001b[0mgroup_weight\u001b[0m\u001b[0;34m,\u001b[0m\u001b[0;34m\u001b[0m\u001b[0;34m\u001b[0m\u001b[0m\n",
      "\u001b[0;32m~/.local/lib/python3.10/site-packages/catboost/core.py\u001b[0m in \u001b[0;36m_prepare_train_params\u001b[0;34m(self, X, y, cat_features, text_features, embedding_features, pairs, graph, sample_weight, group_id, group_weight, subgroup_id, pairs_weight, baseline, use_best_model, eval_set, verbose, logging_level, plot, plot_file, column_description, verbose_eval, metric_period, silent, early_stopping_rounds, save_snapshot, snapshot_file, snapshot_interval, init_model, callbacks)\u001b[0m\n\u001b[1;32m   2273\u001b[0m         \u001b[0membedding_features\u001b[0m \u001b[0;34m=\u001b[0m \u001b[0m_process_feature_indices\u001b[0m\u001b[0;34m(\u001b[0m\u001b[0membedding_features\u001b[0m\u001b[0;34m,\u001b[0m \u001b[0mX\u001b[0m\u001b[0;34m,\u001b[0m \u001b[0mparams\u001b[0m\u001b[0;34m,\u001b[0m \u001b[0;34m'embedding_features'\u001b[0m\u001b[0;34m)\u001b[0m\u001b[0;34m\u001b[0m\u001b[0;34m\u001b[0m\u001b[0m\n\u001b[1;32m   2274\u001b[0m \u001b[0;34m\u001b[0m\u001b[0m\n\u001b[0;32m-> 2275\u001b[0;31m         train_pool = _build_train_pool(X, y, cat_features, text_features, embedding_features, pairs, graph,\n\u001b[0m\u001b[1;32m   2276\u001b[0m                                        \u001b[0msample_weight\u001b[0m\u001b[0;34m,\u001b[0m \u001b[0mgroup_id\u001b[0m\u001b[0;34m,\u001b[0m \u001b[0mgroup_weight\u001b[0m\u001b[0;34m,\u001b[0m \u001b[0msubgroup_id\u001b[0m\u001b[0;34m,\u001b[0m \u001b[0mpairs_weight\u001b[0m\u001b[0;34m,\u001b[0m\u001b[0;34m\u001b[0m\u001b[0;34m\u001b[0m\u001b[0m\n\u001b[1;32m   2277\u001b[0m                                        baseline, column_description)\n",
      "\u001b[0;32m~/.local/lib/python3.10/site-packages/catboost/core.py\u001b[0m in \u001b[0;36m_build_train_pool\u001b[0;34m(X, y, cat_features, text_features, embedding_features, pairs, graph, sample_weight, group_id, group_weight, subgroup_id, pairs_weight, baseline, column_description)\u001b[0m\n\u001b[1;32m   1511\u001b[0m         \u001b[0;32mif\u001b[0m \u001b[0my\u001b[0m \u001b[0;32mis\u001b[0m \u001b[0;32mNone\u001b[0m\u001b[0;34m:\u001b[0m\u001b[0;34m\u001b[0m\u001b[0;34m\u001b[0m\u001b[0m\n\u001b[1;32m   1512\u001b[0m             \u001b[0;32mraise\u001b[0m \u001b[0mCatBoostError\u001b[0m\u001b[0;34m(\u001b[0m\u001b[0;34m\"y has not initialized in fit(): X is not catboost.Pool object, y must be not None in fit().\"\u001b[0m\u001b[0;34m)\u001b[0m\u001b[0;34m\u001b[0m\u001b[0;34m\u001b[0m\u001b[0m\n\u001b[0;32m-> 1513\u001b[0;31m         train_pool = Pool(X, y, cat_features=cat_features, text_features=text_features, embedding_features=embedding_features, pairs=pairs, graph=graph, weight=sample_weight, group_id=group_id,\n\u001b[0m\u001b[1;32m   1514\u001b[0m                           group_weight=group_weight, subgroup_id=subgroup_id, pairs_weight=pairs_weight, baseline=baseline)\n\u001b[1;32m   1515\u001b[0m     \u001b[0;32mreturn\u001b[0m \u001b[0mtrain_pool\u001b[0m\u001b[0;34m\u001b[0m\u001b[0;34m\u001b[0m\u001b[0m\n",
      "\u001b[0;32m~/.local/lib/python3.10/site-packages/catboost/core.py\u001b[0m in \u001b[0;36m__init__\u001b[0;34m(self, data, label, cat_features, text_features, embedding_features, embedding_features_data, column_description, pairs, graph, delimiter, has_header, ignore_csv_quoting, weight, group_id, group_weight, subgroup_id, pairs_weight, baseline, timestamp, feature_names, feature_tags, thread_count, log_cout, log_cerr, data_can_be_none)\u001b[0m\n\u001b[1;32m    853\u001b[0m                         )\n\u001b[1;32m    854\u001b[0m \u001b[0;34m\u001b[0m\u001b[0m\n\u001b[0;32m--> 855\u001b[0;31m                     self._init(data, label, cat_features, text_features, embedding_features, embedding_features_data, pairs, graph, weight,\n\u001b[0m\u001b[1;32m    856\u001b[0m                                group_id, group_weight, subgroup_id, pairs_weight, baseline, timestamp, feature_names, feature_tags, thread_count)\n\u001b[1;32m    857\u001b[0m             \u001b[0;32melif\u001b[0m \u001b[0;32mnot\u001b[0m \u001b[0mdata_can_be_none\u001b[0m\u001b[0;34m:\u001b[0m\u001b[0;34m\u001b[0m\u001b[0;34m\u001b[0m\u001b[0m\n",
      "\u001b[0;32m~/.local/lib/python3.10/site-packages/catboost/core.py\u001b[0m in \u001b[0;36m_init\u001b[0;34m(self, data, label, cat_features, text_features, embedding_features, embedding_features_data, pairs, graph, weight, group_id, group_weight, subgroup_id, pairs_weight, baseline, timestamp, feature_names, feature_tags, thread_count)\u001b[0m\n\u001b[1;32m   1489\u001b[0m         \u001b[0;32mif\u001b[0m \u001b[0mfeature_tags\u001b[0m \u001b[0;32mis\u001b[0m \u001b[0;32mnot\u001b[0m \u001b[0;32mNone\u001b[0m\u001b[0;34m:\u001b[0m\u001b[0;34m\u001b[0m\u001b[0;34m\u001b[0m\u001b[0m\n\u001b[1;32m   1490\u001b[0m             \u001b[0mfeature_tags\u001b[0m \u001b[0;34m=\u001b[0m \u001b[0mself\u001b[0m\u001b[0;34m.\u001b[0m\u001b[0m_check_transform_tags\u001b[0m\u001b[0;34m(\u001b[0m\u001b[0mfeature_tags\u001b[0m\u001b[0;34m,\u001b[0m \u001b[0mfeature_names\u001b[0m\u001b[0;34m)\u001b[0m\u001b[0;34m\u001b[0m\u001b[0;34m\u001b[0m\u001b[0m\n\u001b[0;32m-> 1491\u001b[0;31m         self._init_pool(data, label, cat_features, text_features, embedding_features, embedding_features_data, pairs, graph, weight,\n\u001b[0m\u001b[1;32m   1492\u001b[0m                         group_id, group_weight, subgroup_id, pairs_weight, baseline, timestamp, feature_names, feature_tags, thread_count)\n\u001b[1;32m   1493\u001b[0m \u001b[0;34m\u001b[0m\u001b[0m\n",
      "\u001b[0;32m_catboost.pyx\u001b[0m in \u001b[0;36m_catboost._PoolBase._init_pool\u001b[0;34m()\u001b[0m\n",
      "\u001b[0;32m_catboost.pyx\u001b[0m in \u001b[0;36m_catboost._PoolBase._init_pool\u001b[0;34m()\u001b[0m\n",
      "\u001b[0;32m_catboost.pyx\u001b[0m in \u001b[0;36m_catboost._PoolBase._init_features_order_layout_pool\u001b[0;34m()\u001b[0m\n",
      "\u001b[0;32m_catboost.pyx\u001b[0m in \u001b[0;36m_catboost._set_features_order_data_pd_data_frame\u001b[0;34m()\u001b[0m\n",
      "\u001b[0;32m/usr/local/lib/python3.10/dist-packages/pandas/core/frame.py\u001b[0m in \u001b[0;36mitems\u001b[0;34m(self)\u001b[0m\n\u001b[1;32m   1321\u001b[0m         \u001b[0;32mif\u001b[0m \u001b[0mself\u001b[0m\u001b[0;34m.\u001b[0m\u001b[0mcolumns\u001b[0m\u001b[0;34m.\u001b[0m\u001b[0mis_unique\u001b[0m \u001b[0;32mand\u001b[0m \u001b[0mhasattr\u001b[0m\u001b[0;34m(\u001b[0m\u001b[0mself\u001b[0m\u001b[0;34m,\u001b[0m \u001b[0;34m\"_item_cache\"\u001b[0m\u001b[0;34m)\u001b[0m\u001b[0;34m:\u001b[0m\u001b[0;34m\u001b[0m\u001b[0;34m\u001b[0m\u001b[0m\n\u001b[1;32m   1322\u001b[0m             \u001b[0;32mfor\u001b[0m \u001b[0mk\u001b[0m \u001b[0;32min\u001b[0m \u001b[0mself\u001b[0m\u001b[0;34m.\u001b[0m\u001b[0mcolumns\u001b[0m\u001b[0;34m:\u001b[0m\u001b[0;34m\u001b[0m\u001b[0;34m\u001b[0m\u001b[0m\n\u001b[0;32m-> 1323\u001b[0;31m                 \u001b[0;32myield\u001b[0m \u001b[0mk\u001b[0m\u001b[0;34m,\u001b[0m \u001b[0mself\u001b[0m\u001b[0;34m.\u001b[0m\u001b[0m_get_item_cache\u001b[0m\u001b[0;34m(\u001b[0m\u001b[0mk\u001b[0m\u001b[0;34m)\u001b[0m\u001b[0;34m\u001b[0m\u001b[0;34m\u001b[0m\u001b[0m\n\u001b[0m\u001b[1;32m   1324\u001b[0m         \u001b[0;32melse\u001b[0m\u001b[0;34m:\u001b[0m\u001b[0;34m\u001b[0m\u001b[0;34m\u001b[0m\u001b[0m\n\u001b[1;32m   1325\u001b[0m             \u001b[0;32mfor\u001b[0m \u001b[0mi\u001b[0m\u001b[0;34m,\u001b[0m \u001b[0mk\u001b[0m \u001b[0;32min\u001b[0m \u001b[0menumerate\u001b[0m\u001b[0;34m(\u001b[0m\u001b[0mself\u001b[0m\u001b[0;34m.\u001b[0m\u001b[0mcolumns\u001b[0m\u001b[0;34m)\u001b[0m\u001b[0;34m:\u001b[0m\u001b[0;34m\u001b[0m\u001b[0;34m\u001b[0m\u001b[0m\n",
      "\u001b[0;31mKeyboardInterrupt\u001b[0m: "
     ]
    }
   ],
   "source": [
    "grid_search = GridSearchCV(estimator=cat_model, param_grid=param_grid, scoring='roc_auc', cv=3)\n",
    "grid_search.fit(X=train_df[feature_columns], y=train_df[target_column])\n",
    "\n",
    "print(f\"Best Parameters: {grid_search.best_params_}\")\n",
    "print(f\"Best ROC AUC Score: {grid_search.best_score_}\")"
   ]
  },
  {
   "cell_type": "code",
   "execution_count": null,
   "id": "5ec118b7-1261-4543-8992-f05c4b1c0b39",
   "metadata": {
    "execution": {
     "iopub.status.busy": "2025-04-11T14:08:44.023060Z",
     "iopub.status.idle": "2025-04-11T14:08:44.023500Z",
     "shell.execute_reply": "2025-04-11T14:08:44.023337Z",
     "shell.execute_reply.started": "2025-04-11T14:08:44.023318Z"
    },
    "tags": []
   },
   "outputs": [],
   "source": [
    "best_model = grid_search.best_estimator_\n",
    "predictions = best_model.predict_proba(test_pool)[:, 1]"
   ]
  },
  {
   "cell_type": "code",
   "execution_count": null,
   "id": "eeab786a-b044-4bcc-b950-13964f769567",
   "metadata": {
    "execution": {
     "iopub.status.busy": "2025-04-11T14:08:44.024829Z",
     "iopub.status.idle": "2025-04-11T14:08:44.025386Z",
     "shell.execute_reply": "2025-04-11T14:08:44.025250Z",
     "shell.execute_reply.started": "2025-04-11T14:08:44.025230Z"
    },
    "tags": []
   },
   "outputs": [],
   "source": [
    "test_roc_auc = roc_auc_score(test_df[target_column], predictions)\n",
    "print(f\"Test ROC AUC Score: {test_roc_auc}\")"
   ]
  },
  {
   "cell_type": "code",
   "execution_count": null,
   "id": "c901bc2a-510f-4f52-835d-23902726453c",
   "metadata": {},
   "outputs": [],
   "source": []
  }
 ],
 "metadata": {
  "kernelspec": {
   "display_name": "DataSphere Kernel",
   "language": "python",
   "name": "python3"
  },
  "language_info": {
   "codemirror_mode": {
    "name": "ipython",
    "version": 3
   },
   "file_extension": ".py",
   "mimetype": "text/x-python",
   "name": "python",
   "nbconvert_exporter": "python",
   "pygments_lexer": "ipython3",
   "version": "3.10.12"
  }
 },
 "nbformat": 4,
 "nbformat_minor": 5
}
