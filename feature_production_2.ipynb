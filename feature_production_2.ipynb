{
 "cells": [
  {
   "cell_type": "code",
   "execution_count": 1,
   "id": "57f06b03-9d7c-428b-84b8-43e1b9834843",
   "metadata": {
    "execution": {
     "iopub.execute_input": "2025-04-10T17:07:50.679088Z",
     "iopub.status.busy": "2025-04-10T17:07:50.678207Z",
     "iopub.status.idle": "2025-04-10T17:07:50.704256Z",
     "shell.execute_reply": "2025-04-10T17:07:50.703310Z",
     "shell.execute_reply.started": "2025-04-10T17:07:50.679042Z"
    },
    "tags": []
   },
   "outputs": [],
   "source": [
    "import csv\n",
    "import tqdm\n",
    "import numpy as np\n",
    "import pandas as pd\n",
    "import zipfile\n",
    "\n",
    "# with zipfile.ZipFile(\"parsed_data_no_extra_season_3.zip\", 'r') as zip_ref:\n",
    "#     zip_ref.extractall(\"datasets\")"
   ]
  },
  {
   "cell_type": "code",
   "execution_count": 2,
   "id": "f98c42c4-7848-49c3-a067-2ac5edb2fa43",
   "metadata": {
    "execution": {
     "iopub.execute_input": "2025-04-10T17:07:50.706445Z",
     "iopub.status.busy": "2025-04-10T17:07:50.705961Z",
     "iopub.status.idle": "2025-04-10T17:07:56.102640Z",
     "shell.execute_reply": "2025-04-10T17:07:56.101670Z",
     "shell.execute_reply.started": "2025-04-10T17:07:50.706410Z"
    },
    "tags": []
   },
   "outputs": [
    {
     "data": {
      "text/html": [
       "<div>\n",
       "<style scoped>\n",
       "    .dataframe tbody tr th:only-of-type {\n",
       "        vertical-align: middle;\n",
       "    }\n",
       "\n",
       "    .dataframe tbody tr th {\n",
       "        vertical-align: top;\n",
       "    }\n",
       "\n",
       "    .dataframe thead th {\n",
       "        text-align: right;\n",
       "    }\n",
       "</style>\n",
       "<table border=\"1\" class=\"dataframe\">\n",
       "  <thead>\n",
       "    <tr style=\"text-align: right;\">\n",
       "      <th></th>\n",
       "      <th>Unnamed: 0.1</th>\n",
       "      <th>Unnamed: 0</th>\n",
       "      <th>bid_id</th>\n",
       "      <th>region_id</th>\n",
       "      <th>city_id</th>\n",
       "      <th>domain</th>\n",
       "      <th>ad_slot_visibility</th>\n",
       "      <th>ad_slot_format</th>\n",
       "      <th>creative_id</th>\n",
       "      <th>advertiser_id</th>\n",
       "      <th>user_profile_ids</th>\n",
       "      <th>click</th>\n",
       "      <th>part_of_day</th>\n",
       "      <th>weekday</th>\n",
       "      <th>weekend</th>\n",
       "      <th>os</th>\n",
       "      <th>browser</th>\n",
       "      <th>ad_slot_screen_share</th>\n",
       "      <th>is_mobile_device</th>\n",
       "    </tr>\n",
       "  </thead>\n",
       "  <tbody>\n",
       "    <tr>\n",
       "      <th>0</th>\n",
       "      <td>0</td>\n",
       "      <td>0</td>\n",
       "      <td>b8c557a16cdd9cea7fa61df79bdb392d</td>\n",
       "      <td>216</td>\n",
       "      <td>233</td>\n",
       "      <td>5eaa6ffce5e827b0907e99679585db6b</td>\n",
       "      <td>OtherView</td>\n",
       "      <td>Na</td>\n",
       "      <td>7328</td>\n",
       "      <td>2259</td>\n",
       "      <td>10684,14273,10052,10133</td>\n",
       "      <td>0</td>\n",
       "      <td>1</td>\n",
       "      <td>1</td>\n",
       "      <td>2</td>\n",
       "      <td>windows</td>\n",
       "      <td>ie</td>\n",
       "      <td>0.026766</td>\n",
       "      <td>False</td>\n",
       "    </tr>\n",
       "    <tr>\n",
       "      <th>1</th>\n",
       "      <td>1</td>\n",
       "      <td>1</td>\n",
       "      <td>ce5a2b810ada0cad122508b4a9d1e2fd</td>\n",
       "      <td>216</td>\n",
       "      <td>219</td>\n",
       "      <td>72187db00c907f6304a240c763a6e70a</td>\n",
       "      <td>FirstView</td>\n",
       "      <td>Na</td>\n",
       "      <td>7323</td>\n",
       "      <td>2259</td>\n",
       "      <td>10006</td>\n",
       "      <td>0</td>\n",
       "      <td>1</td>\n",
       "      <td>1</td>\n",
       "      <td>2</td>\n",
       "      <td>windows</td>\n",
       "      <td>ie</td>\n",
       "      <td>0.071491</td>\n",
       "      <td>False</td>\n",
       "    </tr>\n",
       "    <tr>\n",
       "      <th>2</th>\n",
       "      <td>2</td>\n",
       "      <td>2</td>\n",
       "      <td>61fb95442aaa7cade3761b7f329a1e73</td>\n",
       "      <td>216</td>\n",
       "      <td>229</td>\n",
       "      <td>39a2330a5cbc1a0ff7104e6aaddb1f68</td>\n",
       "      <td>OtherView</td>\n",
       "      <td>Na</td>\n",
       "      <td>7319</td>\n",
       "      <td>2259</td>\n",
       "      <td>10129,10024,10120,10145,10142,10063</td>\n",
       "      <td>0</td>\n",
       "      <td>3</td>\n",
       "      <td>1</td>\n",
       "      <td>2</td>\n",
       "      <td>windows</td>\n",
       "      <td>chrome</td>\n",
       "      <td>0.038128</td>\n",
       "      <td>False</td>\n",
       "    </tr>\n",
       "    <tr>\n",
       "      <th>3</th>\n",
       "      <td>3</td>\n",
       "      <td>3</td>\n",
       "      <td>7f9c3a72df3e4ded04870c08fcbcf72b</td>\n",
       "      <td>216</td>\n",
       "      <td>222</td>\n",
       "      <td>3043163ba84753b4b51dd3290caeae67</td>\n",
       "      <td>Na</td>\n",
       "      <td>Na</td>\n",
       "      <td>7323</td>\n",
       "      <td>2259</td>\n",
       "      <td>10684</td>\n",
       "      <td>0</td>\n",
       "      <td>3</td>\n",
       "      <td>1</td>\n",
       "      <td>2</td>\n",
       "      <td>windows</td>\n",
       "      <td>ie</td>\n",
       "      <td>0.071491</td>\n",
       "      <td>False</td>\n",
       "    </tr>\n",
       "    <tr>\n",
       "      <th>4</th>\n",
       "      <td>4</td>\n",
       "      <td>4</td>\n",
       "      <td>de8192350f7e0f3223c43cf0c8cfb247</td>\n",
       "      <td>216</td>\n",
       "      <td>233</td>\n",
       "      <td>35bb34dd34f29f2b5415de994c37acff</td>\n",
       "      <td>OtherView</td>\n",
       "      <td>Na</td>\n",
       "      <td>7330</td>\n",
       "      <td>2259</td>\n",
       "      <td>10059,10117,10075,10006,10110,16706,10127,1340...</td>\n",
       "      <td>0</td>\n",
       "      <td>1</td>\n",
       "      <td>1</td>\n",
       "      <td>2</td>\n",
       "      <td>windows</td>\n",
       "      <td>chrome</td>\n",
       "      <td>0.062454</td>\n",
       "      <td>False</td>\n",
       "    </tr>\n",
       "  </tbody>\n",
       "</table>\n",
       "</div>"
      ],
      "text/plain": [
       "   Unnamed: 0.1  Unnamed: 0  ... ad_slot_screen_share  is_mobile_device\n",
       "0             0           0  ...             0.026766             False\n",
       "1             1           1  ...             0.071491             False\n",
       "2             2           2  ...             0.038128             False\n",
       "3             3           3  ...             0.071491             False\n",
       "4             4           4  ...             0.062454             False\n",
       "\n",
       "[5 rows x 19 columns]"
      ]
     },
     "execution_count": 2,
     "metadata": {},
     "output_type": "execute_result"
    }
   ],
   "source": [
    "df = pd.read_csv(\"parsed_test_data_no_extra_season_3.csv.zip\", sep=',', compression='zip')\n",
    "df.head()"
   ]
  },
  {
   "cell_type": "code",
   "execution_count": 3,
   "id": "27f09c7f-e620-4aa8-9e5c-3c23f0ab5364",
   "metadata": {
    "execution": {
     "iopub.execute_input": "2025-04-10T17:07:56.105178Z",
     "iopub.status.busy": "2025-04-10T17:07:56.104342Z",
     "iopub.status.idle": "2025-04-10T17:07:56.118276Z",
     "shell.execute_reply": "2025-04-10T17:07:56.117541Z",
     "shell.execute_reply.started": "2025-04-10T17:07:56.105138Z"
    },
    "tags": []
   },
   "outputs": [
    {
     "data": {
      "text/plain": [
       "Index(['Unnamed: 0.1', 'Unnamed: 0', 'bid_id', 'region_id', 'city_id',\n",
       "       'domain', 'ad_slot_visibility', 'ad_slot_format', 'creative_id',\n",
       "       'advertiser_id', 'user_profile_ids', 'click', 'part_of_day', 'weekday',\n",
       "       'weekend', 'os', 'browser', 'ad_slot_screen_share', 'is_mobile_device'],\n",
       "      dtype='object')"
      ]
     },
     "execution_count": 3,
     "metadata": {},
     "output_type": "execute_result"
    }
   ],
   "source": [
    "df.columns"
   ]
  },
  {
   "cell_type": "code",
   "execution_count": 4,
   "id": "15ca41f8-79d9-4d74-a2af-7307ba423cea",
   "metadata": {
    "execution": {
     "iopub.execute_input": "2025-04-10T17:07:56.120386Z",
     "iopub.status.busy": "2025-04-10T17:07:56.119363Z",
     "iopub.status.idle": "2025-04-10T17:07:56.490900Z",
     "shell.execute_reply": "2025-04-10T17:07:56.490001Z",
     "shell.execute_reply.started": "2025-04-10T17:07:56.120347Z"
    },
    "tags": []
   },
   "outputs": [
    {
     "data": {
      "text/html": [
       "<div>\n",
       "<style scoped>\n",
       "    .dataframe tbody tr th:only-of-type {\n",
       "        vertical-align: middle;\n",
       "    }\n",
       "\n",
       "    .dataframe tbody tr th {\n",
       "        vertical-align: top;\n",
       "    }\n",
       "\n",
       "    .dataframe thead th {\n",
       "        text-align: right;\n",
       "    }\n",
       "</style>\n",
       "<table border=\"1\" class=\"dataframe\">\n",
       "  <thead>\n",
       "    <tr style=\"text-align: right;\">\n",
       "      <th></th>\n",
       "      <th>bid_id</th>\n",
       "      <th>region_id</th>\n",
       "      <th>city_id</th>\n",
       "      <th>domain</th>\n",
       "      <th>ad_slot_visibility</th>\n",
       "      <th>ad_slot_format</th>\n",
       "      <th>creative_id</th>\n",
       "      <th>advertiser_id</th>\n",
       "      <th>user_profile_ids</th>\n",
       "      <th>click</th>\n",
       "      <th>part_of_day</th>\n",
       "      <th>weekday</th>\n",
       "      <th>weekend</th>\n",
       "      <th>os</th>\n",
       "      <th>browser</th>\n",
       "      <th>ad_slot_screen_share</th>\n",
       "      <th>is_mobile_device</th>\n",
       "    </tr>\n",
       "  </thead>\n",
       "  <tbody>\n",
       "    <tr>\n",
       "      <th>0</th>\n",
       "      <td>b8c557a16cdd9cea7fa61df79bdb392d</td>\n",
       "      <td>216</td>\n",
       "      <td>233</td>\n",
       "      <td>5eaa6ffce5e827b0907e99679585db6b</td>\n",
       "      <td>OtherView</td>\n",
       "      <td>Na</td>\n",
       "      <td>7328</td>\n",
       "      <td>2259</td>\n",
       "      <td>10684,14273,10052,10133</td>\n",
       "      <td>0</td>\n",
       "      <td>1</td>\n",
       "      <td>1</td>\n",
       "      <td>2</td>\n",
       "      <td>windows</td>\n",
       "      <td>ie</td>\n",
       "      <td>0.026766</td>\n",
       "      <td>False</td>\n",
       "    </tr>\n",
       "    <tr>\n",
       "      <th>1</th>\n",
       "      <td>ce5a2b810ada0cad122508b4a9d1e2fd</td>\n",
       "      <td>216</td>\n",
       "      <td>219</td>\n",
       "      <td>72187db00c907f6304a240c763a6e70a</td>\n",
       "      <td>FirstView</td>\n",
       "      <td>Na</td>\n",
       "      <td>7323</td>\n",
       "      <td>2259</td>\n",
       "      <td>10006</td>\n",
       "      <td>0</td>\n",
       "      <td>1</td>\n",
       "      <td>1</td>\n",
       "      <td>2</td>\n",
       "      <td>windows</td>\n",
       "      <td>ie</td>\n",
       "      <td>0.071491</td>\n",
       "      <td>False</td>\n",
       "    </tr>\n",
       "    <tr>\n",
       "      <th>2</th>\n",
       "      <td>61fb95442aaa7cade3761b7f329a1e73</td>\n",
       "      <td>216</td>\n",
       "      <td>229</td>\n",
       "      <td>39a2330a5cbc1a0ff7104e6aaddb1f68</td>\n",
       "      <td>OtherView</td>\n",
       "      <td>Na</td>\n",
       "      <td>7319</td>\n",
       "      <td>2259</td>\n",
       "      <td>10129,10024,10120,10145,10142,10063</td>\n",
       "      <td>0</td>\n",
       "      <td>3</td>\n",
       "      <td>1</td>\n",
       "      <td>2</td>\n",
       "      <td>windows</td>\n",
       "      <td>chrome</td>\n",
       "      <td>0.038128</td>\n",
       "      <td>False</td>\n",
       "    </tr>\n",
       "    <tr>\n",
       "      <th>3</th>\n",
       "      <td>7f9c3a72df3e4ded04870c08fcbcf72b</td>\n",
       "      <td>216</td>\n",
       "      <td>222</td>\n",
       "      <td>3043163ba84753b4b51dd3290caeae67</td>\n",
       "      <td>Na</td>\n",
       "      <td>Na</td>\n",
       "      <td>7323</td>\n",
       "      <td>2259</td>\n",
       "      <td>10684</td>\n",
       "      <td>0</td>\n",
       "      <td>3</td>\n",
       "      <td>1</td>\n",
       "      <td>2</td>\n",
       "      <td>windows</td>\n",
       "      <td>ie</td>\n",
       "      <td>0.071491</td>\n",
       "      <td>False</td>\n",
       "    </tr>\n",
       "    <tr>\n",
       "      <th>4</th>\n",
       "      <td>de8192350f7e0f3223c43cf0c8cfb247</td>\n",
       "      <td>216</td>\n",
       "      <td>233</td>\n",
       "      <td>35bb34dd34f29f2b5415de994c37acff</td>\n",
       "      <td>OtherView</td>\n",
       "      <td>Na</td>\n",
       "      <td>7330</td>\n",
       "      <td>2259</td>\n",
       "      <td>10059,10117,10075,10006,10110,16706,10127,1340...</td>\n",
       "      <td>0</td>\n",
       "      <td>1</td>\n",
       "      <td>1</td>\n",
       "      <td>2</td>\n",
       "      <td>windows</td>\n",
       "      <td>chrome</td>\n",
       "      <td>0.062454</td>\n",
       "      <td>False</td>\n",
       "    </tr>\n",
       "  </tbody>\n",
       "</table>\n",
       "</div>"
      ],
      "text/plain": [
       "                             bid_id  ...  is_mobile_device\n",
       "0  b8c557a16cdd9cea7fa61df79bdb392d  ...             False\n",
       "1  ce5a2b810ada0cad122508b4a9d1e2fd  ...             False\n",
       "2  61fb95442aaa7cade3761b7f329a1e73  ...             False\n",
       "3  7f9c3a72df3e4ded04870c08fcbcf72b  ...             False\n",
       "4  de8192350f7e0f3223c43cf0c8cfb247  ...             False\n",
       "\n",
       "[5 rows x 17 columns]"
      ]
     },
     "execution_count": 4,
     "metadata": {},
     "output_type": "execute_result"
    }
   ],
   "source": [
    "df = df.drop(\"Unnamed: 0\", axis=1).drop(\"Unnamed: 0.1\", axis=1)\n",
    "df.head()"
   ]
  },
  {
   "cell_type": "code",
   "execution_count": 5,
   "id": "5f7c6678-390e-4048-bc0e-30ec43f7c212",
   "metadata": {
    "execution": {
     "iopub.execute_input": "2025-04-10T17:07:56.494102Z",
     "iopub.status.busy": "2025-04-10T17:07:56.492969Z",
     "iopub.status.idle": "2025-04-10T17:07:56.514945Z",
     "shell.execute_reply": "2025-04-10T17:07:56.514194Z",
     "shell.execute_reply.started": "2025-04-10T17:07:56.494063Z"
    },
    "tags": []
   },
   "outputs": [
    {
     "data": {
      "text/plain": [
       "bid_id                   object\n",
       "region_id                 int64\n",
       "city_id                   int64\n",
       "domain                   object\n",
       "ad_slot_visibility       object\n",
       "ad_slot_format           object\n",
       "creative_id               int64\n",
       "advertiser_id             int64\n",
       "user_profile_ids         object\n",
       "click                     int64\n",
       "part_of_day               int64\n",
       "weekday                   int64\n",
       "weekend                   int64\n",
       "os                       object\n",
       "browser                  object\n",
       "ad_slot_screen_share    float64\n",
       "is_mobile_device           bool\n",
       "dtype: object"
      ]
     },
     "execution_count": 5,
     "metadata": {},
     "output_type": "execute_result"
    }
   ],
   "source": [
    "df.dtypes"
   ]
  },
  {
   "cell_type": "code",
   "execution_count": 6,
   "id": "6d11a3b8-cb41-415b-a71f-bd98bc6f8dcc",
   "metadata": {
    "execution": {
     "iopub.execute_input": "2025-04-10T17:07:56.516621Z",
     "iopub.status.busy": "2025-04-10T17:07:56.515977Z",
     "iopub.status.idle": "2025-04-10T17:07:56.568975Z",
     "shell.execute_reply": "2025-04-10T17:07:56.568108Z",
     "shell.execute_reply.started": "2025-04-10T17:07:56.516571Z"
    },
    "tags": []
   },
   "outputs": [],
   "source": [
    "df['click'] = df['click'].astype('bool')"
   ]
  },
  {
   "cell_type": "code",
   "execution_count": 7,
   "id": "77d81d23-8f85-447d-9141-5c409f99599c",
   "metadata": {
    "execution": {
     "iopub.execute_input": "2025-04-10T17:07:56.571899Z",
     "iopub.status.busy": "2025-04-10T17:07:56.570279Z",
     "iopub.status.idle": "2025-04-10T17:07:56.721386Z",
     "shell.execute_reply": "2025-04-10T17:07:56.720615Z",
     "shell.execute_reply.started": "2025-04-10T17:07:56.571856Z"
    },
    "tags": []
   },
   "outputs": [
    {
     "data": {
      "text/plain": [
       "(array(['5eaa6ffce5e827b0907e99679585db6b',\n",
       "        '72187db00c907f6304a240c763a6e70a',\n",
       "        '39a2330a5cbc1a0ff7104e6aaddb1f68', ...,\n",
       "        '72caec50a3242143fc49d4b23ef762d9',\n",
       "        '42636e352d481b8fcd05c5e0b844ee70',\n",
       "        'b0401d35bbcf270cc00fe757bbe49081'], dtype=object),\n",
       " 19176)"
      ]
     },
     "execution_count": 7,
     "metadata": {},
     "output_type": "execute_result"
    }
   ],
   "source": [
    "pd.unique(df['domain']), len(pd.unique(df['domain']))"
   ]
  },
  {
   "cell_type": "code",
   "execution_count": 8,
   "id": "bb9f4925-d011-4a3e-a5ae-c9cc4a2c59b3",
   "metadata": {
    "execution": {
     "iopub.execute_input": "2025-04-10T17:07:56.724458Z",
     "iopub.status.busy": "2025-04-10T17:07:56.722416Z",
     "iopub.status.idle": "2025-04-10T17:07:56.864278Z",
     "shell.execute_reply": "2025-04-10T17:07:56.863437Z",
     "shell.execute_reply.started": "2025-04-10T17:07:56.724416Z"
    },
    "tags": []
   },
   "outputs": [],
   "source": [
    "df = df.drop(\"domain\", axis=1)"
   ]
  },
  {
   "cell_type": "code",
   "execution_count": 9,
   "id": "2c52d732-0f62-4616-a075-d8fbbeafa466",
   "metadata": {
    "execution": {
     "iopub.execute_input": "2025-04-10T17:07:56.865900Z",
     "iopub.status.busy": "2025-04-10T17:07:56.865279Z",
     "iopub.status.idle": "2025-04-10T17:07:57.000385Z",
     "shell.execute_reply": "2025-04-10T17:07:56.999574Z",
     "shell.execute_reply.started": "2025-04-10T17:07:56.865862Z"
    },
    "tags": []
   },
   "outputs": [
    {
     "data": {
      "text/plain": [
       "(array(['windows', 'other', 'mac', 'android', 'linux', 'ios'], dtype=object),\n",
       " 6)"
      ]
     },
     "execution_count": 9,
     "metadata": {},
     "output_type": "execute_result"
    }
   ],
   "source": [
    "pd.unique(df['os']), len(pd.unique(df['os']))"
   ]
  },
  {
   "cell_type": "code",
   "execution_count": 10,
   "id": "371bdff1-8515-4df0-98c4-f851a9ab1313",
   "metadata": {
    "execution": {
     "iopub.execute_input": "2025-04-10T17:07:57.002451Z",
     "iopub.status.busy": "2025-04-10T17:07:57.001388Z",
     "iopub.status.idle": "2025-04-10T17:07:57.043640Z",
     "shell.execute_reply": "2025-04-10T17:07:57.042850Z",
     "shell.execute_reply.started": "2025-04-10T17:07:57.002413Z"
    }
   },
   "outputs": [
    {
     "data": {
      "text/plain": [
       "(array([0.02676611, 0.07149067, 0.03812836, 0.06245425, 0.05957556,\n",
       "        0.08967789, 0.0857888 , 0.08149936, 0.02859627, 0.09150805,\n",
       "        0.08235725, 0.06519949, 0.02745242, 0.1875    , 0.06863104,\n",
       "        0.15625   , 0.01338305, 0.196     , 0.2       , 0.18      ,\n",
       "        0.08333333, 0.13020833, 0.01489389, 0.02573664, 0.1715776 ,\n",
       "        0.1365    , 0.06      , 0.07806781, 0.1425    , 0.178125  ,\n",
       "        0.0585    , 0.0625    , 0.15      , 0.10294656, 0.170625  ,\n",
       "        0.03333333, 0.01525134, 0.05490483, 0.03545937, 0.18375   ,\n",
       "        0.08407302, 0.07473158, 0.12      , 0.16333333, 0.05480951,\n",
       "        0.225     , 0.11979167, 0.0775    ]),\n",
       " 48)"
      ]
     },
     "execution_count": 10,
     "metadata": {},
     "output_type": "execute_result"
    }
   ],
   "source": [
    "pd.unique(df['ad_slot_screen_share']), len(pd.unique(df['ad_slot_screen_share']))"
   ]
  },
  {
   "cell_type": "code",
   "execution_count": 11,
   "id": "73fab4ea-a005-4eb3-b3cc-fbc23a7605c6",
   "metadata": {
    "execution": {
     "iopub.execute_input": "2025-04-10T17:07:57.047551Z",
     "iopub.status.busy": "2025-04-10T17:07:57.046501Z",
     "iopub.status.idle": "2025-04-10T17:07:57.065268Z",
     "shell.execute_reply": "2025-04-10T17:07:57.064256Z",
     "shell.execute_reply.started": "2025-04-10T17:07:57.047512Z"
    },
    "tags": []
   },
   "outputs": [],
   "source": [
    "df['ad_slot_screen_share'] = df['ad_slot_screen_share'].round(2)"
   ]
  },
  {
   "cell_type": "code",
   "execution_count": 12,
   "id": "c834a7e7-87a7-4061-b796-7a1451c9a0b9",
   "metadata": {
    "execution": {
     "iopub.execute_input": "2025-04-10T17:07:57.067192Z",
     "iopub.status.busy": "2025-04-10T17:07:57.066534Z",
     "iopub.status.idle": "2025-04-10T17:07:57.422325Z",
     "shell.execute_reply": "2025-04-10T17:07:57.421373Z",
     "shell.execute_reply.started": "2025-04-10T17:07:57.067133Z"
    },
    "tags": []
   },
   "outputs": [
    {
     "data": {
      "text/plain": [
       "(array(['10684,14273,10052,10133', '10006',\n",
       "        '10129,10024,10120,10145,10142,10063', ...,\n",
       "        '10117,10083,10006,10024,10111,10127,13403',\n",
       "        '10117,10083,13866,10006,10127,13403',\n",
       "        '10059,10083,10006,10110,13776,10126,13403,10063,10116'],\n",
       "       dtype=object),\n",
       " 399768)"
      ]
     },
     "execution_count": 12,
     "metadata": {},
     "output_type": "execute_result"
    }
   ],
   "source": [
    "pd.unique(df['user_profile_ids']), len(pd.unique(df['user_profile_ids']))"
   ]
  },
  {
   "cell_type": "code",
   "execution_count": 13,
   "id": "7b893f69-fd6b-4224-9972-fc85345adb98",
   "metadata": {
    "execution": {
     "iopub.execute_input": "2025-04-10T17:07:57.424306Z",
     "iopub.status.busy": "2025-04-10T17:07:57.423401Z",
     "iopub.status.idle": "2025-04-10T17:07:57.438966Z",
     "shell.execute_reply": "2025-04-10T17:07:57.438113Z",
     "shell.execute_reply.started": "2025-04-10T17:07:57.424268Z"
    },
    "tags": []
   },
   "outputs": [],
   "source": [
    "# df = df.drop(\"user_profile_ids\", axis=1)"
   ]
  },
  {
   "cell_type": "code",
   "execution_count": 14,
   "id": "26ffae0c-3e7c-40bf-8f0f-c564128ac81d",
   "metadata": {
    "execution": {
     "iopub.execute_input": "2025-04-10T17:07:57.441362Z",
     "iopub.status.busy": "2025-04-10T17:07:57.440224Z",
     "iopub.status.idle": "2025-04-10T17:07:57.472058Z",
     "shell.execute_reply": "2025-04-10T17:07:57.471273Z",
     "shell.execute_reply.started": "2025-04-10T17:07:57.441323Z"
    }
   },
   "outputs": [
    {
     "data": {
      "text/html": [
       "<div>\n",
       "<style scoped>\n",
       "    .dataframe tbody tr th:only-of-type {\n",
       "        vertical-align: middle;\n",
       "    }\n",
       "\n",
       "    .dataframe tbody tr th {\n",
       "        vertical-align: top;\n",
       "    }\n",
       "\n",
       "    .dataframe thead th {\n",
       "        text-align: right;\n",
       "    }\n",
       "</style>\n",
       "<table border=\"1\" class=\"dataframe\">\n",
       "  <thead>\n",
       "    <tr style=\"text-align: right;\">\n",
       "      <th></th>\n",
       "      <th>bid_id</th>\n",
       "      <th>region_id</th>\n",
       "      <th>city_id</th>\n",
       "      <th>ad_slot_visibility</th>\n",
       "      <th>ad_slot_format</th>\n",
       "      <th>creative_id</th>\n",
       "      <th>advertiser_id</th>\n",
       "      <th>user_profile_ids</th>\n",
       "      <th>click</th>\n",
       "      <th>part_of_day</th>\n",
       "      <th>weekday</th>\n",
       "      <th>weekend</th>\n",
       "      <th>os</th>\n",
       "      <th>browser</th>\n",
       "      <th>ad_slot_screen_share</th>\n",
       "      <th>is_mobile_device</th>\n",
       "    </tr>\n",
       "  </thead>\n",
       "  <tbody>\n",
       "    <tr>\n",
       "      <th>0</th>\n",
       "      <td>b8c557a16cdd9cea7fa61df79bdb392d</td>\n",
       "      <td>216</td>\n",
       "      <td>233</td>\n",
       "      <td>OtherView</td>\n",
       "      <td>Na</td>\n",
       "      <td>7328</td>\n",
       "      <td>2259</td>\n",
       "      <td>10684,14273,10052,10133</td>\n",
       "      <td>False</td>\n",
       "      <td>1</td>\n",
       "      <td>1</td>\n",
       "      <td>2</td>\n",
       "      <td>windows</td>\n",
       "      <td>ie</td>\n",
       "      <td>0.03</td>\n",
       "      <td>False</td>\n",
       "    </tr>\n",
       "    <tr>\n",
       "      <th>1</th>\n",
       "      <td>ce5a2b810ada0cad122508b4a9d1e2fd</td>\n",
       "      <td>216</td>\n",
       "      <td>219</td>\n",
       "      <td>FirstView</td>\n",
       "      <td>Na</td>\n",
       "      <td>7323</td>\n",
       "      <td>2259</td>\n",
       "      <td>10006</td>\n",
       "      <td>False</td>\n",
       "      <td>1</td>\n",
       "      <td>1</td>\n",
       "      <td>2</td>\n",
       "      <td>windows</td>\n",
       "      <td>ie</td>\n",
       "      <td>0.07</td>\n",
       "      <td>False</td>\n",
       "    </tr>\n",
       "    <tr>\n",
       "      <th>2</th>\n",
       "      <td>61fb95442aaa7cade3761b7f329a1e73</td>\n",
       "      <td>216</td>\n",
       "      <td>229</td>\n",
       "      <td>OtherView</td>\n",
       "      <td>Na</td>\n",
       "      <td>7319</td>\n",
       "      <td>2259</td>\n",
       "      <td>10129,10024,10120,10145,10142,10063</td>\n",
       "      <td>False</td>\n",
       "      <td>3</td>\n",
       "      <td>1</td>\n",
       "      <td>2</td>\n",
       "      <td>windows</td>\n",
       "      <td>chrome</td>\n",
       "      <td>0.04</td>\n",
       "      <td>False</td>\n",
       "    </tr>\n",
       "    <tr>\n",
       "      <th>3</th>\n",
       "      <td>7f9c3a72df3e4ded04870c08fcbcf72b</td>\n",
       "      <td>216</td>\n",
       "      <td>222</td>\n",
       "      <td>Na</td>\n",
       "      <td>Na</td>\n",
       "      <td>7323</td>\n",
       "      <td>2259</td>\n",
       "      <td>10684</td>\n",
       "      <td>False</td>\n",
       "      <td>3</td>\n",
       "      <td>1</td>\n",
       "      <td>2</td>\n",
       "      <td>windows</td>\n",
       "      <td>ie</td>\n",
       "      <td>0.07</td>\n",
       "      <td>False</td>\n",
       "    </tr>\n",
       "    <tr>\n",
       "      <th>4</th>\n",
       "      <td>de8192350f7e0f3223c43cf0c8cfb247</td>\n",
       "      <td>216</td>\n",
       "      <td>233</td>\n",
       "      <td>OtherView</td>\n",
       "      <td>Na</td>\n",
       "      <td>7330</td>\n",
       "      <td>2259</td>\n",
       "      <td>10059,10117,10075,10006,10110,16706,10127,1340...</td>\n",
       "      <td>False</td>\n",
       "      <td>1</td>\n",
       "      <td>1</td>\n",
       "      <td>2</td>\n",
       "      <td>windows</td>\n",
       "      <td>chrome</td>\n",
       "      <td>0.06</td>\n",
       "      <td>False</td>\n",
       "    </tr>\n",
       "  </tbody>\n",
       "</table>\n",
       "</div>"
      ],
      "text/plain": [
       "                             bid_id  ...  is_mobile_device\n",
       "0  b8c557a16cdd9cea7fa61df79bdb392d  ...             False\n",
       "1  ce5a2b810ada0cad122508b4a9d1e2fd  ...             False\n",
       "2  61fb95442aaa7cade3761b7f329a1e73  ...             False\n",
       "3  7f9c3a72df3e4ded04870c08fcbcf72b  ...             False\n",
       "4  de8192350f7e0f3223c43cf0c8cfb247  ...             False\n",
       "\n",
       "[5 rows x 16 columns]"
      ]
     },
     "execution_count": 14,
     "metadata": {},
     "output_type": "execute_result"
    }
   ],
   "source": [
    "df.head()"
   ]
  },
  {
   "cell_type": "code",
   "execution_count": 15,
   "id": "ebc47073-3804-4398-8961-71d54db9c834",
   "metadata": {
    "execution": {
     "iopub.execute_input": "2025-04-10T17:07:57.474199Z",
     "iopub.status.busy": "2025-04-10T17:07:57.473097Z",
     "iopub.status.idle": "2025-04-10T17:07:57.499358Z",
     "shell.execute_reply": "2025-04-10T17:07:57.498584Z",
     "shell.execute_reply.started": "2025-04-10T17:07:57.474145Z"
    }
   },
   "outputs": [
    {
     "data": {
      "text/plain": [
       "(array([2259, 2821, 2997, 2261]), 4)"
      ]
     },
     "execution_count": 15,
     "metadata": {},
     "output_type": "execute_result"
    }
   ],
   "source": [
    "pd.unique(df['advertiser_id']), len(pd.unique(df['advertiser_id']))"
   ]
  },
  {
   "cell_type": "code",
   "execution_count": 16,
   "id": "23714f43-e8fa-42c2-9ef6-53a9d70615aa",
   "metadata": {
    "execution": {
     "iopub.execute_input": "2025-04-10T17:07:57.501330Z",
     "iopub.status.busy": "2025-04-10T17:07:57.500454Z",
     "iopub.status.idle": "2025-04-10T17:07:57.652940Z",
     "shell.execute_reply": "2025-04-10T17:07:57.652156Z",
     "shell.execute_reply.started": "2025-04-10T17:07:57.501292Z"
    }
   },
   "outputs": [
    {
     "data": {
      "text/plain": [
       "(array(['OtherView', 'FirstView', 'Na', 'ThirdView', 'SecondView',\n",
       "        'FourthView', 'FifthView'], dtype=object),\n",
       " 7)"
      ]
     },
     "execution_count": 16,
     "metadata": {},
     "output_type": "execute_result"
    }
   ],
   "source": [
    "pd.unique(df['ad_slot_visibility']), len(pd.unique(df['ad_slot_visibility']))"
   ]
  },
  {
   "cell_type": "code",
   "execution_count": 17,
   "id": "50e5d60e-8dac-4b9b-a30e-e962f0ee6c44",
   "metadata": {
    "execution": {
     "iopub.execute_input": "2025-04-10T17:07:57.655357Z",
     "iopub.status.busy": "2025-04-10T17:07:57.653869Z",
     "iopub.status.idle": "2025-04-10T17:07:57.762466Z",
     "shell.execute_reply": "2025-04-10T17:07:57.761580Z",
     "shell.execute_reply.started": "2025-04-10T17:07:57.655325Z"
    }
   },
   "outputs": [
    {
     "data": {
      "text/plain": [
       "(array(['Na'], dtype=object), 1)"
      ]
     },
     "execution_count": 17,
     "metadata": {},
     "output_type": "execute_result"
    }
   ],
   "source": [
    "pd.unique(df['ad_slot_format']), len(pd.unique(df['ad_slot_format']))"
   ]
  },
  {
   "cell_type": "code",
   "execution_count": 18,
   "id": "a375f54a-ec77-4483-8217-6453430b803e",
   "metadata": {
    "execution": {
     "iopub.execute_input": "2025-04-10T17:07:57.764401Z",
     "iopub.status.busy": "2025-04-10T17:07:57.763642Z",
     "iopub.status.idle": "2025-04-10T17:07:57.789251Z",
     "shell.execute_reply": "2025-04-10T17:07:57.788437Z",
     "shell.execute_reply.started": "2025-04-10T17:07:57.764356Z"
    },
    "tags": []
   },
   "outputs": [
    {
     "data": {
      "text/plain": [
       "(array([ 7328,  7323,  7319,  7330,  7321,  7326,  7336,  7333,  7322,\n",
       "         7317,  7335,  7331,  7314,  7315,  7320,  7316,  7318,  7325,\n",
       "         7332,  7324, 10717, 10734, 10722, 10719, 10720, 10721, 10718,\n",
       "        10723, 10733,  7327, 12987, 12620, 12626, 12625, 12616, 12633,\n",
       "        12611, 12622, 12628, 12627, 12630, 12623, 12613, 12632, 12610,\n",
       "        12618, 12621, 12629, 12615, 12631, 12619, 12624, 12612, 12614]),\n",
       " 54)"
      ]
     },
     "execution_count": 18,
     "metadata": {},
     "output_type": "execute_result"
    }
   ],
   "source": [
    "pd.unique(df['creative_id']), len(pd.unique(df['creative_id']))"
   ]
  },
  {
   "cell_type": "code",
   "execution_count": 19,
   "id": "89d3b3f7-55fc-4987-91ee-12ec0c69d04b",
   "metadata": {
    "execution": {
     "iopub.execute_input": "2025-04-10T17:07:57.791554Z",
     "iopub.status.busy": "2025-04-10T17:07:57.790657Z",
     "iopub.status.idle": "2025-04-10T17:08:14.303965Z",
     "shell.execute_reply": "2025-04-10T17:08:14.303095Z",
     "shell.execute_reply.started": "2025-04-10T17:07:57.791517Z"
    },
    "tags": []
   },
   "outputs": [],
   "source": [
    "df.to_csv(\"final_test_data_season_3.csv.zip\", compression='zip')"
   ]
  },
  {
   "cell_type": "code",
   "execution_count": null,
   "id": "b3b13b2f-645d-457f-b537-f2cb64e2ba65",
   "metadata": {},
   "outputs": [],
   "source": []
  }
 ],
 "metadata": {
  "kernelspec": {
   "display_name": "DataSphere Kernel",
   "language": "python",
   "name": "python3"
  },
  "language_info": {
   "codemirror_mode": {
    "name": "ipython",
    "version": 3
   },
   "file_extension": ".py",
   "mimetype": "text/x-python",
   "name": "python",
   "nbconvert_exporter": "python",
   "pygments_lexer": "ipython3",
   "version": "3.10.12"
  }
 },
 "nbformat": 4,
 "nbformat_minor": 5
}
