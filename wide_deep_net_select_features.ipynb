{
 "cells": [
  {
   "cell_type": "code",
   "execution_count": 1,
   "metadata": {
    "_cell_guid": "b1076dfc-b9ad-4769-8c92-a6c4dae69d19",
    "_uuid": "8f2839f25d086af736a60e9eeb907d3b93b6e0e5",
    "execution": {
     "iopub.execute_input": "2025-04-27T12:50:14.329714Z",
     "iopub.status.busy": "2025-04-27T12:50:14.329333Z",
     "iopub.status.idle": "2025-04-27T12:50:21.829757Z",
     "shell.execute_reply": "2025-04-27T12:50:21.828874Z",
     "shell.execute_reply.started": "2025-04-27T12:50:14.329691Z"
    },
    "tags": []
   },
   "outputs": [],
   "source": [
    "import pandas as pd\n",
    "from sklearn.metrics import roc_auc_score, roc_curve\n",
    "import matplotlib.pyplot as plt\n",
    "import numpy as np\n",
    "import torch\n",
    "import torch.nn as nn\n",
    "import torch.optim as optim\n",
    "from sklearn.preprocessing import OrdinalEncoder, StandardScaler"
   ]
  },
  {
   "cell_type": "code",
   "execution_count": 49,
   "metadata": {
    "execution": {
     "iopub.execute_input": "2025-04-27T13:03:05.906130Z",
     "iopub.status.busy": "2025-04-27T13:03:05.905394Z",
     "iopub.status.idle": "2025-04-27T13:03:45.415384Z",
     "shell.execute_reply": "2025-04-27T13:03:45.414438Z",
     "shell.execute_reply.started": "2025-04-27T13:03:05.906108Z"
    },
    "tags": []
   },
   "outputs": [
    {
     "name": "stderr",
     "output_type": "stream",
     "text": [
      "/tmp/ipykernel_9738/3222708738.py:1: DtypeWarning: Columns (15,16,17) have mixed types. Specify dtype option on import or set low_memory=False.\n",
      "  train_df = pd.read_csv('parsed_final_data_season_3.csv.zip', compression='zip')\n"
     ]
    }
   ],
   "source": [
    "train_df = pd.read_csv('parsed_final_data_season_3.csv.zip', compression='zip')\n",
    "test_df = pd.read_csv('final_test_data_season_3.csv.zip', compression='zip')"
   ]
  },
  {
   "cell_type": "code",
   "execution_count": 50,
   "metadata": {
    "execution": {
     "iopub.execute_input": "2025-04-27T13:03:45.417349Z",
     "iopub.status.busy": "2025-04-27T13:03:45.416709Z",
     "iopub.status.idle": "2025-04-27T13:03:47.230526Z",
     "shell.execute_reply": "2025-04-27T13:03:47.229767Z",
     "shell.execute_reply.started": "2025-04-27T13:03:45.417328Z"
    },
    "tags": []
   },
   "outputs": [],
   "source": [
    "train_df = train_df.drop('Unnamed: 0', axis=1)\n",
    "test_df = test_df.drop('Unnamed: 0', axis=1)"
   ]
  },
  {
   "cell_type": "code",
   "execution_count": 4,
   "metadata": {
    "execution": {
     "iopub.execute_input": "2025-04-27T12:51:05.376188Z",
     "iopub.status.busy": "2025-04-27T12:51:05.375863Z",
     "iopub.status.idle": "2025-04-27T12:51:05.398819Z",
     "shell.execute_reply": "2025-04-27T12:51:05.397838Z",
     "shell.execute_reply.started": "2025-04-27T12:51:05.376169Z"
    },
    "tags": []
   },
   "outputs": [],
   "source": [
    "# train_df = train_df.fillna(value=False)"
   ]
  },
  {
   "cell_type": "code",
   "execution_count": 5,
   "metadata": {
    "execution": {
     "iopub.execute_input": "2025-04-27T12:51:05.399657Z",
     "iopub.status.busy": "2025-04-27T12:51:05.399352Z",
     "iopub.status.idle": "2025-04-27T12:51:05.449748Z",
     "shell.execute_reply": "2025-04-27T12:51:05.448940Z",
     "shell.execute_reply.started": "2025-04-27T12:51:05.399638Z"
    },
    "tags": []
   },
   "outputs": [
    {
     "data": {
      "text/html": [
       "<div>\n",
       "<style scoped>\n",
       "    .dataframe tbody tr th:only-of-type {\n",
       "        vertical-align: middle;\n",
       "    }\n",
       "\n",
       "    .dataframe tbody tr th {\n",
       "        vertical-align: top;\n",
       "    }\n",
       "\n",
       "    .dataframe thead th {\n",
       "        text-align: right;\n",
       "    }\n",
       "</style>\n",
       "<table border=\"1\" class=\"dataframe\">\n",
       "  <thead>\n",
       "    <tr style=\"text-align: right;\">\n",
       "      <th></th>\n",
       "      <th>bid_id</th>\n",
       "      <th>region_id</th>\n",
       "      <th>city_id</th>\n",
       "      <th>ad_slot_visibility</th>\n",
       "      <th>ad_slot_format</th>\n",
       "      <th>creative_id</th>\n",
       "      <th>advertiser_id</th>\n",
       "      <th>part_of_day</th>\n",
       "      <th>weekday</th>\n",
       "      <th>weekend</th>\n",
       "      <th>os</th>\n",
       "      <th>browser</th>\n",
       "      <th>ad_slot_screen_share</th>\n",
       "      <th>is_mobile_device</th>\n",
       "      <th>is_male</th>\n",
       "      <th>is_long_term_interest</th>\n",
       "      <th>is_in_market</th>\n",
       "      <th>is_info_cat</th>\n",
       "      <th>is_products_cat</th>\n",
       "      <th>is_service_cat</th>\n",
       "      <th>is_entertainment_cat</th>\n",
       "      <th>is_girly_cat</th>\n",
       "      <th>click</th>\n",
       "    </tr>\n",
       "  </thead>\n",
       "  <tbody>\n",
       "    <tr>\n",
       "      <th>0</th>\n",
       "      <td>9aa9b28f32adfc833634f28bb9703e83</td>\n",
       "      <td>216</td>\n",
       "      <td>219</td>\n",
       "      <td>Na</td>\n",
       "      <td>Fixed</td>\n",
       "      <td>7321</td>\n",
       "      <td>2259</td>\n",
       "      <td>2</td>\n",
       "      <td>3</td>\n",
       "      <td>2</td>\n",
       "      <td>windows</td>\n",
       "      <td>chrome</td>\n",
       "      <td>0.06</td>\n",
       "      <td>False</td>\n",
       "      <td>NaN</td>\n",
       "      <td>NaN</td>\n",
       "      <td>NaN</td>\n",
       "      <td>False</td>\n",
       "      <td>False</td>\n",
       "      <td>False</td>\n",
       "      <td>False</td>\n",
       "      <td>False</td>\n",
       "      <td>False</td>\n",
       "    </tr>\n",
       "    <tr>\n",
       "      <th>1</th>\n",
       "      <td>1ede4e457f5031ec1640dbe1259a4616</td>\n",
       "      <td>216</td>\n",
       "      <td>217</td>\n",
       "      <td>FirstView</td>\n",
       "      <td>Fixed</td>\n",
       "      <td>7321</td>\n",
       "      <td>2259</td>\n",
       "      <td>2</td>\n",
       "      <td>3</td>\n",
       "      <td>2</td>\n",
       "      <td>windows</td>\n",
       "      <td>ie</td>\n",
       "      <td>0.06</td>\n",
       "      <td>False</td>\n",
       "      <td>NaN</td>\n",
       "      <td>NaN</td>\n",
       "      <td>NaN</td>\n",
       "      <td>False</td>\n",
       "      <td>False</td>\n",
       "      <td>False</td>\n",
       "      <td>False</td>\n",
       "      <td>False</td>\n",
       "      <td>False</td>\n",
       "    </tr>\n",
       "    <tr>\n",
       "      <th>2</th>\n",
       "      <td>fca79371fc0f67ac6264f558bc664fd6</td>\n",
       "      <td>216</td>\n",
       "      <td>217</td>\n",
       "      <td>Na</td>\n",
       "      <td>Fixed</td>\n",
       "      <td>7323</td>\n",
       "      <td>2259</td>\n",
       "      <td>2</td>\n",
       "      <td>3</td>\n",
       "      <td>2</td>\n",
       "      <td>windows</td>\n",
       "      <td>chrome</td>\n",
       "      <td>0.07</td>\n",
       "      <td>False</td>\n",
       "      <td>NaN</td>\n",
       "      <td>NaN</td>\n",
       "      <td>NaN</td>\n",
       "      <td>False</td>\n",
       "      <td>False</td>\n",
       "      <td>False</td>\n",
       "      <td>False</td>\n",
       "      <td>False</td>\n",
       "      <td>False</td>\n",
       "    </tr>\n",
       "    <tr>\n",
       "      <th>3</th>\n",
       "      <td>7717c608f688ea3b087e292c91604ea5</td>\n",
       "      <td>183</td>\n",
       "      <td>184</td>\n",
       "      <td>Na</td>\n",
       "      <td>Fixed</td>\n",
       "      <td>10722</td>\n",
       "      <td>2821</td>\n",
       "      <td>2</td>\n",
       "      <td>3</td>\n",
       "      <td>2</td>\n",
       "      <td>windows</td>\n",
       "      <td>ie</td>\n",
       "      <td>0.07</td>\n",
       "      <td>False</td>\n",
       "      <td>NaN</td>\n",
       "      <td>NaN</td>\n",
       "      <td>NaN</td>\n",
       "      <td>False</td>\n",
       "      <td>False</td>\n",
       "      <td>False</td>\n",
       "      <td>False</td>\n",
       "      <td>False</td>\n",
       "      <td>False</td>\n",
       "    </tr>\n",
       "    <tr>\n",
       "      <th>4</th>\n",
       "      <td>35528d946791bc45b75ded2a2dbdabfe</td>\n",
       "      <td>3</td>\n",
       "      <td>3</td>\n",
       "      <td>FirstView</td>\n",
       "      <td>Fixed</td>\n",
       "      <td>10722</td>\n",
       "      <td>2821</td>\n",
       "      <td>2</td>\n",
       "      <td>3</td>\n",
       "      <td>2</td>\n",
       "      <td>windows</td>\n",
       "      <td>ie</td>\n",
       "      <td>0.07</td>\n",
       "      <td>False</td>\n",
       "      <td>NaN</td>\n",
       "      <td>NaN</td>\n",
       "      <td>NaN</td>\n",
       "      <td>False</td>\n",
       "      <td>False</td>\n",
       "      <td>False</td>\n",
       "      <td>False</td>\n",
       "      <td>False</td>\n",
       "      <td>False</td>\n",
       "    </tr>\n",
       "  </tbody>\n",
       "</table>\n",
       "</div>"
      ],
      "text/plain": [
       "                             bid_id  region_id  ...  is_girly_cat  click\n",
       "0  9aa9b28f32adfc833634f28bb9703e83        216  ...         False  False\n",
       "1  1ede4e457f5031ec1640dbe1259a4616        216  ...         False  False\n",
       "2  fca79371fc0f67ac6264f558bc664fd6        216  ...         False  False\n",
       "3  7717c608f688ea3b087e292c91604ea5        183  ...         False  False\n",
       "4  35528d946791bc45b75ded2a2dbdabfe          3  ...         False  False\n",
       "\n",
       "[5 rows x 23 columns]"
      ]
     },
     "execution_count": 5,
     "metadata": {},
     "output_type": "execute_result"
    }
   ],
   "source": [
    "train_df.head()"
   ]
  },
  {
   "cell_type": "code",
   "execution_count": 6,
   "metadata": {
    "execution": {
     "iopub.execute_input": "2025-04-27T12:51:05.450910Z",
     "iopub.status.busy": "2025-04-27T12:51:05.450594Z",
     "iopub.status.idle": "2025-04-27T12:51:05.484684Z",
     "shell.execute_reply": "2025-04-27T12:51:05.483924Z",
     "shell.execute_reply.started": "2025-04-27T12:51:05.450891Z"
    },
    "tags": []
   },
   "outputs": [
    {
     "data": {
      "text/plain": [
       "Index(['bid_id', 'region_id', 'city_id', 'ad_slot_visibility',\n",
       "       'ad_slot_format', 'creative_id', 'advertiser_id', 'part_of_day',\n",
       "       'weekday', 'weekend', 'os', 'browser', 'ad_slot_screen_share',\n",
       "       'is_mobile_device', 'is_male', 'is_long_term_interest', 'is_in_market',\n",
       "       'is_info_cat', 'is_products_cat', 'is_service_cat',\n",
       "       'is_entertainment_cat', 'is_girly_cat', 'click'],\n",
       "      dtype='object')"
      ]
     },
     "execution_count": 6,
     "metadata": {},
     "output_type": "execute_result"
    }
   ],
   "source": [
    "train_df.columns"
   ]
  },
  {
   "cell_type": "code",
   "execution_count": 48,
   "metadata": {
    "execution": {
     "iopub.execute_input": "2025-04-27T13:02:58.714338Z",
     "iopub.status.busy": "2025-04-27T13:02:58.713684Z",
     "iopub.status.idle": "2025-04-27T13:02:58.736196Z",
     "shell.execute_reply": "2025-04-27T13:02:58.735293Z",
     "shell.execute_reply.started": "2025-04-27T13:02:58.714311Z"
    },
    "tags": []
   },
   "outputs": [],
   "source": [
    "target_column = 'click'\n",
    "categorical_features = [\n",
    "    'city_id', 'ad_slot_visibility', 'ad_slot_format',\n",
    "    'creative_id', 'advertiser_id', 'part_of_day', 'weekday',\n",
    "    'os', 'browser', 'is_in_market', 'is_male', 'is_mobile_device'\n",
    "]\n",
    "feature_columns = categorical_features + [\"ad_slot_screen_share\"]"
   ]
  },
  {
   "cell_type": "code",
   "execution_count": 8,
   "metadata": {
    "execution": {
     "iopub.execute_input": "2025-04-27T12:51:05.522582Z",
     "iopub.status.busy": "2025-04-27T12:51:05.522276Z",
     "iopub.status.idle": "2025-04-27T12:51:05.536846Z",
     "shell.execute_reply": "2025-04-27T12:51:05.536190Z",
     "shell.execute_reply.started": "2025-04-27T12:51:05.522563Z"
    },
    "tags": []
   },
   "outputs": [],
   "source": [
    "def prepare_data_ord(df, feature_columns, categorical_features, ord_encoder=None, scaler=None, fit=True):\n",
    "    X_cat = df[categorical_features].astype(str)\n",
    "    X_num = df[[f for f in feature_columns if f not in categorical_features]]\n",
    "    if fit:\n",
    "        ord_encoder = OrdinalEncoder(handle_unknown='use_encoded_value', unknown_value=-1)\n",
    "        scaler = StandardScaler()\n",
    "        X_cat_enc = ord_encoder.fit_transform(X_cat)\n",
    "        X_num_enc = scaler.fit_transform(X_num)\n",
    "    else:\n",
    "        X_cat_enc = ord_encoder.transform(X_cat)\n",
    "        X_num_enc = scaler.transform(X_num)\n",
    "    X = np.hstack([X_cat_enc, X_num_enc])\n",
    "    return X, ord_encoder, scaler"
   ]
  },
  {
   "cell_type": "code",
   "execution_count": 51,
   "metadata": {
    "execution": {
     "iopub.execute_input": "2025-04-27T13:03:47.231717Z",
     "iopub.status.busy": "2025-04-27T13:03:47.231357Z",
     "iopub.status.idle": "2025-04-27T13:04:07.387374Z",
     "shell.execute_reply": "2025-04-27T13:04:07.386473Z",
     "shell.execute_reply.started": "2025-04-27T13:03:47.231688Z"
    },
    "tags": []
   },
   "outputs": [],
   "source": [
    "from sklearn.model_selection import train_test_split\n",
    "train_df, val_df = train_test_split(train_df, test_size=0.2, random_state=42, stratify=train_df[target_column])"
   ]
  },
  {
   "cell_type": "code",
   "execution_count": 52,
   "metadata": {
    "execution": {
     "iopub.execute_input": "2025-04-27T13:04:07.389424Z",
     "iopub.status.busy": "2025-04-27T13:04:07.389088Z",
     "iopub.status.idle": "2025-04-27T13:05:45.185281Z",
     "shell.execute_reply": "2025-04-27T13:05:45.184413Z",
     "shell.execute_reply.started": "2025-04-27T13:04:07.389403Z"
    },
    "tags": []
   },
   "outputs": [],
   "source": [
    "X_train, ord_encoder, scaler = prepare_data_ord(train_df, feature_columns, categorical_features, fit=True)\n",
    "X_val, _, _ = prepare_data_ord(val_df, feature_columns, categorical_features, ord_encoder=ord_encoder, scaler=scaler, fit=False)\n",
    "X_test, _, _ = prepare_data_ord(test_df, feature_columns, categorical_features, ord_encoder=ord_encoder, scaler=scaler, fit=False)\n",
    "y_train = train_df[target_column].values\n",
    "y_val = val_df[target_column].values\n",
    "y_test = test_df[target_column].values"
   ]
  },
  {
   "cell_type": "code",
   "execution_count": 11,
   "metadata": {
    "execution": {
     "iopub.execute_input": "2025-04-27T12:53:54.548039Z",
     "iopub.status.busy": "2025-04-27T12:53:54.547605Z",
     "iopub.status.idle": "2025-04-27T12:53:54.703720Z",
     "shell.execute_reply": "2025-04-27T12:53:54.702968Z",
     "shell.execute_reply.started": "2025-04-27T12:53:54.548013Z"
    },
    "tags": []
   },
   "outputs": [
    {
     "name": "stdout",
     "output_type": "stream",
     "text": [
      "Device: cuda\n"
     ]
    }
   ],
   "source": [
    "device = torch.device('cuda' if torch.cuda.is_available() else 'cpu')\n",
    "print(f'Device: {device}')"
   ]
  },
  {
   "cell_type": "code",
   "execution_count": 53,
   "metadata": {
    "execution": {
     "iopub.execute_input": "2025-04-27T13:05:45.186482Z",
     "iopub.status.busy": "2025-04-27T13:05:45.186152Z",
     "iopub.status.idle": "2025-04-27T13:05:45.412596Z",
     "shell.execute_reply": "2025-04-27T13:05:45.411773Z",
     "shell.execute_reply.started": "2025-04-27T13:05:45.186462Z"
    },
    "tags": []
   },
   "outputs": [],
   "source": [
    "X_train_t = torch.tensor(X_train, dtype=torch.float32).to(device)\n",
    "y_train_t = torch.tensor(y_train, dtype=torch.float32).unsqueeze(1).to(device)\n",
    "X_val_t = torch.tensor(X_val, dtype=torch.float32).to(device)\n",
    "y_val_t = torch.tensor(y_val, dtype=torch.float32).unsqueeze(1).to(device)\n",
    "X_test_t = torch.tensor(X_test, dtype=torch.float32).to(device)\n",
    "y_test_t = torch.tensor(y_test, dtype=torch.float32).unsqueeze(1).to(device)"
   ]
  },
  {
   "cell_type": "code",
   "execution_count": 54,
   "metadata": {
    "execution": {
     "iopub.execute_input": "2025-04-27T13:05:45.413901Z",
     "iopub.status.busy": "2025-04-27T13:05:45.413568Z",
     "iopub.status.idle": "2025-04-27T13:05:45.447317Z",
     "shell.execute_reply": "2025-04-27T13:05:45.446623Z",
     "shell.execute_reply.started": "2025-04-27T13:05:45.413881Z"
    },
    "tags": []
   },
   "outputs": [],
   "source": [
    "n_pos = (y_train_t == 1).sum()\n",
    "n_neg = (y_train_t == 0).sum()\n",
    "pos_weight = torch.tensor([n_neg / n_pos], dtype=torch.float32).to(device)"
   ]
  },
  {
   "cell_type": "markdown",
   "metadata": {
    "tags": []
   },
   "source": [
    "#  WIDE&DEEP-INSPIRED NET"
   ]
  },
  {
   "cell_type": "code",
   "execution_count": 64,
   "metadata": {
    "execution": {
     "iopub.execute_input": "2025-04-27T13:07:51.108258Z",
     "iopub.status.busy": "2025-04-27T13:07:51.107288Z",
     "iopub.status.idle": "2025-04-27T13:07:51.245540Z",
     "shell.execute_reply": "2025-04-27T13:07:51.244397Z",
     "shell.execute_reply.started": "2025-04-27T13:07:51.108233Z"
    },
    "tags": []
   },
   "outputs": [],
   "source": [
    "class WideAndDeepNet(nn.Module):\n",
    "    def __init__(self, input_dim):\n",
    "        super().__init__()\n",
    "        self.deep = nn.Sequential(\n",
    "            nn.Linear(input_dim, 256),\n",
    "            nn.ReLU(),\n",
    "            nn.Linear(256, 64),\n",
    "            nn.ReLU(),\n",
    "        )\n",
    "        self.wide = nn.Identity()\n",
    "        self.output = nn.Linear(64 + input_dim, 1)\n",
    "    def forward(self, x):\n",
    "        deep_out = self.deep(x)\n",
    "        wide_out = self.wide(x)\n",
    "        x_cat = torch.cat([deep_out, wide_out], axis=1)\n",
    "        return self.output(x_cat)\n",
    "\n",
    "widenet = WideAndDeepNet(X_train.shape[1]).to(device)\n",
    "optimizer3 = optim.Adam(widenet.parameters(), lr=0.01)\n",
    "criterion3 = nn.BCEWithLogitsLoss(pos_weight=pos_weight)"
   ]
  },
  {
   "cell_type": "code",
   "execution_count": 65,
   "metadata": {
    "execution": {
     "iopub.execute_input": "2025-04-27T13:07:51.369511Z",
     "iopub.status.busy": "2025-04-27T13:07:51.368991Z",
     "iopub.status.idle": "2025-04-27T13:10:15.567559Z",
     "shell.execute_reply": "2025-04-27T13:10:15.566600Z",
     "shell.execute_reply.started": "2025-04-27T13:07:51.369491Z"
    },
    "tags": []
   },
   "outputs": [
    {
     "name": "stdout",
     "output_type": "stream",
     "text": [
      "Epoch  1, ROC AUC: 0.5153\n",
      "Epoch  2, ROC AUC: 0.5345\n",
      "Epoch  3, ROC AUC: 0.5015\n",
      "Epoch  4, ROC AUC: 0.5050\n",
      "Epoch  5, ROC AUC: 0.5533\n",
      "Epoch  6, ROC AUC: 0.5817\n",
      "Epoch  7, ROC AUC: 0.5654\n",
      "Epoch  8, ROC AUC: 0.5504\n",
      "Epoch  9, ROC AUC: 0.5566\n",
      "Epoch 10, ROC AUC: 0.5830\n",
      "Epoch 11, ROC AUC: 0.6683\n",
      "Epoch 12, ROC AUC: 0.6185\n",
      "Epoch 13, ROC AUC: 0.5958\n",
      "Epoch 14, ROC AUC: 0.5997\n",
      "Epoch 15, ROC AUC: 0.6256\n",
      "Epoch 16, ROC AUC: 0.6593\n",
      "Epoch 17, ROC AUC: 0.7795\n",
      "Epoch 18, ROC AUC: 0.6988\n",
      "Epoch 19, ROC AUC: 0.6751\n",
      "Epoch 20, ROC AUC: 0.7177\n",
      "Epoch 21, ROC AUC: 0.8075\n",
      "Epoch 22, ROC AUC: 0.7519\n",
      "Epoch 23, ROC AUC: 0.7225\n",
      "Epoch 24, ROC AUC: 0.7249\n",
      "Epoch 25, ROC AUC: 0.7693\n",
      "Epoch 26, ROC AUC: 0.8271\n",
      "Epoch 27, ROC AUC: 0.7890\n",
      "Epoch 28, ROC AUC: 0.7628\n",
      "Epoch 29, ROC AUC: 0.7828\n",
      "Epoch 30, ROC AUC: 0.8300\n",
      "Epoch 31, ROC AUC: 0.8297\n",
      "Epoch 32, ROC AUC: 0.8062\n",
      "Epoch 33, ROC AUC: 0.8179\n",
      "Epoch 34, ROC AUC: 0.8496\n",
      "Epoch 35, ROC AUC: 0.8463\n",
      "Epoch 36, ROC AUC: 0.8449\n",
      "Epoch 37, ROC AUC: 0.8545\n",
      "Epoch 38, ROC AUC: 0.8512\n",
      "Epoch 39, ROC AUC: 0.8522\n",
      "Epoch 40, ROC AUC: 0.8459\n",
      "Epoch 41, ROC AUC: 0.8452\n",
      "Epoch 42, ROC AUC: 0.8540\n",
      "Epoch 43, ROC AUC: 0.8556\n",
      "Epoch 44, ROC AUC: 0.8551\n",
      "Epoch 45, ROC AUC: 0.8577\n",
      "Epoch 46, ROC AUC: 0.8602\n",
      "Epoch 47, ROC AUC: 0.8605\n",
      "Epoch 48, ROC AUC: 0.8619\n",
      "Epoch 49, ROC AUC: 0.8612\n",
      "Epoch 50, ROC AUC: 0.8615\n",
      "Epoch 51, ROC AUC: 0.8620\n",
      "Epoch 52, ROC AUC: 0.8610\n",
      "Epoch 53, ROC AUC: 0.8606\n",
      "Epoch 54, ROC AUC: 0.8620\n",
      "Epoch 55, ROC AUC: 0.8630\n",
      "Epoch 56, ROC AUC: 0.8639\n",
      "Epoch 57, ROC AUC: 0.8643\n",
      "Epoch 58, ROC AUC: 0.8649\n",
      "Epoch 59, ROC AUC: 0.8651\n",
      "Epoch 60, ROC AUC: 0.8648\n",
      "Epoch 61, ROC AUC: 0.8652\n",
      "Epoch 62, ROC AUC: 0.8661\n",
      "Epoch 63, ROC AUC: 0.8663\n",
      "Epoch 64, ROC AUC: 0.8672\n",
      "Epoch 65, ROC AUC: 0.8672\n",
      "Epoch 66, ROC AUC: 0.8670\n",
      "Epoch 67, ROC AUC: 0.8668\n",
      "Epoch 68, ROC AUC: 0.8677\n",
      "Epoch 69, ROC AUC: 0.8688\n",
      "Epoch 70, ROC AUC: 0.8691\n",
      "Epoch 71, ROC AUC: 0.8690\n",
      "Epoch 72, ROC AUC: 0.8687\n",
      "Epoch 73, ROC AUC: 0.8694\n",
      "Epoch 74, ROC AUC: 0.8698\n",
      "Epoch 75, ROC AUC: 0.8700\n",
      "Epoch 76, ROC AUC: 0.8701\n",
      "Epoch 77, ROC AUC: 0.8707\n",
      "Epoch 78, ROC AUC: 0.8717\n",
      "Epoch 79, ROC AUC: 0.8721\n",
      "Epoch 80, ROC AUC: 0.8725\n",
      "Epoch 81, ROC AUC: 0.8680\n",
      "Epoch 82, ROC AUC: 0.8712\n",
      "Epoch 83, ROC AUC: 0.8715\n",
      "Epoch 84, ROC AUC: 0.8714\n",
      "Epoch 85, ROC AUC: 0.8691\n",
      "Epoch 86, ROC AUC: 0.8706\n",
      "Epoch 87, ROC AUC: 0.8726\n",
      "Epoch 88, ROC AUC: 0.8715\n",
      "Epoch 89, ROC AUC: 0.8715\n",
      "Epoch 90, ROC AUC: 0.8703\n",
      "Epoch 91, ROC AUC: 0.8701\n",
      "Epoch 92, ROC AUC: 0.8708\n",
      "Epoch 93, ROC AUC: 0.8718\n",
      "Epoch 94, ROC AUC: 0.8724\n",
      "Epoch 95, ROC AUC: 0.8726\n",
      "Epoch 96, ROC AUC: 0.8720\n",
      "Epoch 97, ROC AUC: 0.8723\n",
      "Epoch 98, ROC AUC: 0.8731\n",
      "Epoch 99, ROC AUC: 0.8740\n",
      "Epoch 100, ROC AUC: 0.8741\n"
     ]
    }
   ],
   "source": [
    "for epoch in range(100):\n",
    "    widenet.train()\n",
    "    optimizer3.zero_grad()\n",
    "    output = widenet(X_train_t)\n",
    "    loss = criterion3(output, y_train_t)\n",
    "    loss.backward()\n",
    "    optimizer3.step()\n",
    "    with torch.no_grad():\n",
    "        preds = torch.sigmoid(widenet(X_val_t)).cpu().numpy()\n",
    "        roc_auc = roc_auc_score(y_val, preds)\n",
    "    print(f\"Epoch {epoch+1:2d}, ROC AUC: {roc_auc:.4f}\")"
   ]
  },
  {
   "cell_type": "code",
   "execution_count": 66,
   "metadata": {
    "execution": {
     "iopub.execute_input": "2025-04-27T13:10:15.569240Z",
     "iopub.status.busy": "2025-04-27T13:10:15.568886Z",
     "iopub.status.idle": "2025-04-27T13:10:15.970616Z",
     "shell.execute_reply": "2025-04-27T13:10:15.969702Z",
     "shell.execute_reply.started": "2025-04-27T13:10:15.569220Z"
    },
    "tags": []
   },
   "outputs": [
    {
     "name": "stdout",
     "output_type": "stream",
     "text": [
      "ROC AUC: 0.7129744848360855\n"
     ]
    }
   ],
   "source": [
    "widenet.eval()\n",
    "with torch.no_grad():\n",
    "    y_pred_wide = torch.sigmoid(widenet(X_test_t)).cpu().numpy()\n",
    "roc_auc = roc_auc_score(y_test, y_pred_wide)\n",
    "print('ROC AUC:', roc_auc)"
   ]
  },
  {
   "cell_type": "code",
   "execution_count": 67,
   "metadata": {
    "execution": {
     "iopub.execute_input": "2025-04-27T13:10:15.971943Z",
     "iopub.status.busy": "2025-04-27T13:10:15.971596Z",
     "iopub.status.idle": "2025-04-27T13:10:16.572318Z",
     "shell.execute_reply": "2025-04-27T13:10:16.571486Z",
     "shell.execute_reply.started": "2025-04-27T13:10:15.971922Z"
    },
    "tags": []
   },
   "outputs": [
    {
     "data": {
      "image/png": "[encoded data removed]",
      "text/plain": [
       "<Figure size 800x600 with 1 Axes>"
      ]
     },
     "metadata": {},
     "output_type": "display_data"
    }
   ],
   "source": [
    "fpr, tpr, thresholds = roc_curve(y_test, y_pred_wide)\n",
    "plt.figure(figsize=(8,6))\n",
    "plt.plot(fpr, tpr, label=f\"ROC AUC = {roc_auc:.4f}\")\n",
    "plt.plot([0,1], [0,1], 'k--')\n",
    "plt.xlabel('FPR')\n",
    "plt.ylabel('TPR')\n",
    "plt.title('ROC-curve (test)')\n",
    "plt.legend()\n",
    "plt.grid()\n",
    "plt.show()"
   ]
  },
  {
   "cell_type": "code",
   "execution_count": 68,
   "metadata": {
    "execution": {
     "iopub.execute_input": "2025-04-27T13:10:16.574283Z",
     "iopub.status.busy": "2025-04-27T13:10:16.573938Z",
     "iopub.status.idle": "2025-04-27T13:10:16.607583Z",
     "shell.execute_reply": "2025-04-27T13:10:16.606825Z",
     "shell.execute_reply.started": "2025-04-27T13:10:16.574263Z"
    },
    "tags": []
   },
   "outputs": [],
   "source": [
    "def permutation_importance(model, X, y, feature_names, device='cpu', n_repeats=2):\n",
    "    baseline = roc_auc_score(y, torch.sigmoid(model(torch.tensor(X, dtype=torch.float32).to(device))).cpu().detach().numpy().squeeze())\n",
    "    importances = []\n",
    "    for i, fname in enumerate(feature_names):\n",
    "        scores = []\n",
    "        for _ in range(n_repeats):\n",
    "            X_perm = X.copy()\n",
    "            idx = np.random.permutation(X.shape[0])\n",
    "            X_perm[:, i] = X_perm[idx, i]\n",
    "            X_perm_t = torch.tensor(X_perm, dtype=torch.float32).to(device)\n",
    "            pred = torch.sigmoid(model(X_perm_t)).cpu().detach().numpy().squeeze()\n",
    "            score = roc_auc_score(y, pred)\n",
    "            scores.append(baseline - score)\n",
    "        importances.append(np.mean(scores))\n",
    "    return pd.Series(importances, index=feature_names).sort_values(ascending=False)"
   ]
  },
  {
   "cell_type": "code",
   "execution_count": 69,
   "metadata": {
    "execution": {
     "iopub.execute_input": "2025-04-27T13:10:16.608692Z",
     "iopub.status.busy": "2025-04-27T13:10:16.608354Z",
     "iopub.status.idle": "2025-04-27T13:10:29.749117Z",
     "shell.execute_reply": "2025-04-27T13:10:29.748202Z",
     "shell.execute_reply.started": "2025-04-27T13:10:16.608673Z"
    },
    "tags": []
   },
   "outputs": [
    {
     "name": "stdout",
     "output_type": "stream",
     "text": [
      "Значимость признаков (по permutation importance на тесте):\n",
      "browser                 0.066861\n",
      "creative_id             0.017232\n",
      "ad_slot_visibility      0.014607\n",
      "advertiser_id           0.011170\n",
      "is_male                 0.009979\n",
      "city_id                 0.003309\n",
      "is_mobile_device        0.002102\n",
      "is_in_market            0.001873\n",
      "ad_slot_screen_share    0.001781\n",
      "part_of_day             0.001188\n",
      "os                      0.000734\n",
      "ad_slot_format          0.000000\n",
      "weekday                -0.006185\n",
      "dtype: float64\n"
     ]
    }
   ],
   "source": [
    "feature_list = list(categorical_features) + [f for f in feature_columns if f not in categorical_features]\n",
    "\n",
    "importances = permutation_importance(widenet, X_test, y_test, feature_list, device=device)\n",
    "print(\"Значимость признаков (по permutation importance на тесте):\")\n",
    "print(importances)"
   ]
  },
  {
   "cell_type": "code",
   "execution_count": 70,
   "metadata": {
    "execution": {
     "iopub.execute_input": "2025-04-27T13:10:29.750454Z",
     "iopub.status.busy": "2025-04-27T13:10:29.750062Z",
     "iopub.status.idle": "2025-04-27T13:10:29.944769Z",
     "shell.execute_reply": "2025-04-27T13:10:29.943943Z",
     "shell.execute_reply.started": "2025-04-27T13:10:29.750425Z"
    },
    "tags": []
   },
   "outputs": [
    {
     "data": {
      "image/png": "[encoded data removed]",
      "text/plain": [
       "<Figure size 1200x600 with 1 Axes>"
      ]
     },
     "metadata": {},
     "output_type": "display_data"
    }
   ],
   "source": [
    "importances = importances.sort_values(ascending=False)\n",
    "plt.figure(figsize=(12, 6))\n",
    "plt.barh(importances.index[::-1], importances.values[::-1])\n",
    "plt.xlabel(\"Значимость\")\n",
    "plt.title(\"Значимость признаков (по permutation importance на тесте)\")\n",
    "plt.tight_layout()\n",
    "plt.show()"
   ]
  },
  {
   "cell_type": "code",
   "execution_count": null,
   "metadata": {},
   "outputs": [],
   "source": []
  }
 ],
 "metadata": {
  "kaggle": {
   "accelerator": "nvidiaTeslaT4",
   "dataSources": [
    {
     "datasetId": 7118912,
     "sourceId": 11371631,
     "sourceType": "datasetVersion"
    }
   ],
   "dockerImageVersionId": 31011,
   "isGpuEnabled": true,
   "isInternetEnabled": true,
   "language": "python",
   "sourceType": "notebook"
  },
  "kernelspec": {
   "display_name": "DataSphere Kernel",
   "language": "python",
   "name": "python3"
  },
  "language_info": {
   "codemirror_mode": {
    "name": "ipython",
    "version": 3
   },
   "file_extension": ".py",
   "mimetype": "text/x-python",
   "name": "python",
   "nbconvert_exporter": "python",
   "pygments_lexer": "ipython3",
   "version": "3.10.12"
  }
 },
 "nbformat": 4,
 "nbformat_minor": 4
}
