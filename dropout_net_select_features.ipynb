{
 "cells": [
  {
   "cell_type": "code",
   "execution_count": 1,
   "metadata": {
    "_cell_guid": "b1076dfc-b9ad-4769-8c92-a6c4dae69d19",
    "_uuid": "8f2839f25d086af736a60e9eeb907d3b93b6e0e5",
    "execution": {
     "iopub.execute_input": "2025-04-27T12:33:58.865943Z",
     "iopub.status.busy": "2025-04-27T12:33:58.865081Z",
     "iopub.status.idle": "2025-04-27T12:34:08.151901Z",
     "shell.execute_reply": "2025-04-27T12:34:08.151156Z",
     "shell.execute_reply.started": "2025-04-27T12:33:58.865915Z"
    },
    "tags": []
   },
   "outputs": [],
   "source": [
    "import pandas as pd\n",
    "from sklearn.metrics import roc_auc_score, roc_curve\n",
    "import matplotlib.pyplot as plt\n",
    "import numpy as np\n",
    "import torch\n",
    "import torch.nn as nn\n",
    "import torch.optim as optim\n",
    "from sklearn.preprocessing import OrdinalEncoder, StandardScaler"
   ]
  },
  {
   "cell_type": "code",
   "execution_count": 2,
   "metadata": {
    "execution": {
     "iopub.execute_input": "2025-04-27T12:34:08.154858Z",
     "iopub.status.busy": "2025-04-27T12:34:08.153458Z",
     "iopub.status.idle": "2025-04-27T12:35:04.803024Z",
     "shell.execute_reply": "2025-04-27T12:35:04.802238Z",
     "shell.execute_reply.started": "2025-04-27T12:34:08.154788Z"
    },
    "tags": []
   },
   "outputs": [
    {
     "name": "stderr",
     "output_type": "stream",
     "text": [
      "/tmp/ipykernel_4121/3222708738.py:1: DtypeWarning: Columns (15,16,17) have mixed types. Specify dtype option on import or set low_memory=False.\n",
      "  train_df = pd.read_csv('parsed_final_data_season_3.csv.zip', compression='zip')\n"
     ]
    }
   ],
   "source": [
    "train_df = pd.read_csv('parsed_final_data_season_3.csv.zip', compression='zip')\n",
    "test_df = pd.read_csv('final_test_data_season_3.csv.zip', compression='zip')"
   ]
  },
  {
   "cell_type": "code",
   "execution_count": 3,
   "metadata": {
    "execution": {
     "iopub.execute_input": "2025-04-27T12:35:04.804400Z",
     "iopub.status.busy": "2025-04-27T12:35:04.803971Z",
     "iopub.status.idle": "2025-04-27T12:35:07.390440Z",
     "shell.execute_reply": "2025-04-27T12:35:07.389619Z",
     "shell.execute_reply.started": "2025-04-27T12:35:04.804375Z"
    },
    "tags": []
   },
   "outputs": [],
   "source": [
    "train_df = train_df.drop('Unnamed: 0', axis=1)\n",
    "test_df = test_df.drop('Unnamed: 0', axis=1)"
   ]
  },
  {
   "cell_type": "code",
   "execution_count": 4,
   "metadata": {
    "execution": {
     "iopub.execute_input": "2025-04-27T12:35:07.392727Z",
     "iopub.status.busy": "2025-04-27T12:35:07.392033Z",
     "iopub.status.idle": "2025-04-27T12:35:07.422010Z",
     "shell.execute_reply": "2025-04-27T12:35:07.421242Z",
     "shell.execute_reply.started": "2025-04-27T12:35:07.392692Z"
    },
    "tags": []
   },
   "outputs": [],
   "source": [
    "# train_df = train_df.fillna(value=False)"
   ]
  },
  {
   "cell_type": "code",
   "execution_count": 5,
   "metadata": {
    "execution": {
     "iopub.execute_input": "2025-04-27T12:35:07.424398Z",
     "iopub.status.busy": "2025-04-27T12:35:07.423403Z",
     "iopub.status.idle": "2025-04-27T12:35:07.494266Z",
     "shell.execute_reply": "2025-04-27T12:35:07.493339Z",
     "shell.execute_reply.started": "2025-04-27T12:35:07.424357Z"
    },
    "tags": []
   },
   "outputs": [
    {
     "data": {
      "text/html": [
       "<div>\n",
       "<style scoped>\n",
       "    .dataframe tbody tr th:only-of-type {\n",
       "        vertical-align: middle;\n",
       "    }\n",
       "\n",
       "    .dataframe tbody tr th {\n",
       "        vertical-align: top;\n",
       "    }\n",
       "\n",
       "    .dataframe thead th {\n",
       "        text-align: right;\n",
       "    }\n",
       "</style>\n",
       "<table border=\"1\" class=\"dataframe\">\n",
       "  <thead>\n",
       "    <tr style=\"text-align: right;\">\n",
       "      <th></th>\n",
       "      <th>bid_id</th>\n",
       "      <th>region_id</th>\n",
       "      <th>city_id</th>\n",
       "      <th>ad_slot_visibility</th>\n",
       "      <th>ad_slot_format</th>\n",
       "      <th>creative_id</th>\n",
       "      <th>advertiser_id</th>\n",
       "      <th>part_of_day</th>\n",
       "      <th>weekday</th>\n",
       "      <th>weekend</th>\n",
       "      <th>os</th>\n",
       "      <th>browser</th>\n",
       "      <th>ad_slot_screen_share</th>\n",
       "      <th>is_mobile_device</th>\n",
       "      <th>is_male</th>\n",
       "      <th>is_long_term_interest</th>\n",
       "      <th>is_in_market</th>\n",
       "      <th>is_info_cat</th>\n",
       "      <th>is_products_cat</th>\n",
       "      <th>is_service_cat</th>\n",
       "      <th>is_entertainment_cat</th>\n",
       "      <th>is_girly_cat</th>\n",
       "      <th>click</th>\n",
       "    </tr>\n",
       "  </thead>\n",
       "  <tbody>\n",
       "    <tr>\n",
       "      <th>0</th>\n",
       "      <td>9aa9b28f32adfc833634f28bb9703e83</td>\n",
       "      <td>216</td>\n",
       "      <td>219</td>\n",
       "      <td>Na</td>\n",
       "      <td>Fixed</td>\n",
       "      <td>7321</td>\n",
       "      <td>2259</td>\n",
       "      <td>2</td>\n",
       "      <td>3</td>\n",
       "      <td>2</td>\n",
       "      <td>windows</td>\n",
       "      <td>chrome</td>\n",
       "      <td>0.06</td>\n",
       "      <td>False</td>\n",
       "      <td>NaN</td>\n",
       "      <td>NaN</td>\n",
       "      <td>NaN</td>\n",
       "      <td>False</td>\n",
       "      <td>False</td>\n",
       "      <td>False</td>\n",
       "      <td>False</td>\n",
       "      <td>False</td>\n",
       "      <td>False</td>\n",
       "    </tr>\n",
       "    <tr>\n",
       "      <th>1</th>\n",
       "      <td>1ede4e457f5031ec1640dbe1259a4616</td>\n",
       "      <td>216</td>\n",
       "      <td>217</td>\n",
       "      <td>FirstView</td>\n",
       "      <td>Fixed</td>\n",
       "      <td>7321</td>\n",
       "      <td>2259</td>\n",
       "      <td>2</td>\n",
       "      <td>3</td>\n",
       "      <td>2</td>\n",
       "      <td>windows</td>\n",
       "      <td>ie</td>\n",
       "      <td>0.06</td>\n",
       "      <td>False</td>\n",
       "      <td>NaN</td>\n",
       "      <td>NaN</td>\n",
       "      <td>NaN</td>\n",
       "      <td>False</td>\n",
       "      <td>False</td>\n",
       "      <td>False</td>\n",
       "      <td>False</td>\n",
       "      <td>False</td>\n",
       "      <td>False</td>\n",
       "    </tr>\n",
       "    <tr>\n",
       "      <th>2</th>\n",
       "      <td>fca79371fc0f67ac6264f558bc664fd6</td>\n",
       "      <td>216</td>\n",
       "      <td>217</td>\n",
       "      <td>Na</td>\n",
       "      <td>Fixed</td>\n",
       "      <td>7323</td>\n",
       "      <td>2259</td>\n",
       "      <td>2</td>\n",
       "      <td>3</td>\n",
       "      <td>2</td>\n",
       "      <td>windows</td>\n",
       "      <td>chrome</td>\n",
       "      <td>0.07</td>\n",
       "      <td>False</td>\n",
       "      <td>NaN</td>\n",
       "      <td>NaN</td>\n",
       "      <td>NaN</td>\n",
       "      <td>False</td>\n",
       "      <td>False</td>\n",
       "      <td>False</td>\n",
       "      <td>False</td>\n",
       "      <td>False</td>\n",
       "      <td>False</td>\n",
       "    </tr>\n",
       "    <tr>\n",
       "      <th>3</th>\n",
       "      <td>7717c608f688ea3b087e292c91604ea5</td>\n",
       "      <td>183</td>\n",
       "      <td>184</td>\n",
       "      <td>Na</td>\n",
       "      <td>Fixed</td>\n",
       "      <td>10722</td>\n",
       "      <td>2821</td>\n",
       "      <td>2</td>\n",
       "      <td>3</td>\n",
       "      <td>2</td>\n",
       "      <td>windows</td>\n",
       "      <td>ie</td>\n",
       "      <td>0.07</td>\n",
       "      <td>False</td>\n",
       "      <td>NaN</td>\n",
       "      <td>NaN</td>\n",
       "      <td>NaN</td>\n",
       "      <td>False</td>\n",
       "      <td>False</td>\n",
       "      <td>False</td>\n",
       "      <td>False</td>\n",
       "      <td>False</td>\n",
       "      <td>False</td>\n",
       "    </tr>\n",
       "    <tr>\n",
       "      <th>4</th>\n",
       "      <td>35528d946791bc45b75ded2a2dbdabfe</td>\n",
       "      <td>3</td>\n",
       "      <td>3</td>\n",
       "      <td>FirstView</td>\n",
       "      <td>Fixed</td>\n",
       "      <td>10722</td>\n",
       "      <td>2821</td>\n",
       "      <td>2</td>\n",
       "      <td>3</td>\n",
       "      <td>2</td>\n",
       "      <td>windows</td>\n",
       "      <td>ie</td>\n",
       "      <td>0.07</td>\n",
       "      <td>False</td>\n",
       "      <td>NaN</td>\n",
       "      <td>NaN</td>\n",
       "      <td>NaN</td>\n",
       "      <td>False</td>\n",
       "      <td>False</td>\n",
       "      <td>False</td>\n",
       "      <td>False</td>\n",
       "      <td>False</td>\n",
       "      <td>False</td>\n",
       "    </tr>\n",
       "  </tbody>\n",
       "</table>\n",
       "</div>"
      ],
      "text/plain": [
       "                             bid_id  region_id  ...  is_girly_cat  click\n",
       "0  9aa9b28f32adfc833634f28bb9703e83        216  ...         False  False\n",
       "1  1ede4e457f5031ec1640dbe1259a4616        216  ...         False  False\n",
       "2  fca79371fc0f67ac6264f558bc664fd6        216  ...         False  False\n",
       "3  7717c608f688ea3b087e292c91604ea5        183  ...         False  False\n",
       "4  35528d946791bc45b75ded2a2dbdabfe          3  ...         False  False\n",
       "\n",
       "[5 rows x 23 columns]"
      ]
     },
     "execution_count": 5,
     "metadata": {},
     "output_type": "execute_result"
    }
   ],
   "source": [
    "train_df.head()"
   ]
  },
  {
   "cell_type": "code",
   "execution_count": 6,
   "metadata": {
    "execution": {
     "iopub.execute_input": "2025-04-27T12:35:07.495840Z",
     "iopub.status.busy": "2025-04-27T12:35:07.495237Z",
     "iopub.status.idle": "2025-04-27T12:35:07.544732Z",
     "shell.execute_reply": "2025-04-27T12:35:07.543976Z",
     "shell.execute_reply.started": "2025-04-27T12:35:07.495806Z"
    },
    "tags": []
   },
   "outputs": [
    {
     "data": {
      "text/plain": [
       "Index(['bid_id', 'region_id', 'city_id', 'ad_slot_visibility',\n",
       "       'ad_slot_format', 'creative_id', 'advertiser_id', 'part_of_day',\n",
       "       'weekday', 'weekend', 'os', 'browser', 'ad_slot_screen_share',\n",
       "       'is_mobile_device', 'is_male', 'is_long_term_interest', 'is_in_market',\n",
       "       'is_info_cat', 'is_products_cat', 'is_service_cat',\n",
       "       'is_entertainment_cat', 'is_girly_cat', 'click'],\n",
       "      dtype='object')"
      ]
     },
     "execution_count": 6,
     "metadata": {},
     "output_type": "execute_result"
    }
   ],
   "source": [
    "train_df.columns"
   ]
  },
  {
   "cell_type": "code",
   "execution_count": 7,
   "metadata": {
    "execution": {
     "iopub.execute_input": "2025-04-27T12:35:07.546330Z",
     "iopub.status.busy": "2025-04-27T12:35:07.545564Z",
     "iopub.status.idle": "2025-04-27T12:35:07.612917Z",
     "shell.execute_reply": "2025-04-27T12:35:07.612007Z",
     "shell.execute_reply.started": "2025-04-27T12:35:07.546300Z"
    },
    "tags": []
   },
   "outputs": [],
   "source": [
    "target_column = 'click'\n",
    "categorical_features = [\n",
    "    'city_id', 'ad_slot_visibility', 'ad_slot_format',\n",
    "    'creative_id', 'advertiser_id', 'part_of_day', 'weekday',\n",
    "    'os', 'browser', 'is_in_market', 'is_male', 'is_mobile_device'\n",
    "]\n",
    "feature_columns = categorical_features + [\"ad_slot_screen_share\"]"
   ]
  },
  {
   "cell_type": "code",
   "execution_count": 8,
   "metadata": {
    "execution": {
     "iopub.execute_input": "2025-04-27T12:35:07.614605Z",
     "iopub.status.busy": "2025-04-27T12:35:07.613775Z",
     "iopub.status.idle": "2025-04-27T12:35:07.627525Z",
     "shell.execute_reply": "2025-04-27T12:35:07.626709Z",
     "shell.execute_reply.started": "2025-04-27T12:35:07.614570Z"
    },
    "tags": []
   },
   "outputs": [],
   "source": [
    "def prepare_data_ord(df, feature_columns, categorical_features, ord_encoder=None, scaler=None, fit=True):\n",
    "    X_cat = df[categorical_features].astype(str)\n",
    "    X_num = df[[f for f in feature_columns if f not in categorical_features]]\n",
    "    if fit:\n",
    "        ord_encoder = OrdinalEncoder(handle_unknown='use_encoded_value', unknown_value=-1)\n",
    "        scaler = StandardScaler()\n",
    "        X_cat_enc = ord_encoder.fit_transform(X_cat)\n",
    "        X_num_enc = scaler.fit_transform(X_num)\n",
    "    else:\n",
    "        X_cat_enc = ord_encoder.transform(X_cat)\n",
    "        X_num_enc = scaler.transform(X_num)\n",
    "    X = np.hstack([X_cat_enc, X_num_enc])\n",
    "    return X, ord_encoder, scaler"
   ]
  },
  {
   "cell_type": "code",
   "execution_count": 9,
   "metadata": {
    "execution": {
     "iopub.execute_input": "2025-04-27T12:35:07.629172Z",
     "iopub.status.busy": "2025-04-27T12:35:07.628480Z",
     "iopub.status.idle": "2025-04-27T12:35:21.961005Z",
     "shell.execute_reply": "2025-04-27T12:35:21.960206Z",
     "shell.execute_reply.started": "2025-04-27T12:35:07.629144Z"
    },
    "tags": []
   },
   "outputs": [],
   "source": [
    "from sklearn.model_selection import train_test_split\n",
    "train_df, val_df = train_test_split(train_df, test_size=0.2, random_state=42, stratify=train_df[target_column])\n",
    "# val_df, _ = train_test_split(val_df, test_size=0.7, random_state=42, stratify=val_df[target_column])"
   ]
  },
  {
   "cell_type": "code",
   "execution_count": 10,
   "metadata": {
    "execution": {
     "iopub.execute_input": "2025-04-27T12:35:21.964175Z",
     "iopub.status.busy": "2025-04-27T12:35:21.963004Z",
     "iopub.status.idle": "2025-04-27T12:37:05.802371Z",
     "shell.execute_reply": "2025-04-27T12:37:05.801618Z",
     "shell.execute_reply.started": "2025-04-27T12:35:21.964136Z"
    },
    "tags": []
   },
   "outputs": [],
   "source": [
    "X_train, ord_encoder, scaler = prepare_data_ord(train_df, feature_columns, categorical_features, fit=True)\n",
    "X_val, _, _ = prepare_data_ord(val_df, feature_columns, categorical_features, ord_encoder=ord_encoder, scaler=scaler, fit=False)\n",
    "X_test, _, _ = prepare_data_ord(test_df, feature_columns, categorical_features, ord_encoder=ord_encoder, scaler=scaler, fit=False)\n",
    "y_train = train_df[target_column].values\n",
    "y_val = val_df[target_column].values\n",
    "y_test = test_df[target_column].values"
   ]
  },
  {
   "cell_type": "code",
   "execution_count": 11,
   "metadata": {
    "execution": {
     "iopub.execute_input": "2025-04-27T12:37:05.804024Z",
     "iopub.status.busy": "2025-04-27T12:37:05.803471Z",
     "iopub.status.idle": "2025-04-27T12:37:05.938313Z",
     "shell.execute_reply": "2025-04-27T12:37:05.937553Z",
     "shell.execute_reply.started": "2025-04-27T12:37:05.803988Z"
    },
    "tags": []
   },
   "outputs": [
    {
     "name": "stdout",
     "output_type": "stream",
     "text": [
      "Device: cuda\n"
     ]
    }
   ],
   "source": [
    "device = torch.device('cuda' if torch.cuda.is_available() else 'cpu')\n",
    "print(f'Device: {device}')"
   ]
  },
  {
   "cell_type": "code",
   "execution_count": 12,
   "metadata": {
    "execution": {
     "iopub.execute_input": "2025-04-27T12:37:05.940117Z",
     "iopub.status.busy": "2025-04-27T12:37:05.939248Z",
     "iopub.status.idle": "2025-04-27T12:37:06.661633Z",
     "shell.execute_reply": "2025-04-27T12:37:06.660841Z",
     "shell.execute_reply.started": "2025-04-27T12:37:05.940080Z"
    },
    "tags": []
   },
   "outputs": [],
   "source": [
    "X_train_t = torch.tensor(X_train, dtype=torch.float32).to(device)\n",
    "y_train_t = torch.tensor(y_train, dtype=torch.float32).unsqueeze(1).to(device)\n",
    "X_val_t = torch.tensor(X_val, dtype=torch.float32).to(device)\n",
    "y_val_t = torch.tensor(y_val, dtype=torch.float32).unsqueeze(1).to(device)\n",
    "X_test_t = torch.tensor(X_test, dtype=torch.float32).to(device)\n",
    "y_test_t = torch.tensor(y_test, dtype=torch.float32).unsqueeze(1).to(device)"
   ]
  },
  {
   "cell_type": "code",
   "execution_count": 13,
   "metadata": {
    "execution": {
     "iopub.execute_input": "2025-04-27T12:37:06.663834Z",
     "iopub.status.busy": "2025-04-27T12:37:06.662684Z",
     "iopub.status.idle": "2025-04-27T12:37:06.901328Z",
     "shell.execute_reply": "2025-04-27T12:37:06.900621Z",
     "shell.execute_reply.started": "2025-04-27T12:37:06.663791Z"
    },
    "tags": []
   },
   "outputs": [],
   "source": [
    "n_pos = (y_train_t == 1).sum()\n",
    "n_neg = (y_train_t == 0).sum()\n",
    "pos_weight = torch.tensor([n_neg / n_pos], dtype=torch.float32).to(device)"
   ]
  },
  {
   "cell_type": "markdown",
   "metadata": {
    "tags": []
   },
   "source": [
    "# DropoutNet"
   ]
  },
  {
   "cell_type": "code",
   "execution_count": 14,
   "metadata": {
    "execution": {
     "iopub.execute_input": "2025-04-27T12:37:06.902991Z",
     "iopub.status.busy": "2025-04-27T12:37:06.902375Z",
     "iopub.status.idle": "2025-04-27T12:37:07.004942Z",
     "shell.execute_reply": "2025-04-27T12:37:07.004226Z",
     "shell.execute_reply.started": "2025-04-27T12:37:06.902953Z"
    },
    "tags": []
   },
   "outputs": [],
   "source": [
    "class DropoutNet(nn.Module):\n",
    "    def __init__(self, input_dim):\n",
    "        super().__init__()\n",
    "        self.layers = nn.Sequential(\n",
    "            nn.Linear(input_dim, 128),\n",
    "            nn.BatchNorm1d(128),\n",
    "            nn.ReLU(),\n",
    "            nn.Dropout(0.5),\n",
    "            nn.Linear(128, 1)\n",
    "        )\n",
    "    def forward(self, x):\n",
    "        return self.layers(x)\n",
    "\n",
    "dropout_net = DropoutNet(X_train.shape[1]).to(device)\n",
    "optimizer2 = optim.Adam(dropout_net.parameters(), lr=0.001)\n",
    "criterion2 = nn.BCEWithLogitsLoss(pos_weight=pos_weight)"
   ]
  },
  {
   "cell_type": "code",
   "execution_count": 15,
   "metadata": {
    "execution": {
     "iopub.execute_input": "2025-04-27T12:37:07.007431Z",
     "iopub.status.busy": "2025-04-27T12:37:07.005865Z",
     "iopub.status.idle": "2025-04-27T12:37:07.099556Z",
     "shell.execute_reply": "2025-04-27T12:37:07.098746Z",
     "shell.execute_reply.started": "2025-04-27T12:37:07.007394Z"
    },
    "tags": []
   },
   "outputs": [],
   "source": [
    "pos_idx = np.where(y_train == 1)[0]\n",
    "neg_idx = np.where(y_train == 0)[0]\n",
    "batch_size = 1024\n",
    "steps_per_epoch = min(1000, len(pos_idx) // (batch_size // 2))"
   ]
  },
  {
   "cell_type": "code",
   "execution_count": 16,
   "metadata": {
    "execution": {
     "iopub.execute_input": "2025-04-27T12:37:07.101322Z",
     "iopub.status.busy": "2025-04-27T12:37:07.100556Z",
     "iopub.status.idle": "2025-04-27T12:40:02.019303Z",
     "shell.execute_reply": "2025-04-27T12:40:02.018316Z",
     "shell.execute_reply.started": "2025-04-27T12:37:07.101282Z"
    },
    "tags": []
   },
   "outputs": [
    {
     "name": "stdout",
     "output_type": "stream",
     "text": [
      "Epoch  1, ROC AUC on val: 0.5606\n",
      "Epoch  2, ROC AUC on val: 0.6004\n",
      "Epoch  3, ROC AUC on val: 0.6284\n",
      "Epoch  4, ROC AUC on val: 0.6764\n",
      "Epoch  5, ROC AUC on val: 0.7075\n",
      "Epoch  6, ROC AUC on val: 0.7234\n",
      "Epoch  7, ROC AUC on val: 0.7319\n",
      "Epoch  8, ROC AUC on val: 0.7365\n",
      "Epoch  9, ROC AUC on val: 0.7441\n",
      "Epoch 10, ROC AUC on val: 0.7532\n",
      "Epoch 11, ROC AUC on val: 0.7503\n",
      "Epoch 12, ROC AUC on val: 0.7552\n",
      "Epoch 13, ROC AUC on val: 0.7660\n",
      "Epoch 14, ROC AUC on val: 0.7697\n",
      "Epoch 15, ROC AUC on val: 0.7681\n"
     ]
    }
   ],
   "source": [
    "for epoch in range(15):\n",
    "    dropout_net.train()\n",
    "    for step in range(steps_per_epoch):\n",
    "        pos_ix = np.random.choice(pos_idx, batch_size // 2, replace=True)\n",
    "        neg_ix = np.random.choice(neg_idx, batch_size // 2, replace=False)\n",
    "        ix = np.concatenate([pos_ix, neg_ix])\n",
    "        xb = torch.tensor(X_train[ix], dtype=torch.float32).to(device)\n",
    "        yb = torch.tensor(y_train[ix], dtype=torch.float32).unsqueeze(1).to(device)\n",
    "        optimizer2.zero_grad()\n",
    "        output = dropout_net(xb)\n",
    "        loss = criterion2(output, yb)\n",
    "        loss.backward()\n",
    "        optimizer2.step()\n",
    "    with torch.no_grad():\n",
    "        preds = torch.sigmoid(dropout_net(X_val_t)).cpu().numpy()\n",
    "        roc_auc = roc_auc_score(y_val, preds)\n",
    "    print(f\"Epoch {epoch+1:2d}, ROC AUC on val: {roc_auc:.4f}\")"
   ]
  },
  {
   "cell_type": "code",
   "execution_count": 17,
   "metadata": {
    "execution": {
     "iopub.execute_input": "2025-04-27T12:40:02.021417Z",
     "iopub.status.busy": "2025-04-27T12:40:02.020276Z",
     "iopub.status.idle": "2025-04-27T12:40:02.546588Z",
     "shell.execute_reply": "2025-04-27T12:40:02.545779Z",
     "shell.execute_reply.started": "2025-04-27T12:40:02.021377Z"
    },
    "tags": []
   },
   "outputs": [
    {
     "name": "stdout",
     "output_type": "stream",
     "text": [
      "\n",
      "ROC AUC на тесте: 0.6679\n"
     ]
    }
   ],
   "source": [
    "dropout_net.eval()\n",
    "with torch.no_grad():\n",
    "    y_pred_drp = torch.sigmoid(dropout_net(X_test_t)).cpu().numpy()\n",
    "\n",
    "roc_auc = roc_auc_score(y_test, y_pred_drp)\n",
    "print(f\"\\nROC AUC на тесте: {roc_auc:.4f}\")"
   ]
  },
  {
   "cell_type": "code",
   "execution_count": 18,
   "metadata": {
    "execution": {
     "iopub.execute_input": "2025-04-27T12:40:02.548019Z",
     "iopub.status.busy": "2025-04-27T12:40:02.547590Z",
     "iopub.status.idle": "2025-04-27T12:40:03.192595Z",
     "shell.execute_reply": "2025-04-27T12:40:03.191800Z",
     "shell.execute_reply.started": "2025-04-27T12:40:02.547987Z"
    },
    "tags": []
   },
   "outputs": [
    {
     "data": {
      "image/png": "[encoded data removed]",
      "text/plain": [
       "<Figure size 800x600 with 1 Axes>"
      ]
     },
     "metadata": {},
     "output_type": "display_data"
    }
   ],
   "source": [
    "fpr, tpr, thresholds = roc_curve(y_test, y_pred_drp)\n",
    "plt.figure(figsize=(8,6))\n",
    "plt.plot(fpr, tpr, label=f\"ROC AUC = {roc_auc:.4f}\")\n",
    "plt.plot([0,1], [0,1], 'k--')\n",
    "plt.xlabel('FPR')\n",
    "plt.ylabel('TPR')\n",
    "plt.title('ROC-curve (test)')\n",
    "plt.legend()\n",
    "plt.grid()\n",
    "plt.show()"
   ]
  },
  {
   "cell_type": "code",
   "execution_count": 19,
   "metadata": {
    "execution": {
     "iopub.execute_input": "2025-04-27T12:40:03.194844Z",
     "iopub.status.busy": "2025-04-27T12:40:03.193578Z",
     "iopub.status.idle": "2025-04-27T12:40:03.243675Z",
     "shell.execute_reply": "2025-04-27T12:40:03.242847Z",
     "shell.execute_reply.started": "2025-04-27T12:40:03.194800Z"
    },
    "tags": []
   },
   "outputs": [],
   "source": [
    "def permutation_importance(model, X, y, feature_names, device='cpu', n_repeats=2):\n",
    "    baseline = roc_auc_score(y, torch.sigmoid(model(torch.tensor(X, dtype=torch.float32).to(device))).cpu().detach().numpy().squeeze())\n",
    "    importances = []\n",
    "    for i, fname in enumerate(feature_names):\n",
    "        scores = []\n",
    "        for _ in range(n_repeats):\n",
    "            X_perm = X.copy()\n",
    "            idx = np.random.permutation(X.shape[0])\n",
    "            X_perm[:, i] = X_perm[idx, i]\n",
    "            X_perm_t = torch.tensor(X_perm, dtype=torch.float32).to(device)\n",
    "            pred = torch.sigmoid(model(X_perm_t)).cpu().detach().numpy().squeeze()\n",
    "            score = roc_auc_score(y, pred)\n",
    "            scores.append(baseline - score)\n",
    "        importances.append(np.mean(scores))\n",
    "    return pd.Series(importances, index=feature_names).sort_values(ascending=False)"
   ]
  },
  {
   "cell_type": "code",
   "execution_count": 20,
   "metadata": {
    "execution": {
     "iopub.execute_input": "2025-04-27T12:40:03.245542Z",
     "iopub.status.busy": "2025-04-27T12:40:03.244518Z",
     "iopub.status.idle": "2025-04-27T12:40:19.356585Z",
     "shell.execute_reply": "2025-04-27T12:40:19.355785Z",
     "shell.execute_reply.started": "2025-04-27T12:40:03.245498Z"
    },
    "tags": []
   },
   "outputs": [
    {
     "name": "stdout",
     "output_type": "stream",
     "text": [
      "Значимость признаков (по permutation importance на тесте):\n",
      "os                      0.060795\n",
      "browser                 0.044922\n",
      "weekday                 0.027366\n",
      "ad_slot_screen_share    0.018879\n",
      "ad_slot_visibility      0.017710\n",
      "is_male                 0.013343\n",
      "advertiser_id           0.009255\n",
      "city_id                 0.002752\n",
      "is_in_market            0.001703\n",
      "part_of_day             0.001310\n",
      "ad_slot_format          0.000000\n",
      "is_mobile_device       -0.003385\n",
      "creative_id            -0.005792\n",
      "dtype: float64\n"
     ]
    }
   ],
   "source": [
    "feature_list = list(categorical_features) + [f for f in feature_columns if f not in categorical_features]\n",
    "\n",
    "importances = permutation_importance(dropout_net, X_test, y_test, feature_list, device=device)\n",
    "print(\"Значимость признаков (по permutation importance на тесте):\")\n",
    "print(importances)"
   ]
  },
  {
   "cell_type": "code",
   "execution_count": 21,
   "metadata": {
    "execution": {
     "iopub.execute_input": "2025-04-27T12:40:19.358433Z",
     "iopub.status.busy": "2025-04-27T12:40:19.357473Z",
     "iopub.status.idle": "2025-04-27T12:40:19.622414Z",
     "shell.execute_reply": "2025-04-27T12:40:19.621618Z",
     "shell.execute_reply.started": "2025-04-27T12:40:19.358396Z"
    },
    "tags": []
   },
   "outputs": [
    {
     "data": {
      "image/png": "[encoded data removed]",
      "text/plain": [
       "<Figure size 1200x600 with 1 Axes>"
      ]
     },
     "metadata": {},
     "output_type": "display_data"
    }
   ],
   "source": [
    "importances = importances.sort_values(ascending=False)\n",
    "plt.figure(figsize=(12, 6))\n",
    "plt.barh(importances.index[::-1], importances.values[::-1])\n",
    "plt.xlabel(\"Значимость\")\n",
    "plt.title(\"Значимость признаков (по permutation importance на тесте)\")\n",
    "plt.tight_layout()\n",
    "plt.show()"
   ]
  },
  {
   "cell_type": "code",
   "execution_count": null,
   "metadata": {},
   "outputs": [],
   "source": []
  }
 ],
 "metadata": {
  "kaggle": {
   "accelerator": "nvidiaTeslaT4",
   "dataSources": [
    {
     "datasetId": 7118912,
     "sourceId": 11371631,
     "sourceType": "datasetVersion"
    }
   ],
   "dockerImageVersionId": 31011,
   "isGpuEnabled": true,
   "isInternetEnabled": true,
   "language": "python",
   "sourceType": "notebook"
  },
  "kernelspec": {
   "display_name": "DataSphere Kernel",
   "language": "python",
   "name": "python3"
  },
  "language_info": {
   "codemirror_mode": {
    "name": "ipython",
    "version": 3
   },
   "file_extension": ".py",
   "mimetype": "text/x-python",
   "name": "python",
   "nbconvert_exporter": "python",
   "pygments_lexer": "ipython3",
   "version": "3.10.12"
  }
 },
 "nbformat": 4,
 "nbformat_minor": 4
}
