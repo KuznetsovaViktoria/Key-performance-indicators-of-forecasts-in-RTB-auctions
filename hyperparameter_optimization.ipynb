{
 "cells": [
  {
   "cell_type": "code",
   "execution_count": 1,
   "id": "5c5bd8f9-5aa4-4a44-86e7-de798b10beaf",
   "metadata": {
    "execution": {
     "iopub.execute_input": "2025-04-11T15:29:04.331453Z",
     "iopub.status.busy": "2025-04-11T15:29:04.330762Z",
     "iopub.status.idle": "2025-04-11T15:29:04.393669Z",
     "shell.execute_reply": "2025-04-11T15:29:04.392881Z",
     "shell.execute_reply.started": "2025-04-11T15:29:04.331413Z"
    },
    "tags": []
   },
   "outputs": [],
   "source": [
    "import pandas as pd\n",
    "from catboost import CatBoostClassifier, Pool\n",
    "from sklearn.metrics import roc_auc_score, roc_curve\n",
    "import matplotlib.pyplot as plt"
   ]
  },
  {
   "cell_type": "code",
   "execution_count": 2,
   "id": "4a1a006a-864b-4f92-ae8f-8034619c57e4",
   "metadata": {
    "execution": {
     "iopub.execute_input": "2025-04-11T15:29:04.395789Z",
     "iopub.status.busy": "2025-04-11T15:29:04.394924Z",
     "iopub.status.idle": "2025-04-11T15:29:04.413605Z",
     "shell.execute_reply": "2025-04-11T15:29:04.412934Z",
     "shell.execute_reply.started": "2025-04-11T15:29:04.395754Z"
    }
   },
   "outputs": [],
   "source": [
    "from sklearn.model_selection import GridSearchCV"
   ]
  },
  {
   "cell_type": "code",
   "execution_count": 3,
   "id": "a795bda4-0182-45b0-8ce3-e8ccf6ff6b6d",
   "metadata": {
    "execution": {
     "iopub.execute_input": "2025-04-11T15:29:04.415350Z",
     "iopub.status.busy": "2025-04-11T15:29:04.414476Z",
     "iopub.status.idle": "2025-04-11T15:29:58.260332Z",
     "shell.execute_reply": "2025-04-11T15:29:58.259494Z",
     "shell.execute_reply.started": "2025-04-11T15:29:04.415316Z"
    },
    "tags": []
   },
   "outputs": [
    {
     "name": "stderr",
     "output_type": "stream",
     "text": [
      "/tmp/ipykernel_10301/3222708738.py:1: DtypeWarning: Columns (15,16,17) have mixed types. Specify dtype option on import or set low_memory=False.\n",
      "  train_df = pd.read_csv('parsed_final_data_season_3.csv.zip', compression='zip')\n"
     ]
    }
   ],
   "source": [
    "train_df = pd.read_csv('parsed_final_data_season_3.csv.zip', compression='zip')\n",
    "test_df = pd.read_csv('final_test_data_season_3.csv.zip', compression='zip')"
   ]
  },
  {
   "cell_type": "code",
   "execution_count": 4,
   "id": "168d3c23-c4b4-451a-88dd-71a8eb3faa97",
   "metadata": {
    "execution": {
     "iopub.execute_input": "2025-04-11T15:29:58.262768Z",
     "iopub.status.busy": "2025-04-11T15:29:58.261955Z",
     "iopub.status.idle": "2025-04-11T15:30:00.802440Z",
     "shell.execute_reply": "2025-04-11T15:30:00.801650Z",
     "shell.execute_reply.started": "2025-04-11T15:29:58.262734Z"
    }
   },
   "outputs": [],
   "source": [
    "train_df = train_df.drop('Unnamed: 0', axis=1)\n",
    "test_df = test_df.drop('Unnamed: 0', axis=1)"
   ]
  },
  {
   "cell_type": "code",
   "execution_count": 5,
   "id": "7f71e99a-585d-4c4e-87d0-11a048318f3d",
   "metadata": {
    "execution": {
     "iopub.execute_input": "2025-04-11T15:30:00.804003Z",
     "iopub.status.busy": "2025-04-11T15:30:00.803246Z",
     "iopub.status.idle": "2025-04-11T15:30:00.847606Z",
     "shell.execute_reply": "2025-04-11T15:30:00.846739Z",
     "shell.execute_reply.started": "2025-04-11T15:30:00.803964Z"
    },
    "tags": []
   },
   "outputs": [],
   "source": [
    "target_column = 'click'\n",
    "feature_columns = train_df.columns.difference([target_column, 'bid_id'])\n",
    "categorical_features = ['region_id', 'city_id', 'ad_slot_visibility',\n",
    "       'ad_slot_format', 'creative_id', 'advertiser_id', 'part_of_day',\n",
    "       'weekday', 'weekend', 'os', 'browser',\n",
    "       'is_mobile_device', 'is_male', 'is_long_term_interest', 'is_in_market',\n",
    "       'is_info_cat', 'is_products_cat', 'is_service_cat',\n",
    "       'is_entertainment_cat', 'is_girly_cat']"
   ]
  },
  {
   "cell_type": "code",
   "execution_count": 6,
   "id": "d09d3f3a-645c-49bc-b647-87d5f0be1b8a",
   "metadata": {
    "execution": {
     "iopub.execute_input": "2025-04-11T15:30:00.849422Z",
     "iopub.status.busy": "2025-04-11T15:30:00.848484Z",
     "iopub.status.idle": "2025-04-11T15:30:23.115107Z",
     "shell.execute_reply": "2025-04-11T15:30:23.114344Z",
     "shell.execute_reply.started": "2025-04-11T15:30:00.849387Z"
    },
    "tags": []
   },
   "outputs": [],
   "source": [
    "train_df = train_df.fillna(value=False)"
   ]
  },
  {
   "cell_type": "code",
   "execution_count": 7,
   "id": "a7075efc-4444-47c4-9df3-5dc9026b6ff7",
   "metadata": {
    "execution": {
     "iopub.execute_input": "2025-04-11T15:30:23.116483Z",
     "iopub.status.busy": "2025-04-11T15:30:23.115902Z",
     "iopub.status.idle": "2025-04-11T15:30:38.798036Z",
     "shell.execute_reply": "2025-04-11T15:30:38.797307Z",
     "shell.execute_reply.started": "2025-04-11T15:30:23.116452Z"
    },
    "tags": []
   },
   "outputs": [],
   "source": [
    "from sklearn.model_selection import train_test_split\n",
    "train_df, val_df = train_test_split(train_df, test_size=0.2, random_state=42, stratify=train_df[target_column])\n"
   ]
  },
  {
   "cell_type": "code",
   "execution_count": 8,
   "id": "5c4cdc00-f242-4e0e-806d-fd4564883958",
   "metadata": {
    "execution": {
     "iopub.execute_input": "2025-04-11T15:30:38.799546Z",
     "iopub.status.busy": "2025-04-11T15:30:38.798903Z",
     "iopub.status.idle": "2025-04-11T15:30:38.813727Z",
     "shell.execute_reply": "2025-04-11T15:30:38.813028Z",
     "shell.execute_reply.started": "2025-04-11T15:30:38.799511Z"
    },
    "tags": []
   },
   "outputs": [],
   "source": [
    "# train_pool = Pool(data=train_df[feature_columns],\n",
    "#                   label=train_df[target_column],\n",
    "#                   cat_features=categorical_features)"
   ]
  },
  {
   "cell_type": "code",
   "execution_count": 9,
   "id": "5958c2ee-8980-4495-b505-8fde53290f30",
   "metadata": {
    "execution": {
     "iopub.execute_input": "2025-04-11T15:30:38.815766Z",
     "iopub.status.busy": "2025-04-11T15:30:38.814712Z",
     "iopub.status.idle": "2025-04-11T15:31:10.530153Z",
     "shell.execute_reply": "2025-04-11T15:31:10.529455Z",
     "shell.execute_reply.started": "2025-04-11T15:30:38.815739Z"
    },
    "tags": []
   },
   "outputs": [],
   "source": [
    "test_pool = Pool(data=test_df[feature_columns],\n",
    "                 label=test_df[target_column],\n",
    "                 cat_features=categorical_features)"
   ]
  },
  {
   "cell_type": "code",
   "execution_count": 10,
   "id": "569ef693-5cff-4fc5-b276-fcd687cbf1b1",
   "metadata": {
    "execution": {
     "iopub.execute_input": "2025-04-11T15:31:10.533401Z",
     "iopub.status.busy": "2025-04-11T15:31:10.532847Z",
     "iopub.status.idle": "2025-04-11T15:32:36.434573Z",
     "shell.execute_reply": "2025-04-11T15:32:36.433810Z",
     "shell.execute_reply.started": "2025-04-11T15:31:10.533368Z"
    },
    "tags": []
   },
   "outputs": [],
   "source": [
    "val_pool = Pool(data=val_df[feature_columns],\n",
    "                 label=val_df[target_column],\n",
    "                 cat_features=categorical_features)"
   ]
  },
  {
   "cell_type": "code",
   "execution_count": 11,
   "id": "10a6e444-ec6b-42c1-87f6-3c26718077f3",
   "metadata": {
    "execution": {
     "iopub.execute_input": "2025-04-11T15:32:36.435864Z",
     "iopub.status.busy": "2025-04-11T15:32:36.435393Z",
     "iopub.status.idle": "2025-04-11T15:32:36.534016Z",
     "shell.execute_reply": "2025-04-11T15:32:36.533227Z",
     "shell.execute_reply.started": "2025-04-11T15:32:36.435830Z"
    },
    "tags": []
   },
   "outputs": [
    {
     "data": {
      "text/plain": [
       "False    17063938\n",
       "True         9338\n",
       "Name: click, dtype: int64"
      ]
     },
     "execution_count": 11,
     "metadata": {},
     "output_type": "execute_result"
    }
   ],
   "source": [
    "class_counts = train_df[target_column].value_counts()\n",
    "class_counts"
   ]
  },
  {
   "cell_type": "code",
   "execution_count": 12,
   "id": "ab2d5236-8e62-42ed-9594-9e3b6f56657a",
   "metadata": {
    "execution": {
     "iopub.execute_input": "2025-04-11T15:32:36.535953Z",
     "iopub.status.busy": "2025-04-11T15:32:36.534957Z",
     "iopub.status.idle": "2025-04-11T15:32:36.558209Z",
     "shell.execute_reply": "2025-04-11T15:32:36.557566Z",
     "shell.execute_reply.started": "2025-04-11T15:32:36.535910Z"
    },
    "tags": []
   },
   "outputs": [
    {
     "data": {
      "text/plain": [
       "17063938"
      ]
     },
     "execution_count": 12,
     "metadata": {},
     "output_type": "execute_result"
    }
   ],
   "source": [
    "class_0_count = class_counts.get(0, 1)\n",
    "class_1_count = class_counts.get(1, 1)\n",
    "class_0_count"
   ]
  },
  {
   "cell_type": "code",
   "execution_count": 13,
   "id": "d378a7f7-b1cc-47f9-a612-10317b7b87c7",
   "metadata": {
    "execution": {
     "iopub.execute_input": "2025-04-11T15:32:36.559959Z",
     "iopub.status.busy": "2025-04-11T15:32:36.559163Z",
     "iopub.status.idle": "2025-04-11T15:32:36.572154Z",
     "shell.execute_reply": "2025-04-11T15:32:36.571535Z",
     "shell.execute_reply.started": "2025-04-11T15:32:36.559925Z"
    },
    "tags": []
   },
   "outputs": [],
   "source": [
    "total_count = class_0_count + class_1_count\n",
    "class_weights = [total_count / class_0_count, total_count / class_1_count]"
   ]
  },
  {
   "cell_type": "code",
   "execution_count": 18,
   "id": "a556479a-2cc4-4f58-9341-5347848d04a1",
   "metadata": {
    "execution": {
     "iopub.execute_input": "2025-04-11T15:32:36.690814Z",
     "iopub.status.busy": "2025-04-11T15:32:36.690363Z",
     "iopub.status.idle": "2025-04-11T15:32:36.708761Z",
     "shell.execute_reply": "2025-04-11T15:32:36.708082Z",
     "shell.execute_reply.started": "2025-04-11T15:32:36.690778Z"
    },
    "tags": []
   },
   "outputs": [],
   "source": [
    "param_grid = {\n",
    "    'depth': [3, 4, 5],\n",
    "    'learning_rate': [0.01, 0.05],\n",
    "    'iterations': [300, 500],\n",
    "    'l2_leaf_reg': [2, 3, 4]\n",
    "}\n",
    "cat_model = CatBoostClassifier(\n",
    "    task_type='GPU',\n",
    "    loss_function='Logloss',\n",
    "    eval_metric='AUC',\n",
    "    early_stopping_rounds=100,\n",
    "    class_weights=class_weights,\n",
    "    cat_features=categorical_features,\n",
    "    verbose=50\n",
    ")"
   ]
  },
  {
   "cell_type": "code",
   "execution_count": null,
   "id": "d028c0ad-6ec3-4485-bbb0-4d2f4bfd591a",
   "metadata": {
    "tags": []
   },
   "outputs": [
    {
     "name": "stdout",
     "output_type": "stream",
     "text": [
      "250:\ttotal: 23.2s\tremaining: 23s\n",
      "300:\ttotal: 27.8s\tremaining: 18.4s\n",
      "350:\ttotal: 32.5s\tremaining: 13.8s\n",
      "400:\ttotal: 37.2s\tremaining: 9.18s\n",
      "450:\ttotal: 41.9s\tremaining: 4.55s\n",
      "499:\ttotal: 46.5s\tremaining: 0us\n"
     ]
    },
    {
     "name": "stderr",
     "output_type": "stream",
     "text": [
      "Default metric period is 5 because AUC is/are not implemented for GPU\n"
     ]
    },
    {
     "name": "stdout",
     "output_type": "stream",
     "text": [
      "0:\ttotal: 95.5ms\tremaining: 47.7s\n",
      "50:\ttotal: 4.74s\tremaining: 41.7s\n",
      "100:\ttotal: 9.42s\tremaining: 37.2s\n",
      "150:\ttotal: 14.1s\tremaining: 32.5s\n",
      "200:\ttotal: 18.7s\tremaining: 27.8s\n",
      "250:\ttotal: 23.3s\tremaining: 23.1s\n",
      "300:\ttotal: 27.9s\tremaining: 18.5s\n",
      "350:\ttotal: 32.5s\tremaining: 13.8s\n",
      "400:\ttotal: 37.2s\tremaining: 9.17s\n",
      "450:\ttotal: 41.8s\tremaining: 4.54s\n",
      "499:\ttotal: 46.4s\tremaining: 0us\n"
     ]
    },
    {
     "name": "stderr",
     "output_type": "stream",
     "text": [
      "IOStream.flush timed out\n",
      "IOStream.flush timed out\n",
      "Default metric period is 5 because AUC is/are not implemented for GPU\n"
     ]
    },
    {
     "name": "stdout",
     "output_type": "stream",
     "text": [
      "0:\ttotal: 96.2ms\tremaining: 48s\n",
      "50:\ttotal: 4.72s\tremaining: 41.5s\n",
      "100:\ttotal: 9.39s\tremaining: 37.1s\n",
      "150:\ttotal: 14s\tremaining: 32.4s\n",
      "200:\ttotal: 18.7s\tremaining: 27.8s\n",
      "250:\ttotal: 23.3s\tremaining: 23.1s\n",
      "300:\ttotal: 27.9s\tremaining: 18.5s\n",
      "350:\ttotal: 32.6s\tremaining: 13.8s\n",
      "400:\ttotal: 37.3s\tremaining: 9.2s\n",
      "450:\ttotal: 41.9s\tremaining: 4.55s\n",
      "499:\ttotal: 46.4s\tremaining: 0us\n"
     ]
    },
    {
     "name": "stderr",
     "output_type": "stream",
     "text": [
      "IOStream.flush timed out\n",
      "IOStream.flush timed out\n",
      "Default metric period is 5 because AUC is/are not implemented for GPU\n"
     ]
    },
    {
     "name": "stdout",
     "output_type": "stream",
     "text": [
      "0:\ttotal: 88.3ms\tremaining: 44.1s\n",
      "50:\ttotal: 4.59s\tremaining: 40.4s\n",
      "100:\ttotal: 9.14s\tremaining: 36.1s\n",
      "150:\ttotal: 13.8s\tremaining: 31.9s\n",
      "200:\ttotal: 18.5s\tremaining: 27.5s\n",
      "250:\ttotal: 23.2s\tremaining: 23s\n",
      "300:\ttotal: 27.8s\tremaining: 18.4s\n",
      "350:\ttotal: 32.5s\tremaining: 13.8s\n",
      "400:\ttotal: 37.2s\tremaining: 9.19s\n",
      "450:\ttotal: 41.9s\tremaining: 4.56s\n",
      "499:\ttotal: 46.5s\tremaining: 0us\n"
     ]
    },
    {
     "name": "stderr",
     "output_type": "stream",
     "text": [
      "Default metric period is 5 because AUC is/are not implemented for GPU\n"
     ]
    },
    {
     "name": "stdout",
     "output_type": "stream",
     "text": [
      "0:\ttotal: 94.8ms\tremaining: 47.3s\n",
      "50:\ttotal: 4.64s\tremaining: 40.9s\n",
      "100:\ttotal: 9.24s\tremaining: 36.5s\n",
      "150:\ttotal: 14s\tremaining: 32.4s\n",
      "200:\ttotal: 18.8s\tremaining: 28s\n",
      "250:\ttotal: 23.5s\tremaining: 23.3s\n",
      "300:\ttotal: 28.1s\tremaining: 18.6s\n",
      "350:\ttotal: 32.8s\tremaining: 13.9s\n",
      "400:\ttotal: 37.6s\tremaining: 9.28s\n",
      "450:\ttotal: 42.3s\tremaining: 4.59s\n",
      "499:\ttotal: 46.8s\tremaining: 0us\n"
     ]
    },
    {
     "name": "stderr",
     "output_type": "stream",
     "text": [
      "Default metric period is 5 because AUC is/are not implemented for GPU\n"
     ]
    },
    {
     "name": "stdout",
     "output_type": "stream",
     "text": [
      "0:\ttotal: 96.4ms\tremaining: 48.1s\n",
      "50:\ttotal: 4.69s\tremaining: 41.3s\n",
      "100:\ttotal: 9.33s\tremaining: 36.9s\n",
      "150:\ttotal: 14.1s\tremaining: 32.5s\n",
      "200:\ttotal: 18.9s\tremaining: 28.2s\n",
      "250:\ttotal: 23.7s\tremaining: 23.5s\n",
      "300:\ttotal: 28.4s\tremaining: 18.8s\n",
      "350:\ttotal: 33.1s\tremaining: 14s\n",
      "400:\ttotal: 37.7s\tremaining: 9.32s\n",
      "450:\ttotal: 42.4s\tremaining: 4.6s\n",
      "499:\ttotal: 46.9s\tremaining: 0us\n"
     ]
    },
    {
     "name": "stderr",
     "output_type": "stream",
     "text": [
      "Default metric period is 5 because AUC is/are not implemented for GPU\n"
     ]
    },
    {
     "name": "stdout",
     "output_type": "stream",
     "text": [
      "0:\ttotal: 88.6ms\tremaining: 44.2s\n",
      "50:\ttotal: 4.69s\tremaining: 41.3s\n",
      "100:\ttotal: 9.34s\tremaining: 36.9s\n",
      "150:\ttotal: 14s\tremaining: 32.3s\n",
      "200:\ttotal: 18.6s\tremaining: 27.6s\n",
      "250:\ttotal: 23.1s\tremaining: 23s\n",
      "300:\ttotal: 27.8s\tremaining: 18.4s\n",
      "350:\ttotal: 32.5s\tremaining: 13.8s\n",
      "400:\ttotal: 37.1s\tremaining: 9.17s\n",
      "450:\ttotal: 41.8s\tremaining: 4.54s\n",
      "499:\ttotal: 46.3s\tremaining: 0us\n"
     ]
    },
    {
     "name": "stderr",
     "output_type": "stream",
     "text": [
      "Default metric period is 5 because AUC is/are not implemented for GPU\n"
     ]
    },
    {
     "name": "stdout",
     "output_type": "stream",
     "text": [
      "0:\ttotal: 95.4ms\tremaining: 47.6s\n",
      "50:\ttotal: 4.78s\tremaining: 42.1s\n",
      "100:\ttotal: 9.45s\tremaining: 37.3s\n",
      "150:\ttotal: 14.1s\tremaining: 32.6s\n",
      "200:\ttotal: 18.7s\tremaining: 27.8s\n",
      "250:\ttotal: 23.3s\tremaining: 23.2s\n",
      "300:\ttotal: 28s\tremaining: 18.5s\n",
      "350:\ttotal: 32.7s\tremaining: 13.9s\n",
      "400:\ttotal: 37.3s\tremaining: 9.21s\n",
      "450:\ttotal: 41.9s\tremaining: 4.55s\n",
      "499:\ttotal: 46.5s\tremaining: 0us\n"
     ]
    },
    {
     "name": "stderr",
     "output_type": "stream",
     "text": [
      "Default metric period is 5 because AUC is/are not implemented for GPU\n"
     ]
    },
    {
     "name": "stdout",
     "output_type": "stream",
     "text": [
      "0:\ttotal: 96.9ms\tremaining: 48.4s\n",
      "50:\ttotal: 4.81s\tremaining: 42.4s\n",
      "100:\ttotal: 9.5s\tremaining: 37.5s\n",
      "150:\ttotal: 14.1s\tremaining: 32.7s\n",
      "200:\ttotal: 18.8s\tremaining: 28s\n",
      "250:\ttotal: 23.4s\tremaining: 23.2s\n",
      "300:\ttotal: 28s\tremaining: 18.5s\n",
      "350:\ttotal: 32.7s\tremaining: 13.9s\n",
      "400:\ttotal: 37.3s\tremaining: 9.21s\n",
      "450:\ttotal: 42s\tremaining: 4.56s\n",
      "499:\ttotal: 46.5s\tremaining: 0us\n"
     ]
    },
    {
     "name": "stderr",
     "output_type": "stream",
     "text": [
      "Default metric period is 5 because AUC is/are not implemented for GPU\n"
     ]
    },
    {
     "name": "stdout",
     "output_type": "stream",
     "text": [
      "0:\ttotal: 93.9ms\tremaining: 28.1s\n",
      "50:\ttotal: 5.14s\tremaining: 25.1s\n",
      "100:\ttotal: 10.2s\tremaining: 20.1s\n",
      "150:\ttotal: 15.4s\tremaining: 15.2s\n",
      "200:\ttotal: 20.7s\tremaining: 10.2s\n",
      "250:\ttotal: 25.9s\tremaining: 5.05s\n",
      "299:\ttotal: 31.1s\tremaining: 0us\n"
     ]
    },
    {
     "name": "stderr",
     "output_type": "stream",
     "text": [
      "Default metric period is 5 because AUC is/are not implemented for GPU\n"
     ]
    },
    {
     "name": "stdout",
     "output_type": "stream",
     "text": [
      "0:\ttotal: 113ms\tremaining: 33.7s\n",
      "50:\ttotal: 5.3s\tremaining: 25.9s\n",
      "100:\ttotal: 10.5s\tremaining: 20.7s\n",
      "150:\ttotal: 15.8s\tremaining: 15.6s\n",
      "200:\ttotal: 21.1s\tremaining: 10.4s\n",
      "250:\ttotal: 26.3s\tremaining: 5.13s\n",
      "299:\ttotal: 31.5s\tremaining: 0us\n"
     ]
    },
    {
     "name": "stderr",
     "output_type": "stream",
     "text": [
      "Default metric period is 5 because AUC is/are not implemented for GPU\n"
     ]
    },
    {
     "name": "stdout",
     "output_type": "stream",
     "text": [
      "0:\ttotal: 102ms\tremaining: 30.5s\n",
      "50:\ttotal: 5.26s\tremaining: 25.7s\n",
      "100:\ttotal: 10.4s\tremaining: 20.5s\n",
      "150:\ttotal: 15.7s\tremaining: 15.5s\n",
      "200:\ttotal: 20.9s\tremaining: 10.3s\n",
      "250:\ttotal: 26.2s\tremaining: 5.11s\n",
      "299:\ttotal: 31.4s\tremaining: 0us\n"
     ]
    },
    {
     "name": "stderr",
     "output_type": "stream",
     "text": [
      "Default metric period is 5 because AUC is/are not implemented for GPU\n"
     ]
    },
    {
     "name": "stdout",
     "output_type": "stream",
     "text": [
      "0:\ttotal: 93.6ms\tremaining: 28s\n",
      "50:\ttotal: 5.2s\tremaining: 25.4s\n",
      "100:\ttotal: 10.5s\tremaining: 20.6s\n",
      "150:\ttotal: 15.6s\tremaining: 15.4s\n",
      "200:\ttotal: 20.7s\tremaining: 10.2s\n",
      "250:\ttotal: 25.8s\tremaining: 5.03s\n",
      "299:\ttotal: 30.8s\tremaining: 0us\n"
     ]
    },
    {
     "name": "stderr",
     "output_type": "stream",
     "text": [
      "Default metric period is 5 because AUC is/are not implemented for GPU\n"
     ]
    },
    {
     "name": "stdout",
     "output_type": "stream",
     "text": [
      "0:\ttotal: 114ms\tremaining: 34s\n",
      "50:\ttotal: 5.32s\tremaining: 26s\n",
      "100:\ttotal: 10.4s\tremaining: 20.5s\n",
      "150:\ttotal: 15.6s\tremaining: 15.4s\n",
      "200:\ttotal: 20.7s\tremaining: 10.2s\n",
      "250:\ttotal: 25.8s\tremaining: 5.03s\n",
      "299:\ttotal: 30.7s\tremaining: 0us\n"
     ]
    },
    {
     "name": "stderr",
     "output_type": "stream",
     "text": [
      "Default metric period is 5 because AUC is/are not implemented for GPU\n"
     ]
    },
    {
     "name": "stdout",
     "output_type": "stream",
     "text": [
      "0:\ttotal: 101ms\tremaining: 30.3s\n",
      "50:\ttotal: 5.37s\tremaining: 26.2s\n",
      "100:\ttotal: 10.6s\tremaining: 21s\n",
      "150:\ttotal: 15.8s\tremaining: 15.6s\n",
      "200:\ttotal: 20.9s\tremaining: 10.3s\n",
      "250:\ttotal: 26s\tremaining: 5.08s\n",
      "299:\ttotal: 31s\tremaining: 0us\n"
     ]
    },
    {
     "name": "stderr",
     "output_type": "stream",
     "text": [
      "Default metric period is 5 because AUC is/are not implemented for GPU\n"
     ]
    },
    {
     "name": "stdout",
     "output_type": "stream",
     "text": [
      "0:\ttotal: 93.6ms\tremaining: 28s\n",
      "50:\ttotal: 5.12s\tremaining: 25s\n",
      "100:\ttotal: 10.2s\tremaining: 20s\n",
      "150:\ttotal: 15.4s\tremaining: 15.2s\n",
      "200:\ttotal: 20.6s\tremaining: 10.2s\n",
      "250:\ttotal: 25.8s\tremaining: 5.04s\n",
      "299:\ttotal: 31.1s\tremaining: 0us\n"
     ]
    },
    {
     "name": "stderr",
     "output_type": "stream",
     "text": [
      "Default metric period is 5 because AUC is/are not implemented for GPU\n"
     ]
    },
    {
     "name": "stdout",
     "output_type": "stream",
     "text": [
      "0:\ttotal: 113ms\tremaining: 33.9s\n",
      "50:\ttotal: 5.29s\tremaining: 25.9s\n",
      "100:\ttotal: 10.5s\tremaining: 20.7s\n",
      "150:\ttotal: 15.8s\tremaining: 15.6s\n",
      "200:\ttotal: 21.1s\tremaining: 10.4s\n",
      "250:\ttotal: 26.3s\tremaining: 5.14s\n",
      "299:\ttotal: 31.6s\tremaining: 0us\n"
     ]
    },
    {
     "name": "stderr",
     "output_type": "stream",
     "text": [
      "Default metric period is 5 because AUC is/are not implemented for GPU\n"
     ]
    },
    {
     "name": "stdout",
     "output_type": "stream",
     "text": [
      "0:\ttotal: 101ms\tremaining: 30.2s\n",
      "50:\ttotal: 5.26s\tremaining: 25.7s\n",
      "100:\ttotal: 10.4s\tremaining: 20.5s\n",
      "150:\ttotal: 15.7s\tremaining: 15.4s\n",
      "200:\ttotal: 21s\tremaining: 10.3s\n",
      "250:\ttotal: 26.2s\tremaining: 5.12s\n",
      "299:\ttotal: 31.5s\tremaining: 0us\n"
     ]
    },
    {
     "name": "stderr",
     "output_type": "stream",
     "text": [
      "Default metric period is 5 because AUC is/are not implemented for GPU\n"
     ]
    },
    {
     "name": "stdout",
     "output_type": "stream",
     "text": [
      "0:\ttotal: 93.5ms\tremaining: 28s\n",
      "50:\ttotal: 5.22s\tremaining: 25.5s\n",
      "100:\ttotal: 10.4s\tremaining: 20.6s\n",
      "150:\ttotal: 15.6s\tremaining: 15.4s\n",
      "200:\ttotal: 20.8s\tremaining: 10.2s\n",
      "250:\ttotal: 25.9s\tremaining: 5.05s\n",
      "299:\ttotal: 30.9s\tremaining: 0us\n"
     ]
    },
    {
     "name": "stderr",
     "output_type": "stream",
     "text": [
      "Default metric period is 5 because AUC is/are not implemented for GPU\n"
     ]
    },
    {
     "name": "stdout",
     "output_type": "stream",
     "text": [
      "0:\ttotal: 114ms\tremaining: 34s\n",
      "50:\ttotal: 5.35s\tremaining: 26.1s\n",
      "100:\ttotal: 10.5s\tremaining: 20.7s\n",
      "150:\ttotal: 15.8s\tremaining: 15.6s\n",
      "200:\ttotal: 21s\tremaining: 10.3s\n",
      "250:\ttotal: 26s\tremaining: 5.08s\n",
      "299:\ttotal: 31.1s\tremaining: 0us\n"
     ]
    },
    {
     "name": "stderr",
     "output_type": "stream",
     "text": [
      "Default metric period is 5 because AUC is/are not implemented for GPU\n"
     ]
    },
    {
     "name": "stdout",
     "output_type": "stream",
     "text": [
      "0:\ttotal: 102ms\tremaining: 30.4s\n",
      "50:\ttotal: 5.38s\tremaining: 26.3s\n",
      "100:\ttotal: 10.7s\tremaining: 21.1s\n",
      "150:\ttotal: 15.9s\tremaining: 15.7s\n",
      "200:\ttotal: 21.1s\tremaining: 10.4s\n",
      "250:\ttotal: 26.3s\tremaining: 5.13s\n",
      "299:\ttotal: 31.3s\tremaining: 0us\n"
     ]
    },
    {
     "name": "stderr",
     "output_type": "stream",
     "text": [
      "Default metric period is 5 because AUC is/are not implemented for GPU\n"
     ]
    },
    {
     "name": "stdout",
     "output_type": "stream",
     "text": [
      "0:\ttotal: 93.1ms\tremaining: 27.8s\n",
      "50:\ttotal: 5.12s\tremaining: 25s\n",
      "100:\ttotal: 10.2s\tremaining: 20s\n",
      "150:\ttotal: 15.4s\tremaining: 15.2s\n",
      "200:\ttotal: 20.7s\tremaining: 10.2s\n",
      "250:\ttotal: 25.9s\tremaining: 5.05s\n",
      "299:\ttotal: 31.1s\tremaining: 0us\n"
     ]
    },
    {
     "name": "stderr",
     "output_type": "stream",
     "text": [
      "Default metric period is 5 because AUC is/are not implemented for GPU\n"
     ]
    },
    {
     "name": "stdout",
     "output_type": "stream",
     "text": [
      "0:\ttotal: 114ms\tremaining: 34.2s\n",
      "50:\ttotal: 5.31s\tremaining: 25.9s\n",
      "100:\ttotal: 10.5s\tremaining: 20.7s\n",
      "150:\ttotal: 15.9s\tremaining: 15.7s\n",
      "200:\ttotal: 21.2s\tremaining: 10.4s\n",
      "250:\ttotal: 26.4s\tremaining: 5.15s\n",
      "299:\ttotal: 31.6s\tremaining: 0us\n"
     ]
    },
    {
     "name": "stderr",
     "output_type": "stream",
     "text": [
      "Default metric period is 5 because AUC is/are not implemented for GPU\n"
     ]
    },
    {
     "name": "stdout",
     "output_type": "stream",
     "text": [
      "0:\ttotal: 102ms\tremaining: 30.5s\n",
      "50:\ttotal: 5.28s\tremaining: 25.8s\n",
      "100:\ttotal: 10.4s\tremaining: 20.5s\n",
      "150:\ttotal: 15.7s\tremaining: 15.5s\n",
      "200:\ttotal: 21s\tremaining: 10.3s\n",
      "250:\ttotal: 26.3s\tremaining: 5.14s\n",
      "299:\ttotal: 31.6s\tremaining: 0us\n"
     ]
    },
    {
     "name": "stderr",
     "output_type": "stream",
     "text": [
      "Default metric period is 5 because AUC is/are not implemented for GPU\n"
     ]
    },
    {
     "name": "stdout",
     "output_type": "stream",
     "text": [
      "0:\ttotal: 93.3ms\tremaining: 27.9s\n",
      "50:\ttotal: 5.23s\tremaining: 25.6s\n",
      "100:\ttotal: 10.5s\tremaining: 20.6s\n",
      "150:\ttotal: 15.6s\tremaining: 15.4s\n",
      "200:\ttotal: 20.8s\tremaining: 10.3s\n",
      "250:\ttotal: 25.9s\tremaining: 5.05s\n",
      "299:\ttotal: 31s\tremaining: 0us\n"
     ]
    },
    {
     "name": "stderr",
     "output_type": "stream",
     "text": [
      "Default metric period is 5 because AUC is/are not implemented for GPU\n"
     ]
    },
    {
     "name": "stdout",
     "output_type": "stream",
     "text": [
      "0:\ttotal: 113ms\tremaining: 33.8s\n",
      "50:\ttotal: 5.32s\tremaining: 26s\n",
      "100:\ttotal: 10.4s\tremaining: 20.6s\n",
      "150:\ttotal: 15.6s\tremaining: 15.4s\n",
      "200:\ttotal: 20.8s\tremaining: 10.2s\n",
      "250:\ttotal: 25.8s\tremaining: 5.04s\n",
      "299:\ttotal: 30.9s\tremaining: 0us\n"
     ]
    },
    {
     "name": "stderr",
     "output_type": "stream",
     "text": [
      "Default metric period is 5 because AUC is/are not implemented for GPU\n"
     ]
    },
    {
     "name": "stdout",
     "output_type": "stream",
     "text": [
      "0:\ttotal: 101ms\tremaining: 30.2s\n",
      "50:\ttotal: 5.38s\tremaining: 26.3s\n",
      "100:\ttotal: 10.7s\tremaining: 21s\n",
      "150:\ttotal: 16s\tremaining: 15.7s\n",
      "200:\ttotal: 21.1s\tremaining: 10.4s\n",
      "250:\ttotal: 26.2s\tremaining: 5.12s\n",
      "299:\ttotal: 31.2s\tremaining: 0us\n"
     ]
    },
    {
     "name": "stderr",
     "output_type": "stream",
     "text": [
      "Default metric period is 5 because AUC is/are not implemented for GPU\n"
     ]
    },
    {
     "name": "stdout",
     "output_type": "stream",
     "text": [
      "0:\ttotal: 92.9ms\tremaining: 46.4s\n",
      "50:\ttotal: 5.1s\tremaining: 44.9s\n",
      "100:\ttotal: 10.2s\tremaining: 40.2s\n",
      "150:\ttotal: 15.4s\tremaining: 35.5s\n",
      "200:\ttotal: 20.6s\tremaining: 30.7s\n",
      "250:\ttotal: 25.9s\tremaining: 25.7s\n",
      "300:\ttotal: 31.2s\tremaining: 20.6s\n",
      "350:\ttotal: 36.5s\tremaining: 15.5s\n",
      "400:\ttotal: 41.8s\tremaining: 10.3s\n",
      "450:\ttotal: 47.1s\tremaining: 5.11s\n",
      "499:\ttotal: 52.2s\tremaining: 0us\n"
     ]
    },
    {
     "name": "stderr",
     "output_type": "stream",
     "text": [
      "Default metric period is 5 because AUC is/are not implemented for GPU\n"
     ]
    },
    {
     "name": "stdout",
     "output_type": "stream",
     "text": [
      "0:\ttotal: 114ms\tremaining: 57s\n",
      "50:\ttotal: 5.3s\tremaining: 46.7s\n",
      "100:\ttotal: 10.5s\tremaining: 41.5s\n",
      "150:\ttotal: 15.8s\tremaining: 36.6s\n",
      "200:\ttotal: 21.1s\tremaining: 31.4s\n",
      "250:\ttotal: 26.4s\tremaining: 26.2s\n",
      "300:\ttotal: 31.7s\tremaining: 21s\n",
      "350:\ttotal: 37s\tremaining: 15.7s\n",
      "400:\ttotal: 42.3s\tremaining: 10.4s\n",
      "450:\ttotal: 47.6s\tremaining: 5.17s\n",
      "499:\ttotal: 52.5s\tremaining: 0us\n"
     ]
    },
    {
     "name": "stderr",
     "output_type": "stream",
     "text": [
      "Default metric period is 5 because AUC is/are not implemented for GPU\n"
     ]
    },
    {
     "name": "stdout",
     "output_type": "stream",
     "text": [
      "0:\ttotal: 101ms\tremaining: 50.4s\n",
      "50:\ttotal: 5.25s\tremaining: 46.2s\n",
      "100:\ttotal: 10.4s\tremaining: 41.1s\n",
      "150:\ttotal: 15.6s\tremaining: 36.2s\n",
      "200:\ttotal: 20.9s\tremaining: 31.1s\n",
      "250:\ttotal: 26.2s\tremaining: 26s\n",
      "300:\ttotal: 31.5s\tremaining: 20.8s\n",
      "350:\ttotal: 36.7s\tremaining: 15.6s\n",
      "400:\ttotal: 42.1s\tremaining: 10.4s\n",
      "450:\ttotal: 47.2s\tremaining: 5.13s\n",
      "499:\ttotal: 52.4s\tremaining: 0us\n"
     ]
    },
    {
     "name": "stderr",
     "output_type": "stream",
     "text": [
      "Default metric period is 5 because AUC is/are not implemented for GPU\n"
     ]
    },
    {
     "name": "stdout",
     "output_type": "stream",
     "text": [
      "0:\ttotal: 93.6ms\tremaining: 46.7s\n",
      "50:\ttotal: 5.26s\tremaining: 46.3s\n",
      "100:\ttotal: 10.5s\tremaining: 41.4s\n",
      "150:\ttotal: 15.6s\tremaining: 36.1s\n",
      "200:\ttotal: 20.8s\tremaining: 30.9s\n",
      "250:\ttotal: 25.8s\tremaining: 25.6s\n",
      "300:\ttotal: 31s\tremaining: 20.5s\n",
      "350:\ttotal: 36.3s\tremaining: 15.4s\n",
      "400:\ttotal: 41.4s\tremaining: 10.2s\n",
      "450:\ttotal: 46.6s\tremaining: 5.06s\n",
      "499:\ttotal: 51.7s\tremaining: 0us\n"
     ]
    },
    {
     "name": "stderr",
     "output_type": "stream",
     "text": [
      "Default metric period is 5 because AUC is/are not implemented for GPU\n"
     ]
    },
    {
     "name": "stdout",
     "output_type": "stream",
     "text": [
      "0:\ttotal: 114ms\tremaining: 57.1s\n",
      "50:\ttotal: 5.32s\tremaining: 46.8s\n",
      "100:\ttotal: 10.4s\tremaining: 41.2s\n",
      "150:\ttotal: 15.7s\tremaining: 36.2s\n",
      "200:\ttotal: 20.7s\tremaining: 30.8s\n",
      "250:\ttotal: 25.9s\tremaining: 25.6s\n",
      "300:\ttotal: 30.9s\tremaining: 20.5s\n",
      "350:\ttotal: 36.1s\tremaining: 15.3s\n",
      "400:\ttotal: 41.3s\tremaining: 10.2s\n",
      "450:\ttotal: 46.3s\tremaining: 5.04s\n",
      "499:\ttotal: 51.3s\tremaining: 0us\n"
     ]
    },
    {
     "name": "stderr",
     "output_type": "stream",
     "text": [
      "Default metric period is 5 because AUC is/are not implemented for GPU\n"
     ]
    },
    {
     "name": "stdout",
     "output_type": "stream",
     "text": [
      "0:\ttotal: 101ms\tremaining: 50.5s\n",
      "50:\ttotal: 5.38s\tremaining: 47.4s\n",
      "100:\ttotal: 10.7s\tremaining: 42.2s\n",
      "150:\ttotal: 15.9s\tremaining: 36.8s\n",
      "200:\ttotal: 21s\tremaining: 31.3s\n",
      "250:\ttotal: 26.3s\tremaining: 26.1s\n",
      "300:\ttotal: 31.4s\tremaining: 20.8s\n",
      "350:\ttotal: 36.6s\tremaining: 15.5s\n",
      "400:\ttotal: 41.9s\tremaining: 10.3s\n",
      "450:\ttotal: 46.9s\tremaining: 5.1s\n",
      "499:\ttotal: 52s\tremaining: 0us\n"
     ]
    },
    {
     "name": "stderr",
     "output_type": "stream",
     "text": [
      "Default metric period is 5 because AUC is/are not implemented for GPU\n"
     ]
    },
    {
     "name": "stdout",
     "output_type": "stream",
     "text": [
      "0:\ttotal: 93.4ms\tremaining: 46.6s\n",
      "50:\ttotal: 5.13s\tremaining: 45.1s\n",
      "100:\ttotal: 10.2s\tremaining: 40.2s\n",
      "150:\ttotal: 15.4s\tremaining: 35.7s\n",
      "200:\ttotal: 20.7s\tremaining: 30.8s\n",
      "250:\ttotal: 25.9s\tremaining: 25.7s\n",
      "300:\ttotal: 31.3s\tremaining: 20.7s\n",
      "350:\ttotal: 36.6s\tremaining: 15.5s\n",
      "400:\ttotal: 42s\tremaining: 10.4s\n",
      "450:\ttotal: 47.2s\tremaining: 5.13s\n",
      "499:\ttotal: 52.4s\tremaining: 0us\n"
     ]
    },
    {
     "name": "stderr",
     "output_type": "stream",
     "text": [
      "Default metric period is 5 because AUC is/are not implemented for GPU\n"
     ]
    },
    {
     "name": "stdout",
     "output_type": "stream",
     "text": [
      "0:\ttotal: 114ms\tremaining: 56.9s\n",
      "50:\ttotal: 5.34s\tremaining: 47s\n",
      "100:\ttotal: 10.6s\tremaining: 41.8s\n",
      "150:\ttotal: 15.9s\tremaining: 36.8s\n",
      "200:\ttotal: 21.2s\tremaining: 31.6s\n",
      "250:\ttotal: 26.5s\tremaining: 26.3s\n",
      "300:\ttotal: 31.9s\tremaining: 21.1s\n",
      "350:\ttotal: 37.2s\tremaining: 15.8s\n",
      "400:\ttotal: 42.5s\tremaining: 10.5s\n",
      "450:\ttotal: 47.8s\tremaining: 5.19s\n",
      "499:\ttotal: 52.8s\tremaining: 0us\n"
     ]
    },
    {
     "name": "stderr",
     "output_type": "stream",
     "text": [
      "Default metric period is 5 because AUC is/are not implemented for GPU\n"
     ]
    },
    {
     "name": "stdout",
     "output_type": "stream",
     "text": [
      "0:\ttotal: 102ms\tremaining: 50.7s\n",
      "50:\ttotal: 5.25s\tremaining: 46.3s\n",
      "100:\ttotal: 10.4s\tremaining: 41.1s\n",
      "150:\ttotal: 15.7s\tremaining: 36.2s\n",
      "200:\ttotal: 20.9s\tremaining: 31.1s\n",
      "250:\ttotal: 26.2s\tremaining: 26s\n",
      "300:\ttotal: 31.6s\tremaining: 20.9s\n",
      "350:\ttotal: 36.8s\tremaining: 15.6s\n",
      "400:\ttotal: 42.2s\tremaining: 10.4s\n",
      "450:\ttotal: 47.3s\tremaining: 5.14s\n",
      "499:\ttotal: 52.4s\tremaining: 0us\n"
     ]
    },
    {
     "name": "stderr",
     "output_type": "stream",
     "text": [
      "Default metric period is 5 because AUC is/are not implemented for GPU\n"
     ]
    },
    {
     "name": "stdout",
     "output_type": "stream",
     "text": [
      "0:\ttotal: 93.5ms\tremaining: 46.6s\n",
      "50:\ttotal: 5.23s\tremaining: 46.1s\n",
      "100:\ttotal: 10.5s\tremaining: 41.3s\n",
      "150:\ttotal: 15.6s\tremaining: 36.2s\n",
      "200:\ttotal: 20.8s\tremaining: 31s\n",
      "250:\ttotal: 25.9s\tremaining: 25.7s\n",
      "300:\ttotal: 31.1s\tremaining: 20.6s\n",
      "350:\ttotal: 36.3s\tremaining: 15.4s\n",
      "400:\ttotal: 41.4s\tremaining: 10.2s\n",
      "450:\ttotal: 46.6s\tremaining: 5.06s\n",
      "499:\ttotal: 51.6s\tremaining: 0us\n"
     ]
    },
    {
     "name": "stderr",
     "output_type": "stream",
     "text": [
      "Default metric period is 5 because AUC is/are not implemented for GPU\n"
     ]
    },
    {
     "name": "stdout",
     "output_type": "stream",
     "text": [
      "0:\ttotal: 114ms\tremaining: 56.9s\n",
      "50:\ttotal: 5.3s\tremaining: 46.7s\n",
      "100:\ttotal: 10.4s\tremaining: 41.2s\n",
      "150:\ttotal: 15.6s\tremaining: 36.1s\n",
      "200:\ttotal: 20.8s\tremaining: 31s\n",
      "250:\ttotal: 25.9s\tremaining: 25.7s\n",
      "300:\ttotal: 31s\tremaining: 20.5s\n",
      "350:\ttotal: 36s\tremaining: 15.3s\n",
      "400:\ttotal: 41.2s\tremaining: 10.2s\n",
      "450:\ttotal: 46.2s\tremaining: 5.02s\n",
      "499:\ttotal: 51.2s\tremaining: 0us\n"
     ]
    },
    {
     "name": "stderr",
     "output_type": "stream",
     "text": [
      "Default metric period is 5 because AUC is/are not implemented for GPU\n"
     ]
    },
    {
     "name": "stdout",
     "output_type": "stream",
     "text": [
      "0:\ttotal: 101ms\tremaining: 50.4s\n",
      "50:\ttotal: 5.34s\tremaining: 47s\n",
      "100:\ttotal: 10.6s\tremaining: 41.9s\n",
      "150:\ttotal: 15.8s\tremaining: 36.5s\n",
      "200:\ttotal: 20.9s\tremaining: 31.1s\n",
      "250:\ttotal: 26.1s\tremaining: 25.9s\n",
      "300:\ttotal: 31.1s\tremaining: 20.6s\n",
      "350:\ttotal: 36.4s\tremaining: 15.4s\n",
      "400:\ttotal: 41.6s\tremaining: 10.3s\n",
      "450:\ttotal: 46.7s\tremaining: 5.08s\n",
      "499:\ttotal: 51.8s\tremaining: 0us\n"
     ]
    },
    {
     "name": "stderr",
     "output_type": "stream",
     "text": [
      "Default metric period is 5 because AUC is/are not implemented for GPU\n"
     ]
    },
    {
     "name": "stdout",
     "output_type": "stream",
     "text": [
      "0:\ttotal: 93.5ms\tremaining: 46.7s\n",
      "50:\ttotal: 5.12s\tremaining: 45.1s\n",
      "100:\ttotal: 10.2s\tremaining: 40.3s\n",
      "150:\ttotal: 15.4s\tremaining: 35.6s\n",
      "200:\ttotal: 20.7s\tremaining: 30.8s\n",
      "250:\ttotal: 25.9s\tremaining: 25.7s\n",
      "300:\ttotal: 31.3s\tremaining: 20.7s\n",
      "350:\ttotal: 36.6s\tremaining: 15.5s\n",
      "400:\ttotal: 41.9s\tremaining: 10.3s\n",
      "450:\ttotal: 47.2s\tremaining: 5.12s\n",
      "499:\ttotal: 52.3s\tremaining: 0us\n"
     ]
    },
    {
     "name": "stderr",
     "output_type": "stream",
     "text": [
      "Default metric period is 5 because AUC is/are not implemented for GPU\n"
     ]
    },
    {
     "name": "stdout",
     "output_type": "stream",
     "text": [
      "0:\ttotal: 114ms\tremaining: 56.8s\n",
      "50:\ttotal: 5.32s\tremaining: 46.8s\n",
      "100:\ttotal: 10.5s\tremaining: 41.5s\n",
      "150:\ttotal: 15.9s\tremaining: 36.7s\n",
      "200:\ttotal: 21.1s\tremaining: 31.4s\n",
      "250:\ttotal: 26.3s\tremaining: 26.1s\n",
      "300:\ttotal: 31.7s\tremaining: 20.9s\n",
      "350:\ttotal: 37s\tremaining: 15.7s\n",
      "400:\ttotal: 42.2s\tremaining: 10.4s\n",
      "450:\ttotal: 47.4s\tremaining: 5.15s\n",
      "499:\ttotal: 52.5s\tremaining: 0us\n"
     ]
    },
    {
     "name": "stderr",
     "output_type": "stream",
     "text": [
      "Default metric period is 5 because AUC is/are not implemented for GPU\n"
     ]
    },
    {
     "name": "stdout",
     "output_type": "stream",
     "text": [
      "0:\ttotal: 101ms\tremaining: 50.5s\n",
      "50:\ttotal: 5.25s\tremaining: 46.2s\n",
      "100:\ttotal: 10.4s\tremaining: 41.1s\n",
      "150:\ttotal: 15.7s\tremaining: 36.2s\n",
      "200:\ttotal: 20.9s\tremaining: 31.1s\n",
      "250:\ttotal: 26.2s\tremaining: 26s\n",
      "300:\ttotal: 31.6s\tremaining: 20.9s\n",
      "350:\ttotal: 36.9s\tremaining: 15.6s\n",
      "400:\ttotal: 42.2s\tremaining: 10.4s\n",
      "450:\ttotal: 47.3s\tremaining: 5.14s\n",
      "499:\ttotal: 52.3s\tremaining: 0us\n"
     ]
    },
    {
     "name": "stderr",
     "output_type": "stream",
     "text": [
      "Default metric period is 5 because AUC is/are not implemented for GPU\n"
     ]
    },
    {
     "name": "stdout",
     "output_type": "stream",
     "text": [
      "0:\ttotal: 93.9ms\tremaining: 46.8s\n",
      "50:\ttotal: 5.23s\tremaining: 46.1s\n",
      "100:\ttotal: 10.5s\tremaining: 41.4s\n",
      "150:\ttotal: 15.7s\tremaining: 36.2s\n",
      "200:\ttotal: 20.8s\tremaining: 31s\n",
      "250:\ttotal: 25.9s\tremaining: 25.7s\n",
      "300:\ttotal: 31s\tremaining: 20.5s\n",
      "350:\ttotal: 36.2s\tremaining: 15.4s\n",
      "400:\ttotal: 41.4s\tremaining: 10.2s\n",
      "450:\ttotal: 46.5s\tremaining: 5.05s\n",
      "499:\ttotal: 51.5s\tremaining: 0us\n"
     ]
    },
    {
     "name": "stderr",
     "output_type": "stream",
     "text": [
      "Default metric period is 5 because AUC is/are not implemented for GPU\n"
     ]
    },
    {
     "name": "stdout",
     "output_type": "stream",
     "text": [
      "0:\ttotal: 114ms\tremaining: 56.7s\n",
      "50:\ttotal: 5.33s\tremaining: 47s\n",
      "100:\ttotal: 10.5s\tremaining: 41.4s\n",
      "150:\ttotal: 15.6s\tremaining: 36.1s\n",
      "200:\ttotal: 20.9s\tremaining: 31s\n",
      "250:\ttotal: 26s\tremaining: 25.8s\n",
      "300:\ttotal: 31.1s\tremaining: 20.6s\n",
      "350:\ttotal: 36.2s\tremaining: 15.4s\n",
      "400:\ttotal: 41.4s\tremaining: 10.2s\n",
      "450:\ttotal: 46.5s\tremaining: 5.05s\n",
      "499:\ttotal: 51.5s\tremaining: 0us\n"
     ]
    },
    {
     "name": "stderr",
     "output_type": "stream",
     "text": [
      "Default metric period is 5 because AUC is/are not implemented for GPU\n"
     ]
    },
    {
     "name": "stdout",
     "output_type": "stream",
     "text": [
      "0:\ttotal: 101ms\tremaining: 50.6s\n",
      "50:\ttotal: 5.38s\tremaining: 47.4s\n",
      "100:\ttotal: 10.7s\tremaining: 42.2s\n",
      "150:\ttotal: 16s\tremaining: 36.9s\n",
      "200:\ttotal: 21.1s\tremaining: 31.4s\n",
      "250:\ttotal: 26.2s\tremaining: 26s\n",
      "300:\ttotal: 31.3s\tremaining: 20.7s\n",
      "350:\ttotal: 36.5s\tremaining: 15.5s\n",
      "400:\ttotal: 41.7s\tremaining: 10.3s\n",
      "450:\ttotal: 46.8s\tremaining: 5.09s\n",
      "499:\ttotal: 52s\tremaining: 0us\n"
     ]
    },
    {
     "name": "stderr",
     "output_type": "stream",
     "text": [
      "Default metric period is 5 because AUC is/are not implemented for GPU\n"
     ]
    },
    {
     "name": "stdout",
     "output_type": "stream",
     "text": [
      "0:\ttotal: 203ms\tremaining: 1m 41s\n",
      "50:\ttotal: 9.65s\tremaining: 1m 24s\n",
      "100:\ttotal: 19.2s\tremaining: 1m 15s\n",
      "150:\ttotal: 28.4s\tremaining: 1m 5s\n",
      "200:\ttotal: 37.7s\tremaining: 56s\n",
      "250:\ttotal: 46.7s\tremaining: 46.3s\n",
      "300:\ttotal: 56s\tremaining: 37s\n",
      "350:\ttotal: 1m 5s\tremaining: 27.7s\n",
      "400:\ttotal: 1m 14s\tremaining: 18.4s\n",
      "450:\ttotal: 1m 23s\tremaining: 9.11s\n",
      "499:\ttotal: 1m 32s\tremaining: 0us\n",
      "Best Parameters: {'depth': 5, 'iterations': 500, 'l2_leaf_reg': 4, 'learning_rate': 0.05}\n",
      "Best ROC AUC Score: 0.8885604061702361\n"
     ]
    }
   ],
   "source": [
    "grid_search = GridSearchCV(estimator=cat_model, param_grid=param_grid, scoring='roc_auc', cv=3, return_train_score=True)\n",
    "grid_search.fit(X=val_df[feature_columns], y=val_df[target_column])\n",
    "\n",
    "print(f\"Best Parameters: {grid_search.best_params_}\")\n",
    "print(f\"Best ROC AUC Score: {grid_search.best_score_}\")"
   ]
  },
  {
   "cell_type": "code",
   "execution_count": null,
   "id": "5ec118b7-1261-4543-8992-f05c4b1c0b39",
   "metadata": {
    "tags": []
   },
   "outputs": [],
   "source": [
    "best_model = grid_search.best_estimator_\n",
    "predictions = best_model.predict_proba(test_pool)[:, 1]"
   ]
  },
  {
   "cell_type": "code",
   "execution_count": null,
   "id": "eeab786a-b044-4bcc-b950-13964f769567",
   "metadata": {
    "tags": []
   },
   "outputs": [
    {
     "name": "stdout",
     "output_type": "stream",
     "text": [
      "Test ROC AUC Score: 0.6662055836717062\n"
     ]
    }
   ],
   "source": [
    "test_roc_auc = roc_auc_score(test_df[target_column], predictions)\n",
    "print(f\"Test ROC AUC Score: {test_roc_auc}\")"
   ]
  },
  {
   "cell_type": "code",
   "execution_count": 27,
   "id": "5def26e4-51cf-4eb4-8649-b25641580058",
   "metadata": {
    "execution": {
     "iopub.execute_input": "2025-04-11T22:39:24.096400Z",
     "iopub.status.busy": "2025-04-11T22:39:24.095392Z",
     "iopub.status.idle": "2025-04-11T22:39:24.580585Z",
     "shell.execute_reply": "2025-04-11T22:39:24.579732Z",
     "shell.execute_reply.started": "2025-04-11T22:39:24.096361Z"
    },
    "tags": []
   },
   "outputs": [
    {
     "data": {
      "image/png": "[encoded data removed]",
      "text/plain": [
       "<Figure size 800x600 with 1 Axes>"
      ]
     },
     "metadata": {},
     "output_type": "display_data"
    }
   ],
   "source": [
    "fpr, tpr, thresholds = roc_curve(test_df[target_column], predictions)\n",
    "\n",
    "plt.figure(figsize=(8, 6))\n",
    "plt.plot(fpr, tpr, label=f'ROC AUC = {test_roc_auc:.4f}')\n",
    "plt.plot([0, 1], [0, 1], 'k--')\n",
    "plt.xlabel('FP Rate')\n",
    "plt.ylabel('TP Rate')\n",
    "plt.title('ROC Curve')\n",
    "plt.legend(loc='lower right')\n",
    "plt.grid()\n",
    "plt.show()"
   ]
  },
  {
   "cell_type": "code",
   "execution_count": 28,
   "id": "2c5482b6-b5b3-41a0-ab33-70aed43342c2",
   "metadata": {
    "execution": {
     "iopub.execute_input": "2025-04-11T22:39:29.200140Z",
     "iopub.status.busy": "2025-04-11T22:39:29.199052Z",
     "iopub.status.idle": "2025-04-11T22:39:43.971569Z",
     "shell.execute_reply": "2025-04-11T22:39:43.970638Z",
     "shell.execute_reply.started": "2025-04-11T22:39:29.200108Z"
    },
    "tags": []
   },
   "outputs": [
    {
     "data": {
      "image/png": "[encoded data removed]",
      "text/plain": [
       "<Figure size 1200x600 with 1 Axes>"
      ]
     },
     "metadata": {},
     "output_type": "display_data"
    }
   ],
   "source": [
    "feature_importances = best_model.get_feature_importance(test_pool)\n",
    "feature_importances_df = pd.DataFrame({'Feature': feature_columns, 'Importance': feature_importances})\n",
    "\n",
    "feature_importances_df.sort_values(by='Importance', ascending=False, inplace=True)\n",
    "\n",
    "plt.figure(figsize=(12, 6))\n",
    "plt.barh(feature_importances_df['Feature'], feature_importances_df['Importance'])\n",
    "plt.xlabel('Importance')\n",
    "plt.title('Feature Importance on test Weighted model')\n",
    "plt.gca().invert_yaxis()\n",
    "plt.show()"
   ]
  },
  {
   "cell_type": "code",
   "execution_count": 29,
   "id": "c901bc2a-510f-4f52-835d-23902726453c",
   "metadata": {
    "execution": {
     "iopub.execute_input": "2025-04-11T22:39:43.973836Z",
     "iopub.status.busy": "2025-04-11T22:39:43.972862Z",
     "iopub.status.idle": "2025-04-11T22:39:43.987550Z",
     "shell.execute_reply": "2025-04-11T22:39:43.986864Z",
     "shell.execute_reply.started": "2025-04-11T22:39:43.973800Z"
    },
    "tags": []
   },
   "outputs": [],
   "source": [
    "import json\n",
    "with open('hyperparameters_optimization_results.txt', 'w') as f:\n",
    "    f.write(\"\\n Best Parameters \\n\")\n",
    "    f.write(json.dumps(grid_search.best_params_))\n",
    "    f.write(\"\\n Best ROC AUC Score \\n\")\n",
    "    f.write(json.dumps(grid_search.best_score_))\n",
    "    f.write(\"\\n Test ROC AUC Score \\n\")\n",
    "    f.write(json.dumps(test_roc_auc))"
   ]
  },
  {
   "cell_type": "code",
   "execution_count": 30,
   "id": "cf4a80c4-ead1-40ab-98ac-f22ea4a1eba1",
   "metadata": {
    "execution": {
     "iopub.execute_input": "2025-04-11T22:39:43.989304Z",
     "iopub.status.busy": "2025-04-11T22:39:43.988498Z",
     "iopub.status.idle": "2025-04-11T22:45:27.319770Z",
     "shell.execute_reply": "2025-04-11T22:45:27.319037Z",
     "shell.execute_reply.started": "2025-04-11T22:39:43.989279Z"
    },
    "tags": []
   },
   "outputs": [
    {
     "name": "stderr",
     "output_type": "stream",
     "text": [
      "IOStream.flush timed out\n",
      "IOStream.flush timed out\n",
      "IOStream.flush timed out\n",
      "IOStream.flush timed out\n"
     ]
    }
   ],
   "source": [
    "train_pool = Pool(data=train_df[feature_columns],\n",
    "                  label=train_df[target_column],\n",
    "                  cat_features=categorical_features)"
   ]
  },
  {
   "cell_type": "code",
   "execution_count": 31,
   "id": "c6a6a5f9-470e-4d26-8a6e-b0d4ef525207",
   "metadata": {
    "execution": {
     "iopub.execute_input": "2025-04-11T22:45:27.321848Z",
     "iopub.status.busy": "2025-04-11T22:45:27.321288Z",
     "iopub.status.idle": "2025-04-11T23:00:48.708826Z",
     "shell.execute_reply": "2025-04-11T23:00:48.708081Z",
     "shell.execute_reply.started": "2025-04-11T22:45:27.321822Z"
    }
   },
   "outputs": [
    {
     "name": "stderr",
     "output_type": "stream",
     "text": [
      "Default metric period is 5 because AUC is/are not implemented for GPU\n"
     ]
    },
    {
     "name": "stdout",
     "output_type": "stream",
     "text": [
      "0:\ttest: 0.8184993\tbest: 0.8184993 (0)\ttotal: 1.52s\tremaining: 12m 37s\n",
      "1:\ttotal: 2.92s\tremaining: 12m 6s\n",
      "2:\ttotal: 4.57s\tremaining: 12m 36s\n",
      "3:\ttotal: 6.03s\tremaining: 12m 27s\n",
      "4:\ttotal: 7.41s\tremaining: 12m 13s\n",
      "5:\ttest: 0.8474709\tbest: 0.8474709 (5)\ttotal: 8.92s\tremaining: 12m 14s\n",
      "6:\ttotal: 10.4s\tremaining: 12m 15s\n",
      "7:\ttotal: 11.9s\tremaining: 12m 10s\n",
      "8:\ttotal: 13.5s\tremaining: 12m 15s\n",
      "9:\ttotal: 15.1s\tremaining: 12m 19s\n",
      "10:\ttest: 0.8542297\tbest: 0.8542297 (10)\ttotal: 16.9s\tremaining: 12m 29s\n",
      "11:\ttotal: 18.7s\tremaining: 12m 38s\n",
      "12:\ttotal: 20.5s\tremaining: 12m 48s\n",
      "13:\ttotal: 22.4s\tremaining: 12m 58s\n",
      "14:\ttotal: 23.9s\tremaining: 12m 54s\n",
      "15:\ttest: 0.8577102\tbest: 0.8577102 (15)\ttotal: 25.6s\tremaining: 12m 55s\n",
      "16:\ttotal: 27.4s\tremaining: 12m 57s\n",
      "17:\ttotal: 29.2s\tremaining: 13m 3s\n",
      "18:\ttotal: 30.7s\tremaining: 12m 57s\n",
      "19:\ttotal: 32.3s\tremaining: 12m 55s\n",
      "20:\ttest: 0.8685608\tbest: 0.8685608 (20)\ttotal: 33.9s\tremaining: 12m 52s\n",
      "21:\ttotal: 35.1s\tremaining: 12m 42s\n",
      "22:\ttotal: 37.2s\tremaining: 12m 51s\n",
      "23:\ttotal: 39.2s\tremaining: 12m 57s\n",
      "24:\ttotal: 40.9s\tremaining: 12m 57s\n",
      "25:\ttest: 0.8707632\tbest: 0.8707632 (25)\ttotal: 42.3s\tremaining: 12m 51s\n",
      "26:\ttotal: 44.2s\tremaining: 12m 53s\n",
      "27:\ttotal: 46.1s\tremaining: 12m 57s\n",
      "28:\ttotal: 47.7s\tremaining: 12m 53s\n",
      "29:\ttotal: 49.5s\tremaining: 12m 55s\n",
      "30:\ttest: 0.8741109\tbest: 0.8741109 (30)\ttotal: 51.1s\tremaining: 12m 53s\n",
      "31:\ttotal: 52.9s\tremaining: 12m 54s\n",
      "32:\ttotal: 54.3s\tremaining: 12m 48s\n",
      "33:\ttotal: 56.2s\tremaining: 12m 50s\n",
      "34:\ttotal: 58.6s\tremaining: 12m 58s\n",
      "35:\ttest: 0.8772783\tbest: 0.8772783 (35)\ttotal: 1m\tremaining: 12m 57s\n",
      "36:\ttotal: 1m 2s\tremaining: 12m 59s\n",
      "37:\ttotal: 1m 3s\tremaining: 12m 57s\n",
      "38:\ttotal: 1m 5s\tremaining: 12m 54s\n",
      "39:\ttotal: 1m 7s\tremaining: 12m 53s\n",
      "40:\ttest: 0.8799371\tbest: 0.8799371 (40)\ttotal: 1m 9s\tremaining: 12m 56s\n",
      "41:\ttotal: 1m 11s\tremaining: 12m 56s\n",
      "42:\ttotal: 1m 12s\tremaining: 12m 55s\n",
      "43:\ttotal: 1m 14s\tremaining: 12m 53s\n",
      "44:\ttotal: 1m 16s\tremaining: 12m 51s\n",
      "45:\ttest: 0.8824275\tbest: 0.8824275 (45)\ttotal: 1m 17s\tremaining: 12m 46s\n",
      "46:\ttotal: 1m 19s\tremaining: 12m 49s\n",
      "47:\ttotal: 1m 21s\tremaining: 12m 48s\n",
      "48:\ttotal: 1m 23s\tremaining: 12m 49s\n",
      "49:\ttotal: 1m 25s\tremaining: 12m 47s\n",
      "50:\ttest: 0.8849557\tbest: 0.8849557 (50)\ttotal: 1m 27s\tremaining: 12m 48s\n",
      "51:\ttotal: 1m 29s\tremaining: 12m 49s\n",
      "52:\ttotal: 1m 31s\tremaining: 12m 49s\n",
      "53:\ttotal: 1m 33s\tremaining: 12m 49s\n",
      "54:\ttotal: 1m 34s\tremaining: 12m 46s\n",
      "55:\ttest: 0.8922430\tbest: 0.8922430 (55)\ttotal: 1m 36s\tremaining: 12m 42s\n",
      "56:\ttotal: 1m 38s\tremaining: 12m 42s\n",
      "57:\ttotal: 1m 39s\tremaining: 12m 41s\n",
      "58:\ttotal: 1m 41s\tremaining: 12m 39s\n",
      "59:\ttotal: 1m 43s\tremaining: 12m 36s\n",
      "60:\ttest: 0.8945948\tbest: 0.8945948 (60)\ttotal: 1m 44s\tremaining: 12m 33s\n",
      "61:\ttotal: 1m 46s\tremaining: 12m 32s\n",
      "62:\ttotal: 1m 48s\tremaining: 12m 30s\n",
      "63:\ttotal: 1m 49s\tremaining: 12m 27s\n",
      "64:\ttotal: 1m 51s\tremaining: 12m 27s\n",
      "65:\ttest: 0.8952881\tbest: 0.8952881 (65)\ttotal: 1m 53s\tremaining: 12m 24s\n",
      "66:\ttotal: 1m 55s\tremaining: 12m 25s\n",
      "67:\ttotal: 1m 56s\tremaining: 12m 21s\n",
      "68:\ttotal: 1m 58s\tremaining: 12m 21s\n",
      "69:\ttotal: 2m\tremaining: 12m 21s\n",
      "70:\ttest: 0.8970450\tbest: 0.8970450 (70)\ttotal: 2m 2s\tremaining: 12m 20s\n",
      "71:\ttotal: 2m 4s\tremaining: 12m 20s\n",
      "72:\ttotal: 2m 6s\tremaining: 12m 17s\n",
      "73:\ttotal: 2m 8s\tremaining: 12m 18s\n",
      "74:\ttotal: 2m 10s\tremaining: 12m 17s\n",
      "75:\ttest: 0.8993250\tbest: 0.8993250 (75)\ttotal: 2m 12s\tremaining: 12m 16s\n",
      "76:\ttotal: 2m 13s\tremaining: 12m 15s\n",
      "77:\ttotal: 2m 15s\tremaining: 12m 15s\n",
      "78:\ttotal: 2m 17s\tremaining: 12m 12s\n",
      "79:\ttotal: 2m 19s\tremaining: 12m 11s\n",
      "80:\ttest: 0.9022402\tbest: 0.9022402 (80)\ttotal: 2m 21s\tremaining: 12m 13s\n",
      "81:\ttotal: 2m 23s\tremaining: 12m 11s\n",
      "82:\ttotal: 2m 25s\tremaining: 12m 9s\n",
      "83:\ttotal: 2m 27s\tremaining: 12m 9s\n",
      "84:\ttotal: 2m 29s\tremaining: 12m 8s\n",
      "85:\ttest: 0.9025751\tbest: 0.9025751 (85)\ttotal: 2m 30s\tremaining: 12m 5s\n",
      "86:\ttotal: 2m 32s\tremaining: 12m 4s\n",
      "87:\ttotal: 2m 34s\tremaining: 12m 2s\n",
      "88:\ttotal: 2m 35s\tremaining: 11m 59s\n",
      "89:\ttotal: 2m 37s\tremaining: 11m 57s\n",
      "90:\ttest: 0.9039651\tbest: 0.9039651 (90)\ttotal: 2m 39s\tremaining: 11m 55s\n",
      "91:\ttotal: 2m 41s\tremaining: 11m 54s\n",
      "92:\ttotal: 2m 42s\tremaining: 11m 51s\n",
      "93:\ttotal: 2m 44s\tremaining: 11m 49s\n",
      "94:\ttotal: 2m 46s\tremaining: 11m 48s\n",
      "95:\ttest: 0.9044109\tbest: 0.9044109 (95)\ttotal: 2m 47s\tremaining: 11m 46s\n",
      "96:\ttotal: 2m 49s\tremaining: 11m 46s\n",
      "97:\ttotal: 2m 51s\tremaining: 11m 44s\n",
      "98:\ttotal: 2m 53s\tremaining: 11m 42s\n",
      "99:\ttotal: 2m 55s\tremaining: 11m 40s\n",
      "100:\ttest: 0.9050069\tbest: 0.9050069 (100)\ttotal: 2m 56s\tremaining: 11m 38s\n",
      "101:\ttotal: 2m 58s\tremaining: 11m 35s\n",
      "102:\ttotal: 2m 59s\tremaining: 11m 33s\n",
      "103:\ttotal: 3m 1s\tremaining: 11m 31s\n",
      "104:\ttotal: 3m 3s\tremaining: 11m 30s\n",
      "105:\ttest: 0.9064271\tbest: 0.9064271 (105)\ttotal: 3m 5s\tremaining: 11m 29s\n",
      "106:\ttotal: 3m 7s\tremaining: 11m 27s\n",
      "107:\ttotal: 3m 8s\tremaining: 11m 25s\n",
      "108:\ttotal: 3m 10s\tremaining: 11m 24s\n",
      "109:\ttotal: 3m 12s\tremaining: 11m 22s\n",
      "110:\ttest: 0.9077498\tbest: 0.9077498 (110)\ttotal: 3m 14s\tremaining: 11m 20s\n",
      "111:\ttotal: 3m 16s\tremaining: 11m 19s\n",
      "112:\ttotal: 3m 18s\tremaining: 11m 18s\n",
      "113:\ttotal: 3m 20s\tremaining: 11m 17s\n",
      "114:\ttotal: 3m 21s\tremaining: 11m 14s\n",
      "115:\ttest: 0.9087852\tbest: 0.9087852 (115)\ttotal: 3m 23s\tremaining: 11m 12s\n",
      "116:\ttotal: 3m 25s\tremaining: 11m 11s\n",
      "117:\ttotal: 3m 26s\tremaining: 11m 9s\n",
      "118:\ttotal: 3m 28s\tremaining: 11m 7s\n",
      "119:\ttotal: 3m 30s\tremaining: 11m 5s\n",
      "120:\ttest: 0.9095076\tbest: 0.9095076 (120)\ttotal: 3m 31s\tremaining: 11m 3s\n",
      "121:\ttotal: 3m 33s\tremaining: 11m 2s\n",
      "122:\ttotal: 3m 35s\tremaining: 10m 59s\n",
      "123:\ttotal: 3m 37s\tremaining: 10m 58s\n",
      "124:\ttotal: 3m 38s\tremaining: 10m 56s\n",
      "125:\ttest: 0.9100698\tbest: 0.9100698 (125)\ttotal: 3m 40s\tremaining: 10m 55s\n",
      "126:\ttotal: 3m 42s\tremaining: 10m 53s\n",
      "127:\ttotal: 3m 44s\tremaining: 10m 51s\n",
      "128:\ttotal: 3m 45s\tremaining: 10m 49s\n",
      "129:\ttotal: 3m 47s\tremaining: 10m 48s\n",
      "130:\ttest: 0.9112783\tbest: 0.9112783 (130)\ttotal: 3m 49s\tremaining: 10m 47s\n",
      "131:\ttotal: 3m 51s\tremaining: 10m 46s\n",
      "132:\ttotal: 3m 53s\tremaining: 10m 45s\n",
      "133:\ttotal: 3m 55s\tremaining: 10m 43s\n",
      "134:\ttotal: 3m 57s\tremaining: 10m 41s\n",
      "135:\ttest: 0.9118192\tbest: 0.9118192 (135)\ttotal: 3m 59s\tremaining: 10m 39s\n",
      "136:\ttotal: 4m\tremaining: 10m 38s\n",
      "137:\ttotal: 4m 2s\tremaining: 10m 36s\n",
      "138:\ttotal: 4m 4s\tremaining: 10m 34s\n",
      "139:\ttotal: 4m 6s\tremaining: 10m 33s\n",
      "140:\ttest: 0.9124457\tbest: 0.9124457 (140)\ttotal: 4m 7s\tremaining: 10m 31s\n",
      "141:\ttotal: 4m 9s\tremaining: 10m 29s\n",
      "142:\ttotal: 4m 11s\tremaining: 10m 27s\n",
      "143:\ttotal: 4m 12s\tremaining: 10m 25s\n",
      "144:\ttotal: 4m 14s\tremaining: 10m 22s\n",
      "145:\ttest: 0.9132401\tbest: 0.9132401 (145)\ttotal: 4m 16s\tremaining: 10m 21s\n",
      "146:\ttotal: 4m 17s\tremaining: 10m 19s\n",
      "147:\ttotal: 4m 19s\tremaining: 10m 17s\n",
      "148:\ttotal: 4m 21s\tremaining: 10m 15s\n",
      "149:\ttotal: 4m 22s\tremaining: 10m 12s\n",
      "150:\ttest: 0.9137752\tbest: 0.9137752 (150)\ttotal: 4m 24s\tremaining: 10m 10s\n",
      "151:\ttotal: 4m 25s\tremaining: 10m 8s\n",
      "152:\ttotal: 4m 27s\tremaining: 10m 6s\n",
      "153:\ttotal: 4m 29s\tremaining: 10m 4s\n",
      "154:\ttotal: 4m 31s\tremaining: 10m 3s\n",
      "155:\ttest: 0.9142178\tbest: 0.9142178 (155)\ttotal: 4m 33s\tremaining: 10m 2s\n",
      "156:\ttotal: 4m 35s\tremaining: 10m 1s\n",
      "157:\ttotal: 4m 36s\tremaining: 9m 59s\n",
      "158:\ttotal: 4m 38s\tremaining: 9m 58s\n",
      "159:\ttotal: 4m 40s\tremaining: 9m 56s\n",
      "160:\ttest: 0.9148077\tbest: 0.9148077 (160)\ttotal: 4m 42s\tremaining: 9m 55s\n",
      "161:\ttotal: 4m 44s\tremaining: 9m 53s\n",
      "162:\ttotal: 4m 45s\tremaining: 9m 51s\n",
      "163:\ttotal: 4m 47s\tremaining: 9m 48s\n",
      "164:\ttotal: 4m 48s\tremaining: 9m 46s\n",
      "165:\ttest: 0.9152113\tbest: 0.9152113 (165)\ttotal: 4m 51s\tremaining: 9m 45s\n",
      "166:\ttotal: 4m 52s\tremaining: 9m 43s\n",
      "167:\ttotal: 4m 54s\tremaining: 9m 42s\n",
      "168:\ttotal: 4m 56s\tremaining: 9m 41s\n",
      "169:\ttotal: 4m 58s\tremaining: 9m 39s\n",
      "170:\ttest: 0.9155438\tbest: 0.9155438 (170)\ttotal: 5m\tremaining: 9m 37s\n",
      "171:\ttotal: 5m 1s\tremaining: 9m 35s\n",
      "172:\ttotal: 5m 3s\tremaining: 9m 33s\n",
      "173:\ttotal: 5m 4s\tremaining: 9m 31s\n",
      "174:\ttotal: 5m 6s\tremaining: 9m 29s\n",
      "175:\ttest: 0.9160020\tbest: 0.9160020 (175)\ttotal: 5m 8s\tremaining: 9m 28s\n",
      "176:\ttotal: 5m 10s\tremaining: 9m 26s\n",
      "177:\ttotal: 5m 12s\tremaining: 9m 24s\n",
      "178:\ttotal: 5m 13s\tremaining: 9m 23s\n",
      "179:\ttotal: 5m 15s\tremaining: 9m 20s\n",
      "180:\ttest: 0.9161621\tbest: 0.9161710 (179)\ttotal: 5m 17s\tremaining: 9m 18s\n",
      "181:\ttotal: 5m 19s\tremaining: 9m 17s\n",
      "182:\ttotal: 5m 20s\tremaining: 9m 15s\n",
      "183:\ttotal: 5m 22s\tremaining: 9m 13s\n",
      "184:\ttotal: 5m 24s\tremaining: 9m 12s\n",
      "185:\ttest: 0.9164441\tbest: 0.9164441 (185)\ttotal: 5m 26s\tremaining: 9m 11s\n",
      "186:\ttotal: 5m 28s\tremaining: 9m 9s\n",
      "187:\ttotal: 5m 29s\tremaining: 9m 7s\n",
      "188:\ttotal: 5m 31s\tremaining: 9m 4s\n",
      "189:\ttotal: 5m 33s\tremaining: 9m 3s\n",
      "190:\ttest: 0.9169456\tbest: 0.9169456 (190)\ttotal: 5m 35s\tremaining: 9m 2s\n",
      "191:\ttotal: 5m 36s\tremaining: 9m\n",
      "192:\ttotal: 5m 39s\tremaining: 8m 59s\n",
      "193:\ttotal: 5m 40s\tremaining: 8m 57s\n",
      "194:\ttotal: 5m 42s\tremaining: 8m 55s\n",
      "195:\ttest: 0.9171552\tbest: 0.9171552 (195)\ttotal: 5m 44s\tremaining: 8m 53s\n",
      "196:\ttotal: 5m 45s\tremaining: 8m 51s\n",
      "197:\ttotal: 5m 47s\tremaining: 8m 49s\n",
      "198:\ttotal: 5m 49s\tremaining: 8m 48s\n",
      "199:\ttotal: 5m 50s\tremaining: 8m 46s\n",
      "200:\ttest: 0.9176603\tbest: 0.9176603 (200)\ttotal: 5m 52s\tremaining: 8m 44s\n",
      "201:\ttotal: 5m 54s\tremaining: 8m 42s\n",
      "202:\ttotal: 5m 56s\tremaining: 8m 41s\n",
      "203:\ttotal: 5m 57s\tremaining: 8m 39s\n",
      "204:\ttotal: 5m 59s\tremaining: 8m 36s\n",
      "205:\ttest: 0.9180807\tbest: 0.9180807 (205)\ttotal: 6m 1s\tremaining: 8m 35s\n",
      "206:\ttotal: 6m 2s\tremaining: 8m 33s\n",
      "207:\ttotal: 6m 4s\tremaining: 8m 31s\n",
      "208:\ttotal: 6m 6s\tremaining: 8m 30s\n",
      "209:\ttotal: 6m 8s\tremaining: 8m 28s\n",
      "210:\ttest: 0.9185911\tbest: 0.9185911 (210)\ttotal: 6m 9s\tremaining: 8m 26s\n",
      "211:\ttotal: 6m 11s\tremaining: 8m 24s\n",
      "212:\ttotal: 6m 13s\tremaining: 8m 22s\n",
      "213:\ttotal: 6m 14s\tremaining: 8m 20s\n",
      "214:\ttotal: 6m 16s\tremaining: 8m 19s\n",
      "215:\ttest: 0.9190497\tbest: 0.9190497 (215)\ttotal: 6m 18s\tremaining: 8m 17s\n",
      "216:\ttotal: 6m 19s\tremaining: 8m 15s\n",
      "217:\ttotal: 6m 21s\tremaining: 8m 13s\n",
      "218:\ttotal: 6m 23s\tremaining: 8m 12s\n",
      "219:\ttotal: 6m 25s\tremaining: 8m 10s\n",
      "220:\ttest: 0.9193809\tbest: 0.9193809 (220)\ttotal: 6m 27s\tremaining: 8m 8s\n",
      "221:\ttotal: 6m 28s\tremaining: 8m 6s\n",
      "222:\ttotal: 6m 30s\tremaining: 8m 4s\n",
      "223:\ttotal: 6m 31s\tremaining: 8m 2s\n",
      "224:\ttotal: 6m 33s\tremaining: 8m 1s\n",
      "225:\ttest: 0.9196187\tbest: 0.9196406 (224)\ttotal: 6m 35s\tremaining: 7m 59s\n",
      "226:\ttotal: 6m 37s\tremaining: 7m 57s\n",
      "227:\ttotal: 6m 38s\tremaining: 7m 55s\n",
      "228:\ttotal: 6m 40s\tremaining: 7m 53s\n",
      "229:\ttotal: 6m 41s\tremaining: 7m 51s\n",
      "230:\ttest: 0.9198715\tbest: 0.9198715 (230)\ttotal: 6m 43s\tremaining: 7m 50s\n",
      "231:\ttotal: 6m 45s\tremaining: 7m 48s\n",
      "232:\ttotal: 6m 46s\tremaining: 7m 46s\n",
      "233:\ttotal: 6m 48s\tremaining: 7m 44s\n",
      "234:\ttotal: 6m 49s\tremaining: 7m 42s\n",
      "235:\ttest: 0.9201298\tbest: 0.9201298 (235)\ttotal: 6m 51s\tremaining: 7m 40s\n",
      "236:\ttotal: 6m 53s\tremaining: 7m 38s\n",
      "237:\ttotal: 6m 54s\tremaining: 7m 36s\n",
      "238:\ttotal: 6m 56s\tremaining: 7m 34s\n",
      "239:\ttotal: 6m 58s\tremaining: 7m 33s\n",
      "240:\ttest: 0.9204236\tbest: 0.9204236 (240)\ttotal: 7m\tremaining: 7m 31s\n",
      "241:\ttotal: 7m 1s\tremaining: 7m 29s\n",
      "242:\ttotal: 7m 3s\tremaining: 7m 27s\n",
      "243:\ttotal: 7m 5s\tremaining: 7m 26s\n",
      "244:\ttotal: 7m 7s\tremaining: 7m 24s\n",
      "245:\ttest: 0.9208017\tbest: 0.9208017 (245)\ttotal: 7m 8s\tremaining: 7m 22s\n",
      "246:\ttotal: 7m 10s\tremaining: 7m 20s\n",
      "247:\ttotal: 7m 11s\tremaining: 7m 18s\n",
      "248:\ttotal: 7m 13s\tremaining: 7m 16s\n",
      "249:\ttotal: 7m 14s\tremaining: 7m 14s\n",
      "250:\ttest: 0.9210966\tbest: 0.9210966 (250)\ttotal: 7m 16s\tremaining: 7m 12s\n",
      "251:\ttotal: 7m 17s\tremaining: 7m 10s\n",
      "252:\ttotal: 7m 19s\tremaining: 7m 8s\n",
      "253:\ttotal: 7m 21s\tremaining: 7m 7s\n",
      "254:\ttotal: 7m 23s\tremaining: 7m 5s\n",
      "255:\ttest: 0.9213429\tbest: 0.9213429 (255)\ttotal: 7m 25s\tremaining: 7m 4s\n",
      "256:\ttotal: 7m 27s\tremaining: 7m 2s\n",
      "257:\ttotal: 7m 29s\tremaining: 7m 1s\n",
      "258:\ttotal: 7m 31s\tremaining: 7m\n",
      "259:\ttotal: 7m 33s\tremaining: 6m 58s\n",
      "260:\ttest: 0.9219609\tbest: 0.9219609 (260)\ttotal: 7m 34s\tremaining: 6m 56s\n",
      "261:\ttotal: 7m 36s\tremaining: 6m 55s\n",
      "262:\ttotal: 7m 38s\tremaining: 6m 53s\n",
      "263:\ttotal: 7m 40s\tremaining: 6m 51s\n",
      "264:\ttotal: 7m 41s\tremaining: 6m 49s\n",
      "265:\ttest: 0.9220450\tbest: 0.9220461 (262)\ttotal: 7m 43s\tremaining: 6m 47s\n",
      "266:\ttotal: 7m 45s\tremaining: 6m 45s\n",
      "267:\ttotal: 7m 46s\tremaining: 6m 44s\n",
      "268:\ttotal: 7m 48s\tremaining: 6m 42s\n",
      "269:\ttotal: 7m 50s\tremaining: 6m 40s\n",
      "270:\ttest: 0.9223575\tbest: 0.9223575 (270)\ttotal: 7m 51s\tremaining: 6m 38s\n",
      "271:\ttotal: 7m 53s\tremaining: 6m 36s\n",
      "272:\ttotal: 7m 55s\tremaining: 6m 35s\n",
      "273:\ttotal: 7m 56s\tremaining: 6m 33s\n",
      "274:\ttotal: 7m 58s\tremaining: 6m 31s\n",
      "275:\ttest: 0.9225372\tbest: 0.9225372 (275)\ttotal: 8m\tremaining: 6m 29s\n",
      "276:\ttotal: 8m 1s\tremaining: 6m 27s\n",
      "277:\ttotal: 8m 3s\tremaining: 6m 26s\n",
      "278:\ttotal: 8m 5s\tremaining: 6m 24s\n",
      "279:\ttotal: 8m 7s\tremaining: 6m 22s\n",
      "280:\ttest: 0.9226401\tbest: 0.9226480 (279)\ttotal: 8m 9s\tremaining: 6m 21s\n",
      "281:\ttotal: 8m 10s\tremaining: 6m 19s\n",
      "282:\ttotal: 8m 12s\tremaining: 6m 17s\n",
      "283:\ttotal: 8m 14s\tremaining: 6m 16s\n",
      "284:\ttotal: 8m 16s\tremaining: 6m 14s\n",
      "285:\ttest: 0.9229452\tbest: 0.9229452 (285)\ttotal: 8m 18s\tremaining: 6m 13s\n",
      "286:\ttotal: 8m 20s\tremaining: 6m 11s\n",
      "287:\ttotal: 8m 21s\tremaining: 6m 9s\n",
      "288:\ttotal: 8m 23s\tremaining: 6m 7s\n",
      "289:\ttotal: 8m 25s\tremaining: 6m 6s\n",
      "290:\ttest: 0.9231009\tbest: 0.9231009 (290)\ttotal: 8m 27s\tremaining: 6m 4s\n",
      "291:\ttotal: 8m 29s\tremaining: 6m 2s\n",
      "292:\ttotal: 8m 30s\tremaining: 6m\n",
      "293:\ttotal: 8m 32s\tremaining: 5m 58s\n",
      "294:\ttotal: 8m 33s\tremaining: 5m 56s\n",
      "295:\ttest: 0.9233005\tbest: 0.9233005 (295)\ttotal: 8m 35s\tremaining: 5m 55s\n",
      "296:\ttotal: 8m 37s\tremaining: 5m 53s\n",
      "297:\ttotal: 8m 38s\tremaining: 5m 51s\n",
      "298:\ttotal: 8m 41s\tremaining: 5m 50s\n",
      "299:\ttotal: 8m 43s\tremaining: 5m 48s\n",
      "300:\ttest: 0.9235002\tbest: 0.9235002 (300)\ttotal: 8m 44s\tremaining: 5m 46s\n",
      "301:\ttotal: 8m 46s\tremaining: 5m 45s\n",
      "302:\ttotal: 8m 47s\tremaining: 5m 43s\n",
      "303:\ttotal: 8m 49s\tremaining: 5m 41s\n",
      "304:\ttotal: 8m 51s\tremaining: 5m 39s\n",
      "305:\ttest: 0.9236037\tbest: 0.9236037 (305)\ttotal: 8m 52s\tremaining: 5m 37s\n",
      "306:\ttotal: 8m 54s\tremaining: 5m 35s\n",
      "307:\ttotal: 8m 55s\tremaining: 5m 34s\n",
      "308:\ttotal: 8m 57s\tremaining: 5m 32s\n",
      "309:\ttotal: 8m 59s\tremaining: 5m 30s\n",
      "310:\ttest: 0.9237350\tbest: 0.9237350 (310)\ttotal: 9m 1s\tremaining: 5m 28s\n",
      "311:\ttotal: 9m 2s\tremaining: 5m 27s\n",
      "312:\ttotal: 9m 4s\tremaining: 5m 25s\n",
      "313:\ttotal: 9m 6s\tremaining: 5m 23s\n",
      "314:\ttotal: 9m 8s\tremaining: 5m 22s\n",
      "315:\ttest: 0.9240070\tbest: 0.9240070 (315)\ttotal: 9m 10s\tremaining: 5m 20s\n",
      "316:\ttotal: 9m 11s\tremaining: 5m 18s\n",
      "317:\ttotal: 9m 13s\tremaining: 5m 16s\n",
      "318:\ttotal: 9m 15s\tremaining: 5m 14s\n",
      "319:\ttotal: 9m 16s\tremaining: 5m 13s\n",
      "320:\ttest: 0.9242559\tbest: 0.9242559 (320)\ttotal: 9m 18s\tremaining: 5m 11s\n",
      "321:\ttotal: 9m 19s\tremaining: 5m 9s\n",
      "322:\ttotal: 9m 21s\tremaining: 5m 7s\n",
      "323:\ttotal: 9m 23s\tremaining: 5m 6s\n",
      "324:\ttotal: 9m 25s\tremaining: 5m 4s\n",
      "325:\ttest: 0.9247369\tbest: 0.9247369 (325)\ttotal: 9m 27s\tremaining: 5m 2s\n",
      "326:\ttotal: 9m 29s\tremaining: 5m 1s\n",
      "327:\ttotal: 9m 31s\tremaining: 4m 59s\n",
      "328:\ttotal: 9m 32s\tremaining: 4m 57s\n",
      "329:\ttotal: 9m 34s\tremaining: 4m 55s\n",
      "330:\ttest: 0.9250617\tbest: 0.9250617 (330)\ttotal: 9m 36s\tremaining: 4m 54s\n",
      "331:\ttotal: 9m 38s\tremaining: 4m 52s\n",
      "332:\ttotal: 9m 39s\tremaining: 4m 50s\n",
      "333:\ttotal: 9m 41s\tremaining: 4m 48s\n",
      "334:\ttotal: 9m 43s\tremaining: 4m 47s\n",
      "335:\ttest: 0.9254453\tbest: 0.9254453 (335)\ttotal: 9m 44s\tremaining: 4m 45s\n",
      "336:\ttotal: 9m 46s\tremaining: 4m 43s\n",
      "337:\ttotal: 9m 47s\tremaining: 4m 41s\n",
      "338:\ttotal: 9m 49s\tremaining: 4m 40s\n",
      "339:\ttotal: 9m 51s\tremaining: 4m 38s\n",
      "340:\ttest: 0.9256864\tbest: 0.9256864 (340)\ttotal: 9m 53s\tremaining: 4m 36s\n",
      "341:\ttotal: 9m 55s\tremaining: 4m 34s\n",
      "342:\ttotal: 9m 56s\tremaining: 4m 33s\n",
      "343:\ttotal: 9m 58s\tremaining: 4m 31s\n",
      "344:\ttotal: 9m 59s\tremaining: 4m 29s\n",
      "345:\ttest: 0.9258532\tbest: 0.9258532 (345)\ttotal: 10m\tremaining: 4m 27s\n",
      "346:\ttotal: 10m 2s\tremaining: 4m 25s\n",
      "347:\ttotal: 10m 4s\tremaining: 4m 24s\n",
      "348:\ttotal: 10m 6s\tremaining: 4m 22s\n",
      "349:\ttotal: 10m 8s\tremaining: 4m 20s\n",
      "350:\ttest: 0.9260296\tbest: 0.9260418 (349)\ttotal: 10m 10s\tremaining: 4m 18s\n",
      "351:\ttotal: 10m 11s\tremaining: 4m 17s\n",
      "352:\ttotal: 10m 13s\tremaining: 4m 15s\n",
      "353:\ttotal: 10m 14s\tremaining: 4m 13s\n",
      "354:\ttotal: 10m 16s\tremaining: 4m 11s\n",
      "355:\ttest: 0.9261989\tbest: 0.9261989 (355)\ttotal: 10m 17s\tremaining: 4m 9s\n",
      "356:\ttotal: 10m 19s\tremaining: 4m 8s\n",
      "357:\ttotal: 10m 21s\tremaining: 4m 6s\n",
      "358:\ttotal: 10m 22s\tremaining: 4m 4s\n",
      "359:\ttotal: 10m 24s\tremaining: 4m 2s\n",
      "360:\ttest: 0.9264143\tbest: 0.9264143 (360)\ttotal: 10m 26s\tremaining: 4m 1s\n",
      "361:\ttotal: 10m 27s\tremaining: 3m 59s\n",
      "362:\ttotal: 10m 29s\tremaining: 3m 57s\n",
      "363:\ttotal: 10m 31s\tremaining: 3m 55s\n",
      "364:\ttotal: 10m 33s\tremaining: 3m 54s\n",
      "365:\ttest: 0.9266091\tbest: 0.9266091 (365)\ttotal: 10m 34s\tremaining: 3m 52s\n",
      "366:\ttotal: 10m 36s\tremaining: 3m 50s\n",
      "367:\ttotal: 10m 37s\tremaining: 3m 48s\n",
      "368:\ttotal: 10m 39s\tremaining: 3m 46s\n",
      "369:\ttotal: 10m 41s\tremaining: 3m 45s\n",
      "370:\ttest: 0.9268773\tbest: 0.9268773 (370)\ttotal: 10m 42s\tremaining: 3m 43s\n",
      "371:\ttotal: 10m 44s\tremaining: 3m 41s\n",
      "372:\ttotal: 10m 45s\tremaining: 3m 39s\n",
      "373:\ttotal: 10m 47s\tremaining: 3m 38s\n",
      "374:\ttotal: 10m 49s\tremaining: 3m 36s\n",
      "375:\ttest: 0.9273268\tbest: 0.9273268 (375)\ttotal: 10m 50s\tremaining: 3m 34s\n",
      "376:\ttotal: 10m 52s\tremaining: 3m 33s\n",
      "377:\ttotal: 10m 54s\tremaining: 3m 31s\n",
      "378:\ttotal: 10m 56s\tremaining: 3m 29s\n",
      "379:\ttotal: 10m 57s\tremaining: 3m 27s\n",
      "380:\ttest: 0.9274284\tbest: 0.9274284 (380)\ttotal: 11m\tremaining: 3m 26s\n",
      "381:\ttotal: 11m 1s\tremaining: 3m 24s\n",
      "382:\ttotal: 11m 3s\tremaining: 3m 22s\n",
      "383:\ttotal: 11m 5s\tremaining: 3m 20s\n",
      "384:\ttotal: 11m 6s\tremaining: 3m 19s\n",
      "385:\ttest: 0.9276836\tbest: 0.9276836 (385)\ttotal: 11m 8s\tremaining: 3m 17s\n",
      "386:\ttotal: 11m 9s\tremaining: 3m 15s\n",
      "387:\ttotal: 11m 11s\tremaining: 3m 13s\n",
      "388:\ttotal: 11m 13s\tremaining: 3m 12s\n",
      "389:\ttotal: 11m 15s\tremaining: 3m 10s\n",
      "390:\ttest: 0.9279204\tbest: 0.9279204 (390)\ttotal: 11m 17s\tremaining: 3m 8s\n",
      "391:\ttotal: 11m 19s\tremaining: 3m 7s\n",
      "392:\ttotal: 11m 20s\tremaining: 3m 5s\n",
      "393:\ttotal: 11m 22s\tremaining: 3m 3s\n",
      "394:\ttotal: 11m 24s\tremaining: 3m 1s\n",
      "395:\ttest: 0.9281931\tbest: 0.9281931 (395)\ttotal: 11m 25s\tremaining: 3m\n",
      "396:\ttotal: 11m 27s\tremaining: 2m 58s\n",
      "397:\ttotal: 11m 29s\tremaining: 2m 56s\n",
      "398:\ttotal: 11m 30s\tremaining: 2m 54s\n",
      "399:\ttotal: 11m 33s\tremaining: 2m 53s\n",
      "400:\ttest: 0.9284206\tbest: 0.9284206 (400)\ttotal: 11m 35s\tremaining: 2m 51s\n",
      "401:\ttotal: 11m 36s\tremaining: 2m 49s\n",
      "402:\ttotal: 11m 37s\tremaining: 2m 47s\n",
      "403:\ttotal: 11m 39s\tremaining: 2m 46s\n",
      "404:\ttotal: 11m 41s\tremaining: 2m 44s\n",
      "405:\ttest: 0.9284892\tbest: 0.9284892 (405)\ttotal: 11m 42s\tremaining: 2m 42s\n",
      "406:\ttotal: 11m 44s\tremaining: 2m 40s\n",
      "407:\ttotal: 11m 46s\tremaining: 2m 39s\n",
      "408:\ttotal: 11m 47s\tremaining: 2m 37s\n",
      "409:\ttotal: 11m 49s\tremaining: 2m 35s\n",
      "410:\ttest: 0.9287074\tbest: 0.9287074 (410)\ttotal: 11m 51s\tremaining: 2m 34s\n",
      "411:\ttotal: 11m 52s\tremaining: 2m 32s\n",
      "412:\ttotal: 11m 54s\tremaining: 2m 30s\n",
      "413:\ttotal: 11m 56s\tremaining: 2m 28s\n",
      "414:\ttotal: 11m 57s\tremaining: 2m 26s\n",
      "415:\ttest: 0.9288632\tbest: 0.9288632 (415)\ttotal: 11m 59s\tremaining: 2m 25s\n",
      "416:\ttotal: 12m\tremaining: 2m 23s\n",
      "417:\ttotal: 12m 2s\tremaining: 2m 21s\n",
      "418:\ttotal: 12m 4s\tremaining: 2m 19s\n",
      "419:\ttotal: 12m 5s\tremaining: 2m 18s\n",
      "420:\ttest: 0.9291309\tbest: 0.9291309 (420)\ttotal: 12m 7s\tremaining: 2m 16s\n",
      "421:\ttotal: 12m 8s\tremaining: 2m 14s\n",
      "422:\ttotal: 12m 10s\tremaining: 2m 13s\n",
      "423:\ttotal: 12m 12s\tremaining: 2m 11s\n",
      "424:\ttotal: 12m 14s\tremaining: 2m 9s\n",
      "425:\ttest: 0.9292826\tbest: 0.9292826 (425)\ttotal: 12m 15s\tremaining: 2m 7s\n",
      "426:\ttotal: 12m 17s\tremaining: 2m 6s\n",
      "427:\ttotal: 12m 18s\tremaining: 2m 4s\n",
      "428:\ttotal: 12m 20s\tremaining: 2m 2s\n",
      "429:\ttotal: 12m 22s\tremaining: 2m\n",
      "430:\ttest: 0.9294688\tbest: 0.9294688 (430)\ttotal: 12m 24s\tremaining: 1m 59s\n",
      "431:\ttotal: 12m 25s\tremaining: 1m 57s\n",
      "432:\ttotal: 12m 27s\tremaining: 1m 55s\n",
      "433:\ttotal: 12m 29s\tremaining: 1m 53s\n",
      "434:\ttotal: 12m 30s\tremaining: 1m 52s\n",
      "435:\ttest: 0.9297895\tbest: 0.9297895 (435)\ttotal: 12m 32s\tremaining: 1m 50s\n",
      "436:\ttotal: 12m 34s\tremaining: 1m 48s\n",
      "437:\ttotal: 12m 36s\tremaining: 1m 47s\n",
      "438:\ttotal: 12m 37s\tremaining: 1m 45s\n",
      "439:\ttotal: 12m 39s\tremaining: 1m 43s\n",
      "440:\ttest: 0.9300223\tbest: 0.9300223 (440)\ttotal: 12m 41s\tremaining: 1m 41s\n",
      "441:\ttotal: 12m 42s\tremaining: 1m 40s\n",
      "442:\ttotal: 12m 44s\tremaining: 1m 38s\n",
      "443:\ttotal: 12m 46s\tremaining: 1m 36s\n",
      "444:\ttotal: 12m 47s\tremaining: 1m 34s\n",
      "445:\ttest: 0.9301084\tbest: 0.9301084 (445)\ttotal: 12m 49s\tremaining: 1m 33s\n",
      "446:\ttotal: 12m 50s\tremaining: 1m 31s\n",
      "447:\ttotal: 12m 52s\tremaining: 1m 29s\n",
      "448:\ttotal: 12m 54s\tremaining: 1m 27s\n",
      "449:\ttotal: 12m 55s\tremaining: 1m 26s\n",
      "450:\ttest: 0.9302303\tbest: 0.9302303 (450)\ttotal: 12m 57s\tremaining: 1m 24s\n",
      "451:\ttotal: 12m 58s\tremaining: 1m 22s\n",
      "452:\ttotal: 13m\tremaining: 1m 20s\n",
      "453:\ttotal: 13m 1s\tremaining: 1m 19s\n",
      "454:\ttotal: 13m 3s\tremaining: 1m 17s\n",
      "455:\ttest: 0.9305273\tbest: 0.9305273 (455)\ttotal: 13m 5s\tremaining: 1m 15s\n",
      "456:\ttotal: 13m 7s\tremaining: 1m 14s\n",
      "457:\ttotal: 13m 8s\tremaining: 1m 12s\n",
      "458:\ttotal: 13m 10s\tremaining: 1m 10s\n",
      "459:\ttotal: 13m 12s\tremaining: 1m 8s\n",
      "460:\ttest: 0.9307007\tbest: 0.9307007 (460)\ttotal: 13m 13s\tremaining: 1m 7s\n",
      "461:\ttotal: 13m 15s\tremaining: 1m 5s\n",
      "462:\ttotal: 13m 17s\tremaining: 1m 3s\n",
      "463:\ttotal: 13m 18s\tremaining: 1m 1s\n",
      "464:\ttotal: 13m 20s\tremaining: 1m\n",
      "465:\ttest: 0.9307939\tbest: 0.9307939 (465)\ttotal: 13m 22s\tremaining: 58.5s\n",
      "466:\ttotal: 13m 24s\tremaining: 56.8s\n",
      "467:\ttotal: 13m 26s\tremaining: 55.1s\n",
      "468:\ttotal: 13m 28s\tremaining: 53.4s\n",
      "469:\ttotal: 13m 29s\tremaining: 51.7s\n",
      "470:\ttest: 0.9308847\tbest: 0.9308847 (470)\ttotal: 13m 31s\tremaining: 50s\n",
      "471:\ttotal: 13m 33s\tremaining: 48.2s\n",
      "472:\ttotal: 13m 34s\tremaining: 46.5s\n",
      "473:\ttotal: 13m 36s\tremaining: 44.8s\n",
      "474:\ttotal: 13m 37s\tremaining: 43s\n",
      "475:\ttest: 0.9310322\tbest: 0.9310322 (475)\ttotal: 13m 39s\tremaining: 41.3s\n",
      "476:\ttotal: 13m 42s\tremaining: 39.6s\n",
      "477:\ttotal: 13m 43s\tremaining: 37.9s\n",
      "478:\ttotal: 13m 45s\tremaining: 36.2s\n",
      "479:\ttotal: 13m 46s\tremaining: 34.5s\n",
      "480:\ttest: 0.9312051\tbest: 0.9312051 (480)\ttotal: 13m 48s\tremaining: 32.7s\n",
      "481:\ttotal: 13m 50s\tremaining: 31s\n",
      "482:\ttotal: 13m 51s\tremaining: 29.3s\n",
      "483:\ttotal: 13m 53s\tremaining: 27.6s\n",
      "484:\ttotal: 13m 55s\tremaining: 25.8s\n",
      "485:\ttest: 0.9312998\tbest: 0.9312998 (485)\ttotal: 13m 57s\tremaining: 24.1s\n",
      "486:\ttotal: 13m 58s\tremaining: 22.4s\n",
      "487:\ttotal: 14m\tremaining: 20.7s\n",
      "488:\ttotal: 14m 1s\tremaining: 18.9s\n",
      "489:\ttotal: 14m 3s\tremaining: 17.2s\n",
      "490:\ttest: 0.9313639\tbest: 0.9313844 (489)\ttotal: 14m 5s\tremaining: 15.5s\n",
      "491:\ttotal: 14m 7s\tremaining: 13.8s\n",
      "492:\ttotal: 14m 8s\tremaining: 12.1s\n",
      "493:\ttotal: 14m 10s\tremaining: 10.3s\n",
      "494:\ttotal: 14m 12s\tremaining: 8.61s\n",
      "495:\ttest: 0.9315012\tbest: 0.9315012 (495)\ttotal: 14m 14s\tremaining: 6.89s\n",
      "496:\ttotal: 14m 15s\tremaining: 5.17s\n",
      "497:\ttotal: 14m 17s\tremaining: 3.44s\n",
      "498:\ttotal: 14m 19s\tremaining: 1.72s\n",
      "499:\ttest: 0.9315408\tbest: 0.9315408 (499)\ttotal: 14m 21s\tremaining: 0us\n",
      "bestTest = 0.9315408468\n",
      "bestIteration = 499\n"
     ]
    },
    {
     "data": {
      "text/plain": [
       "<catboost.core.CatBoostClassifier at 0x7fe8e50da4a0>"
      ]
     },
     "execution_count": 31,
     "metadata": {},
     "output_type": "execute_result"
    }
   ],
   "source": [
    "best_model.fit(train_pool, eval_set=val_pool, early_stopping_rounds=100, verbose=True)"
   ]
  },
  {
   "cell_type": "code",
   "execution_count": 32,
   "id": "21c86438-1711-4ba3-a961-cb33254d7f04",
   "metadata": {
    "execution": {
     "iopub.execute_input": "2025-04-11T23:00:48.710758Z",
     "iopub.status.busy": "2025-04-11T23:00:48.709721Z",
     "iopub.status.idle": "2025-04-11T23:00:50.957763Z",
     "shell.execute_reply": "2025-04-11T23:00:50.957049Z",
     "shell.execute_reply.started": "2025-04-11T23:00:48.710708Z"
    }
   },
   "outputs": [],
   "source": [
    "predictions = best_model.predict_proba(test_pool)[:, 1]"
   ]
  },
  {
   "cell_type": "code",
   "execution_count": 37,
   "id": "13f6c3d9-fadc-43b8-b47b-f575f1873a48",
   "metadata": {
    "execution": {
     "iopub.execute_input": "2025-04-11T23:02:01.221842Z",
     "iopub.status.busy": "2025-04-11T23:02:01.220869Z",
     "iopub.status.idle": "2025-04-11T23:02:01.267499Z",
     "shell.execute_reply": "2025-04-11T23:02:01.266660Z",
     "shell.execute_reply.started": "2025-04-11T23:02:01.221802Z"
    },
    "tags": []
   },
   "outputs": [
    {
     "data": {
      "text/plain": [
       "dict_keys(['Logloss', 'AUC'])"
      ]
     },
     "execution_count": 37,
     "metadata": {},
     "output_type": "execute_result"
    }
   ],
   "source": [
    "eval_results = best_model.get_evals_result()\n",
    "eval_results['validation'].keys()"
   ]
  },
  {
   "cell_type": "code",
   "execution_count": 38,
   "id": "859c7289-be51-44f6-be4b-b4c7cffda02e",
   "metadata": {
    "execution": {
     "iopub.execute_input": "2025-04-11T23:03:00.359564Z",
     "iopub.status.busy": "2025-04-11T23:03:00.358591Z",
     "iopub.status.idle": "2025-04-11T23:03:00.566656Z",
     "shell.execute_reply": "2025-04-11T23:03:00.565887Z",
     "shell.execute_reply.started": "2025-04-11T23:03:00.359529Z"
    },
    "tags": []
   },
   "outputs": [
    {
     "data": {
      "image/png": "[encoded data removed]",
      "text/plain": [
       "<Figure size 1000x600 with 1 Axes>"
      ]
     },
     "metadata": {},
     "output_type": "display_data"
    }
   ],
   "source": [
    "validation_loss = eval_results['validation']['Logloss']\n",
    "\n",
    "plt.figure(figsize=(10, 6))\n",
    "plt.plot(range(0, len(eval_results['validation']['Logloss'])), eval_results['validation']['Logloss'], label='Validation Logloss')\n",
    "plt.plot(range(0, len(eval_results['validation']['AUC'])), eval_results['validation']['AUC'], label='Validation AUC')\n",
    "plt.xlabel('Iteration')\n",
    "plt.ylabel('loss')\n",
    "plt.title('Validation loss over Iterations')\n",
    "plt.legend()\n",
    "plt.grid()\n",
    "plt.show()"
   ]
  },
  {
   "cell_type": "code",
   "execution_count": 39,
   "id": "3335c1c6-d003-4518-b617-0d9d93999aa5",
   "metadata": {
    "execution": {
     "iopub.execute_input": "2025-04-11T23:03:18.732165Z",
     "iopub.status.busy": "2025-04-11T23:03:18.731056Z",
     "iopub.status.idle": "2025-04-11T23:03:19.177983Z",
     "shell.execute_reply": "2025-04-11T23:03:19.177244Z",
     "shell.execute_reply.started": "2025-04-11T23:03:18.732129Z"
    },
    "tags": []
   },
   "outputs": [
    {
     "name": "stdout",
     "output_type": "stream",
     "text": [
      "ROC AUC Score: 0.6262\n"
     ]
    }
   ],
   "source": [
    "roc_auc = roc_auc_score(test_df[target_column], predictions)\n",
    "print(f\"ROC AUC Score: {roc_auc:.4f}\")"
   ]
  },
  {
   "cell_type": "code",
   "execution_count": 41,
   "id": "c1f11a44-bd49-4bc7-bbdc-bd8d619647fc",
   "metadata": {
    "execution": {
     "iopub.execute_input": "2025-04-11T23:03:34.436838Z",
     "iopub.status.busy": "2025-04-11T23:03:34.435841Z",
     "iopub.status.idle": "2025-04-11T23:03:34.926366Z",
     "shell.execute_reply": "2025-04-11T23:03:34.925618Z",
     "shell.execute_reply.started": "2025-04-11T23:03:34.436807Z"
    },
    "tags": []
   },
   "outputs": [
    {
     "data": {
      "image/png": "[encoded data removed]",
      "text/plain": [
       "<Figure size 800x600 with 1 Axes>"
      ]
     },
     "metadata": {},
     "output_type": "display_data"
    }
   ],
   "source": [
    "fpr, tpr, thresholds = roc_curve(test_df[target_column], predictions)\n",
    "\n",
    "plt.figure(figsize=(8, 6))\n",
    "plt.plot(fpr, tpr, label=f'ROC AUC = {roc_auc:.4f}')\n",
    "plt.plot([0, 1], [0, 1], 'k--')\n",
    "plt.xlabel('FP Rate')\n",
    "plt.ylabel('TP Rate')\n",
    "plt.title('ROC Curve')\n",
    "plt.legend(loc='lower right')\n",
    "plt.grid()\n",
    "plt.show()"
   ]
  },
  {
   "cell_type": "code",
   "execution_count": 42,
   "id": "95b86100-7c45-421c-a8c0-62f3cf43e44d",
   "metadata": {
    "execution": {
     "iopub.execute_input": "2025-04-11T23:03:39.794918Z",
     "iopub.status.busy": "2025-04-11T23:03:39.793792Z",
     "iopub.status.idle": "2025-04-11T23:03:56.610300Z",
     "shell.execute_reply": "2025-04-11T23:03:56.609501Z",
     "shell.execute_reply.started": "2025-04-11T23:03:39.794874Z"
    },
    "tags": []
   },
   "outputs": [
    {
     "data": {
      "image/png": "[encoded data removed]",
      "text/plain": [
       "<Figure size 1200x600 with 1 Axes>"
      ]
     },
     "metadata": {},
     "output_type": "display_data"
    }
   ],
   "source": [
    "feature_importances = best_model.get_feature_importance(test_pool)\n",
    "feature_importances_df = pd.DataFrame({'Feature': feature_columns, 'Importance': feature_importances})\n",
    "\n",
    "feature_importances_df.sort_values(by='Importance', ascending=False, inplace=True)\n",
    "\n",
    "plt.figure(figsize=(12, 6))\n",
    "plt.barh(feature_importances_df['Feature'], feature_importances_df['Importance'])\n",
    "plt.xlabel('Importance')\n",
    "plt.title('Feature Importance on test Weighted model')\n",
    "plt.gca().invert_yaxis()\n",
    "plt.show()"
   ]
  },
  {
   "cell_type": "code",
   "execution_count": 43,
   "id": "efdb4be7-84ed-4fe9-9df0-cde78bc9cf92",
   "metadata": {
    "execution": {
     "iopub.execute_input": "2025-04-11T23:04:01.154021Z",
     "iopub.status.busy": "2025-04-11T23:04:01.153086Z",
     "iopub.status.idle": "2025-04-11T23:04:09.177971Z",
     "shell.execute_reply": "2025-04-11T23:04:09.177265Z",
     "shell.execute_reply.started": "2025-04-11T23:04:01.153988Z"
    },
    "tags": []
   },
   "outputs": [],
   "source": [
    "best_model.save_model('best_on_val_catboost_model_weighted_season_3.cbm')"
   ]
  },
  {
   "cell_type": "code",
   "execution_count": null,
   "id": "dbb05d34-ea0a-4a0d-8a54-b87c33870cee",
   "metadata": {},
   "outputs": [],
   "source": []
  }
 ],
 "metadata": {
  "kernelspec": {
   "display_name": "DataSphere Kernel",
   "language": "python",
   "name": "python3"
  },
  "language_info": {
   "codemirror_mode": {
    "name": "ipython",
    "version": 3
   },
   "file_extension": ".py",
   "mimetype": "text/x-python",
   "name": "python",
   "nbconvert_exporter": "python",
   "pygments_lexer": "ipython3",
   "version": "3.10.12"
  }
 },
 "nbformat": 4,
 "nbformat_minor": 5
}
