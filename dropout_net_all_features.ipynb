{
 "cells": [
  {
   "cell_type": "code",
   "execution_count": null,
   "metadata": {
    "_cell_guid": "b1076dfc-b9ad-4769-8c92-a6c4dae69d19",
    "_uuid": "8f2839f25d086af736a60e9eeb907d3b93b6e0e5",
    "execution": {
     "iopub.execute_input": "2025-04-27T11:52:23.961247Z",
     "iopub.status.busy": "2025-04-27T11:52:23.959456Z"
    },
    "tags": []
   },
   "outputs": [],
   "source": [
    "import pandas as pd\n",
    "from sklearn.metrics import roc_auc_score, roc_curve\n",
    "import matplotlib.pyplot as plt\n",
    "import numpy as np\n",
    "import torch\n",
    "import torch.nn as nn\n",
    "import torch.optim as optim\n",
    "from sklearn.preprocessing import OrdinalEncoder, StandardScaler"
   ]
  },
  {
   "cell_type": "code",
   "execution_count": 2,
   "metadata": {
    "execution": {
     "iopub.execute_input": "2025-04-27T11:52:25.936006Z",
     "iopub.status.busy": "2025-04-27T11:52:25.935059Z",
     "iopub.status.idle": "2025-04-27T11:53:34.422247Z",
     "shell.execute_reply": "2025-04-27T11:53:34.420948Z",
     "shell.execute_reply.started": "2025-04-27T11:52:25.935956Z"
    },
    "tags": []
   },
   "outputs": [
    {
     "name": "stderr",
     "output_type": "stream",
     "text": [
      "/tmp/ipykernel_17143/3222708738.py:1: DtypeWarning: Columns (15,16,17) have mixed types. Specify dtype option on import or set low_memory=False.\n",
      "  train_df = pd.read_csv('parsed_final_data_season_3.csv.zip', compression='zip')\n"
     ]
    }
   ],
   "source": [
    "train_df = pd.read_csv('parsed_final_data_season_3.csv.zip', compression='zip')\n",
    "test_df = pd.read_csv('final_test_data_season_3.csv.zip', compression='zip')"
   ]
  },
  {
   "cell_type": "code",
   "execution_count": 3,
   "metadata": {
    "execution": {
     "iopub.execute_input": "2025-04-27T11:53:34.424370Z",
     "iopub.status.busy": "2025-04-27T11:53:34.423380Z",
     "iopub.status.idle": "2025-04-27T11:53:37.666311Z",
     "shell.execute_reply": "2025-04-27T11:53:37.665019Z",
     "shell.execute_reply.started": "2025-04-27T11:53:34.424327Z"
    },
    "tags": []
   },
   "outputs": [],
   "source": [
    "train_df = train_df.drop('Unnamed: 0', axis=1)\n",
    "test_df = test_df.drop('Unnamed: 0', axis=1)"
   ]
  },
  {
   "cell_type": "code",
   "execution_count": 4,
   "metadata": {
    "execution": {
     "iopub.execute_input": "2025-04-27T11:53:37.670245Z",
     "iopub.status.busy": "2025-04-27T11:53:37.668967Z",
     "iopub.status.idle": "2025-04-27T11:53:37.685510Z",
     "shell.execute_reply": "2025-04-27T11:53:37.684171Z",
     "shell.execute_reply.started": "2025-04-27T11:53:37.670186Z"
    },
    "tags": []
   },
   "outputs": [],
   "source": [
    "# train_df = train_df.fillna(value=False)"
   ]
  },
  {
   "cell_type": "code",
   "execution_count": 5,
   "metadata": {
    "execution": {
     "iopub.execute_input": "2025-04-27T11:53:37.688474Z",
     "iopub.status.busy": "2025-04-27T11:53:37.687434Z",
     "iopub.status.idle": "2025-04-27T11:53:37.743551Z",
     "shell.execute_reply": "2025-04-27T11:53:37.742513Z",
     "shell.execute_reply.started": "2025-04-27T11:53:37.688425Z"
    },
    "tags": []
   },
   "outputs": [
    {
     "data": {
      "text/html": [
       "<div>\n",
       "<style scoped>\n",
       "    .dataframe tbody tr th:only-of-type {\n",
       "        vertical-align: middle;\n",
       "    }\n",
       "\n",
       "    .dataframe tbody tr th {\n",
       "        vertical-align: top;\n",
       "    }\n",
       "\n",
       "    .dataframe thead th {\n",
       "        text-align: right;\n",
       "    }\n",
       "</style>\n",
       "<table border=\"1\" class=\"dataframe\">\n",
       "  <thead>\n",
       "    <tr style=\"text-align: right;\">\n",
       "      <th></th>\n",
       "      <th>bid_id</th>\n",
       "      <th>region_id</th>\n",
       "      <th>city_id</th>\n",
       "      <th>ad_slot_visibility</th>\n",
       "      <th>ad_slot_format</th>\n",
       "      <th>creative_id</th>\n",
       "      <th>advertiser_id</th>\n",
       "      <th>part_of_day</th>\n",
       "      <th>weekday</th>\n",
       "      <th>weekend</th>\n",
       "      <th>os</th>\n",
       "      <th>browser</th>\n",
       "      <th>ad_slot_screen_share</th>\n",
       "      <th>is_mobile_device</th>\n",
       "      <th>is_male</th>\n",
       "      <th>is_long_term_interest</th>\n",
       "      <th>is_in_market</th>\n",
       "      <th>is_info_cat</th>\n",
       "      <th>is_products_cat</th>\n",
       "      <th>is_service_cat</th>\n",
       "      <th>is_entertainment_cat</th>\n",
       "      <th>is_girly_cat</th>\n",
       "      <th>click</th>\n",
       "    </tr>\n",
       "  </thead>\n",
       "  <tbody>\n",
       "    <tr>\n",
       "      <th>0</th>\n",
       "      <td>9aa9b28f32adfc833634f28bb9703e83</td>\n",
       "      <td>216</td>\n",
       "      <td>219</td>\n",
       "      <td>Na</td>\n",
       "      <td>Fixed</td>\n",
       "      <td>7321</td>\n",
       "      <td>2259</td>\n",
       "      <td>2</td>\n",
       "      <td>3</td>\n",
       "      <td>2</td>\n",
       "      <td>windows</td>\n",
       "      <td>chrome</td>\n",
       "      <td>0.06</td>\n",
       "      <td>False</td>\n",
       "      <td>NaN</td>\n",
       "      <td>NaN</td>\n",
       "      <td>NaN</td>\n",
       "      <td>False</td>\n",
       "      <td>False</td>\n",
       "      <td>False</td>\n",
       "      <td>False</td>\n",
       "      <td>False</td>\n",
       "      <td>False</td>\n",
       "    </tr>\n",
       "    <tr>\n",
       "      <th>1</th>\n",
       "      <td>1ede4e457f5031ec1640dbe1259a4616</td>\n",
       "      <td>216</td>\n",
       "      <td>217</td>\n",
       "      <td>FirstView</td>\n",
       "      <td>Fixed</td>\n",
       "      <td>7321</td>\n",
       "      <td>2259</td>\n",
       "      <td>2</td>\n",
       "      <td>3</td>\n",
       "      <td>2</td>\n",
       "      <td>windows</td>\n",
       "      <td>ie</td>\n",
       "      <td>0.06</td>\n",
       "      <td>False</td>\n",
       "      <td>NaN</td>\n",
       "      <td>NaN</td>\n",
       "      <td>NaN</td>\n",
       "      <td>False</td>\n",
       "      <td>False</td>\n",
       "      <td>False</td>\n",
       "      <td>False</td>\n",
       "      <td>False</td>\n",
       "      <td>False</td>\n",
       "    </tr>\n",
       "    <tr>\n",
       "      <th>2</th>\n",
       "      <td>fca79371fc0f67ac6264f558bc664fd6</td>\n",
       "      <td>216</td>\n",
       "      <td>217</td>\n",
       "      <td>Na</td>\n",
       "      <td>Fixed</td>\n",
       "      <td>7323</td>\n",
       "      <td>2259</td>\n",
       "      <td>2</td>\n",
       "      <td>3</td>\n",
       "      <td>2</td>\n",
       "      <td>windows</td>\n",
       "      <td>chrome</td>\n",
       "      <td>0.07</td>\n",
       "      <td>False</td>\n",
       "      <td>NaN</td>\n",
       "      <td>NaN</td>\n",
       "      <td>NaN</td>\n",
       "      <td>False</td>\n",
       "      <td>False</td>\n",
       "      <td>False</td>\n",
       "      <td>False</td>\n",
       "      <td>False</td>\n",
       "      <td>False</td>\n",
       "    </tr>\n",
       "    <tr>\n",
       "      <th>3</th>\n",
       "      <td>7717c608f688ea3b087e292c91604ea5</td>\n",
       "      <td>183</td>\n",
       "      <td>184</td>\n",
       "      <td>Na</td>\n",
       "      <td>Fixed</td>\n",
       "      <td>10722</td>\n",
       "      <td>2821</td>\n",
       "      <td>2</td>\n",
       "      <td>3</td>\n",
       "      <td>2</td>\n",
       "      <td>windows</td>\n",
       "      <td>ie</td>\n",
       "      <td>0.07</td>\n",
       "      <td>False</td>\n",
       "      <td>NaN</td>\n",
       "      <td>NaN</td>\n",
       "      <td>NaN</td>\n",
       "      <td>False</td>\n",
       "      <td>False</td>\n",
       "      <td>False</td>\n",
       "      <td>False</td>\n",
       "      <td>False</td>\n",
       "      <td>False</td>\n",
       "    </tr>\n",
       "    <tr>\n",
       "      <th>4</th>\n",
       "      <td>35528d946791bc45b75ded2a2dbdabfe</td>\n",
       "      <td>3</td>\n",
       "      <td>3</td>\n",
       "      <td>FirstView</td>\n",
       "      <td>Fixed</td>\n",
       "      <td>10722</td>\n",
       "      <td>2821</td>\n",
       "      <td>2</td>\n",
       "      <td>3</td>\n",
       "      <td>2</td>\n",
       "      <td>windows</td>\n",
       "      <td>ie</td>\n",
       "      <td>0.07</td>\n",
       "      <td>False</td>\n",
       "      <td>NaN</td>\n",
       "      <td>NaN</td>\n",
       "      <td>NaN</td>\n",
       "      <td>False</td>\n",
       "      <td>False</td>\n",
       "      <td>False</td>\n",
       "      <td>False</td>\n",
       "      <td>False</td>\n",
       "      <td>False</td>\n",
       "    </tr>\n",
       "  </tbody>\n",
       "</table>\n",
       "</div>"
      ],
      "text/plain": [
       "                             bid_id  region_id  ...  is_girly_cat  click\n",
       "0  9aa9b28f32adfc833634f28bb9703e83        216  ...         False  False\n",
       "1  1ede4e457f5031ec1640dbe1259a4616        216  ...         False  False\n",
       "2  fca79371fc0f67ac6264f558bc664fd6        216  ...         False  False\n",
       "3  7717c608f688ea3b087e292c91604ea5        183  ...         False  False\n",
       "4  35528d946791bc45b75ded2a2dbdabfe          3  ...         False  False\n",
       "\n",
       "[5 rows x 23 columns]"
      ]
     },
     "execution_count": 5,
     "metadata": {},
     "output_type": "execute_result"
    }
   ],
   "source": [
    "train_df.head()"
   ]
  },
  {
   "cell_type": "code",
   "execution_count": 6,
   "metadata": {
    "execution": {
     "iopub.execute_input": "2025-04-27T11:53:37.745819Z",
     "iopub.status.busy": "2025-04-27T11:53:37.744682Z",
     "iopub.status.idle": "2025-04-27T11:53:37.770352Z",
     "shell.execute_reply": "2025-04-27T11:53:37.769221Z",
     "shell.execute_reply.started": "2025-04-27T11:53:37.745763Z"
    },
    "tags": []
   },
   "outputs": [
    {
     "data": {
      "text/plain": [
       "Index(['bid_id', 'region_id', 'city_id', 'ad_slot_visibility',\n",
       "       'ad_slot_format', 'creative_id', 'advertiser_id', 'part_of_day',\n",
       "       'weekday', 'weekend', 'os', 'browser', 'ad_slot_screen_share',\n",
       "       'is_mobile_device', 'is_male', 'is_long_term_interest', 'is_in_market',\n",
       "       'is_info_cat', 'is_products_cat', 'is_service_cat',\n",
       "       'is_entertainment_cat', 'is_girly_cat', 'click'],\n",
       "      dtype='object')"
      ]
     },
     "execution_count": 6,
     "metadata": {},
     "output_type": "execute_result"
    }
   ],
   "source": [
    "train_df.columns"
   ]
  },
  {
   "cell_type": "code",
   "execution_count": 7,
   "metadata": {
    "execution": {
     "iopub.execute_input": "2025-04-27T11:53:37.772957Z",
     "iopub.status.busy": "2025-04-27T11:53:37.771496Z",
     "iopub.status.idle": "2025-04-27T11:53:37.788320Z",
     "shell.execute_reply": "2025-04-27T11:53:37.787229Z",
     "shell.execute_reply.started": "2025-04-27T11:53:37.772901Z"
    },
    "tags": []
   },
   "outputs": [],
   "source": [
    "target_column = 'click'\n",
    "categorical_features = [\n",
    "    'city_id', 'ad_slot_visibility', 'ad_slot_format',\n",
    "    'creative_id', 'advertiser_id', 'part_of_day', 'weekday',\n",
    "    'os', 'browser', 'is_in_market', 'is_male', 'is_mobile_device',\n",
    "    'is_long_term_interest',\n",
    "   'is_info_cat', 'is_products_cat', 'is_service_cat',\n",
    "   'is_entertainment_cat', 'is_girly_cat'\n",
    "]\n",
    "feature_columns = categorical_features + [\"ad_slot_screen_share\"]"
   ]
  },
  {
   "cell_type": "code",
   "execution_count": 8,
   "metadata": {
    "execution": {
     "iopub.execute_input": "2025-04-27T11:53:37.791052Z",
     "iopub.status.busy": "2025-04-27T11:53:37.789573Z",
     "iopub.status.idle": "2025-04-27T11:53:37.809941Z",
     "shell.execute_reply": "2025-04-27T11:53:37.808775Z",
     "shell.execute_reply.started": "2025-04-27T11:53:37.790986Z"
    },
    "tags": []
   },
   "outputs": [],
   "source": [
    "def prepare_data_ord(df, feature_columns, categorical_features, ord_encoder=None, scaler=None, fit=True):\n",
    "    X_cat = df[categorical_features].astype(str)\n",
    "    X_num = df[[f for f in feature_columns if f not in categorical_features]]\n",
    "    if fit:\n",
    "        ord_encoder = OrdinalEncoder(handle_unknown='use_encoded_value', unknown_value=-1)\n",
    "        scaler = StandardScaler()\n",
    "        X_cat_enc = ord_encoder.fit_transform(X_cat)\n",
    "        X_num_enc = scaler.fit_transform(X_num)\n",
    "    else:\n",
    "        X_cat_enc = ord_encoder.transform(X_cat)\n",
    "        X_num_enc = scaler.transform(X_num)\n",
    "    X = np.hstack([X_cat_enc, X_num_enc])\n",
    "    return X, ord_encoder, scaler"
   ]
  },
  {
   "cell_type": "code",
   "execution_count": 9,
   "metadata": {
    "execution": {
     "iopub.execute_input": "2025-04-27T11:53:37.812555Z",
     "iopub.status.busy": "2025-04-27T11:53:37.811304Z",
     "iopub.status.idle": "2025-04-27T11:54:18.830757Z",
     "shell.execute_reply": "2025-04-27T11:54:18.829411Z",
     "shell.execute_reply.started": "2025-04-27T11:53:37.812521Z"
    },
    "tags": []
   },
   "outputs": [],
   "source": [
    "from sklearn.model_selection import train_test_split\n",
    "train_df, val_df = train_test_split(train_df, test_size=0.2, random_state=42, stratify=train_df[target_column])\n",
    "# val_df, _ = train_test_split(val_df, test_size=0.7, random_state=42, stratify=val_df[target_column])"
   ]
  },
  {
   "cell_type": "code",
   "execution_count": 10,
   "metadata": {
    "execution": {
     "iopub.execute_input": "2025-04-27T11:54:18.835578Z",
     "iopub.status.busy": "2025-04-27T11:54:18.834587Z",
     "iopub.status.idle": "2025-04-27T11:58:01.272943Z",
     "shell.execute_reply": "2025-04-27T11:58:01.271718Z",
     "shell.execute_reply.started": "2025-04-27T11:54:18.835544Z"
    },
    "tags": []
   },
   "outputs": [],
   "source": [
    "X_train, ord_encoder, scaler = prepare_data_ord(train_df, feature_columns, categorical_features, fit=True)\n",
    "X_val, _, _ = prepare_data_ord(val_df, feature_columns, categorical_features, ord_encoder=ord_encoder, scaler=scaler, fit=False)\n",
    "X_test, _, _ = prepare_data_ord(test_df, feature_columns, categorical_features, ord_encoder=ord_encoder, scaler=scaler, fit=False)\n",
    "y_train = train_df[target_column].values\n",
    "y_val = val_df[target_column].values\n",
    "y_test = test_df[target_column].values"
   ]
  },
  {
   "cell_type": "code",
   "execution_count": 11,
   "metadata": {
    "execution": {
     "iopub.execute_input": "2025-04-27T11:58:01.275025Z",
     "iopub.status.busy": "2025-04-27T11:58:01.274286Z",
     "iopub.status.idle": "2025-04-27T11:58:01.356914Z",
     "shell.execute_reply": "2025-04-27T11:58:01.355746Z",
     "shell.execute_reply.started": "2025-04-27T11:58:01.274979Z"
    },
    "tags": []
   },
   "outputs": [
    {
     "name": "stdout",
     "output_type": "stream",
     "text": [
      "Device: cuda\n"
     ]
    }
   ],
   "source": [
    "device = torch.device('cuda' if torch.cuda.is_available() else 'cpu')\n",
    "print(f'Device: {device}')"
   ]
  },
  {
   "cell_type": "code",
   "execution_count": 12,
   "metadata": {
    "execution": {
     "iopub.execute_input": "2025-04-27T11:58:01.360002Z",
     "iopub.status.busy": "2025-04-27T11:58:01.358223Z",
     "iopub.status.idle": "2025-04-27T11:58:02.405348Z",
     "shell.execute_reply": "2025-04-27T11:58:02.404055Z",
     "shell.execute_reply.started": "2025-04-27T11:58:01.359924Z"
    },
    "tags": []
   },
   "outputs": [],
   "source": [
    "X_train_t = torch.tensor(X_train, dtype=torch.float32).to(device)\n",
    "y_train_t = torch.tensor(y_train, dtype=torch.float32).unsqueeze(1).to(device)\n",
    "X_val_t = torch.tensor(X_val, dtype=torch.float32).to(device)\n",
    "y_val_t = torch.tensor(y_val, dtype=torch.float32).unsqueeze(1).to(device)\n",
    "X_test_t = torch.tensor(X_test, dtype=torch.float32).to(device)\n",
    "y_test_t = torch.tensor(y_test, dtype=torch.float32).unsqueeze(1).to(device)"
   ]
  },
  {
   "cell_type": "code",
   "execution_count": 13,
   "metadata": {
    "execution": {
     "iopub.execute_input": "2025-04-27T11:58:02.408450Z",
     "iopub.status.busy": "2025-04-27T11:58:02.406824Z",
     "iopub.status.idle": "2025-04-27T11:58:02.460804Z",
     "shell.execute_reply": "2025-04-27T11:58:02.459611Z",
     "shell.execute_reply.started": "2025-04-27T11:58:02.408390Z"
    },
    "tags": []
   },
   "outputs": [],
   "source": [
    "n_pos = (y_train_t == 1).sum()\n",
    "n_neg = (y_train_t == 0).sum()\n",
    "pos_weight = torch.tensor([n_neg / n_pos], dtype=torch.float32).to(device)"
   ]
  },
  {
   "cell_type": "markdown",
   "metadata": {
    "tags": []
   },
   "source": [
    "# DropoutNet"
   ]
  },
  {
   "cell_type": "code",
   "execution_count": 47,
   "metadata": {
    "execution": {
     "iopub.execute_input": "2025-04-27T12:27:14.303478Z",
     "iopub.status.busy": "2025-04-27T12:27:14.302401Z",
     "iopub.status.idle": "2025-04-27T12:27:14.330868Z",
     "shell.execute_reply": "2025-04-27T12:27:14.329610Z",
     "shell.execute_reply.started": "2025-04-27T12:27:14.303429Z"
    },
    "tags": []
   },
   "outputs": [],
   "source": [
    "class DropoutNet(nn.Module):\n",
    "    def __init__(self, input_dim):\n",
    "        super().__init__()\n",
    "        self.layers = nn.Sequential(\n",
    "            nn.Linear(input_dim, 128),\n",
    "            nn.BatchNorm1d(128),\n",
    "            nn.ReLU(),\n",
    "            nn.Dropout(0.5),\n",
    "            nn.Linear(128, 1)\n",
    "        )\n",
    "    def forward(self, x):\n",
    "        return self.layers(x)\n",
    "\n",
    "dropout_net = DropoutNet(X_train.shape[1]).to(device)\n",
    "optimizer2 = optim.Adam(dropout_net.parameters(), lr=0.001)\n",
    "criterion2 = nn.BCEWithLogitsLoss(pos_weight=pos_weight)"
   ]
  },
  {
   "cell_type": "code",
   "execution_count": 48,
   "metadata": {
    "execution": {
     "iopub.execute_input": "2025-04-27T12:27:14.556883Z",
     "iopub.status.busy": "2025-04-27T12:27:14.555638Z",
     "iopub.status.idle": "2025-04-27T12:27:14.633625Z",
     "shell.execute_reply": "2025-04-27T12:27:14.632390Z",
     "shell.execute_reply.started": "2025-04-27T12:27:14.556824Z"
    },
    "tags": []
   },
   "outputs": [],
   "source": [
    "pos_idx = np.where(y_train == 1)[0]\n",
    "neg_idx = np.where(y_train == 0)[0]\n",
    "batch_size = 1024\n",
    "steps_per_epoch = min(1000, len(pos_idx) // (batch_size // 2))"
   ]
  },
  {
   "cell_type": "code",
   "execution_count": 49,
   "metadata": {
    "execution": {
     "iopub.execute_input": "2025-04-27T12:27:14.860033Z",
     "iopub.status.busy": "2025-04-27T12:27:14.858710Z",
     "iopub.status.idle": "2025-04-27T12:29:49.231644Z",
     "shell.execute_reply": "2025-04-27T12:29:49.230481Z",
     "shell.execute_reply.started": "2025-04-27T12:27:14.859981Z"
    },
    "tags": []
   },
   "outputs": [
    {
     "name": "stdout",
     "output_type": "stream",
     "text": [
      "Epoch  1, ROC AUC on val: 0.5762\n",
      "Epoch  2, ROC AUC on val: 0.5736\n",
      "Epoch  3, ROC AUC on val: 0.6014\n",
      "Epoch  4, ROC AUC on val: 0.6408\n",
      "Epoch  5, ROC AUC on val: 0.6762\n",
      "Epoch  6, ROC AUC on val: 0.7012\n",
      "Epoch  7, ROC AUC on val: 0.7172\n",
      "Epoch  8, ROC AUC on val: 0.7376\n",
      "Epoch  9, ROC AUC on val: 0.7473\n",
      "Epoch 10, ROC AUC on val: 0.7611\n"
     ]
    }
   ],
   "source": [
    "for epoch in range(10):\n",
    "    dropout_net.train()\n",
    "    for step in range(steps_per_epoch):\n",
    "        pos_ix = np.random.choice(pos_idx, batch_size // 2, replace=True)\n",
    "        neg_ix = np.random.choice(neg_idx, batch_size // 2, replace=False)\n",
    "        ix = np.concatenate([pos_ix, neg_ix])\n",
    "        xb = torch.tensor(X_train[ix], dtype=torch.float32).to(device)\n",
    "        yb = torch.tensor(y_train[ix], dtype=torch.float32).unsqueeze(1).to(device)\n",
    "        optimizer2.zero_grad()\n",
    "        output = dropout_net(xb)\n",
    "        loss = criterion2(output, yb)\n",
    "        loss.backward()\n",
    "        optimizer2.step()\n",
    "    with torch.no_grad():\n",
    "        preds = torch.sigmoid(dropout_net(X_val_t)).cpu().numpy()\n",
    "        roc_auc = roc_auc_score(y_val, preds)\n",
    "    print(f\"Epoch {epoch+1:2d}, ROC AUC on val: {roc_auc:.4f}\")"
   ]
  },
  {
   "cell_type": "code",
   "execution_count": 50,
   "metadata": {
    "execution": {
     "iopub.execute_input": "2025-04-27T12:29:49.234400Z",
     "iopub.status.busy": "2025-04-27T12:29:49.233820Z",
     "iopub.status.idle": "2025-04-27T12:29:49.766673Z",
     "shell.execute_reply": "2025-04-27T12:29:49.765208Z",
     "shell.execute_reply.started": "2025-04-27T12:29:49.234366Z"
    },
    "tags": []
   },
   "outputs": [
    {
     "name": "stdout",
     "output_type": "stream",
     "text": [
      "\n",
      "ROC AUC на тесте: 0.6818\n"
     ]
    }
   ],
   "source": [
    "dropout_net.eval()\n",
    "with torch.no_grad():\n",
    "    y_pred_drp = torch.sigmoid(dropout_net(X_test_t)).cpu().numpy()\n",
    "\n",
    "roc_auc = roc_auc_score(y_test, y_pred_drp)\n",
    "print(f\"\\nROC AUC на тесте: {roc_auc:.4f}\")"
   ]
  },
  {
   "cell_type": "code",
   "execution_count": 51,
   "metadata": {
    "execution": {
     "iopub.execute_input": "2025-04-27T12:29:49.769146Z",
     "iopub.status.busy": "2025-04-27T12:29:49.768230Z",
     "iopub.status.idle": "2025-04-27T12:29:50.558057Z",
     "shell.execute_reply": "2025-04-27T12:29:50.556802Z",
     "shell.execute_reply.started": "2025-04-27T12:29:49.769110Z"
    },
    "tags": []
   },
   "outputs": [
    {
     "data": {
      "image/png": "[encoded data removed]",
      "text/plain": [
       "<Figure size 800x600 with 1 Axes>"
      ]
     },
     "metadata": {},
     "output_type": "display_data"
    }
   ],
   "source": [
    "fpr, tpr, thresholds = roc_curve(y_test, y_pred_drp)\n",
    "plt.figure(figsize=(8,6))\n",
    "plt.plot(fpr, tpr, label=f\"ROC AUC = {roc_auc:.4f}\")\n",
    "plt.plot([0,1], [0,1], 'k--')\n",
    "plt.xlabel('FPR')\n",
    "plt.ylabel('TPR')\n",
    "plt.title('ROC-curve (test)')\n",
    "plt.legend()\n",
    "plt.grid()\n",
    "plt.show()"
   ]
  },
  {
   "cell_type": "code",
   "execution_count": 52,
   "metadata": {
    "execution": {
     "iopub.execute_input": "2025-04-27T12:29:50.561203Z",
     "iopub.status.busy": "2025-04-27T12:29:50.560633Z",
     "iopub.status.idle": "2025-04-27T12:29:50.579929Z",
     "shell.execute_reply": "2025-04-27T12:29:50.578818Z",
     "shell.execute_reply.started": "2025-04-27T12:29:50.561168Z"
    },
    "tags": []
   },
   "outputs": [],
   "source": [
    "def permutation_importance(model, X, y, feature_names, device='cpu', n_repeats=2):\n",
    "    baseline = roc_auc_score(y, torch.sigmoid(model(torch.tensor(X, dtype=torch.float32).to(device))).cpu().detach().numpy().squeeze())\n",
    "    importances = []\n",
    "    for i, fname in enumerate(feature_names):\n",
    "        scores = []\n",
    "        for _ in range(n_repeats):\n",
    "            X_perm = X.copy()\n",
    "            idx = np.random.permutation(X.shape[0])\n",
    "            X_perm[:, i] = X_perm[idx, i]\n",
    "            X_perm_t = torch.tensor(X_perm, dtype=torch.float32).to(device)\n",
    "            pred = torch.sigmoid(model(X_perm_t)).cpu().detach().numpy().squeeze()\n",
    "            score = roc_auc_score(y, pred)\n",
    "            scores.append(baseline - score)\n",
    "        importances.append(np.mean(scores))\n",
    "    return pd.Series(importances, index=feature_names).sort_values(ascending=False)"
   ]
  },
  {
   "cell_type": "code",
   "execution_count": 53,
   "metadata": {
    "execution": {
     "iopub.execute_input": "2025-04-27T12:29:50.581947Z",
     "iopub.status.busy": "2025-04-27T12:29:50.581004Z",
     "iopub.status.idle": "2025-04-27T12:30:20.336283Z",
     "shell.execute_reply": "2025-04-27T12:30:20.334922Z",
     "shell.execute_reply.started": "2025-04-27T12:29:50.581885Z"
    },
    "tags": []
   },
   "outputs": [
    {
     "name": "stdout",
     "output_type": "stream",
     "text": [
      "Значимость признаков (по permutation importance на тесте):\n",
      "os                       0.069044\n",
      "browser                  0.047086\n",
      "ad_slot_visibility       0.022018\n",
      "weekday                  0.019333\n",
      "advertiser_id            0.011422\n",
      "ad_slot_screen_share     0.008136\n",
      "city_id                  0.007272\n",
      "creative_id              0.004188\n",
      "is_male                  0.003713\n",
      "is_long_term_interest    0.002698\n",
      "is_in_market             0.000673\n",
      "part_of_day              0.000666\n",
      "is_mobile_device         0.000608\n",
      "is_entertainment_cat     0.000288\n",
      "is_service_cat           0.000020\n",
      "is_info_cat              0.000017\n",
      "ad_slot_format           0.000000\n",
      "is_girly_cat            -0.000002\n",
      "is_products_cat         -0.000037\n",
      "dtype: float64\n"
     ]
    }
   ],
   "source": [
    "feature_list = list(categorical_features) + [f for f in feature_columns if f not in categorical_features]\n",
    "\n",
    "importances = permutation_importance(dropout_net, X_test, y_test, feature_list, device=device)\n",
    "print(\"Значимость признаков (по permutation importance на тесте):\")\n",
    "print(importances)"
   ]
  },
  {
   "cell_type": "code",
   "execution_count": 54,
   "metadata": {
    "execution": {
     "iopub.execute_input": "2025-04-27T12:30:20.338929Z",
     "iopub.status.busy": "2025-04-27T12:30:20.338100Z",
     "iopub.status.idle": "2025-04-27T12:30:20.780581Z",
     "shell.execute_reply": "2025-04-27T12:30:20.779302Z",
     "shell.execute_reply.started": "2025-04-27T12:30:20.338852Z"
    },
    "tags": []
   },
   "outputs": [
    {
     "data": {
      "image/png": "[encoded data removed]",
      "text/plain": [
       "<Figure size 1200x600 with 1 Axes>"
      ]
     },
     "metadata": {},
     "output_type": "display_data"
    }
   ],
   "source": [
    "importances = importances.sort_values(ascending=False)\n",
    "plt.figure(figsize=(12, 6))\n",
    "plt.barh(importances.index[::-1], importances.values[::-1])\n",
    "plt.xlabel(\"Значимость\")\n",
    "plt.title(\"Значимость признаков (по permutation importance на тесте)\")\n",
    "plt.tight_layout()\n",
    "plt.show()"
   ]
  },
  {
   "cell_type": "code",
   "execution_count": null,
   "metadata": {},
   "outputs": [],
   "source": []
  }
 ],
 "metadata": {
  "kaggle": {
   "accelerator": "nvidiaTeslaT4",
   "dataSources": [
    {
     "datasetId": 7118912,
     "sourceId": 11371631,
     "sourceType": "datasetVersion"
    }
   ],
   "dockerImageVersionId": 31011,
   "isGpuEnabled": true,
   "isInternetEnabled": true,
   "language": "python",
   "sourceType": "notebook"
  },
  "kernelspec": {
   "display_name": "DataSphere Kernel",
   "language": "python",
   "name": "python3"
  },
  "language_info": {
   "codemirror_mode": {
    "name": "ipython",
    "version": 3
   },
   "file_extension": ".py",
   "mimetype": "text/x-python",
   "name": "python",
   "nbconvert_exporter": "python",
   "pygments_lexer": "ipython3",
   "version": "3.10.12"
  }
 },
 "nbformat": 4,
 "nbformat_minor": 4
}
