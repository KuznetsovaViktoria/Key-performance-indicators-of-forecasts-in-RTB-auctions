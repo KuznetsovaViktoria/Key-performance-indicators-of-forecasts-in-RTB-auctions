{
 "cells": [
  {
   "cell_type": "code",
   "execution_count": 6,
   "metadata": {},
   "outputs": [],
   "source": [
    "import bz2\n",
    "import csv\n",
    "import os\n",
    "import tqdm\n",
    "import numpy as np\n",
    "import pandas as pd\n"
   ]
  },
  {
   "cell_type": "code",
   "execution_count": 7,
   "metadata": {},
   "outputs": [],
   "source": [
    "# bidding_log_columns = [\"bid_id\",\n",
    "#                         \"timestamp\",\n",
    "#                         \"user_agent\",\n",
    "#                         \"region_id\",\n",
    "#                         \"city_id\",\n",
    "#                         \"domain\",\n",
    "#                         \"ad_slot_width\",\n",
    "#                         \"ad_slot_height\",\n",
    "#                         \"ad_slot_visibility\",\n",
    "#                         \"ad_slot_format\",\n",
    "#                         \"creative_id\",\n",
    "#                         \"advertiser_id\",\n",
    "#                         \"user_profile_ids\"]\n",
    "\n",
    "# def parse_logs(input_dir, cols, filename):\n",
    "#     clk_logs = []\n",
    "#     bid_logs = []\n",
    "#     for file in tqdm.tqdm(os.listdir(input_dir)):\n",
    "#         # if not file.startswith(\"bid\") and not file.startswith(\"clk\"):\n",
    "#         #     continue\n",
    "#         with bz2.open(os.path.join(input_dir, file), \"rt\") as bz_file:\n",
    "#             for line in bz_file:\n",
    "#                 if file.startswith(\"bid\"):\n",
    "#                     l = line.rstrip('\\n').split('\\t')\n",
    "#                     bid_logs.append([l[0], l[1], l[3], l[5], l[6], l[8], l[12], l[13], l[14], l[15], l[17], l[19], l[20]])\n",
    "#                 if file.startswith(\"clk\"):\n",
    "#                     clk_logs.append(line.rstrip('\\n').split('\\t')[0])\n",
    "#     dt = pd.DataFrame(bid_logs, columns=cols)\n",
    "#     dt['сlick'] = dt['bid_id'].isin(clk_logs).astype(int)\n",
    "#     dt.to_csv(filename, sep='\\t', encoding='utf-8', index=False, header=True)\n",
    "\n",
    "# parse_logs(\"ipinyou.contest.dataset/training2nd\", bidding_log_columns, \"logs_season_2.csv\")"
   ]
  },
  {
   "cell_type": "code",
   "execution_count": null,
   "metadata": {},
   "outputs": [],
   "source": [
    "bidding_log_columns = [\"bid_id\",\n",
    "                        \"timestamp\",\n",
    "                        \"user_agent\",\n",
    "                        \"region_id\",\n",
    "                        \"city_id\",\n",
    "                        \"domain\",\n",
    "                        \"ad_slot_width\",\n",
    "                        \"ad_slot_height\",\n",
    "                        \"ad_slot_visibility\",\n",
    "                        \"ad_slot_format\",\n",
    "                        \"creative_id\",\n",
    "                        \"advertiser_id\",\n",
    "                        \"user_profile_ids\",\n",
    "                        \"click\"]                                                                                         6           7      9                              13                  14              15                          16                  18                22              23      \n",
    "\n",
    "def parse_logs(file, cols, filename):\n",
    "    bid_logs = []\n",
    "    with bz2.open(file, \"rt\") as bz_file:\n",
    "        for line in bz_file:\n",
    "            l = line.rstrip('\\n').split('\\t')\n",
    "            bid_logs.append([l[0], l[1], l[4], l[6], l[7], l[9], l[13], l[14], l[15], l[16], l[18], l[22], l[23], l[24]])\n",
    "    dt = pd.DataFrame(bid_logs, columns=cols)\n",
    "    dt.to_csv(filename, compression='zip')\n",
    "\n",
    "parse_logs(\"ipinyou.contest.dataset/testing2nd/leaderboard.test.data.20130613_15.txt.bz2\", bidding_log_columns, \"test_season_2.csv.zip\")\n",
    "parse_logs(\"ipinyou.contest.dataset/testing3rd/leaderboard.test.data.20131021_28.txt.bz2\", bidding_log_columns, \"test_season_3.csv.zip\")"
   ]
  },
  {
   "cell_type": "code",
   "execution_count": null,
   "metadata": {},
   "outputs": [],
   "source": []
  },
  {
   "cell_type": "code",
   "execution_count": null,
   "metadata": {},
   "outputs": [],
   "source": [
    "# imp_clck_conv_columns_season_1 = [\"bid_id\", \"timestamp\", \"log_type\", \"ipinyou_id\", \"user_agent\", \"ip\", \"region_id\", \"city_id\", \"ad_exchange\", \"domain\", \"url\", \"anonymous_url\", \"ad_slot_id\", \"ad_slot_width\", \"ad_slot_height\", \"ad_slot_visibility\", \"ad_slot_format\", \"ad_slot_floor_price\", \"creative_id\", \"bidding_price\", \"paying_price\", \"landing_page_url\", \"advertiser\", \"usertag\"]\n",
    "# bidding_log_columns_season_1 = [\"bid_id\", \"timestamp\", \"ipinyou_id\", \"user_agent\", \"ip\", \"region_id\", \"city_id\", \"ad_exchange\", \"domain\", \"url\", \"anonymous_url\", \"ad_slot_id\", \"ad_slot_width\", \"ad_slot_height\", \"ad_slot_visibility\", \"ad_slot_format\", \"ad_slot_floor_price\", \"creative_id\", \"bidding_price\"]\n",
    "# advertiser_keys_season_1 = {\"df6f61b2409f4e2f16b6873a7eb50444\" : \"Consumer Packaged Goods (CPG)\", \"3a7eb50444df6f61b2409f4e2f16b687\": \"Chinese vertical e-commerce\", \"9f4e2f16b6873a7eb504df6f61b24044\": \"Vertical online media\"}\n",
    "# bid_logs = [bidding_log_columns_season_1]\n",
    "# clk_logs = [imp_clck_conv_columns_season_1]\n",
    "# conv_logs = [imp_clck_conv_columns_season_1]\n",
    "# imp_logs = [imp_clck_conv_columns_season_1]\n",
    "# for file in tqdm.tqdm(os.listdir(\"dataset/training1st\")):\n",
    "#     with bz2.open(\"dataset/training1st/\" + file, \"rt\") as bz_file:\n",
    "#         if not file.startswith(\"bid\") and not file.startswith(\"clk\") and not file.startswith(\"conv\") and not file.startswith(\"imp\"):\n",
    "#             continue\n",
    "#         for line in bz_file:\n",
    "#             if file.startswith(\"bid\"):\n",
    "#                 bid_logs.append(line.rstrip('\\n').split('\\t'))\n",
    "#             if file.startswith(\"clk\"):\n",
    "#                 clk_logs.append(line.rstrip('\\n').split('\\t'))\n",
    "#             if file.startswith(\"conv\"):\n",
    "#                 conv_logs.append(line.rstrip('\\n').split('\\t'))\n",
    "#             if file.startswith(\"imp\"):\n",
    "#                 imp_logs.append(line.rstrip('\\n').split('\\t'))"
   ]
  }
 ],
 "metadata": {
  "kernelspec": {
   "display_name": "Python 3",
   "language": "python",
   "name": "python3"
  },
  "language_info": {
   "codemirror_mode": {
    "name": "ipython",
    "version": 3
   },
   "file_extension": ".py",
   "mimetype": "text/x-python",
   "name": "python",
   "nbconvert_exporter": "python",
   "pygments_lexer": "ipython3",
   "version": "3.10.12"
  }
 },
 "nbformat": 4,
 "nbformat_minor": 2
}
