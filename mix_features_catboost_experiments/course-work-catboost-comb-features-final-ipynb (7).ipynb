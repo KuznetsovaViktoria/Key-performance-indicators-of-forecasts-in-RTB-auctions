{
 "cells": [
  {
   "cell_type": "code",
   "execution_count": 1,
   "id": "01573094",
   "metadata": {
    "_cell_guid": "b1076dfc-b9ad-4769-8c92-a6c4dae69d19",
    "_uuid": "8f2839f25d086af736a60e9eeb907d3b93b6e0e5",
    "execution": {
     "iopub.execute_input": "2025-04-23T21:42:39.386549Z",
     "iopub.status.busy": "2025-04-23T21:42:39.386309Z",
     "iopub.status.idle": "2025-04-23T21:42:42.897147Z",
     "shell.execute_reply": "2025-04-23T21:42:42.896343Z"
    },
    "papermill": {
     "duration": 3.516507,
     "end_time": "2025-04-23T21:42:42.898619",
     "exception": false,
     "start_time": "2025-04-23T21:42:39.382112",
     "status": "completed"
    },
    "tags": []
   },
   "outputs": [],
   "source": [
    "import pandas as pd\n",
    "from catboost import CatBoostClassifier, Pool\n",
    "from sklearn.metrics import roc_auc_score, roc_curve\n",
    "import matplotlib.pyplot as plt"
   ]
  },
  {
   "cell_type": "code",
   "execution_count": 2,
   "id": "269fbbce",
   "metadata": {
    "execution": {
     "iopub.execute_input": "2025-04-23T21:42:42.906339Z",
     "iopub.status.busy": "2025-04-23T21:42:42.905593Z",
     "iopub.status.idle": "2025-04-23T21:44:05.828683Z",
     "shell.execute_reply": "2025-04-23T21:44:05.828111Z"
    },
    "papermill": {
     "duration": 82.928502,
     "end_time": "2025-04-23T21:44:05.830279",
     "exception": false,
     "start_time": "2025-04-23T21:42:42.901777",
     "status": "completed"
    },
    "tags": []
   },
   "outputs": [
    {
     "name": "stderr",
     "output_type": "stream",
     "text": [
      "/tmp/ipykernel_19/616515770.py:1: DtypeWarning: Columns (15,16,17) have mixed types. Specify dtype option on import or set low_memory=False.\n",
      "  train_df = pd.read_csv('/kaggle/input/ipinyou-season-3/parsed_final_data_season_3.csv')\n"
     ]
    }
   ],
   "source": [
    "train_df = pd.read_csv('/kaggle/input/ipinyou-season-3/parsed_final_data_season_3.csv')\n",
    "test_df = pd.read_csv('/kaggle/input/ipinyou-season-3/final_test_data_season_3.csv')"
   ]
  },
  {
   "cell_type": "code",
   "execution_count": 3,
   "id": "bf14e981",
   "metadata": {
    "execution": {
     "iopub.execute_input": "2025-04-23T21:44:05.837415Z",
     "iopub.status.busy": "2025-04-23T21:44:05.837163Z",
     "iopub.status.idle": "2025-04-23T21:44:07.995592Z",
     "shell.execute_reply": "2025-04-23T21:44:07.994952Z"
    },
    "papermill": {
     "duration": 2.163511,
     "end_time": "2025-04-23T21:44:07.997102",
     "exception": false,
     "start_time": "2025-04-23T21:44:05.833591",
     "status": "completed"
    },
    "tags": []
   },
   "outputs": [],
   "source": [
    "train_df = train_df.drop('Unnamed: 0', axis=1)\n",
    "test_df = test_df.drop('Unnamed: 0', axis=1)"
   ]
  },
  {
   "cell_type": "code",
   "execution_count": 4,
   "id": "e6dac248",
   "metadata": {
    "execution": {
     "iopub.execute_input": "2025-04-23T21:44:08.003886Z",
     "iopub.status.busy": "2025-04-23T21:44:08.003639Z",
     "iopub.status.idle": "2025-04-23T21:44:23.323290Z",
     "shell.execute_reply": "2025-04-23T21:44:23.322272Z"
    },
    "papermill": {
     "duration": 15.324871,
     "end_time": "2025-04-23T21:44:23.324977",
     "exception": false,
     "start_time": "2025-04-23T21:44:08.000106",
     "status": "completed"
    },
    "tags": []
   },
   "outputs": [
    {
     "name": "stderr",
     "output_type": "stream",
     "text": [
      "/tmp/ipykernel_19/1533110392.py:1: FutureWarning: Downcasting object dtype arrays on .fillna, .ffill, .bfill is deprecated and will change in a future version. Call result.infer_objects(copy=False) instead. To opt-in to the future behavior, set `pd.set_option('future.no_silent_downcasting', True)`\n",
      "  train_df = train_df.fillna(value=False)\n"
     ]
    }
   ],
   "source": [
    "train_df = train_df.fillna(value=False)"
   ]
  },
  {
   "cell_type": "code",
   "execution_count": 5,
   "id": "a9b25c38",
   "metadata": {
    "execution": {
     "iopub.execute_input": "2025-04-23T21:44:23.332607Z",
     "iopub.status.busy": "2025-04-23T21:44:23.332019Z",
     "iopub.status.idle": "2025-04-23T21:44:23.335809Z",
     "shell.execute_reply": "2025-04-23T21:44:23.335056Z"
    },
    "papermill": {
     "duration": 0.008748,
     "end_time": "2025-04-23T21:44:23.337059",
     "exception": false,
     "start_time": "2025-04-23T21:44:23.328311",
     "status": "completed"
    },
    "tags": []
   },
   "outputs": [],
   "source": [
    "pairs_for_union = [('weekend', 'weekday'), \n",
    "                  ('part_of_day', 'weekday'), ('is_in_market', 'creative_id'), \n",
    "                  ('advertiser_id', 'weekday'), ('ad_slot_format', 'os')]"
   ]
  },
  {
   "cell_type": "code",
   "execution_count": 6,
   "id": "052ad1e4",
   "metadata": {
    "execution": {
     "iopub.execute_input": "2025-04-23T21:44:23.343810Z",
     "iopub.status.busy": "2025-04-23T21:44:23.343249Z",
     "iopub.status.idle": "2025-04-23T21:45:37.461224Z",
     "shell.execute_reply": "2025-04-23T21:45:37.460555Z"
    },
    "papermill": {
     "duration": 74.123005,
     "end_time": "2025-04-23T21:45:37.462761",
     "exception": false,
     "start_time": "2025-04-23T21:44:23.339756",
     "status": "completed"
    },
    "tags": []
   },
   "outputs": [],
   "source": [
    "new_feat_names = []\n",
    "for f1, f2 in pairs_for_union:\n",
    "    new_name = f\"{f1}__{f2}\"\n",
    "    new_feat_names.append(new_name)\n",
    "    for df in [train_df, test_df]:\n",
    "        df[new_name] = df[f1].astype(str) + \"_\" + df[f2].astype(str)"
   ]
  },
  {
   "cell_type": "code",
   "execution_count": 7,
   "id": "a0ba6ce3",
   "metadata": {
    "execution": {
     "iopub.execute_input": "2025-04-23T21:45:37.470305Z",
     "iopub.status.busy": "2025-04-23T21:45:37.469674Z",
     "iopub.status.idle": "2025-04-23T21:45:37.473415Z",
     "shell.execute_reply": "2025-04-23T21:45:37.472893Z"
    },
    "papermill": {
     "duration": 0.008342,
     "end_time": "2025-04-23T21:45:37.474536",
     "exception": false,
     "start_time": "2025-04-23T21:45:37.466194",
     "status": "completed"
    },
    "tags": []
   },
   "outputs": [],
   "source": [
    "target_column = 'click'\n",
    "categorical_features = [\n",
    "    'ad_slot_visibility', 'ad_slot_format',\n",
    "    'creative_id', 'advertiser_id', 'part_of_day', 'weekday', 'weekend',\n",
    "    'os', 'browser', 'is_in_market'\n",
    "] + new_feat_names\n",
    "feature_columns = categorical_features + [\"ad_slot_screen_share\"]"
   ]
  },
  {
   "cell_type": "code",
   "execution_count": 8,
   "id": "68d559d0",
   "metadata": {
    "execution": {
     "iopub.execute_input": "2025-04-23T21:45:37.481006Z",
     "iopub.status.busy": "2025-04-23T21:45:37.480829Z",
     "iopub.status.idle": "2025-04-23T21:45:37.586339Z",
     "shell.execute_reply": "2025-04-23T21:45:37.585729Z"
    },
    "papermill": {
     "duration": 0.110152,
     "end_time": "2025-04-23T21:45:37.587512",
     "exception": false,
     "start_time": "2025-04-23T21:45:37.477360",
     "status": "completed"
    },
    "tags": []
   },
   "outputs": [
    {
     "data": {
      "text/plain": [
       "click\n",
       "False    21329922\n",
       "True        11673\n",
       "Name: count, dtype: int64"
      ]
     },
     "execution_count": 8,
     "metadata": {},
     "output_type": "execute_result"
    }
   ],
   "source": [
    "class_counts = train_df[target_column].value_counts()\n",
    "class_counts"
   ]
  },
  {
   "cell_type": "code",
   "execution_count": 9,
   "id": "23f3252b",
   "metadata": {
    "execution": {
     "iopub.execute_input": "2025-04-23T21:45:37.593887Z",
     "iopub.status.busy": "2025-04-23T21:45:37.593665Z",
     "iopub.status.idle": "2025-04-23T21:45:37.597676Z",
     "shell.execute_reply": "2025-04-23T21:45:37.596891Z"
    },
    "papermill": {
     "duration": 0.008313,
     "end_time": "2025-04-23T21:45:37.598787",
     "exception": false,
     "start_time": "2025-04-23T21:45:37.590474",
     "status": "completed"
    },
    "tags": []
   },
   "outputs": [
    {
     "name": "stderr",
     "output_type": "stream",
     "text": [
      "/tmp/ipykernel_19/780349676.py:1: FutureWarning: Series.__getitem__ treating keys as positions is deprecated. In a future version, integer keys will always be treated as labels (consistent with DataFrame behavior). To access a value by position, use `ser.iloc[pos]`\n",
      "  class_0_count = class_counts.get(0, 1)\n",
      "/tmp/ipykernel_19/780349676.py:2: FutureWarning: Series.__getitem__ treating keys as positions is deprecated. In a future version, integer keys will always be treated as labels (consistent with DataFrame behavior). To access a value by position, use `ser.iloc[pos]`\n",
      "  class_1_count = class_counts.get(1, 1)\n"
     ]
    }
   ],
   "source": [
    "class_0_count = class_counts.get(0, 1)\n",
    "class_1_count = class_counts.get(1, 1)"
   ]
  },
  {
   "cell_type": "code",
   "execution_count": 10,
   "id": "0672e282",
   "metadata": {
    "execution": {
     "iopub.execute_input": "2025-04-23T21:45:37.605390Z",
     "iopub.status.busy": "2025-04-23T21:45:37.605198Z",
     "iopub.status.idle": "2025-04-23T21:45:37.608200Z",
     "shell.execute_reply": "2025-04-23T21:45:37.607581Z"
    },
    "papermill": {
     "duration": 0.007767,
     "end_time": "2025-04-23T21:45:37.609335",
     "exception": false,
     "start_time": "2025-04-23T21:45:37.601568",
     "status": "completed"
    },
    "tags": []
   },
   "outputs": [],
   "source": [
    "total_count = class_0_count + class_1_count\n",
    "class_weights = [total_count / class_0_count, total_count / class_1_count]"
   ]
  },
  {
   "cell_type": "code",
   "execution_count": 11,
   "id": "e45676ef",
   "metadata": {
    "execution": {
     "iopub.execute_input": "2025-04-23T21:45:37.615555Z",
     "iopub.status.busy": "2025-04-23T21:45:37.615362Z",
     "iopub.status.idle": "2025-04-23T21:46:35.848383Z",
     "shell.execute_reply": "2025-04-23T21:46:35.847658Z"
    },
    "papermill": {
     "duration": 58.237757,
     "end_time": "2025-04-23T21:46:35.849811",
     "exception": false,
     "start_time": "2025-04-23T21:45:37.612054",
     "status": "completed"
    },
    "tags": []
   },
   "outputs": [],
   "source": [
    "from sklearn.model_selection import train_test_split\n",
    "train_df, val_df = train_test_split(train_df, test_size=0.01, random_state=42, stratify=train_df[target_column])"
   ]
  },
  {
   "cell_type": "code",
   "execution_count": 12,
   "id": "42c2fb26",
   "metadata": {
    "execution": {
     "iopub.execute_input": "2025-04-23T21:46:35.856970Z",
     "iopub.status.busy": "2025-04-23T21:46:35.856744Z",
     "iopub.status.idle": "2025-04-23T21:48:47.247673Z",
     "shell.execute_reply": "2025-04-23T21:48:47.246774Z"
    },
    "papermill": {
     "duration": 131.396099,
     "end_time": "2025-04-23T21:48:47.249326",
     "exception": false,
     "start_time": "2025-04-23T21:46:35.853227",
     "status": "completed"
    },
    "tags": []
   },
   "outputs": [],
   "source": [
    "train_pool = Pool(data=train_df[feature_columns],\n",
    "                  label=train_df[target_column],\n",
    "                  cat_features=categorical_features)"
   ]
  },
  {
   "cell_type": "code",
   "execution_count": 13,
   "id": "cee9034c",
   "metadata": {
    "execution": {
     "iopub.execute_input": "2025-04-23T21:48:47.258234Z",
     "iopub.status.busy": "2025-04-23T21:48:47.257566Z",
     "iopub.status.idle": "2025-04-23T21:48:54.594843Z",
     "shell.execute_reply": "2025-04-23T21:48:54.593942Z"
    },
    "papermill": {
     "duration": 7.343585,
     "end_time": "2025-04-23T21:48:54.596538",
     "exception": false,
     "start_time": "2025-04-23T21:48:47.252953",
     "status": "completed"
    },
    "tags": []
   },
   "outputs": [],
   "source": [
    "test_pool = Pool(data=test_df[feature_columns],\n",
    "                 label=test_df[target_column],\n",
    "                 cat_features=categorical_features)"
   ]
  },
  {
   "cell_type": "code",
   "execution_count": 14,
   "id": "3ea04dd1",
   "metadata": {
    "execution": {
     "iopub.execute_input": "2025-04-23T21:48:54.604190Z",
     "iopub.status.busy": "2025-04-23T21:48:54.603905Z",
     "iopub.status.idle": "2025-04-23T21:48:55.945992Z",
     "shell.execute_reply": "2025-04-23T21:48:55.945121Z"
    },
    "papermill": {
     "duration": 1.347555,
     "end_time": "2025-04-23T21:48:55.947543",
     "exception": false,
     "start_time": "2025-04-23T21:48:54.599988",
     "status": "completed"
    },
    "tags": []
   },
   "outputs": [],
   "source": [
    "val_pool = Pool(data=val_df[feature_columns],\n",
    "                 label=val_df[target_column],\n",
    "                 cat_features=categorical_features)"
   ]
  },
  {
   "cell_type": "code",
   "execution_count": 15,
   "id": "cb33811b",
   "metadata": {
    "execution": {
     "iopub.execute_input": "2025-04-23T21:48:55.954714Z",
     "iopub.status.busy": "2025-04-23T21:48:55.954482Z",
     "iopub.status.idle": "2025-04-23T22:11:09.252283Z",
     "shell.execute_reply": "2025-04-23T22:11:09.251583Z"
    },
    "papermill": {
     "duration": 1333.303221,
     "end_time": "2025-04-23T22:11:09.254021",
     "exception": false,
     "start_time": "2025-04-23T21:48:55.950800",
     "status": "completed"
    },
    "tags": []
   },
   "outputs": [
    {
     "name": "stdout",
     "output_type": "stream",
     "text": [
      "0:\tlearn: 0.6709121\ttest: 0.6728798\tbest: 0.6728798 (0)\ttotal: 2.25s\tremaining: 18m 44s\n",
      "1:\tlearn: 0.6512292\ttest: 0.6552759\tbest: 0.6552759 (1)\ttotal: 4.67s\tremaining: 19m 23s\n",
      "2:\tlearn: 0.6271767\ttest: 0.6324385\tbest: 0.6324385 (2)\ttotal: 7.2s\tremaining: 19m 52s\n",
      "3:\tlearn: 0.6123178\ttest: 0.6192087\tbest: 0.6192087 (3)\ttotal: 9.8s\tremaining: 20m 15s\n",
      "4:\tlearn: 0.5986409\ttest: 0.6065748\tbest: 0.6065748 (4)\ttotal: 12.3s\tremaining: 20m 14s\n",
      "5:\tlearn: 0.5858343\ttest: 0.5945890\tbest: 0.5945890 (5)\ttotal: 14.5s\tremaining: 19m 56s\n",
      "6:\tlearn: 0.5755225\ttest: 0.5847810\tbest: 0.5847810 (6)\ttotal: 16.5s\tremaining: 19m 19s\n",
      "7:\tlearn: 0.5660887\ttest: 0.5765266\tbest: 0.5765266 (7)\ttotal: 18.9s\tremaining: 19m 24s\n",
      "8:\tlearn: 0.5520944\ttest: 0.5630150\tbest: 0.5630150 (8)\ttotal: 20.6s\tremaining: 18m 43s\n",
      "9:\tlearn: 0.5426310\ttest: 0.5542153\tbest: 0.5542153 (9)\ttotal: 22.4s\tremaining: 18m 18s\n",
      "10:\tlearn: 0.5337632\ttest: 0.5455843\tbest: 0.5455843 (10)\ttotal: 24.2s\tremaining: 17m 57s\n",
      "11:\tlearn: 0.5284896\ttest: 0.5407389\tbest: 0.5407389 (11)\ttotal: 26s\tremaining: 17m 37s\n",
      "12:\tlearn: 0.5238221\ttest: 0.5367069\tbest: 0.5367069 (12)\ttotal: 27.9s\tremaining: 17m 24s\n",
      "13:\tlearn: 0.5195523\ttest: 0.5330218\tbest: 0.5330218 (13)\ttotal: 30.6s\tremaining: 17m 42s\n",
      "14:\tlearn: 0.5132942\ttest: 0.5266843\tbest: 0.5266843 (14)\ttotal: 32.4s\tremaining: 17m 28s\n",
      "15:\tlearn: 0.5091098\ttest: 0.5228224\tbest: 0.5228224 (15)\ttotal: 34.3s\tremaining: 17m 17s\n",
      "16:\tlearn: 0.5060340\ttest: 0.5198679\tbest: 0.5198679 (16)\ttotal: 36.6s\tremaining: 17m 19s\n",
      "17:\tlearn: 0.5029010\ttest: 0.5162774\tbest: 0.5162774 (17)\ttotal: 39s\tremaining: 17m 24s\n",
      "18:\tlearn: 0.5003343\ttest: 0.5139737\tbest: 0.5139737 (18)\ttotal: 41.4s\tremaining: 17m 28s\n",
      "19:\tlearn: 0.4977591\ttest: 0.5122202\tbest: 0.5122202 (19)\ttotal: 43.8s\tremaining: 17m 31s\n",
      "20:\tlearn: 0.4951535\ttest: 0.5099810\tbest: 0.5099810 (20)\ttotal: 45.7s\tremaining: 17m 22s\n",
      "21:\tlearn: 0.4924898\ttest: 0.5074773\tbest: 0.5074773 (21)\ttotal: 47.9s\tremaining: 17m 20s\n",
      "22:\tlearn: 0.4906229\ttest: 0.5059136\tbest: 0.5059136 (22)\ttotal: 49.9s\tremaining: 17m 14s\n",
      "23:\tlearn: 0.4889026\ttest: 0.5043246\tbest: 0.5043246 (23)\ttotal: 52s\tremaining: 17m 10s\n",
      "24:\tlearn: 0.4870866\ttest: 0.5027311\tbest: 0.5027311 (24)\ttotal: 54.9s\tremaining: 17m 22s\n",
      "25:\tlearn: 0.4854389\ttest: 0.5013241\tbest: 0.5013241 (25)\ttotal: 57.1s\tremaining: 17m 20s\n",
      "26:\tlearn: 0.4835181\ttest: 0.4998111\tbest: 0.4998111 (26)\ttotal: 59.3s\tremaining: 17m 19s\n",
      "27:\tlearn: 0.4820775\ttest: 0.4986430\tbest: 0.4986430 (27)\ttotal: 1m 1s\tremaining: 17m 9s\n",
      "28:\tlearn: 0.4803156\ttest: 0.4968342\tbest: 0.4968342 (28)\ttotal: 1m 4s\tremaining: 17m 22s\n",
      "29:\tlearn: 0.4789119\ttest: 0.4955333\tbest: 0.4955333 (29)\ttotal: 1m 6s\tremaining: 17m 17s\n",
      "30:\tlearn: 0.4776651\ttest: 0.4946431\tbest: 0.4946431 (30)\ttotal: 1m 8s\tremaining: 17m 10s\n",
      "31:\tlearn: 0.4760231\ttest: 0.4936410\tbest: 0.4936410 (31)\ttotal: 1m 10s\tremaining: 17m 6s\n",
      "32:\tlearn: 0.4748340\ttest: 0.4930143\tbest: 0.4930143 (32)\ttotal: 1m 11s\tremaining: 16m 58s\n",
      "33:\tlearn: 0.4740381\ttest: 0.4926301\tbest: 0.4926301 (33)\ttotal: 1m 14s\tremaining: 16m 58s\n",
      "34:\tlearn: 0.4730637\ttest: 0.4915170\tbest: 0.4915170 (34)\ttotal: 1m 16s\tremaining: 16m 55s\n",
      "35:\tlearn: 0.4721746\ttest: 0.4910913\tbest: 0.4910913 (35)\ttotal: 1m 18s\tremaining: 16m 53s\n",
      "36:\tlearn: 0.4712014\ttest: 0.4904175\tbest: 0.4904175 (36)\ttotal: 1m 20s\tremaining: 16m 51s\n",
      "37:\tlearn: 0.4682702\ttest: 0.4881717\tbest: 0.4881717 (37)\ttotal: 1m 23s\tremaining: 16m 56s\n",
      "38:\tlearn: 0.4672649\ttest: 0.4875849\tbest: 0.4875849 (38)\ttotal: 1m 25s\tremaining: 16m 53s\n",
      "39:\tlearn: 0.4665659\ttest: 0.4869057\tbest: 0.4869057 (39)\ttotal: 1m 28s\tremaining: 16m 52s\n",
      "40:\tlearn: 0.4653489\ttest: 0.4855787\tbest: 0.4855787 (40)\ttotal: 1m 30s\tremaining: 16m 58s\n",
      "41:\tlearn: 0.4646626\ttest: 0.4848817\tbest: 0.4848817 (41)\ttotal: 1m 32s\tremaining: 16m 53s\n",
      "42:\tlearn: 0.4638415\ttest: 0.4839440\tbest: 0.4839440 (42)\ttotal: 1m 35s\tremaining: 16m 55s\n",
      "43:\tlearn: 0.4630503\ttest: 0.4837210\tbest: 0.4837210 (43)\ttotal: 1m 38s\tremaining: 17m 2s\n",
      "44:\tlearn: 0.4613519\ttest: 0.4822843\tbest: 0.4822843 (44)\ttotal: 1m 41s\tremaining: 17m 4s\n",
      "45:\tlearn: 0.4606778\ttest: 0.4819839\tbest: 0.4819839 (45)\ttotal: 1m 43s\tremaining: 16m 59s\n",
      "46:\tlearn: 0.4601511\ttest: 0.4816270\tbest: 0.4816270 (46)\ttotal: 1m 45s\tremaining: 16m 56s\n",
      "47:\tlearn: 0.4594837\ttest: 0.4813633\tbest: 0.4813633 (47)\ttotal: 1m 47s\tremaining: 16m 50s\n",
      "48:\tlearn: 0.4589435\ttest: 0.4808626\tbest: 0.4808626 (48)\ttotal: 1m 49s\tremaining: 16m 50s\n",
      "49:\tlearn: 0.4581325\ttest: 0.4801625\tbest: 0.4801625 (49)\ttotal: 1m 53s\tremaining: 16m 57s\n",
      "50:\tlearn: 0.4576890\ttest: 0.4797754\tbest: 0.4797754 (50)\ttotal: 1m 55s\tremaining: 16m 55s\n",
      "51:\tlearn: 0.4567467\ttest: 0.4791255\tbest: 0.4791255 (51)\ttotal: 1m 58s\tremaining: 16m 59s\n",
      "52:\tlearn: 0.4558132\ttest: 0.4781854\tbest: 0.4781854 (52)\ttotal: 2m\tremaining: 16m 52s\n",
      "53:\tlearn: 0.4552795\ttest: 0.4778924\tbest: 0.4778924 (53)\ttotal: 2m 2s\tremaining: 16m 49s\n",
      "54:\tlearn: 0.4546914\ttest: 0.4778561\tbest: 0.4778561 (54)\ttotal: 2m 4s\tremaining: 16m 50s\n",
      "55:\tlearn: 0.4539863\ttest: 0.4768181\tbest: 0.4768181 (55)\ttotal: 2m 7s\tremaining: 16m 54s\n",
      "56:\tlearn: 0.4534587\ttest: 0.4765040\tbest: 0.4765040 (56)\ttotal: 2m 10s\tremaining: 16m 55s\n",
      "57:\tlearn: 0.4530354\ttest: 0.4762822\tbest: 0.4762822 (57)\ttotal: 2m 13s\tremaining: 16m 54s\n",
      "58:\tlearn: 0.4522497\ttest: 0.4748197\tbest: 0.4748197 (58)\ttotal: 2m 15s\tremaining: 16m 55s\n",
      "59:\tlearn: 0.4515086\ttest: 0.4741250\tbest: 0.4741250 (59)\ttotal: 2m 18s\tremaining: 16m 53s\n",
      "60:\tlearn: 0.4511823\ttest: 0.4740842\tbest: 0.4740842 (60)\ttotal: 2m 20s\tremaining: 16m 51s\n",
      "61:\tlearn: 0.4506660\ttest: 0.4740386\tbest: 0.4740386 (61)\ttotal: 2m 22s\tremaining: 16m 49s\n",
      "62:\tlearn: 0.4499524\ttest: 0.4734937\tbest: 0.4734937 (62)\ttotal: 2m 26s\tremaining: 16m 54s\n",
      "63:\tlearn: 0.4494259\ttest: 0.4729725\tbest: 0.4729725 (63)\ttotal: 2m 29s\tremaining: 16m 56s\n",
      "64:\tlearn: 0.4490558\ttest: 0.4726971\tbest: 0.4726971 (64)\ttotal: 2m 31s\tremaining: 16m 56s\n",
      "65:\tlearn: 0.4486630\ttest: 0.4724265\tbest: 0.4724265 (65)\ttotal: 2m 34s\tremaining: 16m 52s\n",
      "66:\tlearn: 0.4483120\ttest: 0.4721665\tbest: 0.4721665 (66)\ttotal: 2m 36s\tremaining: 16m 48s\n",
      "67:\tlearn: 0.4479929\ttest: 0.4723893\tbest: 0.4721665 (66)\ttotal: 2m 38s\tremaining: 16m 49s\n",
      "68:\tlearn: 0.4474432\ttest: 0.4720004\tbest: 0.4720004 (68)\ttotal: 2m 41s\tremaining: 16m 47s\n",
      "69:\tlearn: 0.4470756\ttest: 0.4715809\tbest: 0.4715809 (69)\ttotal: 2m 43s\tremaining: 16m 47s\n",
      "70:\tlearn: 0.4464401\ttest: 0.4712460\tbest: 0.4712460 (70)\ttotal: 2m 46s\tremaining: 16m 48s\n",
      "71:\tlearn: 0.4459697\ttest: 0.4707687\tbest: 0.4707687 (71)\ttotal: 2m 50s\tremaining: 16m 52s\n",
      "72:\tlearn: 0.4454876\ttest: 0.4703104\tbest: 0.4703104 (72)\ttotal: 2m 52s\tremaining: 16m 49s\n",
      "73:\tlearn: 0.4450726\ttest: 0.4696500\tbest: 0.4696500 (73)\ttotal: 2m 54s\tremaining: 16m 45s\n",
      "74:\tlearn: 0.4448571\ttest: 0.4695037\tbest: 0.4695037 (74)\ttotal: 2m 57s\tremaining: 16m 45s\n",
      "75:\tlearn: 0.4444530\ttest: 0.4690525\tbest: 0.4690525 (75)\ttotal: 3m\tremaining: 16m 47s\n",
      "76:\tlearn: 0.4442202\ttest: 0.4689843\tbest: 0.4689843 (76)\ttotal: 3m 3s\tremaining: 16m 46s\n",
      "77:\tlearn: 0.4436561\ttest: 0.4682942\tbest: 0.4682942 (77)\ttotal: 3m 5s\tremaining: 16m 42s\n",
      "78:\tlearn: 0.4434155\ttest: 0.4680745\tbest: 0.4680745 (78)\ttotal: 3m 7s\tremaining: 16m 38s\n",
      "79:\tlearn: 0.4430490\ttest: 0.4677179\tbest: 0.4677179 (79)\ttotal: 3m 9s\tremaining: 16m 34s\n",
      "80:\tlearn: 0.4426686\ttest: 0.4674224\tbest: 0.4674224 (80)\ttotal: 3m 12s\tremaining: 16m 33s\n",
      "81:\tlearn: 0.4420536\ttest: 0.4667605\tbest: 0.4667605 (81)\ttotal: 3m 14s\tremaining: 16m 33s\n",
      "82:\tlearn: 0.4415735\ttest: 0.4666987\tbest: 0.4666987 (82)\ttotal: 3m 16s\tremaining: 16m 29s\n",
      "83:\tlearn: 0.4412881\ttest: 0.4663976\tbest: 0.4663976 (83)\ttotal: 3m 19s\tremaining: 16m 27s\n",
      "84:\tlearn: 0.4402848\ttest: 0.4654934\tbest: 0.4654934 (84)\ttotal: 3m 21s\tremaining: 16m 22s\n",
      "85:\tlearn: 0.4399390\ttest: 0.4655286\tbest: 0.4654934 (84)\ttotal: 3m 23s\tremaining: 16m 18s\n",
      "86:\tlearn: 0.4397270\ttest: 0.4653935\tbest: 0.4653935 (86)\ttotal: 3m 25s\tremaining: 16m 14s\n",
      "87:\tlearn: 0.4391554\ttest: 0.4649944\tbest: 0.4649944 (87)\ttotal: 3m 28s\tremaining: 16m 16s\n",
      "88:\tlearn: 0.4384917\ttest: 0.4642775\tbest: 0.4642775 (88)\ttotal: 3m 31s\tremaining: 16m 18s\n",
      "89:\tlearn: 0.4378312\ttest: 0.4634992\tbest: 0.4634992 (89)\ttotal: 3m 34s\tremaining: 16m 17s\n",
      "90:\tlearn: 0.4376879\ttest: 0.4633213\tbest: 0.4633213 (90)\ttotal: 3m 36s\tremaining: 16m 15s\n",
      "91:\tlearn: 0.4374899\ttest: 0.4633899\tbest: 0.4633213 (90)\ttotal: 3m 39s\tremaining: 16m 14s\n",
      "92:\tlearn: 0.4370340\ttest: 0.4630350\tbest: 0.4630350 (92)\ttotal: 3m 42s\tremaining: 16m 12s\n",
      "93:\tlearn: 0.4368194\ttest: 0.4628493\tbest: 0.4628493 (93)\ttotal: 3m 44s\tremaining: 16m 9s\n",
      "94:\tlearn: 0.4366017\ttest: 0.4627301\tbest: 0.4627301 (94)\ttotal: 3m 46s\tremaining: 16m 6s\n",
      "95:\tlearn: 0.4361177\ttest: 0.4624624\tbest: 0.4624624 (95)\ttotal: 3m 48s\tremaining: 16m 2s\n",
      "96:\tlearn: 0.4351084\ttest: 0.4616026\tbest: 0.4616026 (96)\ttotal: 3m 50s\tremaining: 15m 58s\n",
      "97:\tlearn: 0.4348010\ttest: 0.4612649\tbest: 0.4612649 (97)\ttotal: 3m 53s\tremaining: 15m 56s\n",
      "98:\tlearn: 0.4346301\ttest: 0.4612329\tbest: 0.4612329 (98)\ttotal: 3m 56s\tremaining: 15m 55s\n",
      "99:\tlearn: 0.4343605\ttest: 0.4608569\tbest: 0.4608569 (99)\ttotal: 3m 58s\tremaining: 15m 54s\n",
      "100:\tlearn: 0.4340732\ttest: 0.4606593\tbest: 0.4606593 (100)\ttotal: 4m\tremaining: 15m 50s\n",
      "101:\tlearn: 0.4336772\ttest: 0.4603992\tbest: 0.4603992 (101)\ttotal: 4m 3s\tremaining: 15m 51s\n",
      "102:\tlearn: 0.4333920\ttest: 0.4601512\tbest: 0.4601512 (102)\ttotal: 4m 6s\tremaining: 15m 51s\n",
      "103:\tlearn: 0.4331485\ttest: 0.4599463\tbest: 0.4599463 (103)\ttotal: 4m 9s\tremaining: 15m 49s\n",
      "104:\tlearn: 0.4325959\ttest: 0.4596618\tbest: 0.4596618 (104)\ttotal: 4m 11s\tremaining: 15m 46s\n",
      "105:\tlearn: 0.4319329\ttest: 0.4591009\tbest: 0.4591009 (105)\ttotal: 4m 13s\tremaining: 15m 43s\n",
      "106:\tlearn: 0.4313984\ttest: 0.4586765\tbest: 0.4586765 (106)\ttotal: 4m 15s\tremaining: 15m 39s\n",
      "107:\tlearn: 0.4310212\ttest: 0.4583752\tbest: 0.4583752 (107)\ttotal: 4m 17s\tremaining: 15m 35s\n",
      "108:\tlearn: 0.4308441\ttest: 0.4582548\tbest: 0.4582548 (108)\ttotal: 4m 19s\tremaining: 15m 32s\n",
      "109:\tlearn: 0.4303250\ttest: 0.4576820\tbest: 0.4576820 (109)\ttotal: 4m 22s\tremaining: 15m 31s\n",
      "110:\tlearn: 0.4301370\ttest: 0.4575593\tbest: 0.4575593 (110)\ttotal: 4m 25s\tremaining: 15m 31s\n",
      "111:\tlearn: 0.4299759\ttest: 0.4575089\tbest: 0.4575089 (111)\ttotal: 4m 28s\tremaining: 15m 30s\n",
      "112:\tlearn: 0.4298566\ttest: 0.4572131\tbest: 0.4572131 (112)\ttotal: 4m 31s\tremaining: 15m 28s\n",
      "113:\tlearn: 0.4296457\ttest: 0.4570339\tbest: 0.4570339 (113)\ttotal: 4m 34s\tremaining: 15m 28s\n",
      "114:\tlearn: 0.4294702\ttest: 0.4571956\tbest: 0.4570339 (113)\ttotal: 4m 36s\tremaining: 15m 26s\n",
      "115:\tlearn: 0.4292515\ttest: 0.4571727\tbest: 0.4570339 (113)\ttotal: 4m 39s\tremaining: 15m 23s\n",
      "116:\tlearn: 0.4288763\ttest: 0.4570750\tbest: 0.4570339 (113)\ttotal: 4m 41s\tremaining: 15m 21s\n",
      "117:\tlearn: 0.4286858\ttest: 0.4569057\tbest: 0.4569057 (117)\ttotal: 4m 43s\tremaining: 15m 17s\n",
      "118:\tlearn: 0.4283560\ttest: 0.4566543\tbest: 0.4566543 (118)\ttotal: 4m 46s\tremaining: 15m 16s\n",
      "119:\tlearn: 0.4281353\ttest: 0.4564182\tbest: 0.4564182 (119)\ttotal: 4m 48s\tremaining: 15m 14s\n",
      "120:\tlearn: 0.4279976\ttest: 0.4564353\tbest: 0.4564182 (119)\ttotal: 4m 51s\tremaining: 15m 13s\n",
      "121:\tlearn: 0.4276452\ttest: 0.4561800\tbest: 0.4561800 (121)\ttotal: 4m 54s\tremaining: 15m 13s\n",
      "122:\tlearn: 0.4274324\ttest: 0.4559925\tbest: 0.4559925 (122)\ttotal: 4m 57s\tremaining: 15m 10s\n",
      "123:\tlearn: 0.4271722\ttest: 0.4558042\tbest: 0.4558042 (123)\ttotal: 5m\tremaining: 15m 11s\n",
      "124:\tlearn: 0.4263243\ttest: 0.4550748\tbest: 0.4550748 (124)\ttotal: 5m 2s\tremaining: 15m 7s\n",
      "125:\tlearn: 0.4260586\ttest: 0.4547717\tbest: 0.4547717 (125)\ttotal: 5m 4s\tremaining: 15m 3s\n",
      "126:\tlearn: 0.4256599\ttest: 0.4543005\tbest: 0.4543005 (126)\ttotal: 5m 6s\tremaining: 15m\n",
      "127:\tlearn: 0.4254864\ttest: 0.4540654\tbest: 0.4540654 (127)\ttotal: 5m 9s\tremaining: 14m 58s\n",
      "128:\tlearn: 0.4253486\ttest: 0.4536534\tbest: 0.4536534 (128)\ttotal: 5m 11s\tremaining: 14m 54s\n",
      "129:\tlearn: 0.4251970\ttest: 0.4536083\tbest: 0.4536083 (129)\ttotal: 5m 13s\tremaining: 14m 52s\n",
      "130:\tlearn: 0.4248695\ttest: 0.4531884\tbest: 0.4531884 (130)\ttotal: 5m 15s\tremaining: 14m 49s\n",
      "131:\tlearn: 0.4246558\ttest: 0.4529758\tbest: 0.4529758 (131)\ttotal: 5m 17s\tremaining: 14m 45s\n",
      "132:\tlearn: 0.4241751\ttest: 0.4525993\tbest: 0.4525993 (132)\ttotal: 5m 19s\tremaining: 14m 42s\n",
      "133:\tlearn: 0.4239991\ttest: 0.4524909\tbest: 0.4524909 (133)\ttotal: 5m 22s\tremaining: 14m 41s\n",
      "134:\tlearn: 0.4235932\ttest: 0.4520917\tbest: 0.4520917 (134)\ttotal: 5m 25s\tremaining: 14m 38s\n",
      "135:\tlearn: 0.4234789\ttest: 0.4519628\tbest: 0.4519628 (135)\ttotal: 5m 27s\tremaining: 14m 35s\n",
      "136:\tlearn: 0.4232051\ttest: 0.4514744\tbest: 0.4514744 (136)\ttotal: 5m 29s\tremaining: 14m 32s\n",
      "137:\tlearn: 0.4228467\ttest: 0.4512839\tbest: 0.4512839 (137)\ttotal: 5m 31s\tremaining: 14m 29s\n",
      "138:\tlearn: 0.4226027\ttest: 0.4510668\tbest: 0.4510668 (138)\ttotal: 5m 33s\tremaining: 14m 27s\n",
      "139:\tlearn: 0.4224043\ttest: 0.4507891\tbest: 0.4507891 (139)\ttotal: 5m 36s\tremaining: 14m 25s\n",
      "140:\tlearn: 0.4222541\ttest: 0.4506606\tbest: 0.4506606 (140)\ttotal: 5m 38s\tremaining: 14m 21s\n",
      "141:\tlearn: 0.4220413\ttest: 0.4504046\tbest: 0.4504046 (141)\ttotal: 5m 40s\tremaining: 14m 19s\n",
      "142:\tlearn: 0.4218811\ttest: 0.4502056\tbest: 0.4502056 (142)\ttotal: 5m 43s\tremaining: 14m 16s\n",
      "143:\tlearn: 0.4217970\ttest: 0.4501437\tbest: 0.4501437 (143)\ttotal: 5m 45s\tremaining: 14m 13s\n",
      "144:\tlearn: 0.4216989\ttest: 0.4501319\tbest: 0.4501319 (144)\ttotal: 5m 47s\tremaining: 14m 10s\n",
      "145:\tlearn: 0.4214155\ttest: 0.4495912\tbest: 0.4495912 (145)\ttotal: 5m 51s\tremaining: 14m 11s\n",
      "146:\tlearn: 0.4212484\ttest: 0.4495323\tbest: 0.4495323 (146)\ttotal: 5m 53s\tremaining: 14m 8s\n",
      "147:\tlearn: 0.4210557\ttest: 0.4491184\tbest: 0.4491184 (147)\ttotal: 5m 55s\tremaining: 14m 6s\n",
      "148:\tlearn: 0.4206997\ttest: 0.4486301\tbest: 0.4486301 (148)\ttotal: 5m 57s\tremaining: 14m 2s\n",
      "149:\tlearn: 0.4205751\ttest: 0.4484188\tbest: 0.4484188 (149)\ttotal: 5m 59s\tremaining: 13m 59s\n",
      "150:\tlearn: 0.4204334\ttest: 0.4484345\tbest: 0.4484188 (149)\ttotal: 6m 1s\tremaining: 13m 55s\n",
      "151:\tlearn: 0.4203747\ttest: 0.4484176\tbest: 0.4484176 (151)\ttotal: 6m 3s\tremaining: 13m 53s\n",
      "152:\tlearn: 0.4201280\ttest: 0.4482579\tbest: 0.4482579 (152)\ttotal: 6m 6s\tremaining: 13m 50s\n",
      "153:\tlearn: 0.4200067\ttest: 0.4479482\tbest: 0.4479482 (153)\ttotal: 6m 8s\tremaining: 13m 47s\n",
      "154:\tlearn: 0.4198553\ttest: 0.4478783\tbest: 0.4478783 (154)\ttotal: 6m 12s\tremaining: 13m 48s\n",
      "155:\tlearn: 0.4197982\ttest: 0.4477771\tbest: 0.4477771 (155)\ttotal: 6m 13s\tremaining: 13m 44s\n",
      "156:\tlearn: 0.4196958\ttest: 0.4478155\tbest: 0.4477771 (155)\ttotal: 6m 16s\tremaining: 13m 42s\n",
      "157:\tlearn: 0.4194479\ttest: 0.4477040\tbest: 0.4477040 (157)\ttotal: 6m 18s\tremaining: 13m 39s\n",
      "158:\tlearn: 0.4193012\ttest: 0.4474680\tbest: 0.4474680 (158)\ttotal: 6m 20s\tremaining: 13m 36s\n",
      "159:\tlearn: 0.4192217\ttest: 0.4474171\tbest: 0.4474171 (159)\ttotal: 6m 23s\tremaining: 13m 34s\n",
      "160:\tlearn: 0.4191606\ttest: 0.4474561\tbest: 0.4474171 (159)\ttotal: 6m 25s\tremaining: 13m 31s\n",
      "161:\tlearn: 0.4189860\ttest: 0.4472572\tbest: 0.4472572 (161)\ttotal: 6m 27s\tremaining: 13m 28s\n",
      "162:\tlearn: 0.4188877\ttest: 0.4472498\tbest: 0.4472498 (162)\ttotal: 6m 30s\tremaining: 13m 27s\n",
      "163:\tlearn: 0.4187841\ttest: 0.4472558\tbest: 0.4472498 (162)\ttotal: 6m 33s\tremaining: 13m 25s\n",
      "164:\tlearn: 0.4186867\ttest: 0.4471095\tbest: 0.4471095 (164)\ttotal: 6m 35s\tremaining: 13m 23s\n",
      "165:\tlearn: 0.4186305\ttest: 0.4470393\tbest: 0.4470393 (165)\ttotal: 6m 38s\tremaining: 13m 21s\n",
      "166:\tlearn: 0.4185332\ttest: 0.4471048\tbest: 0.4470393 (165)\ttotal: 6m 41s\tremaining: 13m 19s\n",
      "167:\tlearn: 0.4184684\ttest: 0.4470918\tbest: 0.4470393 (165)\ttotal: 6m 43s\tremaining: 13m 17s\n",
      "168:\tlearn: 0.4184344\ttest: 0.4470801\tbest: 0.4470393 (165)\ttotal: 6m 45s\tremaining: 13m 14s\n",
      "169:\tlearn: 0.4183713\ttest: 0.4469991\tbest: 0.4469991 (169)\ttotal: 6m 48s\tremaining: 13m 13s\n",
      "170:\tlearn: 0.4182540\ttest: 0.4470202\tbest: 0.4469991 (169)\ttotal: 6m 51s\tremaining: 13m 11s\n",
      "171:\tlearn: 0.4181733\ttest: 0.4470267\tbest: 0.4469991 (169)\ttotal: 6m 53s\tremaining: 13m 7s\n",
      "172:\tlearn: 0.4178843\ttest: 0.4467977\tbest: 0.4467977 (172)\ttotal: 6m 55s\tremaining: 13m 6s\n",
      "173:\tlearn: 0.4176156\ttest: 0.4464799\tbest: 0.4464799 (173)\ttotal: 6m 58s\tremaining: 13m 3s\n",
      "174:\tlearn: 0.4173949\ttest: 0.4463309\tbest: 0.4463309 (174)\ttotal: 7m\tremaining: 13m\n",
      "175:\tlearn: 0.4171842\ttest: 0.4458893\tbest: 0.4458893 (175)\ttotal: 7m 3s\tremaining: 12m 59s\n",
      "176:\tlearn: 0.4169319\ttest: 0.4457208\tbest: 0.4457208 (176)\ttotal: 7m 6s\tremaining: 12m 57s\n",
      "177:\tlearn: 0.4167201\ttest: 0.4454909\tbest: 0.4454909 (177)\ttotal: 7m 8s\tremaining: 12m 54s\n",
      "178:\tlearn: 0.4162208\ttest: 0.4451535\tbest: 0.4451535 (178)\ttotal: 7m 11s\tremaining: 12m 53s\n",
      "179:\tlearn: 0.4161603\ttest: 0.4452037\tbest: 0.4451535 (178)\ttotal: 7m 13s\tremaining: 12m 51s\n",
      "180:\tlearn: 0.4158633\ttest: 0.4449961\tbest: 0.4449961 (180)\ttotal: 7m 15s\tremaining: 12m 47s\n",
      "181:\tlearn: 0.4157417\ttest: 0.4446667\tbest: 0.4446667 (181)\ttotal: 7m 17s\tremaining: 12m 44s\n",
      "182:\tlearn: 0.4154996\ttest: 0.4443529\tbest: 0.4443529 (182)\ttotal: 7m 19s\tremaining: 12m 42s\n",
      "183:\tlearn: 0.4153159\ttest: 0.4442310\tbest: 0.4442310 (183)\ttotal: 7m 22s\tremaining: 12m 40s\n",
      "184:\tlearn: 0.4152325\ttest: 0.4440843\tbest: 0.4440843 (184)\ttotal: 7m 25s\tremaining: 12m 38s\n",
      "185:\tlearn: 0.4149592\ttest: 0.4439360\tbest: 0.4439360 (185)\ttotal: 7m 27s\tremaining: 12m 36s\n",
      "186:\tlearn: 0.4147536\ttest: 0.4438009\tbest: 0.4438009 (186)\ttotal: 7m 30s\tremaining: 12m 33s\n",
      "187:\tlearn: 0.4145523\ttest: 0.4435784\tbest: 0.4435784 (187)\ttotal: 7m 32s\tremaining: 12m 31s\n",
      "188:\tlearn: 0.4143126\ttest: 0.4434251\tbest: 0.4434251 (188)\ttotal: 7m 35s\tremaining: 12m 30s\n",
      "189:\tlearn: 0.4142602\ttest: 0.4433493\tbest: 0.4433493 (189)\ttotal: 7m 37s\tremaining: 12m 27s\n",
      "190:\tlearn: 0.4141610\ttest: 0.4432913\tbest: 0.4432913 (190)\ttotal: 7m 39s\tremaining: 12m 23s\n",
      "191:\tlearn: 0.4138872\ttest: 0.4433057\tbest: 0.4432913 (190)\ttotal: 7m 42s\tremaining: 12m 21s\n",
      "192:\tlearn: 0.4138275\ttest: 0.4433927\tbest: 0.4432913 (190)\ttotal: 7m 44s\tremaining: 12m 19s\n",
      "193:\tlearn: 0.4137296\ttest: 0.4432978\tbest: 0.4432913 (190)\ttotal: 7m 47s\tremaining: 12m 17s\n",
      "194:\tlearn: 0.4134101\ttest: 0.4430989\tbest: 0.4430989 (194)\ttotal: 7m 49s\tremaining: 12m 14s\n",
      "195:\tlearn: 0.4133025\ttest: 0.4430439\tbest: 0.4430439 (195)\ttotal: 7m 51s\tremaining: 12m 11s\n",
      "196:\tlearn: 0.4132561\ttest: 0.4430645\tbest: 0.4430439 (195)\ttotal: 7m 54s\tremaining: 12m 9s\n",
      "197:\tlearn: 0.4132099\ttest: 0.4430100\tbest: 0.4430100 (197)\ttotal: 7m 56s\tremaining: 12m 6s\n",
      "198:\tlearn: 0.4130812\ttest: 0.4427543\tbest: 0.4427543 (198)\ttotal: 7m 58s\tremaining: 12m 3s\n",
      "199:\tlearn: 0.4130216\ttest: 0.4425630\tbest: 0.4425630 (199)\ttotal: 8m\tremaining: 12m\n",
      "200:\tlearn: 0.4129362\ttest: 0.4423615\tbest: 0.4423615 (200)\ttotal: 8m 2s\tremaining: 11m 58s\n",
      "201:\tlearn: 0.4125404\ttest: 0.4418914\tbest: 0.4418914 (201)\ttotal: 8m 5s\tremaining: 11m 56s\n",
      "202:\tlearn: 0.4123773\ttest: 0.4417442\tbest: 0.4417442 (202)\ttotal: 8m 7s\tremaining: 11m 53s\n",
      "203:\tlearn: 0.4122557\ttest: 0.4416135\tbest: 0.4416135 (203)\ttotal: 8m 9s\tremaining: 11m 50s\n",
      "204:\tlearn: 0.4120146\ttest: 0.4414129\tbest: 0.4414129 (204)\ttotal: 8m 12s\tremaining: 11m 48s\n",
      "205:\tlearn: 0.4119350\ttest: 0.4414936\tbest: 0.4414129 (204)\ttotal: 8m 14s\tremaining: 11m 45s\n",
      "206:\tlearn: 0.4117592\ttest: 0.4413558\tbest: 0.4413558 (206)\ttotal: 8m 16s\tremaining: 11m 42s\n",
      "207:\tlearn: 0.4116913\ttest: 0.4413506\tbest: 0.4413506 (207)\ttotal: 8m 18s\tremaining: 11m 39s\n",
      "208:\tlearn: 0.4116501\ttest: 0.4414060\tbest: 0.4413506 (207)\ttotal: 8m 20s\tremaining: 11m 36s\n",
      "209:\tlearn: 0.4115680\ttest: 0.4415073\tbest: 0.4413506 (207)\ttotal: 8m 22s\tremaining: 11m 33s\n",
      "210:\tlearn: 0.4114919\ttest: 0.4414166\tbest: 0.4413506 (207)\ttotal: 8m 24s\tremaining: 11m 31s\n",
      "211:\tlearn: 0.4112176\ttest: 0.4413352\tbest: 0.4413352 (211)\ttotal: 8m 27s\tremaining: 11m 29s\n",
      "212:\tlearn: 0.4107990\ttest: 0.4410327\tbest: 0.4410327 (212)\ttotal: 8m 31s\tremaining: 11m 28s\n",
      "213:\tlearn: 0.4107375\ttest: 0.4410508\tbest: 0.4410327 (212)\ttotal: 8m 33s\tremaining: 11m 25s\n",
      "214:\tlearn: 0.4106140\ttest: 0.4411320\tbest: 0.4410327 (212)\ttotal: 8m 35s\tremaining: 11m 23s\n",
      "215:\tlearn: 0.4105151\ttest: 0.4411833\tbest: 0.4410327 (212)\ttotal: 8m 38s\tremaining: 11m 21s\n",
      "216:\tlearn: 0.4104578\ttest: 0.4411575\tbest: 0.4410327 (212)\ttotal: 8m 40s\tremaining: 11m 19s\n",
      "217:\tlearn: 0.4102457\ttest: 0.4410712\tbest: 0.4410327 (212)\ttotal: 8m 43s\tremaining: 11m 17s\n",
      "218:\tlearn: 0.4101081\ttest: 0.4411589\tbest: 0.4410327 (212)\ttotal: 8m 45s\tremaining: 11m 14s\n",
      "219:\tlearn: 0.4100520\ttest: 0.4411619\tbest: 0.4410327 (212)\ttotal: 8m 47s\tremaining: 11m 11s\n",
      "220:\tlearn: 0.4100007\ttest: 0.4411789\tbest: 0.4410327 (212)\ttotal: 8m 49s\tremaining: 11m 8s\n",
      "221:\tlearn: 0.4098631\ttest: 0.4412438\tbest: 0.4410327 (212)\ttotal: 8m 52s\tremaining: 11m 6s\n",
      "222:\tlearn: 0.4097596\ttest: 0.4412813\tbest: 0.4410327 (212)\ttotal: 8m 54s\tremaining: 11m 4s\n",
      "223:\tlearn: 0.4096778\ttest: 0.4412256\tbest: 0.4410327 (212)\ttotal: 8m 57s\tremaining: 11m 1s\n",
      "224:\tlearn: 0.4094481\ttest: 0.4407039\tbest: 0.4407039 (224)\ttotal: 8m 59s\tremaining: 10m 59s\n",
      "225:\tlearn: 0.4091868\ttest: 0.4402021\tbest: 0.4402021 (225)\ttotal: 9m 1s\tremaining: 10m 56s\n",
      "226:\tlearn: 0.4088722\ttest: 0.4399466\tbest: 0.4399466 (226)\ttotal: 9m 4s\tremaining: 10m 54s\n",
      "227:\tlearn: 0.4088097\ttest: 0.4398099\tbest: 0.4398099 (227)\ttotal: 9m 6s\tremaining: 10m 51s\n",
      "228:\tlearn: 0.4086292\ttest: 0.4394920\tbest: 0.4394920 (228)\ttotal: 9m 9s\tremaining: 10m 49s\n",
      "229:\tlearn: 0.4084762\ttest: 0.4392185\tbest: 0.4392185 (229)\ttotal: 9m 11s\tremaining: 10m 47s\n",
      "230:\tlearn: 0.4083129\ttest: 0.4390845\tbest: 0.4390845 (230)\ttotal: 9m 14s\tremaining: 10m 45s\n",
      "231:\tlearn: 0.4082312\ttest: 0.4390023\tbest: 0.4390023 (231)\ttotal: 9m 16s\tremaining: 10m 43s\n",
      "232:\tlearn: 0.4082052\ttest: 0.4390948\tbest: 0.4390023 (231)\ttotal: 9m 18s\tremaining: 10m 40s\n",
      "233:\tlearn: 0.4081716\ttest: 0.4391163\tbest: 0.4390023 (231)\ttotal: 9m 21s\tremaining: 10m 38s\n",
      "234:\tlearn: 0.4081250\ttest: 0.4390179\tbest: 0.4390023 (231)\ttotal: 9m 23s\tremaining: 10m 35s\n",
      "235:\tlearn: 0.4079778\ttest: 0.4388442\tbest: 0.4388442 (235)\ttotal: 9m 26s\tremaining: 10m 33s\n",
      "236:\tlearn: 0.4079115\ttest: 0.4387391\tbest: 0.4387391 (236)\ttotal: 9m 28s\tremaining: 10m 30s\n",
      "237:\tlearn: 0.4077921\ttest: 0.4385399\tbest: 0.4385399 (237)\ttotal: 9m 30s\tremaining: 10m 27s\n",
      "238:\tlearn: 0.4077509\ttest: 0.4385318\tbest: 0.4385318 (238)\ttotal: 9m 32s\tremaining: 10m 25s\n",
      "239:\tlearn: 0.4076404\ttest: 0.4384490\tbest: 0.4384490 (239)\ttotal: 9m 35s\tremaining: 10m 23s\n",
      "240:\tlearn: 0.4075608\ttest: 0.4384040\tbest: 0.4384040 (240)\ttotal: 9m 37s\tremaining: 10m 20s\n",
      "241:\tlearn: 0.4075316\ttest: 0.4383975\tbest: 0.4383975 (241)\ttotal: 9m 39s\tremaining: 10m 18s\n",
      "242:\tlearn: 0.4073999\ttest: 0.4384984\tbest: 0.4383975 (241)\ttotal: 9m 41s\tremaining: 10m 15s\n",
      "243:\tlearn: 0.4071424\ttest: 0.4381524\tbest: 0.4381524 (243)\ttotal: 9m 44s\tremaining: 10m 13s\n",
      "244:\tlearn: 0.4068526\ttest: 0.4378185\tbest: 0.4378185 (244)\ttotal: 9m 47s\tremaining: 10m 11s\n",
      "245:\tlearn: 0.4065541\ttest: 0.4375760\tbest: 0.4375760 (245)\ttotal: 9m 49s\tremaining: 10m 8s\n",
      "246:\tlearn: 0.4064947\ttest: 0.4373602\tbest: 0.4373602 (246)\ttotal: 9m 51s\tremaining: 10m 6s\n",
      "247:\tlearn: 0.4063203\ttest: 0.4372560\tbest: 0.4372560 (247)\ttotal: 9m 54s\tremaining: 10m 3s\n",
      "248:\tlearn: 0.4062843\ttest: 0.4371305\tbest: 0.4371305 (248)\ttotal: 9m 56s\tremaining: 10m 1s\n",
      "249:\tlearn: 0.4062008\ttest: 0.4369007\tbest: 0.4369007 (249)\ttotal: 9m 58s\tremaining: 9m 58s\n",
      "250:\tlearn: 0.4059793\ttest: 0.4368645\tbest: 0.4368645 (250)\ttotal: 10m 1s\tremaining: 9m 56s\n",
      "251:\tlearn: 0.4057835\ttest: 0.4366571\tbest: 0.4366571 (251)\ttotal: 10m 3s\tremaining: 9m 54s\n",
      "252:\tlearn: 0.4056176\ttest: 0.4365639\tbest: 0.4365639 (252)\ttotal: 10m 5s\tremaining: 9m 51s\n",
      "253:\tlearn: 0.4054689\ttest: 0.4364351\tbest: 0.4364351 (253)\ttotal: 10m 8s\tremaining: 9m 49s\n",
      "254:\tlearn: 0.4053645\ttest: 0.4364252\tbest: 0.4364252 (254)\ttotal: 10m 10s\tremaining: 9m 46s\n",
      "255:\tlearn: 0.4053023\ttest: 0.4364280\tbest: 0.4364252 (254)\ttotal: 10m 12s\tremaining: 9m 43s\n",
      "256:\tlearn: 0.4052563\ttest: 0.4364007\tbest: 0.4364007 (256)\ttotal: 10m 15s\tremaining: 9m 41s\n",
      "257:\tlearn: 0.4051227\ttest: 0.4361971\tbest: 0.4361971 (257)\ttotal: 10m 16s\tremaining: 9m 38s\n",
      "258:\tlearn: 0.4049990\ttest: 0.4361929\tbest: 0.4361929 (258)\ttotal: 10m 19s\tremaining: 9m 36s\n",
      "259:\tlearn: 0.4048500\ttest: 0.4360962\tbest: 0.4360962 (259)\ttotal: 10m 21s\tremaining: 9m 33s\n",
      "260:\tlearn: 0.4047330\ttest: 0.4360259\tbest: 0.4360259 (260)\ttotal: 10m 24s\tremaining: 9m 31s\n",
      "261:\tlearn: 0.4046682\ttest: 0.4359863\tbest: 0.4359863 (261)\ttotal: 10m 27s\tremaining: 9m 29s\n",
      "262:\tlearn: 0.4045970\ttest: 0.4359424\tbest: 0.4359424 (262)\ttotal: 10m 29s\tremaining: 9m 27s\n",
      "263:\tlearn: 0.4045018\ttest: 0.4358476\tbest: 0.4358476 (263)\ttotal: 10m 31s\tremaining: 9m 24s\n",
      "264:\tlearn: 0.4043725\ttest: 0.4358010\tbest: 0.4358010 (264)\ttotal: 10m 33s\tremaining: 9m 21s\n",
      "265:\tlearn: 0.4042972\ttest: 0.4358543\tbest: 0.4358010 (264)\ttotal: 10m 35s\tremaining: 9m 19s\n",
      "266:\tlearn: 0.4042406\ttest: 0.4357215\tbest: 0.4357215 (266)\ttotal: 10m 38s\tremaining: 9m 16s\n",
      "267:\tlearn: 0.4041260\ttest: 0.4356897\tbest: 0.4356897 (267)\ttotal: 10m 40s\tremaining: 9m 14s\n",
      "268:\tlearn: 0.4040717\ttest: 0.4356030\tbest: 0.4356030 (268)\ttotal: 10m 43s\tremaining: 9m 12s\n",
      "269:\tlearn: 0.4039774\ttest: 0.4353665\tbest: 0.4353665 (269)\ttotal: 10m 45s\tremaining: 9m 9s\n",
      "270:\tlearn: 0.4038221\ttest: 0.4352461\tbest: 0.4352461 (270)\ttotal: 10m 47s\tremaining: 9m 7s\n",
      "271:\tlearn: 0.4036996\ttest: 0.4350912\tbest: 0.4350912 (271)\ttotal: 10m 49s\tremaining: 9m 4s\n",
      "272:\tlearn: 0.4036205\ttest: 0.4349534\tbest: 0.4349534 (272)\ttotal: 10m 51s\tremaining: 9m 1s\n",
      "273:\tlearn: 0.4035587\ttest: 0.4348313\tbest: 0.4348313 (273)\ttotal: 10m 53s\tremaining: 8m 59s\n",
      "274:\tlearn: 0.4035399\ttest: 0.4348157\tbest: 0.4348157 (274)\ttotal: 10m 56s\tremaining: 8m 56s\n",
      "275:\tlearn: 0.4034664\ttest: 0.4347837\tbest: 0.4347837 (275)\ttotal: 10m 58s\tremaining: 8m 54s\n",
      "276:\tlearn: 0.4033746\ttest: 0.4347965\tbest: 0.4347837 (275)\ttotal: 11m\tremaining: 8m 51s\n",
      "277:\tlearn: 0.4030770\ttest: 0.4346016\tbest: 0.4346016 (277)\ttotal: 11m 3s\tremaining: 8m 49s\n",
      "278:\tlearn: 0.4030225\ttest: 0.4345323\tbest: 0.4345323 (278)\ttotal: 11m 5s\tremaining: 8m 47s\n",
      "279:\tlearn: 0.4028806\ttest: 0.4341710\tbest: 0.4341710 (279)\ttotal: 11m 8s\tremaining: 8m 44s\n",
      "280:\tlearn: 0.4027040\ttest: 0.4339450\tbest: 0.4339450 (280)\ttotal: 11m 10s\tremaining: 8m 42s\n",
      "281:\tlearn: 0.4024432\ttest: 0.4337031\tbest: 0.4337031 (281)\ttotal: 11m 13s\tremaining: 8m 40s\n",
      "282:\tlearn: 0.4023485\ttest: 0.4336657\tbest: 0.4336657 (282)\ttotal: 11m 15s\tremaining: 8m 38s\n",
      "283:\tlearn: 0.4023075\ttest: 0.4335721\tbest: 0.4335721 (283)\ttotal: 11m 18s\tremaining: 8m 35s\n",
      "284:\tlearn: 0.4022493\ttest: 0.4334583\tbest: 0.4334583 (284)\ttotal: 11m 20s\tremaining: 8m 33s\n",
      "285:\tlearn: 0.4021677\ttest: 0.4333523\tbest: 0.4333523 (285)\ttotal: 11m 22s\tremaining: 8m 30s\n",
      "286:\tlearn: 0.4019647\ttest: 0.4332164\tbest: 0.4332164 (286)\ttotal: 11m 25s\tremaining: 8m 28s\n",
      "287:\tlearn: 0.4018884\ttest: 0.4331681\tbest: 0.4331681 (287)\ttotal: 11m 27s\tremaining: 8m 26s\n",
      "288:\tlearn: 0.4018621\ttest: 0.4331638\tbest: 0.4331638 (288)\ttotal: 11m 29s\tremaining: 8m 23s\n",
      "289:\tlearn: 0.4017727\ttest: 0.4330747\tbest: 0.4330747 (289)\ttotal: 11m 32s\tremaining: 8m 21s\n",
      "290:\tlearn: 0.4015551\ttest: 0.4327955\tbest: 0.4327955 (290)\ttotal: 11m 34s\tremaining: 8m 18s\n",
      "291:\tlearn: 0.4015166\ttest: 0.4328623\tbest: 0.4327955 (290)\ttotal: 11m 36s\tremaining: 8m 15s\n",
      "292:\tlearn: 0.4012931\ttest: 0.4325818\tbest: 0.4325818 (292)\ttotal: 11m 38s\tremaining: 8m 13s\n",
      "293:\tlearn: 0.4012515\ttest: 0.4326122\tbest: 0.4325818 (292)\ttotal: 11m 41s\tremaining: 8m 11s\n",
      "294:\tlearn: 0.4012102\ttest: 0.4326070\tbest: 0.4325818 (292)\ttotal: 11m 43s\tremaining: 8m 8s\n",
      "295:\tlearn: 0.4011842\ttest: 0.4325873\tbest: 0.4325818 (292)\ttotal: 11m 45s\tremaining: 8m 6s\n",
      "296:\tlearn: 0.4011289\ttest: 0.4325455\tbest: 0.4325455 (296)\ttotal: 11m 47s\tremaining: 8m 3s\n",
      "297:\tlearn: 0.4008786\ttest: 0.4323112\tbest: 0.4323112 (297)\ttotal: 11m 50s\tremaining: 8m 1s\n",
      "298:\tlearn: 0.4008020\ttest: 0.4322702\tbest: 0.4322702 (298)\ttotal: 11m 52s\tremaining: 7m 58s\n",
      "299:\tlearn: 0.4006490\ttest: 0.4322464\tbest: 0.4322464 (299)\ttotal: 11m 54s\tremaining: 7m 56s\n",
      "300:\tlearn: 0.4004964\ttest: 0.4320534\tbest: 0.4320534 (300)\ttotal: 11m 57s\tremaining: 7m 54s\n",
      "301:\tlearn: 0.4004021\ttest: 0.4320797\tbest: 0.4320534 (300)\ttotal: 11m 59s\tremaining: 7m 51s\n",
      "302:\tlearn: 0.4003556\ttest: 0.4320437\tbest: 0.4320437 (302)\ttotal: 12m 1s\tremaining: 7m 49s\n",
      "303:\tlearn: 0.4002964\ttest: 0.4320169\tbest: 0.4320169 (303)\ttotal: 12m 4s\tremaining: 7m 46s\n",
      "304:\tlearn: 0.4002297\ttest: 0.4318307\tbest: 0.4318307 (304)\ttotal: 12m 6s\tremaining: 7m 44s\n",
      "305:\tlearn: 0.4001328\ttest: 0.4318914\tbest: 0.4318307 (304)\ttotal: 12m 8s\tremaining: 7m 41s\n",
      "306:\tlearn: 0.4000145\ttest: 0.4316805\tbest: 0.4316805 (306)\ttotal: 12m 10s\tremaining: 7m 39s\n",
      "307:\tlearn: 0.3998965\ttest: 0.4317277\tbest: 0.4316805 (306)\ttotal: 12m 12s\tremaining: 7m 36s\n",
      "308:\tlearn: 0.3998187\ttest: 0.4314124\tbest: 0.4314124 (308)\ttotal: 12m 15s\tremaining: 7m 34s\n",
      "309:\tlearn: 0.3997407\ttest: 0.4313167\tbest: 0.4313167 (309)\ttotal: 12m 17s\tremaining: 7m 31s\n",
      "310:\tlearn: 0.3996999\ttest: 0.4312446\tbest: 0.4312446 (310)\ttotal: 12m 19s\tremaining: 7m 29s\n",
      "311:\tlearn: 0.3996165\ttest: 0.4311785\tbest: 0.4311785 (311)\ttotal: 12m 22s\tremaining: 7m 27s\n",
      "312:\tlearn: 0.3995875\ttest: 0.4310398\tbest: 0.4310398 (312)\ttotal: 12m 23s\tremaining: 7m 24s\n",
      "313:\tlearn: 0.3995655\ttest: 0.4310243\tbest: 0.4310243 (313)\ttotal: 12m 27s\tremaining: 7m 22s\n",
      "314:\tlearn: 0.3993603\ttest: 0.4310673\tbest: 0.4310243 (313)\ttotal: 12m 30s\tremaining: 7m 20s\n",
      "315:\tlearn: 0.3992370\ttest: 0.4309550\tbest: 0.4309550 (315)\ttotal: 12m 32s\tremaining: 7m 17s\n",
      "316:\tlearn: 0.3991517\ttest: 0.4308401\tbest: 0.4308401 (316)\ttotal: 12m 34s\tremaining: 7m 15s\n",
      "317:\tlearn: 0.3990699\ttest: 0.4308108\tbest: 0.4308108 (317)\ttotal: 12m 36s\tremaining: 7m 12s\n",
      "318:\tlearn: 0.3990387\ttest: 0.4307858\tbest: 0.4307858 (318)\ttotal: 12m 38s\tremaining: 7m 10s\n",
      "319:\tlearn: 0.3990108\ttest: 0.4305254\tbest: 0.4305254 (319)\ttotal: 12m 40s\tremaining: 7m 7s\n",
      "320:\tlearn: 0.3989232\ttest: 0.4304309\tbest: 0.4304309 (320)\ttotal: 12m 43s\tremaining: 7m 5s\n",
      "321:\tlearn: 0.3988141\ttest: 0.4304347\tbest: 0.4304309 (320)\ttotal: 12m 45s\tremaining: 7m 3s\n",
      "322:\tlearn: 0.3987100\ttest: 0.4304746\tbest: 0.4304309 (320)\ttotal: 12m 48s\tremaining: 7m 1s\n",
      "323:\tlearn: 0.3985686\ttest: 0.4303639\tbest: 0.4303639 (323)\ttotal: 12m 50s\tremaining: 6m 58s\n",
      "324:\tlearn: 0.3985332\ttest: 0.4304102\tbest: 0.4303639 (323)\ttotal: 12m 52s\tremaining: 6m 56s\n",
      "325:\tlearn: 0.3985022\ttest: 0.4304239\tbest: 0.4303639 (323)\ttotal: 12m 55s\tremaining: 6m 53s\n",
      "326:\tlearn: 0.3984689\ttest: 0.4303485\tbest: 0.4303485 (326)\ttotal: 12m 57s\tremaining: 6m 51s\n",
      "327:\tlearn: 0.3984286\ttest: 0.4303446\tbest: 0.4303446 (327)\ttotal: 13m\tremaining: 6m 49s\n",
      "328:\tlearn: 0.3983284\ttest: 0.4301091\tbest: 0.4301091 (328)\ttotal: 13m 2s\tremaining: 6m 46s\n",
      "329:\tlearn: 0.3982775\ttest: 0.4300712\tbest: 0.4300712 (329)\ttotal: 13m 5s\tremaining: 6m 44s\n",
      "330:\tlearn: 0.3981802\ttest: 0.4299866\tbest: 0.4299866 (330)\ttotal: 13m 7s\tremaining: 6m 41s\n",
      "331:\tlearn: 0.3981105\ttest: 0.4299778\tbest: 0.4299778 (331)\ttotal: 13m 9s\tremaining: 6m 39s\n",
      "332:\tlearn: 0.3975862\ttest: 0.4294685\tbest: 0.4294685 (332)\ttotal: 13m 11s\tremaining: 6m 37s\n",
      "333:\tlearn: 0.3975632\ttest: 0.4294352\tbest: 0.4294352 (333)\ttotal: 13m 13s\tremaining: 6m 34s\n",
      "334:\tlearn: 0.3973876\ttest: 0.4292790\tbest: 0.4292790 (334)\ttotal: 13m 15s\tremaining: 6m 31s\n",
      "335:\tlearn: 0.3973233\ttest: 0.4291474\tbest: 0.4291474 (335)\ttotal: 13m 17s\tremaining: 6m 29s\n",
      "336:\tlearn: 0.3973051\ttest: 0.4290819\tbest: 0.4290819 (336)\ttotal: 13m 19s\tremaining: 6m 26s\n",
      "337:\tlearn: 0.3972662\ttest: 0.4290527\tbest: 0.4290527 (337)\ttotal: 13m 21s\tremaining: 6m 24s\n",
      "338:\tlearn: 0.3972292\ttest: 0.4288809\tbest: 0.4288809 (338)\ttotal: 13m 23s\tremaining: 6m 21s\n",
      "339:\tlearn: 0.3972210\ttest: 0.4288653\tbest: 0.4288653 (339)\ttotal: 13m 25s\tremaining: 6m 19s\n",
      "340:\tlearn: 0.3971730\ttest: 0.4288218\tbest: 0.4288218 (340)\ttotal: 13m 27s\tremaining: 6m 16s\n",
      "341:\tlearn: 0.3971288\ttest: 0.4287287\tbest: 0.4287287 (341)\ttotal: 13m 30s\tremaining: 6m 14s\n",
      "342:\tlearn: 0.3971063\ttest: 0.4286694\tbest: 0.4286694 (342)\ttotal: 13m 32s\tremaining: 6m 12s\n",
      "343:\tlearn: 0.3970061\ttest: 0.4285185\tbest: 0.4285185 (343)\ttotal: 13m 35s\tremaining: 6m 9s\n",
      "344:\tlearn: 0.3969453\ttest: 0.4284023\tbest: 0.4284023 (344)\ttotal: 13m 37s\tremaining: 6m 7s\n",
      "345:\tlearn: 0.3968793\ttest: 0.4282743\tbest: 0.4282743 (345)\ttotal: 13m 39s\tremaining: 6m 4s\n",
      "346:\tlearn: 0.3966712\ttest: 0.4280273\tbest: 0.4280273 (346)\ttotal: 13m 42s\tremaining: 6m 2s\n",
      "347:\tlearn: 0.3966301\ttest: 0.4280210\tbest: 0.4280210 (347)\ttotal: 13m 44s\tremaining: 6m\n",
      "348:\tlearn: 0.3965756\ttest: 0.4279156\tbest: 0.4279156 (348)\ttotal: 13m 46s\tremaining: 5m 57s\n",
      "349:\tlearn: 0.3965641\ttest: 0.4279435\tbest: 0.4279156 (348)\ttotal: 13m 48s\tremaining: 5m 55s\n",
      "350:\tlearn: 0.3964238\ttest: 0.4278923\tbest: 0.4278923 (350)\ttotal: 13m 51s\tremaining: 5m 52s\n",
      "351:\tlearn: 0.3962278\ttest: 0.4279144\tbest: 0.4278923 (350)\ttotal: 13m 54s\tremaining: 5m 50s\n",
      "352:\tlearn: 0.3962056\ttest: 0.4279667\tbest: 0.4278923 (350)\ttotal: 13m 56s\tremaining: 5m 48s\n",
      "353:\tlearn: 0.3961757\ttest: 0.4278225\tbest: 0.4278225 (353)\ttotal: 13m 59s\tremaining: 5m 46s\n",
      "354:\tlearn: 0.3961403\ttest: 0.4277737\tbest: 0.4277737 (354)\ttotal: 14m 1s\tremaining: 5m 43s\n",
      "355:\tlearn: 0.3960665\ttest: 0.4277191\tbest: 0.4277191 (355)\ttotal: 14m 4s\tremaining: 5m 41s\n",
      "356:\tlearn: 0.3959372\ttest: 0.4275864\tbest: 0.4275864 (356)\ttotal: 14m 7s\tremaining: 5m 39s\n",
      "357:\tlearn: 0.3958681\ttest: 0.4275292\tbest: 0.4275292 (357)\ttotal: 14m 10s\tremaining: 5m 37s\n",
      "358:\tlearn: 0.3958432\ttest: 0.4275254\tbest: 0.4275254 (358)\ttotal: 14m 12s\tremaining: 5m 34s\n",
      "359:\tlearn: 0.3957572\ttest: 0.4273991\tbest: 0.4273991 (359)\ttotal: 14m 15s\tremaining: 5m 32s\n",
      "360:\tlearn: 0.3955385\ttest: 0.4271897\tbest: 0.4271897 (360)\ttotal: 14m 18s\tremaining: 5m 30s\n",
      "361:\tlearn: 0.3955178\ttest: 0.4271873\tbest: 0.4271873 (361)\ttotal: 14m 20s\tremaining: 5m 28s\n",
      "362:\tlearn: 0.3954148\ttest: 0.4271417\tbest: 0.4271417 (362)\ttotal: 14m 22s\tremaining: 5m 25s\n",
      "363:\tlearn: 0.3953754\ttest: 0.4270790\tbest: 0.4270790 (363)\ttotal: 14m 25s\tremaining: 5m 23s\n",
      "364:\tlearn: 0.3952459\ttest: 0.4269924\tbest: 0.4269924 (364)\ttotal: 14m 27s\tremaining: 5m 20s\n",
      "365:\tlearn: 0.3951184\ttest: 0.4268385\tbest: 0.4268385 (365)\ttotal: 14m 30s\tremaining: 5m 18s\n",
      "366:\tlearn: 0.3950341\ttest: 0.4267645\tbest: 0.4267645 (366)\ttotal: 14m 32s\tremaining: 5m 16s\n",
      "367:\tlearn: 0.3949596\ttest: 0.4267342\tbest: 0.4267342 (367)\ttotal: 14m 34s\tremaining: 5m 13s\n",
      "368:\tlearn: 0.3949102\ttest: 0.4266780\tbest: 0.4266780 (368)\ttotal: 14m 36s\tremaining: 5m 11s\n",
      "369:\tlearn: 0.3948679\ttest: 0.4267235\tbest: 0.4266780 (368)\ttotal: 14m 39s\tremaining: 5m 8s\n",
      "370:\tlearn: 0.3947707\ttest: 0.4267685\tbest: 0.4266780 (368)\ttotal: 14m 41s\tremaining: 5m 6s\n",
      "371:\tlearn: 0.3947319\ttest: 0.4267371\tbest: 0.4266780 (368)\ttotal: 14m 43s\tremaining: 5m 4s\n",
      "372:\tlearn: 0.3947051\ttest: 0.4267504\tbest: 0.4266780 (368)\ttotal: 14m 45s\tremaining: 5m 1s\n",
      "373:\tlearn: 0.3946884\ttest: 0.4267554\tbest: 0.4266780 (368)\ttotal: 14m 47s\tremaining: 4m 59s\n",
      "374:\tlearn: 0.3946580\ttest: 0.4267267\tbest: 0.4266780 (368)\ttotal: 14m 49s\tremaining: 4m 56s\n",
      "375:\tlearn: 0.3946141\ttest: 0.4266756\tbest: 0.4266756 (375)\ttotal: 14m 51s\tremaining: 4m 54s\n",
      "376:\tlearn: 0.3945262\ttest: 0.4266971\tbest: 0.4266756 (375)\ttotal: 14m 54s\tremaining: 4m 51s\n",
      "377:\tlearn: 0.3944755\ttest: 0.4271806\tbest: 0.4266756 (375)\ttotal: 14m 56s\tremaining: 4m 49s\n",
      "378:\tlearn: 0.3944220\ttest: 0.4273068\tbest: 0.4266756 (375)\ttotal: 14m 57s\tremaining: 4m 46s\n",
      "379:\tlearn: 0.3943438\ttest: 0.4272215\tbest: 0.4266756 (375)\ttotal: 15m\tremaining: 4m 44s\n",
      "380:\tlearn: 0.3943037\ttest: 0.4271849\tbest: 0.4266756 (375)\ttotal: 15m 1s\tremaining: 4m 41s\n",
      "381:\tlearn: 0.3942791\ttest: 0.4271939\tbest: 0.4266756 (375)\ttotal: 15m 4s\tremaining: 4m 39s\n",
      "382:\tlearn: 0.3942373\ttest: 0.4270949\tbest: 0.4266756 (375)\ttotal: 15m 6s\tremaining: 4m 36s\n",
      "383:\tlearn: 0.3942179\ttest: 0.4271008\tbest: 0.4266756 (375)\ttotal: 15m 8s\tremaining: 4m 34s\n",
      "384:\tlearn: 0.3941335\ttest: 0.4269572\tbest: 0.4266756 (375)\ttotal: 15m 10s\tremaining: 4m 32s\n",
      "385:\tlearn: 0.3940928\ttest: 0.4270156\tbest: 0.4266756 (375)\ttotal: 15m 12s\tremaining: 4m 29s\n",
      "386:\tlearn: 0.3939545\ttest: 0.4269133\tbest: 0.4266756 (375)\ttotal: 15m 15s\tremaining: 4m 27s\n",
      "387:\tlearn: 0.3938938\ttest: 0.4270073\tbest: 0.4266756 (375)\ttotal: 15m 17s\tremaining: 4m 24s\n",
      "388:\tlearn: 0.3938370\ttest: 0.4269349\tbest: 0.4266756 (375)\ttotal: 15m 20s\tremaining: 4m 22s\n",
      "389:\tlearn: 0.3938124\ttest: 0.4269161\tbest: 0.4266756 (375)\ttotal: 15m 22s\tremaining: 4m 20s\n",
      "390:\tlearn: 0.3937732\ttest: 0.4269135\tbest: 0.4266756 (375)\ttotal: 15m 25s\tremaining: 4m 17s\n",
      "391:\tlearn: 0.3937534\ttest: 0.4268850\tbest: 0.4266756 (375)\ttotal: 15m 27s\tremaining: 4m 15s\n",
      "392:\tlearn: 0.3937064\ttest: 0.4269432\tbest: 0.4266756 (375)\ttotal: 15m 28s\tremaining: 4m 12s\n",
      "393:\tlearn: 0.3936329\ttest: 0.4268822\tbest: 0.4266756 (375)\ttotal: 15m 31s\tremaining: 4m 10s\n",
      "394:\tlearn: 0.3936016\ttest: 0.4268214\tbest: 0.4266756 (375)\ttotal: 15m 34s\tremaining: 4m 8s\n",
      "395:\tlearn: 0.3935137\ttest: 0.4267549\tbest: 0.4266756 (375)\ttotal: 15m 36s\tremaining: 4m 5s\n",
      "396:\tlearn: 0.3934556\ttest: 0.4266824\tbest: 0.4266756 (375)\ttotal: 15m 38s\tremaining: 4m 3s\n",
      "397:\tlearn: 0.3933485\ttest: 0.4265792\tbest: 0.4265792 (397)\ttotal: 15m 41s\tremaining: 4m 1s\n",
      "398:\tlearn: 0.3932780\ttest: 0.4264843\tbest: 0.4264843 (398)\ttotal: 15m 44s\tremaining: 3m 59s\n",
      "399:\tlearn: 0.3932110\ttest: 0.4264473\tbest: 0.4264473 (399)\ttotal: 15m 46s\tremaining: 3m 56s\n",
      "400:\tlearn: 0.3931216\ttest: 0.4263735\tbest: 0.4263735 (400)\ttotal: 15m 49s\tremaining: 3m 54s\n",
      "401:\tlearn: 0.3930715\ttest: 0.4263496\tbest: 0.4263496 (401)\ttotal: 15m 51s\tremaining: 3m 51s\n",
      "402:\tlearn: 0.3929339\ttest: 0.4262132\tbest: 0.4262132 (402)\ttotal: 15m 54s\tremaining: 3m 49s\n",
      "403:\tlearn: 0.3928140\ttest: 0.4262774\tbest: 0.4262132 (402)\ttotal: 15m 56s\tremaining: 3m 47s\n",
      "404:\tlearn: 0.3927937\ttest: 0.4262658\tbest: 0.4262132 (402)\ttotal: 15m 58s\tremaining: 3m 44s\n",
      "405:\tlearn: 0.3927502\ttest: 0.4262606\tbest: 0.4262132 (402)\ttotal: 16m 1s\tremaining: 3m 42s\n",
      "406:\tlearn: 0.3927226\ttest: 0.4262497\tbest: 0.4262132 (402)\ttotal: 16m 3s\tremaining: 3m 40s\n",
      "407:\tlearn: 0.3926900\ttest: 0.4261708\tbest: 0.4261708 (407)\ttotal: 16m 6s\tremaining: 3m 37s\n",
      "408:\tlearn: 0.3926563\ttest: 0.4261821\tbest: 0.4261708 (407)\ttotal: 16m 7s\tremaining: 3m 35s\n",
      "409:\tlearn: 0.3926223\ttest: 0.4261713\tbest: 0.4261708 (407)\ttotal: 16m 9s\tremaining: 3m 32s\n",
      "410:\tlearn: 0.3924808\ttest: 0.4260808\tbest: 0.4260808 (410)\ttotal: 16m 12s\tremaining: 3m 30s\n",
      "411:\tlearn: 0.3924638\ttest: 0.4260302\tbest: 0.4260302 (411)\ttotal: 16m 14s\tremaining: 3m 28s\n",
      "412:\tlearn: 0.3924211\ttest: 0.4261481\tbest: 0.4260302 (411)\ttotal: 16m 16s\tremaining: 3m 25s\n",
      "413:\tlearn: 0.3923598\ttest: 0.4259861\tbest: 0.4259861 (413)\ttotal: 16m 18s\tremaining: 3m 23s\n",
      "414:\tlearn: 0.3920625\ttest: 0.4258542\tbest: 0.4258542 (414)\ttotal: 16m 21s\tremaining: 3m 21s\n",
      "415:\tlearn: 0.3920225\ttest: 0.4257887\tbest: 0.4257887 (415)\ttotal: 16m 24s\tremaining: 3m 18s\n",
      "416:\tlearn: 0.3919639\ttest: 0.4257128\tbest: 0.4257128 (416)\ttotal: 16m 26s\tremaining: 3m 16s\n",
      "417:\tlearn: 0.3919145\ttest: 0.4257312\tbest: 0.4257128 (416)\ttotal: 16m 28s\tremaining: 3m 13s\n",
      "418:\tlearn: 0.3918431\ttest: 0.4257656\tbest: 0.4257128 (416)\ttotal: 16m 31s\tremaining: 3m 11s\n",
      "419:\tlearn: 0.3918204\ttest: 0.4257590\tbest: 0.4257128 (416)\ttotal: 16m 33s\tremaining: 3m 9s\n",
      "420:\tlearn: 0.3917674\ttest: 0.4257391\tbest: 0.4257128 (416)\ttotal: 16m 36s\tremaining: 3m 7s\n",
      "421:\tlearn: 0.3917139\ttest: 0.4257281\tbest: 0.4257128 (416)\ttotal: 16m 38s\tremaining: 3m 4s\n",
      "422:\tlearn: 0.3916811\ttest: 0.4257198\tbest: 0.4257128 (416)\ttotal: 16m 40s\tremaining: 3m 2s\n",
      "423:\tlearn: 0.3915981\ttest: 0.4256293\tbest: 0.4256293 (423)\ttotal: 16m 42s\tremaining: 2m 59s\n",
      "424:\tlearn: 0.3915650\ttest: 0.4256155\tbest: 0.4256155 (424)\ttotal: 16m 44s\tremaining: 2m 57s\n",
      "425:\tlearn: 0.3915309\ttest: 0.4265088\tbest: 0.4256155 (424)\ttotal: 16m 46s\tremaining: 2m 54s\n",
      "426:\tlearn: 0.3914920\ttest: 0.4264308\tbest: 0.4256155 (424)\ttotal: 16m 48s\tremaining: 2m 52s\n",
      "427:\tlearn: 0.3914488\ttest: 0.4264181\tbest: 0.4256155 (424)\ttotal: 16m 51s\tremaining: 2m 50s\n",
      "428:\tlearn: 0.3913713\ttest: 0.4264916\tbest: 0.4256155 (424)\ttotal: 16m 53s\tremaining: 2m 47s\n",
      "429:\tlearn: 0.3912291\ttest: 0.4263366\tbest: 0.4256155 (424)\ttotal: 16m 55s\tremaining: 2m 45s\n",
      "430:\tlearn: 0.3912041\ttest: 0.4262359\tbest: 0.4256155 (424)\ttotal: 16m 58s\tremaining: 2m 43s\n",
      "431:\tlearn: 0.3911311\ttest: 0.4261554\tbest: 0.4256155 (424)\ttotal: 17m\tremaining: 2m 40s\n",
      "432:\tlearn: 0.3910937\ttest: 0.4261461\tbest: 0.4256155 (424)\ttotal: 17m 2s\tremaining: 2m 38s\n",
      "433:\tlearn: 0.3910457\ttest: 0.4261422\tbest: 0.4256155 (424)\ttotal: 17m 5s\tremaining: 2m 36s\n",
      "434:\tlearn: 0.3910204\ttest: 0.4261394\tbest: 0.4256155 (424)\ttotal: 17m 8s\tremaining: 2m 33s\n",
      "435:\tlearn: 0.3909869\ttest: 0.4261015\tbest: 0.4256155 (424)\ttotal: 17m 11s\tremaining: 2m 31s\n",
      "436:\tlearn: 0.3909643\ttest: 0.4260790\tbest: 0.4256155 (424)\ttotal: 17m 13s\tremaining: 2m 29s\n",
      "437:\tlearn: 0.3909349\ttest: 0.4260001\tbest: 0.4256155 (424)\ttotal: 17m 16s\tremaining: 2m 26s\n",
      "438:\tlearn: 0.3908629\ttest: 0.4258419\tbest: 0.4256155 (424)\ttotal: 17m 19s\tremaining: 2m 24s\n",
      "439:\tlearn: 0.3908202\ttest: 0.4259595\tbest: 0.4256155 (424)\ttotal: 17m 20s\tremaining: 2m 21s\n",
      "440:\tlearn: 0.3906640\ttest: 0.4258593\tbest: 0.4256155 (424)\ttotal: 17m 22s\tremaining: 2m 19s\n",
      "441:\tlearn: 0.3906279\ttest: 0.4258214\tbest: 0.4256155 (424)\ttotal: 17m 24s\tremaining: 2m 17s\n",
      "442:\tlearn: 0.3905824\ttest: 0.4260250\tbest: 0.4256155 (424)\ttotal: 17m 27s\tremaining: 2m 14s\n",
      "443:\tlearn: 0.3904476\ttest: 0.4259710\tbest: 0.4256155 (424)\ttotal: 17m 29s\tremaining: 2m 12s\n",
      "444:\tlearn: 0.3904288\ttest: 0.4260149\tbest: 0.4256155 (424)\ttotal: 17m 32s\tremaining: 2m 10s\n",
      "445:\tlearn: 0.3903944\ttest: 0.4259290\tbest: 0.4256155 (424)\ttotal: 17m 34s\tremaining: 2m 7s\n",
      "446:\tlearn: 0.3902206\ttest: 0.4255667\tbest: 0.4255667 (446)\ttotal: 17m 37s\tremaining: 2m 5s\n",
      "447:\tlearn: 0.3901778\ttest: 0.4254227\tbest: 0.4254227 (447)\ttotal: 17m 40s\tremaining: 2m 3s\n",
      "448:\tlearn: 0.3901357\ttest: 0.4254552\tbest: 0.4254227 (447)\ttotal: 17m 42s\tremaining: 2m\n",
      "449:\tlearn: 0.3900661\ttest: 0.4254287\tbest: 0.4254227 (447)\ttotal: 17m 45s\tremaining: 1m 58s\n",
      "450:\tlearn: 0.3899812\ttest: 0.4254135\tbest: 0.4254135 (450)\ttotal: 17m 47s\tremaining: 1m 55s\n",
      "451:\tlearn: 0.3898868\ttest: 0.4252531\tbest: 0.4252531 (451)\ttotal: 17m 49s\tremaining: 1m 53s\n",
      "452:\tlearn: 0.3898048\ttest: 0.4250462\tbest: 0.4250462 (452)\ttotal: 17m 51s\tremaining: 1m 51s\n",
      "453:\tlearn: 0.3897968\ttest: 0.4250088\tbest: 0.4250088 (453)\ttotal: 17m 53s\tremaining: 1m 48s\n",
      "454:\tlearn: 0.3897773\ttest: 0.4251215\tbest: 0.4250088 (453)\ttotal: 17m 55s\tremaining: 1m 46s\n",
      "455:\tlearn: 0.3897273\ttest: 0.4250680\tbest: 0.4250088 (453)\ttotal: 17m 57s\tremaining: 1m 43s\n",
      "456:\tlearn: 0.3896787\ttest: 0.4250507\tbest: 0.4250088 (453)\ttotal: 18m\tremaining: 1m 41s\n",
      "457:\tlearn: 0.3896203\ttest: 0.4249485\tbest: 0.4249485 (457)\ttotal: 18m 2s\tremaining: 1m 39s\n",
      "458:\tlearn: 0.3895916\ttest: 0.4249768\tbest: 0.4249485 (457)\ttotal: 18m 5s\tremaining: 1m 36s\n",
      "459:\tlearn: 0.3895502\ttest: 0.4247861\tbest: 0.4247861 (459)\ttotal: 18m 7s\tremaining: 1m 34s\n",
      "460:\tlearn: 0.3895188\ttest: 0.4247643\tbest: 0.4247643 (460)\ttotal: 18m 11s\tremaining: 1m 32s\n",
      "461:\tlearn: 0.3894648\ttest: 0.4247553\tbest: 0.4247553 (461)\ttotal: 18m 13s\tremaining: 1m 29s\n",
      "462:\tlearn: 0.3894149\ttest: 0.4247022\tbest: 0.4247022 (462)\ttotal: 18m 15s\tremaining: 1m 27s\n",
      "463:\tlearn: 0.3893934\ttest: 0.4246730\tbest: 0.4246730 (463)\ttotal: 18m 17s\tremaining: 1m 25s\n",
      "464:\tlearn: 0.3892965\ttest: 0.4246058\tbest: 0.4246058 (464)\ttotal: 18m 19s\tremaining: 1m 22s\n",
      "465:\tlearn: 0.3892585\ttest: 0.4245334\tbest: 0.4245334 (465)\ttotal: 18m 22s\tremaining: 1m 20s\n",
      "466:\tlearn: 0.3891468\ttest: 0.4243400\tbest: 0.4243400 (466)\ttotal: 18m 24s\tremaining: 1m 18s\n",
      "467:\tlearn: 0.3890909\ttest: 0.4241740\tbest: 0.4241740 (467)\ttotal: 18m 26s\tremaining: 1m 15s\n",
      "468:\tlearn: 0.3890827\ttest: 0.4242022\tbest: 0.4241740 (467)\ttotal: 18m 28s\tremaining: 1m 13s\n",
      "469:\tlearn: 0.3890197\ttest: 0.4241184\tbest: 0.4241184 (469)\ttotal: 18m 30s\tremaining: 1m 10s\n",
      "470:\tlearn: 0.3890088\ttest: 0.4241533\tbest: 0.4241184 (469)\ttotal: 18m 32s\tremaining: 1m 8s\n",
      "471:\tlearn: 0.3889828\ttest: 0.4241627\tbest: 0.4241184 (469)\ttotal: 18m 34s\tremaining: 1m 6s\n",
      "472:\tlearn: 0.3889183\ttest: 0.4241036\tbest: 0.4241036 (472)\ttotal: 18m 37s\tremaining: 1m 3s\n",
      "473:\tlearn: 0.3888936\ttest: 0.4240637\tbest: 0.4240637 (473)\ttotal: 18m 39s\tremaining: 1m 1s\n",
      "474:\tlearn: 0.3888622\ttest: 0.4240651\tbest: 0.4240637 (473)\ttotal: 18m 43s\tremaining: 59.1s\n",
      "475:\tlearn: 0.3888378\ttest: 0.4240367\tbest: 0.4240367 (475)\ttotal: 18m 45s\tremaining: 56.7s\n",
      "476:\tlearn: 0.3887934\ttest: 0.4240326\tbest: 0.4240326 (476)\ttotal: 18m 47s\tremaining: 54.4s\n",
      "477:\tlearn: 0.3887473\ttest: 0.4240224\tbest: 0.4240224 (477)\ttotal: 18m 49s\tremaining: 52s\n",
      "478:\tlearn: 0.3886118\ttest: 0.4238443\tbest: 0.4238443 (478)\ttotal: 18m 51s\tremaining: 49.6s\n",
      "479:\tlearn: 0.3885307\ttest: 0.4237192\tbest: 0.4237192 (479)\ttotal: 18m 54s\tremaining: 47.3s\n",
      "480:\tlearn: 0.3884183\ttest: 0.4236728\tbest: 0.4236728 (480)\ttotal: 18m 56s\tremaining: 44.9s\n",
      "481:\tlearn: 0.3883726\ttest: 0.4237285\tbest: 0.4236728 (480)\ttotal: 18m 59s\tremaining: 42.5s\n",
      "482:\tlearn: 0.3883417\ttest: 0.4246996\tbest: 0.4236728 (480)\ttotal: 19m 1s\tremaining: 40.2s\n",
      "483:\tlearn: 0.3883116\ttest: 0.4246505\tbest: 0.4236728 (480)\ttotal: 19m 4s\tremaining: 37.8s\n",
      "484:\tlearn: 0.3882697\ttest: 0.4246377\tbest: 0.4236728 (480)\ttotal: 19m 6s\tremaining: 35.5s\n",
      "485:\tlearn: 0.3882380\ttest: 0.4246896\tbest: 0.4236728 (480)\ttotal: 19m 8s\tremaining: 33.1s\n",
      "486:\tlearn: 0.3882070\ttest: 0.4246479\tbest: 0.4236728 (480)\ttotal: 19m 10s\tremaining: 30.7s\n",
      "487:\tlearn: 0.3881901\ttest: 0.4246233\tbest: 0.4236728 (480)\ttotal: 19m 12s\tremaining: 28.3s\n",
      "488:\tlearn: 0.3881507\ttest: 0.4246115\tbest: 0.4236728 (480)\ttotal: 19m 14s\tremaining: 26s\n",
      "489:\tlearn: 0.3881204\ttest: 0.4245364\tbest: 0.4236728 (480)\ttotal: 19m 16s\tremaining: 23.6s\n",
      "490:\tlearn: 0.3880580\ttest: 0.4244467\tbest: 0.4236728 (480)\ttotal: 19m 18s\tremaining: 21.2s\n",
      "491:\tlearn: 0.3880102\ttest: 0.4243798\tbest: 0.4236728 (480)\ttotal: 19m 20s\tremaining: 18.9s\n",
      "492:\tlearn: 0.3879396\ttest: 0.4242943\tbest: 0.4236728 (480)\ttotal: 19m 22s\tremaining: 16.5s\n",
      "493:\tlearn: 0.3879012\ttest: 0.4242880\tbest: 0.4236728 (480)\ttotal: 19m 24s\tremaining: 14.1s\n",
      "494:\tlearn: 0.3878462\ttest: 0.4243419\tbest: 0.4236728 (480)\ttotal: 19m 27s\tremaining: 11.8s\n",
      "495:\tlearn: 0.3877904\ttest: 0.4242282\tbest: 0.4236728 (480)\ttotal: 19m 29s\tremaining: 9.43s\n",
      "496:\tlearn: 0.3877068\ttest: 0.4241483\tbest: 0.4236728 (480)\ttotal: 19m 31s\tremaining: 7.07s\n",
      "497:\tlearn: 0.3876740\ttest: 0.4241701\tbest: 0.4236728 (480)\ttotal: 19m 33s\tremaining: 4.71s\n",
      "498:\tlearn: 0.3876098\ttest: 0.4241164\tbest: 0.4236728 (480)\ttotal: 19m 35s\tremaining: 2.36s\n",
      "499:\tlearn: 0.3875875\ttest: 0.4240417\tbest: 0.4236728 (480)\ttotal: 19m 38s\tremaining: 0us\n",
      "bestTest = 0.4236727947\n",
      "bestIteration = 480\n",
      "Shrink model to first 481 iterations.\n",
      "ROC AUC Score: 0.6252\n"
     ]
    },
    {
     "data": {
      "image/png": "[encoded data removed]",
      "text/plain": [
       "<Figure size 800x600 with 1 Axes>"
      ]
     },
     "metadata": {},
     "output_type": "display_data"
    }
   ],
   "source": [
    "model = CatBoostClassifier(iterations=500, \n",
    "                           learning_rate=0.05, \n",
    "                           depth=5, \n",
    "                           task_type='GPU',\n",
    "                           loss_function='Logloss',\n",
    "                           class_weights=class_weights,\n",
    "                           eval_metric='Logloss',\n",
    "                           verbose=1,\n",
    "                           l2_leaf_reg=4)\n",
    "\n",
    "model.fit(train_pool, eval_set=val_pool, early_stopping_rounds=100, verbose=True)\n",
    "\n",
    "predictions = model.predict_proba(test_pool)[:, 1]\n",
    "\n",
    "roc_auc = roc_auc_score(test_df[target_column], predictions)\n",
    "print(f\"ROC AUC Score: {roc_auc:.4f}\")\n",
    "\n",
    "fpr, tpr, thresholds = roc_curve(test_df[target_column], predictions)\n",
    "\n",
    "plt.figure(figsize=(8, 6))\n",
    "plt.plot(fpr, tpr, label=f'ROC AUC = {roc_auc:.4f}')\n",
    "plt.plot([0, 1], [0, 1], 'k--')\n",
    "plt.xlabel('False Positive Rate')\n",
    "plt.ylabel('True Positive Rate')\n",
    "plt.title('Receiver Operating Characteristic (ROC) Curve')\n",
    "plt.legend(loc='lower right')\n",
    "plt.grid()\n",
    "plt.show()"
   ]
  },
  {
   "cell_type": "code",
   "execution_count": 16,
   "id": "1a7b5e90",
   "metadata": {
    "execution": {
     "iopub.execute_input": "2025-04-23T22:11:09.302729Z",
     "iopub.status.busy": "2025-04-23T22:11:09.302486Z",
     "iopub.status.idle": "2025-04-23T22:15:22.990448Z",
     "shell.execute_reply": "2025-04-23T22:15:22.989704Z"
    },
    "papermill": {
     "duration": 253.738609,
     "end_time": "2025-04-23T22:15:23.016946",
     "exception": false,
     "start_time": "2025-04-23T22:11:09.278337",
     "status": "completed"
    },
    "tags": []
   },
   "outputs": [
    {
     "data": {
      "image/png": "[encoded data removed]",
      "text/plain": [
       "<Figure size 1200x600 with 1 Axes>"
      ]
     },
     "metadata": {},
     "output_type": "display_data"
    }
   ],
   "source": [
    "feature_importances = model.get_feature_importance(train_pool)\n",
    "feature_importances_df = pd.DataFrame({'Feature': feature_columns, 'Importance': feature_importances})\n",
    "\n",
    "feature_importances_df.sort_values(by='Importance', ascending=False, inplace=True)\n",
    "\n",
    "plt.figure(figsize=(12, 6))\n",
    "plt.barh(feature_importances_df['Feature'], feature_importances_df['Importance'])\n",
    "plt.xlabel('Importance')\n",
    "plt.title('Feature Importance Weighted model')\n",
    "plt.gca().invert_yaxis()\n",
    "plt.show()"
   ]
  },
  {
   "cell_type": "code",
   "execution_count": null,
   "id": "c4b6385d",
   "metadata": {
    "papermill": {
     "duration": 0.025697,
     "end_time": "2025-04-23T22:15:23.067343",
     "exception": false,
     "start_time": "2025-04-23T22:15:23.041646",
     "status": "completed"
    },
    "tags": []
   },
   "outputs": [],
   "source": []
  }
 ],
 "metadata": {
  "kaggle": {
   "accelerator": "nvidiaTeslaT4",
   "dataSources": [
    {
     "datasetId": 7118912,
     "sourceId": 11371631,
     "sourceType": "datasetVersion"
    }
   ],
   "dockerImageVersionId": 31011,
   "isGpuEnabled": true,
   "isInternetEnabled": true,
   "language": "python",
   "sourceType": "notebook"
  },
  "kernelspec": {
   "display_name": "Python 3",
   "language": "python",
   "name": "python3"
  },
  "language_info": {
   "codemirror_mode": {
    "name": "ipython",
    "version": 3
   },
   "file_extension": ".py",
   "mimetype": "text/x-python",
   "name": "python",
   "nbconvert_exporter": "python",
   "pygments_lexer": "ipython3",
   "version": "3.11.11"
  },
  "papermill": {
   "default_parameters": {},
   "duration": 1971.567428,
   "end_time": "2025-04-23T22:15:26.613732",
   "environment_variables": {},
   "exception": null,
   "input_path": "__notebook__.ipynb",
   "output_path": "__notebook__.ipynb",
   "parameters": {},
   "start_time": "2025-04-23T21:42:35.046304",
   "version": "2.6.0"
  }
 },
 "nbformat": 4,
 "nbformat_minor": 5
}
