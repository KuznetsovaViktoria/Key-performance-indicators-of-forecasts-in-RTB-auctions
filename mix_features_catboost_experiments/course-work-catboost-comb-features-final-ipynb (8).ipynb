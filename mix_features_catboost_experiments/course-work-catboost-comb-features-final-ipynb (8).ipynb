{
 "cells": [
  {
   "cell_type": "code",
   "execution_count": 1,
   "id": "78b78fc6",
   "metadata": {
    "_cell_guid": "b1076dfc-b9ad-4769-8c92-a6c4dae69d19",
    "_uuid": "8f2839f25d086af736a60e9eeb907d3b93b6e0e5",
    "execution": {
     "iopub.execute_input": "2025-04-23T21:41:06.163419Z",
     "iopub.status.busy": "2025-04-23T21:41:06.163161Z",
     "iopub.status.idle": "2025-04-23T21:41:10.494059Z",
     "shell.execute_reply": "2025-04-23T21:41:10.493409Z"
    },
    "papermill": {
     "duration": 4.33664,
     "end_time": "2025-04-23T21:41:10.495560",
     "exception": false,
     "start_time": "2025-04-23T21:41:06.158920",
     "status": "completed"
    },
    "tags": []
   },
   "outputs": [],
   "source": [
    "import pandas as pd\n",
    "from catboost import CatBoostClassifier, Pool\n",
    "from sklearn.metrics import roc_auc_score, roc_curve\n",
    "import matplotlib.pyplot as plt"
   ]
  },
  {
   "cell_type": "code",
   "execution_count": 2,
   "id": "ed64fb8b",
   "metadata": {
    "execution": {
     "iopub.execute_input": "2025-04-23T21:41:10.502964Z",
     "iopub.status.busy": "2025-04-23T21:41:10.502577Z",
     "iopub.status.idle": "2025-04-23T21:42:40.513135Z",
     "shell.execute_reply": "2025-04-23T21:42:40.512279Z"
    },
    "papermill": {
     "duration": 90.015904,
     "end_time": "2025-04-23T21:42:40.514682",
     "exception": false,
     "start_time": "2025-04-23T21:41:10.498778",
     "status": "completed"
    },
    "tags": []
   },
   "outputs": [
    {
     "name": "stderr",
     "output_type": "stream",
     "text": [
      "/tmp/ipykernel_19/616515770.py:1: DtypeWarning: Columns (15,16,17) have mixed types. Specify dtype option on import or set low_memory=False.\n",
      "  train_df = pd.read_csv('/kaggle/input/ipinyou-season-3/parsed_final_data_season_3.csv')\n"
     ]
    }
   ],
   "source": [
    "train_df = pd.read_csv('/kaggle/input/ipinyou-season-3/parsed_final_data_season_3.csv')\n",
    "test_df = pd.read_csv('/kaggle/input/ipinyou-season-3/final_test_data_season_3.csv')"
   ]
  },
  {
   "cell_type": "code",
   "execution_count": 3,
   "id": "568ec7b8",
   "metadata": {
    "execution": {
     "iopub.execute_input": "2025-04-23T21:42:40.521725Z",
     "iopub.status.busy": "2025-04-23T21:42:40.521471Z",
     "iopub.status.idle": "2025-04-23T21:42:43.111460Z",
     "shell.execute_reply": "2025-04-23T21:42:43.110876Z"
    },
    "papermill": {
     "duration": 2.594858,
     "end_time": "2025-04-23T21:42:43.112755",
     "exception": false,
     "start_time": "2025-04-23T21:42:40.517897",
     "status": "completed"
    },
    "tags": []
   },
   "outputs": [],
   "source": [
    "train_df = train_df.drop('Unnamed: 0', axis=1)\n",
    "test_df = test_df.drop('Unnamed: 0', axis=1)"
   ]
  },
  {
   "cell_type": "code",
   "execution_count": 4,
   "id": "4290362c",
   "metadata": {
    "execution": {
     "iopub.execute_input": "2025-04-23T21:42:43.119559Z",
     "iopub.status.busy": "2025-04-23T21:42:43.119322Z",
     "iopub.status.idle": "2025-04-23T21:42:57.430057Z",
     "shell.execute_reply": "2025-04-23T21:42:57.429399Z"
    },
    "papermill": {
     "duration": 14.315522,
     "end_time": "2025-04-23T21:42:57.431414",
     "exception": false,
     "start_time": "2025-04-23T21:42:43.115892",
     "status": "completed"
    },
    "tags": []
   },
   "outputs": [
    {
     "name": "stderr",
     "output_type": "stream",
     "text": [
      "/tmp/ipykernel_19/1533110392.py:1: FutureWarning: Downcasting object dtype arrays on .fillna, .ffill, .bfill is deprecated and will change in a future version. Call result.infer_objects(copy=False) instead. To opt-in to the future behavior, set `pd.set_option('future.no_silent_downcasting', True)`\n",
      "  train_df = train_df.fillna(value=False)\n"
     ]
    }
   ],
   "source": [
    "train_df = train_df.fillna(value=False)"
   ]
  },
  {
   "cell_type": "code",
   "execution_count": 5,
   "id": "c6aec43b",
   "metadata": {
    "execution": {
     "iopub.execute_input": "2025-04-23T21:42:57.438786Z",
     "iopub.status.busy": "2025-04-23T21:42:57.438547Z",
     "iopub.status.idle": "2025-04-23T21:42:57.442396Z",
     "shell.execute_reply": "2025-04-23T21:42:57.441843Z"
    },
    "papermill": {
     "duration": 0.008854,
     "end_time": "2025-04-23T21:42:57.443493",
     "exception": false,
     "start_time": "2025-04-23T21:42:57.434639",
     "status": "completed"
    },
    "tags": []
   },
   "outputs": [],
   "source": [
    "pairs_for_union = [('weekend', 'weekday'), \n",
    "                  ('part_of_day', 'weekday'), ('is_in_market', 'creative_id'), \n",
    "                  ('advertiser_id', 'weekday'), ('ad_slot_format', 'os')]"
   ]
  },
  {
   "cell_type": "code",
   "execution_count": 6,
   "id": "ea97acc2",
   "metadata": {
    "execution": {
     "iopub.execute_input": "2025-04-23T21:42:57.450088Z",
     "iopub.status.busy": "2025-04-23T21:42:57.449814Z",
     "iopub.status.idle": "2025-04-23T21:44:03.512213Z",
     "shell.execute_reply": "2025-04-23T21:44:03.511364Z"
    },
    "papermill": {
     "duration": 66.067293,
     "end_time": "2025-04-23T21:44:03.513770",
     "exception": false,
     "start_time": "2025-04-23T21:42:57.446477",
     "status": "completed"
    },
    "tags": []
   },
   "outputs": [],
   "source": [
    "new_feat_names = []\n",
    "for f1, f2 in pairs_for_union:\n",
    "    new_name = f\"{f1}__{f2}\"\n",
    "    new_feat_names.append(new_name)\n",
    "    for df in [train_df, test_df]:\n",
    "        df[new_name] = df[f1].astype(str) + \"_\" + df[f2].astype(str)"
   ]
  },
  {
   "cell_type": "code",
   "execution_count": 7,
   "id": "0893a886",
   "metadata": {
    "execution": {
     "iopub.execute_input": "2025-04-23T21:44:03.520894Z",
     "iopub.status.busy": "2025-04-23T21:44:03.520421Z",
     "iopub.status.idle": "2025-04-23T21:44:03.524261Z",
     "shell.execute_reply": "2025-04-23T21:44:03.523571Z"
    },
    "papermill": {
     "duration": 0.008435,
     "end_time": "2025-04-23T21:44:03.525390",
     "exception": false,
     "start_time": "2025-04-23T21:44:03.516955",
     "status": "completed"
    },
    "tags": []
   },
   "outputs": [],
   "source": [
    "target_column = 'click'\n",
    "categorical_features = [\n",
    "    'ad_slot_visibility', 'ad_slot_format',\n",
    "    'creative_id', 'advertiser_id', 'part_of_day', 'weekday', 'weekend',\n",
    "    'os', 'browser', 'is_in_market'\n",
    "] + new_feat_names\n",
    "feature_columns = categorical_features + [\"ad_slot_screen_share\"]"
   ]
  },
  {
   "cell_type": "code",
   "execution_count": 8,
   "id": "e8ccbb32",
   "metadata": {
    "execution": {
     "iopub.execute_input": "2025-04-23T21:44:03.531700Z",
     "iopub.status.busy": "2025-04-23T21:44:03.531487Z",
     "iopub.status.idle": "2025-04-23T21:44:03.633986Z",
     "shell.execute_reply": "2025-04-23T21:44:03.633297Z"
    },
    "papermill": {
     "duration": 0.107024,
     "end_time": "2025-04-23T21:44:03.635191",
     "exception": false,
     "start_time": "2025-04-23T21:44:03.528167",
     "status": "completed"
    },
    "tags": []
   },
   "outputs": [
    {
     "data": {
      "text/plain": [
       "click\n",
       "False    21329922\n",
       "True        11673\n",
       "Name: count, dtype: int64"
      ]
     },
     "execution_count": 8,
     "metadata": {},
     "output_type": "execute_result"
    }
   ],
   "source": [
    "class_counts = train_df[target_column].value_counts()\n",
    "class_counts"
   ]
  },
  {
   "cell_type": "code",
   "execution_count": 9,
   "id": "ea568c15",
   "metadata": {
    "execution": {
     "iopub.execute_input": "2025-04-23T21:44:03.642525Z",
     "iopub.status.busy": "2025-04-23T21:44:03.642297Z",
     "iopub.status.idle": "2025-04-23T21:44:03.646345Z",
     "shell.execute_reply": "2025-04-23T21:44:03.645631Z"
    },
    "papermill": {
     "duration": 0.008869,
     "end_time": "2025-04-23T21:44:03.647464",
     "exception": false,
     "start_time": "2025-04-23T21:44:03.638595",
     "status": "completed"
    },
    "tags": []
   },
   "outputs": [
    {
     "name": "stderr",
     "output_type": "stream",
     "text": [
      "/tmp/ipykernel_19/780349676.py:1: FutureWarning: Series.__getitem__ treating keys as positions is deprecated. In a future version, integer keys will always be treated as labels (consistent with DataFrame behavior). To access a value by position, use `ser.iloc[pos]`\n",
      "  class_0_count = class_counts.get(0, 1)\n",
      "/tmp/ipykernel_19/780349676.py:2: FutureWarning: Series.__getitem__ treating keys as positions is deprecated. In a future version, integer keys will always be treated as labels (consistent with DataFrame behavior). To access a value by position, use `ser.iloc[pos]`\n",
      "  class_1_count = class_counts.get(1, 1)\n"
     ]
    }
   ],
   "source": [
    "class_0_count = class_counts.get(0, 1)\n",
    "class_1_count = class_counts.get(1, 1)"
   ]
  },
  {
   "cell_type": "code",
   "execution_count": 10,
   "id": "a8a49988",
   "metadata": {
    "execution": {
     "iopub.execute_input": "2025-04-23T21:44:03.654252Z",
     "iopub.status.busy": "2025-04-23T21:44:03.653784Z",
     "iopub.status.idle": "2025-04-23T21:44:03.657257Z",
     "shell.execute_reply": "2025-04-23T21:44:03.656735Z"
    },
    "papermill": {
     "duration": 0.00784,
     "end_time": "2025-04-23T21:44:03.658287",
     "exception": false,
     "start_time": "2025-04-23T21:44:03.650447",
     "status": "completed"
    },
    "tags": []
   },
   "outputs": [],
   "source": [
    "total_count = class_0_count + class_1_count\n",
    "class_weights = [total_count / class_0_count, total_count / class_1_count]"
   ]
  },
  {
   "cell_type": "code",
   "execution_count": 11,
   "id": "9d46ee64",
   "metadata": {
    "execution": {
     "iopub.execute_input": "2025-04-23T21:44:03.664657Z",
     "iopub.status.busy": "2025-04-23T21:44:03.664480Z",
     "iopub.status.idle": "2025-04-23T21:45:10.679179Z",
     "shell.execute_reply": "2025-04-23T21:45:10.678546Z"
    },
    "papermill": {
     "duration": 67.019416,
     "end_time": "2025-04-23T21:45:10.680584",
     "exception": false,
     "start_time": "2025-04-23T21:44:03.661168",
     "status": "completed"
    },
    "tags": []
   },
   "outputs": [],
   "source": [
    "from sklearn.model_selection import train_test_split\n",
    "train_df, val_df = train_test_split(train_df, test_size=0.01, random_state=42, stratify=train_df[target_column])"
   ]
  },
  {
   "cell_type": "code",
   "execution_count": 12,
   "id": "a9805f65",
   "metadata": {
    "execution": {
     "iopub.execute_input": "2025-04-23T21:45:10.687685Z",
     "iopub.status.busy": "2025-04-23T21:45:10.687440Z",
     "iopub.status.idle": "2025-04-23T21:47:24.110846Z",
     "shell.execute_reply": "2025-04-23T21:47:24.109769Z"
    },
    "papermill": {
     "duration": 133.428576,
     "end_time": "2025-04-23T21:47:24.112495",
     "exception": false,
     "start_time": "2025-04-23T21:45:10.683919",
     "status": "completed"
    },
    "tags": []
   },
   "outputs": [],
   "source": [
    "train_pool = Pool(data=train_df[feature_columns],\n",
    "                  label=train_df[target_column],\n",
    "                  cat_features=categorical_features)"
   ]
  },
  {
   "cell_type": "code",
   "execution_count": 13,
   "id": "6638f714",
   "metadata": {
    "execution": {
     "iopub.execute_input": "2025-04-23T21:47:24.121539Z",
     "iopub.status.busy": "2025-04-23T21:47:24.121064Z",
     "iopub.status.idle": "2025-04-23T21:47:31.300122Z",
     "shell.execute_reply": "2025-04-23T21:47:31.299314Z"
    },
    "papermill": {
     "duration": 7.185413,
     "end_time": "2025-04-23T21:47:31.301670",
     "exception": false,
     "start_time": "2025-04-23T21:47:24.116257",
     "status": "completed"
    },
    "tags": []
   },
   "outputs": [],
   "source": [
    "test_pool = Pool(data=test_df[feature_columns],\n",
    "                 label=test_df[target_column],\n",
    "                 cat_features=categorical_features)"
   ]
  },
  {
   "cell_type": "code",
   "execution_count": 14,
   "id": "7f87d0d9",
   "metadata": {
    "execution": {
     "iopub.execute_input": "2025-04-23T21:47:31.308531Z",
     "iopub.status.busy": "2025-04-23T21:47:31.308296Z",
     "iopub.status.idle": "2025-04-23T21:47:32.660173Z",
     "shell.execute_reply": "2025-04-23T21:47:32.659544Z"
    },
    "papermill": {
     "duration": 1.356864,
     "end_time": "2025-04-23T21:47:32.661743",
     "exception": false,
     "start_time": "2025-04-23T21:47:31.304879",
     "status": "completed"
    },
    "tags": []
   },
   "outputs": [],
   "source": [
    "val_pool = Pool(data=val_df[feature_columns],\n",
    "                 label=val_df[target_column],\n",
    "                 cat_features=categorical_features)"
   ]
  },
  {
   "cell_type": "code",
   "execution_count": 15,
   "id": "4472a5d8",
   "metadata": {
    "execution": {
     "iopub.execute_input": "2025-04-23T21:47:32.669122Z",
     "iopub.status.busy": "2025-04-23T21:47:32.668857Z",
     "iopub.status.idle": "2025-04-23T21:57:45.018743Z",
     "shell.execute_reply": "2025-04-23T21:57:45.018011Z"
    },
    "papermill": {
     "duration": 612.354984,
     "end_time": "2025-04-23T21:57:45.020210",
     "exception": false,
     "start_time": "2025-04-23T21:47:32.665226",
     "status": "completed"
    },
    "tags": []
   },
   "outputs": [
    {
     "name": "stdout",
     "output_type": "stream",
     "text": [
      "0:\tlearn: 0.6709120\ttest: 0.6728797\tbest: 0.6728797 (0)\ttotal: 2.27s\tremaining: 7m 31s\n",
      "1:\tlearn: 0.6512209\ttest: 0.6552679\tbest: 0.6552679 (1)\ttotal: 4.69s\tremaining: 7m 44s\n",
      "2:\tlearn: 0.6276333\ttest: 0.6328892\tbest: 0.6328892 (2)\ttotal: 7.22s\tremaining: 7m 54s\n",
      "3:\tlearn: 0.6127396\ttest: 0.6196274\tbest: 0.6196274 (3)\ttotal: 9.82s\tremaining: 8m 1s\n",
      "4:\tlearn: 0.5990343\ttest: 0.6069621\tbest: 0.6069621 (4)\ttotal: 12.3s\tremaining: 7m 58s\n",
      "5:\tlearn: 0.5866825\ttest: 0.5957918\tbest: 0.5957918 (5)\ttotal: 14.6s\tremaining: 7m 51s\n",
      "6:\tlearn: 0.5763048\ttest: 0.5861725\tbest: 0.5861725 (6)\ttotal: 17.5s\tremaining: 8m 1s\n",
      "7:\tlearn: 0.5671263\ttest: 0.5780712\tbest: 0.5780712 (7)\ttotal: 19.9s\tremaining: 7m 57s\n",
      "8:\tlearn: 0.5590995\ttest: 0.5705347\tbest: 0.5705347 (8)\ttotal: 21.7s\tremaining: 7m 41s\n",
      "9:\tlearn: 0.5469060\ttest: 0.5584642\tbest: 0.5584642 (9)\ttotal: 23.7s\tremaining: 7m 30s\n",
      "10:\tlearn: 0.5405397\ttest: 0.5529411\tbest: 0.5529411 (10)\ttotal: 26.2s\tremaining: 7m 29s\n",
      "11:\tlearn: 0.5322533\ttest: 0.5451652\tbest: 0.5451652 (11)\ttotal: 28.2s\tremaining: 7m 21s\n",
      "12:\tlearn: 0.5236079\ttest: 0.5370758\tbest: 0.5370758 (12)\ttotal: 30s\tremaining: 7m 10s\n",
      "13:\tlearn: 0.5190357\ttest: 0.5328210\tbest: 0.5328210 (13)\ttotal: 32.9s\tremaining: 7m 16s\n",
      "14:\tlearn: 0.5124231\ttest: 0.5261332\tbest: 0.5261332 (14)\ttotal: 34.7s\tremaining: 7m 7s\n",
      "15:\tlearn: 0.5083000\ttest: 0.5223412\tbest: 0.5223412 (15)\ttotal: 36.6s\tremaining: 7m\n",
      "16:\tlearn: 0.5048371\ttest: 0.5189366\tbest: 0.5189366 (16)\ttotal: 39s\tremaining: 6m 59s\n",
      "17:\tlearn: 0.5020633\ttest: 0.5161645\tbest: 0.5161645 (17)\ttotal: 40.9s\tremaining: 6m 53s\n",
      "18:\tlearn: 0.4993029\ttest: 0.5139288\tbest: 0.5139288 (18)\ttotal: 43.4s\tremaining: 6m 53s\n",
      "19:\tlearn: 0.4964815\ttest: 0.5109166\tbest: 0.5109166 (19)\ttotal: 45.4s\tremaining: 6m 48s\n",
      "20:\tlearn: 0.4941966\ttest: 0.5085897\tbest: 0.5085897 (20)\ttotal: 47.7s\tremaining: 6m 46s\n",
      "21:\tlearn: 0.4915529\ttest: 0.5060861\tbest: 0.5060861 (21)\ttotal: 49.9s\tremaining: 6m 43s\n",
      "22:\tlearn: 0.4893523\ttest: 0.5043175\tbest: 0.5043175 (22)\ttotal: 51.6s\tremaining: 6m 36s\n",
      "23:\tlearn: 0.4875394\ttest: 0.5028245\tbest: 0.5028245 (23)\ttotal: 54.3s\tremaining: 6m 37s\n",
      "24:\tlearn: 0.4858224\ttest: 0.5013326\tbest: 0.5013326 (24)\ttotal: 57.8s\tremaining: 6m 44s\n",
      "25:\tlearn: 0.4836676\ttest: 0.4999099\tbest: 0.4999099 (25)\ttotal: 60s\tremaining: 6m 41s\n",
      "26:\tlearn: 0.4824990\ttest: 0.4987763\tbest: 0.4987763 (26)\ttotal: 1m 1s\tremaining: 6m 37s\n",
      "27:\tlearn: 0.4809692\ttest: 0.4970064\tbest: 0.4970064 (27)\ttotal: 1m 4s\tremaining: 6m 36s\n",
      "28:\tlearn: 0.4793823\ttest: 0.4955572\tbest: 0.4955572 (28)\ttotal: 1m 7s\tremaining: 6m 38s\n",
      "29:\tlearn: 0.4778056\ttest: 0.4943843\tbest: 0.4943843 (29)\ttotal: 1m 9s\tremaining: 6m 34s\n",
      "30:\tlearn: 0.4764941\ttest: 0.4934380\tbest: 0.4934380 (30)\ttotal: 1m 11s\tremaining: 6m 30s\n",
      "31:\tlearn: 0.4753998\ttest: 0.4928035\tbest: 0.4928035 (31)\ttotal: 1m 13s\tremaining: 6m 27s\n",
      "32:\tlearn: 0.4742658\ttest: 0.4921667\tbest: 0.4921667 (32)\ttotal: 1m 15s\tremaining: 6m 22s\n",
      "33:\tlearn: 0.4732062\ttest: 0.4917487\tbest: 0.4917487 (33)\ttotal: 1m 17s\tremaining: 6m 19s\n",
      "34:\tlearn: 0.4722535\ttest: 0.4906507\tbest: 0.4906507 (34)\ttotal: 1m 19s\tremaining: 6m 16s\n",
      "35:\tlearn: 0.4712181\ttest: 0.4902607\tbest: 0.4902607 (35)\ttotal: 1m 21s\tremaining: 6m 12s\n",
      "36:\tlearn: 0.4702688\ttest: 0.4896039\tbest: 0.4896039 (36)\ttotal: 1m 23s\tremaining: 6m 10s\n",
      "37:\tlearn: 0.4692271\ttest: 0.4889366\tbest: 0.4889366 (37)\ttotal: 1m 27s\tremaining: 6m 11s\n",
      "38:\tlearn: 0.4682201\ttest: 0.4885492\tbest: 0.4885492 (38)\ttotal: 1m 29s\tremaining: 6m 11s\n",
      "39:\tlearn: 0.4674164\ttest: 0.4876390\tbest: 0.4876390 (39)\ttotal: 1m 33s\tremaining: 6m 12s\n",
      "40:\tlearn: 0.4662057\ttest: 0.4863270\tbest: 0.4863270 (40)\ttotal: 1m 35s\tremaining: 6m 12s\n",
      "41:\tlearn: 0.4655560\ttest: 0.4856580\tbest: 0.4856580 (41)\ttotal: 1m 38s\tremaining: 6m 9s\n",
      "42:\tlearn: 0.4645148\ttest: 0.4846379\tbest: 0.4846379 (42)\ttotal: 1m 40s\tremaining: 6m 8s\n",
      "43:\tlearn: 0.4637118\ttest: 0.4844308\tbest: 0.4844308 (43)\ttotal: 1m 44s\tremaining: 6m 8s\n",
      "44:\tlearn: 0.4627092\ttest: 0.4840637\tbest: 0.4840637 (44)\ttotal: 1m 45s\tremaining: 6m 4s\n",
      "45:\tlearn: 0.4620062\ttest: 0.4834834\tbest: 0.4834834 (45)\ttotal: 1m 48s\tremaining: 6m 3s\n",
      "46:\tlearn: 0.4614813\ttest: 0.4828749\tbest: 0.4828749 (46)\ttotal: 1m 50s\tremaining: 6m\n",
      "47:\tlearn: 0.4607943\ttest: 0.4826151\tbest: 0.4826151 (47)\ttotal: 1m 52s\tremaining: 5m 56s\n",
      "48:\tlearn: 0.4601463\ttest: 0.4819387\tbest: 0.4819387 (48)\ttotal: 1m 55s\tremaining: 5m 55s\n",
      "49:\tlearn: 0.4595144\ttest: 0.4811047\tbest: 0.4811047 (49)\ttotal: 1m 57s\tremaining: 5m 53s\n",
      "50:\tlearn: 0.4590463\ttest: 0.4807011\tbest: 0.4807011 (50)\ttotal: 2m\tremaining: 5m 50s\n",
      "51:\tlearn: 0.4582240\ttest: 0.4801135\tbest: 0.4801135 (51)\ttotal: 2m 3s\tremaining: 5m 51s\n",
      "52:\tlearn: 0.4573033\ttest: 0.4791858\tbest: 0.4791858 (52)\ttotal: 2m 5s\tremaining: 5m 47s\n",
      "53:\tlearn: 0.4569487\ttest: 0.4790313\tbest: 0.4790313 (53)\ttotal: 2m 7s\tremaining: 5m 43s\n",
      "54:\tlearn: 0.4562243\ttest: 0.4789388\tbest: 0.4789388 (54)\ttotal: 2m 9s\tremaining: 5m 41s\n",
      "55:\tlearn: 0.4555445\ttest: 0.4785551\tbest: 0.4785551 (55)\ttotal: 2m 12s\tremaining: 5m 40s\n",
      "56:\tlearn: 0.4549605\ttest: 0.4780383\tbest: 0.4780383 (56)\ttotal: 2m 15s\tremaining: 5m 40s\n",
      "57:\tlearn: 0.4546211\ttest: 0.4780011\tbest: 0.4780011 (57)\ttotal: 2m 17s\tremaining: 5m 37s\n",
      "58:\tlearn: 0.4537569\ttest: 0.4764978\tbest: 0.4764978 (58)\ttotal: 2m 20s\tremaining: 5m 36s\n",
      "59:\tlearn: 0.4532651\ttest: 0.4763664\tbest: 0.4763664 (59)\ttotal: 2m 22s\tremaining: 5m 33s\n",
      "60:\tlearn: 0.4528113\ttest: 0.4762163\tbest: 0.4762163 (60)\ttotal: 2m 25s\tremaining: 5m 32s\n",
      "61:\tlearn: 0.4520327\ttest: 0.4757401\tbest: 0.4757401 (61)\ttotal: 2m 27s\tremaining: 5m 28s\n",
      "62:\tlearn: 0.4514839\ttest: 0.4751952\tbest: 0.4751952 (62)\ttotal: 2m 30s\tremaining: 5m 27s\n",
      "63:\tlearn: 0.4509373\ttest: 0.4748311\tbest: 0.4748311 (63)\ttotal: 2m 33s\tremaining: 5m 26s\n",
      "64:\tlearn: 0.4499302\ttest: 0.4740282\tbest: 0.4740282 (64)\ttotal: 2m 36s\tremaining: 5m 24s\n",
      "65:\tlearn: 0.4494585\ttest: 0.4737225\tbest: 0.4737225 (65)\ttotal: 2m 38s\tremaining: 5m 22s\n",
      "66:\tlearn: 0.4487782\ttest: 0.4727993\tbest: 0.4727993 (66)\ttotal: 2m 42s\tremaining: 5m 21s\n",
      "67:\tlearn: 0.4483693\ttest: 0.4725952\tbest: 0.4725952 (67)\ttotal: 2m 44s\tremaining: 5m 18s\n",
      "68:\tlearn: 0.4479902\ttest: 0.4725710\tbest: 0.4725710 (68)\ttotal: 2m 46s\tremaining: 5m 16s\n",
      "69:\tlearn: 0.4470391\ttest: 0.4719911\tbest: 0.4719911 (69)\ttotal: 2m 48s\tremaining: 5m 13s\n",
      "70:\tlearn: 0.4465667\ttest: 0.4720095\tbest: 0.4719911 (69)\ttotal: 2m 51s\tremaining: 5m 10s\n",
      "71:\tlearn: 0.4461946\ttest: 0.4719559\tbest: 0.4719559 (71)\ttotal: 2m 54s\tremaining: 5m 9s\n",
      "72:\tlearn: 0.4458472\ttest: 0.4715892\tbest: 0.4715892 (72)\ttotal: 2m 57s\tremaining: 5m 8s\n",
      "73:\tlearn: 0.4454858\ttest: 0.4713794\tbest: 0.4713794 (73)\ttotal: 2m 59s\tremaining: 5m 5s\n",
      "74:\tlearn: 0.4451107\ttest: 0.4709441\tbest: 0.4709441 (74)\ttotal: 3m 2s\tremaining: 5m 3s\n",
      "75:\tlearn: 0.4445957\ttest: 0.4706466\tbest: 0.4706466 (75)\ttotal: 3m 5s\tremaining: 5m 2s\n",
      "76:\tlearn: 0.4442808\ttest: 0.4705497\tbest: 0.4705497 (76)\ttotal: 3m 7s\tremaining: 5m\n",
      "77:\tlearn: 0.4437214\ttest: 0.4698861\tbest: 0.4698861 (77)\ttotal: 3m 10s\tremaining: 4m 57s\n",
      "78:\tlearn: 0.4434832\ttest: 0.4696798\tbest: 0.4696798 (78)\ttotal: 3m 12s\tremaining: 4m 54s\n",
      "79:\tlearn: 0.4432512\ttest: 0.4697576\tbest: 0.4696798 (78)\ttotal: 3m 14s\tremaining: 4m 51s\n",
      "80:\tlearn: 0.4428564\ttest: 0.4694601\tbest: 0.4694601 (80)\ttotal: 3m 16s\tremaining: 4m 49s\n",
      "81:\tlearn: 0.4422520\ttest: 0.4690154\tbest: 0.4690154 (81)\ttotal: 3m 19s\tremaining: 4m 47s\n",
      "82:\tlearn: 0.4419289\ttest: 0.4689917\tbest: 0.4689917 (82)\ttotal: 3m 21s\tremaining: 4m 44s\n",
      "83:\tlearn: 0.4416227\ttest: 0.4685861\tbest: 0.4685861 (83)\ttotal: 3m 24s\tremaining: 4m 42s\n",
      "84:\tlearn: 0.4412206\ttest: 0.4682246\tbest: 0.4682246 (84)\ttotal: 3m 27s\tremaining: 4m 40s\n",
      "85:\tlearn: 0.4409259\ttest: 0.4678601\tbest: 0.4678601 (85)\ttotal: 3m 30s\tremaining: 4m 38s\n",
      "86:\tlearn: 0.4405737\ttest: 0.4674951\tbest: 0.4674951 (86)\ttotal: 3m 32s\tremaining: 4m 36s\n",
      "87:\tlearn: 0.4401073\ttest: 0.4672814\tbest: 0.4672814 (87)\ttotal: 3m 36s\tremaining: 4m 34s\n",
      "88:\tlearn: 0.4395124\ttest: 0.4669141\tbest: 0.4669141 (88)\ttotal: 3m 39s\tremaining: 4m 33s\n",
      "89:\tlearn: 0.4390618\ttest: 0.4674297\tbest: 0.4669141 (88)\ttotal: 3m 42s\tremaining: 4m 31s\n",
      "90:\tlearn: 0.4386275\ttest: 0.4669255\tbest: 0.4669141 (88)\ttotal: 3m 44s\tremaining: 4m 28s\n",
      "91:\tlearn: 0.4383580\ttest: 0.4665662\tbest: 0.4665662 (91)\ttotal: 3m 46s\tremaining: 4m 26s\n",
      "92:\tlearn: 0.4381423\ttest: 0.4664801\tbest: 0.4664801 (92)\ttotal: 3m 49s\tremaining: 4m 23s\n",
      "93:\tlearn: 0.4379393\ttest: 0.4663067\tbest: 0.4663067 (93)\ttotal: 3m 51s\tremaining: 4m 21s\n",
      "94:\tlearn: 0.4367636\ttest: 0.4654298\tbest: 0.4654298 (94)\ttotal: 3m 53s\tremaining: 4m 18s\n",
      "95:\tlearn: 0.4363474\ttest: 0.4651660\tbest: 0.4651660 (95)\ttotal: 3m 55s\tremaining: 4m 15s\n",
      "96:\tlearn: 0.4361640\ttest: 0.4651345\tbest: 0.4651345 (96)\ttotal: 3m 58s\tremaining: 4m 12s\n",
      "97:\tlearn: 0.4357904\ttest: 0.4650721\tbest: 0.4650721 (97)\ttotal: 4m\tremaining: 4m 10s\n",
      "98:\tlearn: 0.4354008\ttest: 0.4648608\tbest: 0.4648608 (98)\ttotal: 4m 3s\tremaining: 4m 8s\n",
      "99:\tlearn: 0.4351275\ttest: 0.4646779\tbest: 0.4646779 (99)\ttotal: 4m 6s\tremaining: 4m 6s\n",
      "100:\tlearn: 0.4349061\ttest: 0.4644371\tbest: 0.4644371 (100)\ttotal: 4m 8s\tremaining: 4m 3s\n",
      "101:\tlearn: 0.4345397\ttest: 0.4641364\tbest: 0.4641364 (101)\ttotal: 4m 11s\tremaining: 4m 1s\n",
      "102:\tlearn: 0.4342714\ttest: 0.4638768\tbest: 0.4638768 (102)\ttotal: 4m 14s\tremaining: 3m 59s\n",
      "103:\tlearn: 0.4328254\ttest: 0.4627402\tbest: 0.4627402 (103)\ttotal: 4m 17s\tremaining: 3m 57s\n",
      "104:\tlearn: 0.4324527\ttest: 0.4622460\tbest: 0.4622460 (104)\ttotal: 4m 20s\tremaining: 3m 55s\n",
      "105:\tlearn: 0.4321666\ttest: 0.4617160\tbest: 0.4617160 (105)\ttotal: 4m 22s\tremaining: 3m 52s\n",
      "106:\tlearn: 0.4315217\ttest: 0.4609751\tbest: 0.4609751 (106)\ttotal: 4m 25s\tremaining: 3m 50s\n",
      "107:\tlearn: 0.4310917\ttest: 0.4606921\tbest: 0.4606921 (107)\ttotal: 4m 27s\tremaining: 3m 48s\n",
      "108:\tlearn: 0.4309150\ttest: 0.4606667\tbest: 0.4606667 (108)\ttotal: 4m 29s\tremaining: 3m 45s\n",
      "109:\tlearn: 0.4305600\ttest: 0.4601600\tbest: 0.4601600 (109)\ttotal: 4m 32s\tremaining: 3m 42s\n",
      "110:\tlearn: 0.4303036\ttest: 0.4600579\tbest: 0.4600579 (110)\ttotal: 4m 34s\tremaining: 3m 40s\n",
      "111:\tlearn: 0.4301202\ttest: 0.4598780\tbest: 0.4598780 (111)\ttotal: 4m 37s\tremaining: 3m 38s\n",
      "112:\tlearn: 0.4299971\ttest: 0.4597214\tbest: 0.4597214 (112)\ttotal: 4m 40s\tremaining: 3m 35s\n",
      "113:\tlearn: 0.4297393\ttest: 0.4594334\tbest: 0.4594334 (113)\ttotal: 4m 43s\tremaining: 3m 33s\n",
      "114:\tlearn: 0.4293471\ttest: 0.4591193\tbest: 0.4591193 (114)\ttotal: 4m 47s\tremaining: 3m 32s\n",
      "115:\tlearn: 0.4290889\ttest: 0.4589731\tbest: 0.4589731 (115)\ttotal: 4m 49s\tremaining: 3m 29s\n",
      "116:\tlearn: 0.4288106\ttest: 0.4588124\tbest: 0.4588124 (116)\ttotal: 4m 51s\tremaining: 3m 27s\n",
      "117:\tlearn: 0.4285304\ttest: 0.4588181\tbest: 0.4588124 (116)\ttotal: 4m 54s\tremaining: 3m 24s\n",
      "118:\tlearn: 0.4282929\ttest: 0.4586142\tbest: 0.4586142 (118)\ttotal: 4m 56s\tremaining: 3m 22s\n",
      "119:\tlearn: 0.4282319\ttest: 0.4585840\tbest: 0.4585840 (119)\ttotal: 4m 59s\tremaining: 3m 19s\n",
      "120:\tlearn: 0.4281166\ttest: 0.4584631\tbest: 0.4584631 (120)\ttotal: 5m 1s\tremaining: 3m 16s\n",
      "121:\tlearn: 0.4277954\ttest: 0.4582429\tbest: 0.4582429 (121)\ttotal: 5m 4s\tremaining: 3m 14s\n",
      "122:\tlearn: 0.4276291\ttest: 0.4581873\tbest: 0.4581873 (122)\ttotal: 5m 6s\tremaining: 3m 12s\n",
      "123:\tlearn: 0.4270371\ttest: 0.4575770\tbest: 0.4575770 (123)\ttotal: 5m 9s\tremaining: 3m 9s\n",
      "124:\tlearn: 0.4268934\ttest: 0.4576554\tbest: 0.4575770 (123)\ttotal: 5m 11s\tremaining: 3m 6s\n",
      "125:\tlearn: 0.4266730\ttest: 0.4575019\tbest: 0.4575019 (125)\ttotal: 5m 13s\tremaining: 3m 4s\n",
      "126:\tlearn: 0.4264270\ttest: 0.4572838\tbest: 0.4572838 (126)\ttotal: 5m 15s\tremaining: 3m 1s\n",
      "127:\tlearn: 0.4255817\ttest: 0.4565513\tbest: 0.4565513 (127)\ttotal: 5m 18s\tremaining: 2m 58s\n",
      "128:\tlearn: 0.4252982\ttest: 0.4564932\tbest: 0.4564932 (128)\ttotal: 5m 20s\tremaining: 2m 56s\n",
      "129:\tlearn: 0.4251725\ttest: 0.4564746\tbest: 0.4564746 (129)\ttotal: 5m 23s\tremaining: 2m 54s\n",
      "130:\tlearn: 0.4249958\ttest: 0.4564587\tbest: 0.4564587 (130)\ttotal: 5m 25s\tremaining: 2m 51s\n",
      "131:\tlearn: 0.4248549\ttest: 0.4560884\tbest: 0.4560884 (131)\ttotal: 5m 27s\tremaining: 2m 48s\n",
      "132:\tlearn: 0.4243892\ttest: 0.4557090\tbest: 0.4557090 (132)\ttotal: 5m 29s\tremaining: 2m 45s\n",
      "133:\tlearn: 0.4243061\ttest: 0.4556450\tbest: 0.4556450 (133)\ttotal: 5m 31s\tremaining: 2m 43s\n",
      "134:\tlearn: 0.4240409\ttest: 0.4555512\tbest: 0.4555512 (134)\ttotal: 5m 33s\tremaining: 2m 40s\n",
      "135:\tlearn: 0.4238968\ttest: 0.4551219\tbest: 0.4551219 (135)\ttotal: 5m 36s\tremaining: 2m 38s\n",
      "136:\tlearn: 0.4236576\ttest: 0.4547010\tbest: 0.4547010 (136)\ttotal: 5m 38s\tremaining: 2m 35s\n",
      "137:\tlearn: 0.4234244\ttest: 0.4543478\tbest: 0.4543478 (137)\ttotal: 5m 40s\tremaining: 2m 32s\n",
      "138:\tlearn: 0.4231124\ttest: 0.4540651\tbest: 0.4540651 (138)\ttotal: 5m 42s\tremaining: 2m 30s\n",
      "139:\tlearn: 0.4228620\ttest: 0.4539253\tbest: 0.4539253 (139)\ttotal: 5m 45s\tremaining: 2m 28s\n",
      "140:\tlearn: 0.4227324\ttest: 0.4540974\tbest: 0.4539253 (139)\ttotal: 5m 47s\tremaining: 2m 25s\n",
      "141:\tlearn: 0.4225320\ttest: 0.4538628\tbest: 0.4538628 (141)\ttotal: 5m 50s\tremaining: 2m 23s\n",
      "142:\tlearn: 0.4223181\ttest: 0.4538029\tbest: 0.4538029 (142)\ttotal: 5m 52s\tremaining: 2m 20s\n",
      "143:\tlearn: 0.4221929\ttest: 0.4537210\tbest: 0.4537210 (143)\ttotal: 5m 54s\tremaining: 2m 17s\n",
      "144:\tlearn: 0.4219719\ttest: 0.4534719\tbest: 0.4534719 (144)\ttotal: 5m 57s\tremaining: 2m 15s\n",
      "145:\tlearn: 0.4217047\ttest: 0.4536016\tbest: 0.4534719 (144)\ttotal: 6m\tremaining: 2m 13s\n",
      "146:\tlearn: 0.4216168\ttest: 0.4534947\tbest: 0.4534719 (144)\ttotal: 6m 2s\tremaining: 2m 10s\n",
      "147:\tlearn: 0.4214362\ttest: 0.4530886\tbest: 0.4530886 (147)\ttotal: 6m 4s\tremaining: 2m 8s\n",
      "148:\tlearn: 0.4210722\ttest: 0.4525714\tbest: 0.4525714 (148)\ttotal: 6m 6s\tremaining: 2m 5s\n",
      "149:\tlearn: 0.4209645\ttest: 0.4522730\tbest: 0.4522730 (149)\ttotal: 6m 8s\tremaining: 2m 2s\n",
      "150:\tlearn: 0.4208968\ttest: 0.4521801\tbest: 0.4521801 (150)\ttotal: 6m 10s\tremaining: 2m\n",
      "151:\tlearn: 0.4208395\ttest: 0.4521706\tbest: 0.4521706 (151)\ttotal: 6m 13s\tremaining: 1m 57s\n",
      "152:\tlearn: 0.4207577\ttest: 0.4520727\tbest: 0.4520727 (152)\ttotal: 6m 15s\tremaining: 1m 55s\n",
      "153:\tlearn: 0.4205425\ttest: 0.4518951\tbest: 0.4518951 (153)\ttotal: 6m 18s\tremaining: 1m 52s\n",
      "154:\tlearn: 0.4204147\ttest: 0.4517982\tbest: 0.4517982 (154)\ttotal: 6m 20s\tremaining: 1m 50s\n",
      "155:\tlearn: 0.4203069\ttest: 0.4515582\tbest: 0.4515582 (155)\ttotal: 6m 22s\tremaining: 1m 47s\n",
      "156:\tlearn: 0.4201249\ttest: 0.4512693\tbest: 0.4512693 (156)\ttotal: 6m 25s\tremaining: 1m 45s\n",
      "157:\tlearn: 0.4199580\ttest: 0.4510242\tbest: 0.4510242 (157)\ttotal: 6m 28s\tremaining: 1m 43s\n",
      "158:\tlearn: 0.4197579\ttest: 0.4507737\tbest: 0.4507737 (158)\ttotal: 6m 29s\tremaining: 1m 40s\n",
      "159:\tlearn: 0.4196862\ttest: 0.4507671\tbest: 0.4507671 (159)\ttotal: 6m 32s\tremaining: 1m 38s\n",
      "160:\tlearn: 0.4194903\ttest: 0.4505146\tbest: 0.4505146 (160)\ttotal: 6m 34s\tremaining: 1m 35s\n",
      "161:\tlearn: 0.4193437\ttest: 0.4503291\tbest: 0.4503291 (161)\ttotal: 6m 36s\tremaining: 1m 33s\n",
      "162:\tlearn: 0.4191594\ttest: 0.4502658\tbest: 0.4502658 (162)\ttotal: 6m 39s\tremaining: 1m 30s\n",
      "163:\tlearn: 0.4190563\ttest: 0.4502811\tbest: 0.4502658 (162)\ttotal: 6m 41s\tremaining: 1m 28s\n",
      "164:\tlearn: 0.4190146\ttest: 0.4502811\tbest: 0.4502658 (162)\ttotal: 6m 44s\tremaining: 1m 25s\n",
      "165:\tlearn: 0.4187950\ttest: 0.4498468\tbest: 0.4498468 (165)\ttotal: 6m 46s\tremaining: 1m 23s\n",
      "166:\tlearn: 0.4187290\ttest: 0.4497585\tbest: 0.4497585 (166)\ttotal: 6m 48s\tremaining: 1m 20s\n",
      "167:\tlearn: 0.4185810\ttest: 0.4496902\tbest: 0.4496902 (167)\ttotal: 6m 50s\tremaining: 1m 18s\n",
      "168:\tlearn: 0.4184553\ttest: 0.4497366\tbest: 0.4496902 (167)\ttotal: 6m 52s\tremaining: 1m 15s\n",
      "169:\tlearn: 0.4181165\ttest: 0.4494421\tbest: 0.4494421 (169)\ttotal: 6m 55s\tremaining: 1m 13s\n",
      "170:\tlearn: 0.4179456\ttest: 0.4493556\tbest: 0.4493556 (170)\ttotal: 6m 57s\tremaining: 1m 10s\n",
      "171:\tlearn: 0.4178857\ttest: 0.4492523\tbest: 0.4492523 (171)\ttotal: 6m 59s\tremaining: 1m 8s\n",
      "172:\tlearn: 0.4175762\ttest: 0.4489937\tbest: 0.4489937 (172)\ttotal: 7m 2s\tremaining: 1m 5s\n",
      "173:\tlearn: 0.4173627\ttest: 0.4488400\tbest: 0.4488400 (173)\ttotal: 7m 5s\tremaining: 1m 3s\n",
      "174:\tlearn: 0.4172404\ttest: 0.4488517\tbest: 0.4488400 (173)\ttotal: 7m 7s\tremaining: 1m 1s\n",
      "175:\tlearn: 0.4171250\ttest: 0.4488788\tbest: 0.4488400 (173)\ttotal: 7m 9s\tremaining: 58.6s\n",
      "176:\tlearn: 0.4170763\ttest: 0.4489740\tbest: 0.4488400 (173)\ttotal: 7m 11s\tremaining: 56.1s\n",
      "177:\tlearn: 0.4167512\ttest: 0.4484231\tbest: 0.4484231 (177)\ttotal: 7m 14s\tremaining: 53.7s\n",
      "178:\tlearn: 0.4164109\ttest: 0.4480238\tbest: 0.4480238 (178)\ttotal: 7m 17s\tremaining: 51.3s\n",
      "179:\tlearn: 0.4163215\ttest: 0.4479319\tbest: 0.4479319 (179)\ttotal: 7m 19s\tremaining: 48.8s\n",
      "180:\tlearn: 0.4162063\ttest: 0.4476249\tbest: 0.4476249 (180)\ttotal: 7m 22s\tremaining: 46.4s\n",
      "181:\tlearn: 0.4160529\ttest: 0.4474741\tbest: 0.4474741 (181)\ttotal: 7m 24s\tremaining: 44s\n",
      "182:\tlearn: 0.4159182\ttest: 0.4471744\tbest: 0.4471744 (182)\ttotal: 7m 27s\tremaining: 41.5s\n",
      "183:\tlearn: 0.4156965\ttest: 0.4468929\tbest: 0.4468929 (183)\ttotal: 7m 30s\tremaining: 39.1s\n",
      "184:\tlearn: 0.4155361\ttest: 0.4466943\tbest: 0.4466943 (184)\ttotal: 7m 33s\tremaining: 36.7s\n",
      "185:\tlearn: 0.4151323\ttest: 0.4462623\tbest: 0.4462623 (185)\ttotal: 7m 35s\tremaining: 34.3s\n",
      "186:\tlearn: 0.4149597\ttest: 0.4460918\tbest: 0.4460918 (186)\ttotal: 7m 38s\tremaining: 31.9s\n",
      "187:\tlearn: 0.4148475\ttest: 0.4459700\tbest: 0.4459700 (187)\ttotal: 7m 40s\tremaining: 29.4s\n",
      "188:\tlearn: 0.4147011\ttest: 0.4458237\tbest: 0.4458237 (188)\ttotal: 7m 42s\tremaining: 26.9s\n",
      "189:\tlearn: 0.4146249\ttest: 0.4455954\tbest: 0.4455954 (189)\ttotal: 7m 44s\tremaining: 24.4s\n",
      "190:\tlearn: 0.4143910\ttest: 0.4454497\tbest: 0.4454497 (190)\ttotal: 7m 47s\tremaining: 22s\n",
      "191:\tlearn: 0.4141590\ttest: 0.4452242\tbest: 0.4452242 (191)\ttotal: 7m 50s\tremaining: 19.6s\n",
      "192:\tlearn: 0.4140913\ttest: 0.4451375\tbest: 0.4451375 (192)\ttotal: 7m 53s\tremaining: 17.2s\n",
      "193:\tlearn: 0.4139939\ttest: 0.4450447\tbest: 0.4450447 (193)\ttotal: 7m 55s\tremaining: 14.7s\n",
      "194:\tlearn: 0.4138642\ttest: 0.4449203\tbest: 0.4449203 (194)\ttotal: 7m 58s\tremaining: 12.3s\n",
      "195:\tlearn: 0.4137434\ttest: 0.4448040\tbest: 0.4448040 (195)\ttotal: 8m\tremaining: 9.8s\n",
      "196:\tlearn: 0.4136754\ttest: 0.4447568\tbest: 0.4447568 (196)\ttotal: 8m 2s\tremaining: 7.36s\n",
      "197:\tlearn: 0.4135997\ttest: 0.4447469\tbest: 0.4447469 (197)\ttotal: 8m 5s\tremaining: 4.91s\n",
      "198:\tlearn: 0.4132982\ttest: 0.4443363\tbest: 0.4443363 (198)\ttotal: 8m 7s\tremaining: 2.45s\n",
      "199:\tlearn: 0.4131248\ttest: 0.4441568\tbest: 0.4441568 (199)\ttotal: 8m 10s\tremaining: 0us\n",
      "bestTest = 0.4441568229\n",
      "bestIteration = 199\n",
      "ROC AUC Score: 0.6399\n"
     ]
    },
    {
     "data": {
      "image/png": "[encoded data removed]",
      "text/plain": [
       "<Figure size 800x600 with 1 Axes>"
      ]
     },
     "metadata": {},
     "output_type": "display_data"
    }
   ],
   "source": [
    "model = CatBoostClassifier(iterations=200, \n",
    "                           learning_rate=0.05, \n",
    "                           depth=5, \n",
    "                           task_type='GPU',\n",
    "                           loss_function='Logloss',\n",
    "                           class_weights=class_weights,\n",
    "                           eval_metric='Logloss',\n",
    "                           verbose=1,\n",
    "                           l2_leaf_reg=4)\n",
    "\n",
    "model.fit(train_pool, eval_set=val_pool, early_stopping_rounds=100, verbose=True)\n",
    "\n",
    "predictions = model.predict_proba(test_pool)[:, 1]\n",
    "\n",
    "roc_auc = roc_auc_score(test_df[target_column], predictions)\n",
    "print(f\"ROC AUC Score: {roc_auc:.4f}\")\n",
    "\n",
    "fpr, tpr, thresholds = roc_curve(test_df[target_column], predictions)\n",
    "\n",
    "plt.figure(figsize=(8, 6))\n",
    "plt.plot(fpr, tpr, label=f'ROC AUC = {roc_auc:.4f}')\n",
    "plt.plot([0, 1], [0, 1], 'k--')\n",
    "plt.xlabel('False Positive Rate')\n",
    "plt.ylabel('True Positive Rate')\n",
    "plt.title('Receiver Operating Characteristic (ROC) Curve')\n",
    "plt.legend(loc='lower right')\n",
    "plt.grid()\n",
    "plt.show()"
   ]
  },
  {
   "cell_type": "code",
   "execution_count": 16,
   "id": "9dde1c84",
   "metadata": {
    "execution": {
     "iopub.execute_input": "2025-04-23T21:57:45.043950Z",
     "iopub.status.busy": "2025-04-23T21:57:45.043647Z",
     "iopub.status.idle": "2025-04-23T21:59:46.696073Z",
     "shell.execute_reply": "2025-04-23T21:59:46.695214Z"
    },
    "papermill": {
     "duration": 121.685145,
     "end_time": "2025-04-23T21:59:46.716687",
     "exception": false,
     "start_time": "2025-04-23T21:57:45.031542",
     "status": "completed"
    },
    "tags": []
   },
   "outputs": [
    {
     "data": {
      "image/png": "[encoded data removed]",
      "text/plain": [
       "<Figure size 1200x600 with 1 Axes>"
      ]
     },
     "metadata": {},
     "output_type": "display_data"
    }
   ],
   "source": [
    "feature_importances = model.get_feature_importance(train_pool)\n",
    "feature_importances_df = pd.DataFrame({'Feature': feature_columns, 'Importance': feature_importances})\n",
    "\n",
    "feature_importances_df.sort_values(by='Importance', ascending=False, inplace=True)\n",
    "\n",
    "plt.figure(figsize=(12, 6))\n",
    "plt.barh(feature_importances_df['Feature'], feature_importances_df['Importance'])\n",
    "plt.xlabel('Importance')\n",
    "plt.title('Feature Importance Weighted model')\n",
    "plt.gca().invert_yaxis()\n",
    "plt.show()"
   ]
  },
  {
   "cell_type": "code",
   "execution_count": null,
   "id": "0a16f456",
   "metadata": {
    "papermill": {
     "duration": 0.011564,
     "end_time": "2025-04-23T21:59:46.740039",
     "exception": false,
     "start_time": "2025-04-23T21:59:46.728475",
     "status": "completed"
    },
    "tags": []
   },
   "outputs": [],
   "source": []
  }
 ],
 "metadata": {
  "kaggle": {
   "accelerator": "nvidiaTeslaT4",
   "dataSources": [
    {
     "datasetId": 7118912,
     "sourceId": 11371631,
     "sourceType": "datasetVersion"
    }
   ],
   "dockerImageVersionId": 31011,
   "isGpuEnabled": true,
   "isInternetEnabled": true,
   "language": "python",
   "sourceType": "notebook"
  },
  "kernelspec": {
   "display_name": "Python 3",
   "language": "python",
   "name": "python3"
  },
  "language_info": {
   "codemirror_mode": {
    "name": "ipython",
    "version": 3
   },
   "file_extension": ".py",
   "mimetype": "text/x-python",
   "name": "python",
   "nbconvert_exporter": "python",
   "pygments_lexer": "ipython3",
   "version": "3.11.11"
  },
  "papermill": {
   "default_parameters": {},
   "duration": 1129.138473,
   "end_time": "2025-04-23T21:59:50.375126",
   "environment_variables": {},
   "exception": null,
   "input_path": "__notebook__.ipynb",
   "output_path": "__notebook__.ipynb",
   "parameters": {},
   "start_time": "2025-04-23T21:41:01.236653",
   "version": "2.6.0"
  }
 },
 "nbformat": 4,
 "nbformat_minor": 5
}
